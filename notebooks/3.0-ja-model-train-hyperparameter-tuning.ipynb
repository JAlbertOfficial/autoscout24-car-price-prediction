{
 "cells": [
  {
   "cell_type": "markdown",
   "metadata": {},
   "source": [
    "# 0. Meta"
   ]
  },
  {
   "cell_type": "markdown",
   "metadata": {},
   "source": [
    "## 0.1. Packages"
   ]
  },
  {
   "cell_type": "code",
   "execution_count": 1,
   "metadata": {},
   "outputs": [
    {
     "name": "stderr",
     "output_type": "stream",
     "text": [
      "C:\\Users\\Lenovo\\AppData\\Local\\Temp\\ipykernel_14888\\3436242208.py:1: DeprecationWarning: \n",
      "Pyarrow will become a required dependency of pandas in the next major release of pandas (pandas 3.0),\n",
      "(to allow more performant data types, such as the Arrow string type, and better interoperability with other libraries)\n",
      "but was not found to be installed on your system.\n",
      "If this would cause problems for you,\n",
      "please provide us feedback at https://github.com/pandas-dev/pandas/issues/54466\n",
      "        \n",
      "  import pandas as pd\n"
     ]
    }
   ],
   "source": [
    "import pandas as pd\n",
    "from datetime import datetime\n",
    "import numpy as np\n",
    "import os\n",
    "import joblib\n",
    "import optuna\n",
    "from sklearn.linear_model import LinearRegression, Lasso, Ridge, ElasticNet, HuberRegressor, QuantileRegressor, RANSACRegressor\n",
    "from sklearn.model_selection import KFold, cross_val_score\n",
    "from sklearn.neighbors import KNeighborsRegressor\n",
    "#from sklearn.svm import SVR\n",
    "from sklearn.svm import LinearSVR\n",
    "from sklearn.tree import DecisionTreeRegressor\n",
    "\n",
    "from sklearn.metrics import r2_score, mean_squared_error\n",
    "from sklearn.model_selection import KFold, cross_val_predict\n",
    "import logging\n",
    "import optuna\n",
    "\n",
    "optuna.logging.set_verbosity(optuna.logging.INFO)"
   ]
  },
  {
   "cell_type": "markdown",
   "metadata": {},
   "source": [
    "## 0.2. Functions"
   ]
  },
  {
   "cell_type": "markdown",
   "metadata": {},
   "source": [
    "# 1. Data Import"
   ]
  },
  {
   "cell_type": "code",
   "execution_count": 2,
   "metadata": {},
   "outputs": [],
   "source": [
    "X_test = pd.read_csv(\"../data/processed/X_test.csv\")\n",
    "y_test = pd.read_csv(\"../data/processed/y_test.csv\")\n",
    "X_train = pd.read_csv(\"../data/processed/X_train.csv\")\n",
    "y_train = pd.read_csv(\"../data/processed/y_train.csv\")"
   ]
  },
  {
   "cell_type": "markdown",
   "metadata": {},
   "source": [
    "# 2. Model Training and Hyperparameter Tuning"
   ]
  },
  {
   "cell_type": "markdown",
   "metadata": {},
   "source": [
    "## 2.1. Linear Regression"
   ]
  },
  {
   "cell_type": "markdown",
   "metadata": {},
   "source": [
    "Train linear regression model and measure computation time."
   ]
  },
  {
   "cell_type": "code",
   "execution_count": 8,
   "metadata": {},
   "outputs": [],
   "source": [
    "lr_model = LinearRegression() \n",
    "lr_start = datetime.now()\n",
    "lr_model.fit(X_train, y_train)\n",
    "lr_pred = lr_model.predict(X_test)\n",
    "lr_stop = datetime.now()\n",
    "lr_delta = lr_stop - lr_start"
   ]
  },
  {
   "cell_type": "markdown",
   "metadata": {},
   "source": [
    "Due to the log-transformation applied to the target variable y_train during data preprocessing to ensure normality and linearity, it is necessary to reverse this transformation on the predictions before assessing the model using metrics such as RMSE and R-squared."
   ]
  },
  {
   "cell_type": "code",
   "execution_count": 9,
   "metadata": {},
   "outputs": [
    {
     "name": "stderr",
     "output_type": "stream",
     "text": [
      "c:\\Sync\\03_projects\\data_science\\projects\\autoscout24-car-price-prediction\\envs\\Lib\\site-packages\\pandas\\core\\arraylike.py:399: RuntimeWarning: overflow encountered in expm1\n",
      "  result = getattr(ufunc, method)(*inputs, **kwargs)\n"
     ]
    }
   ],
   "source": [
    "y_test_log = np.log1p(y_test.to_numpy())\n",
    "\n",
    "lr_pred_df = pd.DataFrame({'pred': lr_pred.flatten(), 'y_test': y_test_log.flatten()})\n",
    "\n",
    "lr_pred_df['pred'] = np.expm1(lr_pred_df['pred'])\n",
    "lr_pred_df['y_test'] = np.expm1(lr_pred_df['y_test'])"
   ]
  },
  {
   "cell_type": "markdown",
   "metadata": {},
   "source": [
    "During the back-transformation, NaNs and Infs occurred for some rows. These entries are eliminated, and the indices of the removed rows are stored to identify the observations that led to these issues. Additionally, the total count and the relative proportion of dropped rows are computed."
   ]
  },
  {
   "cell_type": "code",
   "execution_count": 10,
   "metadata": {},
   "outputs": [
    {
     "name": "stdout",
     "output_type": "stream",
     "text": [
      "Rows before removing NaNs and Infs: 9215\n",
      "Rows after removing NaNs and Infs: 9193\n",
      "Number of rows removed: 22\n",
      "Percentage of rows removed: 0.23874118285404233 %\n",
      "Problematic rows in X_test and y_test:\n"
     ]
    },
    {
     "data": {
      "text/html": [
       "<div>\n",
       "<style scoped>\n",
       "    .dataframe tbody tr th:only-of-type {\n",
       "        vertical-align: middle;\n",
       "    }\n",
       "\n",
       "    .dataframe tbody tr th {\n",
       "        vertical-align: top;\n",
       "    }\n",
       "\n",
       "    .dataframe thead th {\n",
       "        text-align: right;\n",
       "    }\n",
       "</style>\n",
       "<table border=\"1\" class=\"dataframe\">\n",
       "  <thead>\n",
       "    <tr style=\"text-align: right;\">\n",
       "      <th></th>\n",
       "      <th>mileage</th>\n",
       "      <th>offerType</th>\n",
       "      <th>hp</th>\n",
       "      <th>year</th>\n",
       "      <th>make_Audi</th>\n",
       "      <th>make_BMW</th>\n",
       "      <th>make_Bentley</th>\n",
       "      <th>make_Corvette</th>\n",
       "      <th>make_DS</th>\n",
       "      <th>make_Fiat</th>\n",
       "      <th>...</th>\n",
       "      <th>model_S7</th>\n",
       "      <th>model_SLC 250</th>\n",
       "      <th>model_T5 Shuttle</th>\n",
       "      <th>fuel_Diesel</th>\n",
       "      <th>fuel_Electric</th>\n",
       "      <th>fuel_Gasoline</th>\n",
       "      <th>gear_Automatic</th>\n",
       "      <th>gear_Manual</th>\n",
       "      <th>price</th>\n",
       "      <th>pre_backtrans_pred</th>\n",
       "    </tr>\n",
       "  </thead>\n",
       "  <tbody>\n",
       "    <tr>\n",
       "      <th>77</th>\n",
       "      <td>0.139248</td>\n",
       "      <td>0.50</td>\n",
       "      <td>0.538058</td>\n",
       "      <td>1.0</td>\n",
       "      <td>0</td>\n",
       "      <td>0</td>\n",
       "      <td>0</td>\n",
       "      <td>0</td>\n",
       "      <td>0</td>\n",
       "      <td>0</td>\n",
       "      <td>...</td>\n",
       "      <td>0</td>\n",
       "      <td>0</td>\n",
       "      <td>0</td>\n",
       "      <td>0</td>\n",
       "      <td>1</td>\n",
       "      <td>0</td>\n",
       "      <td>1</td>\n",
       "      <td>0</td>\n",
       "      <td>83870</td>\n",
       "      <td>3.996071e+09</td>\n",
       "    </tr>\n",
       "    <tr>\n",
       "      <th>101</th>\n",
       "      <td>0.300000</td>\n",
       "      <td>0.00</td>\n",
       "      <td>0.732819</td>\n",
       "      <td>0.6</td>\n",
       "      <td>0</td>\n",
       "      <td>0</td>\n",
       "      <td>0</td>\n",
       "      <td>0</td>\n",
       "      <td>0</td>\n",
       "      <td>0</td>\n",
       "      <td>...</td>\n",
       "      <td>0</td>\n",
       "      <td>0</td>\n",
       "      <td>0</td>\n",
       "      <td>0</td>\n",
       "      <td>0</td>\n",
       "      <td>1</td>\n",
       "      <td>1</td>\n",
       "      <td>0</td>\n",
       "      <td>34950</td>\n",
       "      <td>5.998644e+09</td>\n",
       "    </tr>\n",
       "    <tr>\n",
       "      <th>824</th>\n",
       "      <td>0.406800</td>\n",
       "      <td>0.00</td>\n",
       "      <td>0.339380</td>\n",
       "      <td>0.5</td>\n",
       "      <td>0</td>\n",
       "      <td>0</td>\n",
       "      <td>0</td>\n",
       "      <td>0</td>\n",
       "      <td>1</td>\n",
       "      <td>0</td>\n",
       "      <td>...</td>\n",
       "      <td>0</td>\n",
       "      <td>0</td>\n",
       "      <td>0</td>\n",
       "      <td>0</td>\n",
       "      <td>0</td>\n",
       "      <td>1</td>\n",
       "      <td>0</td>\n",
       "      <td>1</td>\n",
       "      <td>8500</td>\n",
       "      <td>7.560187e+09</td>\n",
       "    </tr>\n",
       "    <tr>\n",
       "      <th>1032</th>\n",
       "      <td>0.283372</td>\n",
       "      <td>0.00</td>\n",
       "      <td>0.678830</td>\n",
       "      <td>0.7</td>\n",
       "      <td>0</td>\n",
       "      <td>1</td>\n",
       "      <td>0</td>\n",
       "      <td>0</td>\n",
       "      <td>0</td>\n",
       "      <td>0</td>\n",
       "      <td>...</td>\n",
       "      <td>0</td>\n",
       "      <td>0</td>\n",
       "      <td>0</td>\n",
       "      <td>0</td>\n",
       "      <td>0</td>\n",
       "      <td>1</td>\n",
       "      <td>1</td>\n",
       "      <td>0</td>\n",
       "      <td>35000</td>\n",
       "      <td>3.379601e+08</td>\n",
       "    </tr>\n",
       "    <tr>\n",
       "      <th>2314</th>\n",
       "      <td>0.403326</td>\n",
       "      <td>0.00</td>\n",
       "      <td>0.810958</td>\n",
       "      <td>0.0</td>\n",
       "      <td>0</td>\n",
       "      <td>0</td>\n",
       "      <td>1</td>\n",
       "      <td>0</td>\n",
       "      <td>0</td>\n",
       "      <td>0</td>\n",
       "      <td>...</td>\n",
       "      <td>0</td>\n",
       "      <td>0</td>\n",
       "      <td>0</td>\n",
       "      <td>0</td>\n",
       "      <td>0</td>\n",
       "      <td>1</td>\n",
       "      <td>1</td>\n",
       "      <td>0</td>\n",
       "      <td>99800</td>\n",
       "      <td>3.948626e+10</td>\n",
       "    </tr>\n",
       "    <tr>\n",
       "      <th>2468</th>\n",
       "      <td>0.126833</td>\n",
       "      <td>0.00</td>\n",
       "      <td>0.770530</td>\n",
       "      <td>0.8</td>\n",
       "      <td>0</td>\n",
       "      <td>0</td>\n",
       "      <td>0</td>\n",
       "      <td>0</td>\n",
       "      <td>0</td>\n",
       "      <td>0</td>\n",
       "      <td>...</td>\n",
       "      <td>0</td>\n",
       "      <td>0</td>\n",
       "      <td>0</td>\n",
       "      <td>0</td>\n",
       "      <td>0</td>\n",
       "      <td>1</td>\n",
       "      <td>1</td>\n",
       "      <td>0</td>\n",
       "      <td>86885</td>\n",
       "      <td>3.379601e+08</td>\n",
       "    </tr>\n",
       "    <tr>\n",
       "      <th>2550</th>\n",
       "      <td>0.554074</td>\n",
       "      <td>0.00</td>\n",
       "      <td>0.493344</td>\n",
       "      <td>0.4</td>\n",
       "      <td>0</td>\n",
       "      <td>0</td>\n",
       "      <td>0</td>\n",
       "      <td>0</td>\n",
       "      <td>0</td>\n",
       "      <td>0</td>\n",
       "      <td>...</td>\n",
       "      <td>0</td>\n",
       "      <td>0</td>\n",
       "      <td>0</td>\n",
       "      <td>1</td>\n",
       "      <td>0</td>\n",
       "      <td>0</td>\n",
       "      <td>1</td>\n",
       "      <td>0</td>\n",
       "      <td>9985</td>\n",
       "      <td>5.998644e+09</td>\n",
       "    </tr>\n",
       "    <tr>\n",
       "      <th>3623</th>\n",
       "      <td>0.398366</td>\n",
       "      <td>0.00</td>\n",
       "      <td>0.744444</td>\n",
       "      <td>0.3</td>\n",
       "      <td>1</td>\n",
       "      <td>0</td>\n",
       "      <td>0</td>\n",
       "      <td>0</td>\n",
       "      <td>0</td>\n",
       "      <td>0</td>\n",
       "      <td>...</td>\n",
       "      <td>1</td>\n",
       "      <td>0</td>\n",
       "      <td>0</td>\n",
       "      <td>0</td>\n",
       "      <td>0</td>\n",
       "      <td>1</td>\n",
       "      <td>1</td>\n",
       "      <td>0</td>\n",
       "      <td>39925</td>\n",
       "      <td>7.201592e+09</td>\n",
       "    </tr>\n",
       "    <tr>\n",
       "      <th>3684</th>\n",
       "      <td>0.208001</td>\n",
       "      <td>0.50</td>\n",
       "      <td>0.538058</td>\n",
       "      <td>1.0</td>\n",
       "      <td>0</td>\n",
       "      <td>0</td>\n",
       "      <td>0</td>\n",
       "      <td>0</td>\n",
       "      <td>0</td>\n",
       "      <td>0</td>\n",
       "      <td>...</td>\n",
       "      <td>0</td>\n",
       "      <td>0</td>\n",
       "      <td>0</td>\n",
       "      <td>0</td>\n",
       "      <td>1</td>\n",
       "      <td>0</td>\n",
       "      <td>1</td>\n",
       "      <td>0</td>\n",
       "      <td>45555</td>\n",
       "      <td>6.188076e+09</td>\n",
       "    </tr>\n",
       "    <tr>\n",
       "      <th>4405</th>\n",
       "      <td>0.020801</td>\n",
       "      <td>0.75</td>\n",
       "      <td>0.409779</td>\n",
       "      <td>1.0</td>\n",
       "      <td>0</td>\n",
       "      <td>0</td>\n",
       "      <td>0</td>\n",
       "      <td>0</td>\n",
       "      <td>0</td>\n",
       "      <td>1</td>\n",
       "      <td>...</td>\n",
       "      <td>0</td>\n",
       "      <td>0</td>\n",
       "      <td>0</td>\n",
       "      <td>0</td>\n",
       "      <td>1</td>\n",
       "      <td>0</td>\n",
       "      <td>1</td>\n",
       "      <td>0</td>\n",
       "      <td>33994</td>\n",
       "      <td>7.184330e+09</td>\n",
       "    </tr>\n",
       "    <tr>\n",
       "      <th>5657</th>\n",
       "      <td>0.377976</td>\n",
       "      <td>0.00</td>\n",
       "      <td>0.538058</td>\n",
       "      <td>0.5</td>\n",
       "      <td>0</td>\n",
       "      <td>0</td>\n",
       "      <td>0</td>\n",
       "      <td>0</td>\n",
       "      <td>0</td>\n",
       "      <td>0</td>\n",
       "      <td>...</td>\n",
       "      <td>0</td>\n",
       "      <td>1</td>\n",
       "      <td>0</td>\n",
       "      <td>1</td>\n",
       "      <td>0</td>\n",
       "      <td>0</td>\n",
       "      <td>1</td>\n",
       "      <td>0</td>\n",
       "      <td>29950</td>\n",
       "      <td>3.379601e+08</td>\n",
       "    </tr>\n",
       "    <tr>\n",
       "      <th>5768</th>\n",
       "      <td>0.110521</td>\n",
       "      <td>0.00</td>\n",
       "      <td>0.854646</td>\n",
       "      <td>1.0</td>\n",
       "      <td>0</td>\n",
       "      <td>0</td>\n",
       "      <td>0</td>\n",
       "      <td>0</td>\n",
       "      <td>0</td>\n",
       "      <td>0</td>\n",
       "      <td>...</td>\n",
       "      <td>0</td>\n",
       "      <td>0</td>\n",
       "      <td>0</td>\n",
       "      <td>0</td>\n",
       "      <td>0</td>\n",
       "      <td>1</td>\n",
       "      <td>1</td>\n",
       "      <td>0</td>\n",
       "      <td>175470</td>\n",
       "      <td>3.131556e+09</td>\n",
       "    </tr>\n",
       "    <tr>\n",
       "      <th>6280</th>\n",
       "      <td>0.200830</td>\n",
       "      <td>0.00</td>\n",
       "      <td>0.538058</td>\n",
       "      <td>1.0</td>\n",
       "      <td>0</td>\n",
       "      <td>0</td>\n",
       "      <td>0</td>\n",
       "      <td>0</td>\n",
       "      <td>0</td>\n",
       "      <td>0</td>\n",
       "      <td>...</td>\n",
       "      <td>0</td>\n",
       "      <td>0</td>\n",
       "      <td>0</td>\n",
       "      <td>0</td>\n",
       "      <td>1</td>\n",
       "      <td>0</td>\n",
       "      <td>1</td>\n",
       "      <td>0</td>\n",
       "      <td>52490</td>\n",
       "      <td>6.188076e+09</td>\n",
       "    </tr>\n",
       "    <tr>\n",
       "      <th>6591</th>\n",
       "      <td>0.608220</td>\n",
       "      <td>0.00</td>\n",
       "      <td>0.448622</td>\n",
       "      <td>0.2</td>\n",
       "      <td>0</td>\n",
       "      <td>0</td>\n",
       "      <td>0</td>\n",
       "      <td>0</td>\n",
       "      <td>0</td>\n",
       "      <td>0</td>\n",
       "      <td>...</td>\n",
       "      <td>0</td>\n",
       "      <td>0</td>\n",
       "      <td>1</td>\n",
       "      <td>1</td>\n",
       "      <td>0</td>\n",
       "      <td>0</td>\n",
       "      <td>0</td>\n",
       "      <td>1</td>\n",
       "      <td>17300</td>\n",
       "      <td>6.188076e+09</td>\n",
       "    </tr>\n",
       "    <tr>\n",
       "      <th>6602</th>\n",
       "      <td>0.449051</td>\n",
       "      <td>0.00</td>\n",
       "      <td>0.373640</td>\n",
       "      <td>0.0</td>\n",
       "      <td>0</td>\n",
       "      <td>0</td>\n",
       "      <td>0</td>\n",
       "      <td>0</td>\n",
       "      <td>0</td>\n",
       "      <td>0</td>\n",
       "      <td>...</td>\n",
       "      <td>0</td>\n",
       "      <td>0</td>\n",
       "      <td>0</td>\n",
       "      <td>0</td>\n",
       "      <td>0</td>\n",
       "      <td>1</td>\n",
       "      <td>0</td>\n",
       "      <td>1</td>\n",
       "      <td>1190</td>\n",
       "      <td>1.721461e+09</td>\n",
       "    </tr>\n",
       "    <tr>\n",
       "      <th>6637</th>\n",
       "      <td>0.332922</td>\n",
       "      <td>0.00</td>\n",
       "      <td>0.398820</td>\n",
       "      <td>0.2</td>\n",
       "      <td>0</td>\n",
       "      <td>0</td>\n",
       "      <td>0</td>\n",
       "      <td>0</td>\n",
       "      <td>0</td>\n",
       "      <td>0</td>\n",
       "      <td>...</td>\n",
       "      <td>0</td>\n",
       "      <td>0</td>\n",
       "      <td>0</td>\n",
       "      <td>1</td>\n",
       "      <td>0</td>\n",
       "      <td>0</td>\n",
       "      <td>1</td>\n",
       "      <td>0</td>\n",
       "      <td>9900</td>\n",
       "      <td>1.609189e+09</td>\n",
       "    </tr>\n",
       "    <tr>\n",
       "      <th>7748</th>\n",
       "      <td>0.442519</td>\n",
       "      <td>0.00</td>\n",
       "      <td>0.361263</td>\n",
       "      <td>0.3</td>\n",
       "      <td>0</td>\n",
       "      <td>0</td>\n",
       "      <td>0</td>\n",
       "      <td>0</td>\n",
       "      <td>1</td>\n",
       "      <td>0</td>\n",
       "      <td>...</td>\n",
       "      <td>0</td>\n",
       "      <td>0</td>\n",
       "      <td>0</td>\n",
       "      <td>1</td>\n",
       "      <td>0</td>\n",
       "      <td>0</td>\n",
       "      <td>0</td>\n",
       "      <td>1</td>\n",
       "      <td>7480</td>\n",
       "      <td>7.560187e+09</td>\n",
       "    </tr>\n",
       "    <tr>\n",
       "      <th>7976</th>\n",
       "      <td>0.445133</td>\n",
       "      <td>0.00</td>\n",
       "      <td>0.520298</td>\n",
       "      <td>0.0</td>\n",
       "      <td>0</td>\n",
       "      <td>1</td>\n",
       "      <td>0</td>\n",
       "      <td>0</td>\n",
       "      <td>0</td>\n",
       "      <td>0</td>\n",
       "      <td>...</td>\n",
       "      <td>0</td>\n",
       "      <td>0</td>\n",
       "      <td>0</td>\n",
       "      <td>0</td>\n",
       "      <td>0</td>\n",
       "      <td>1</td>\n",
       "      <td>1</td>\n",
       "      <td>0</td>\n",
       "      <td>10900</td>\n",
       "      <td>6.466283e+06</td>\n",
       "    </tr>\n",
       "    <tr>\n",
       "      <th>8357</th>\n",
       "      <td>0.244699</td>\n",
       "      <td>0.00</td>\n",
       "      <td>0.886967</td>\n",
       "      <td>0.7</td>\n",
       "      <td>0</td>\n",
       "      <td>0</td>\n",
       "      <td>0</td>\n",
       "      <td>1</td>\n",
       "      <td>0</td>\n",
       "      <td>0</td>\n",
       "      <td>...</td>\n",
       "      <td>0</td>\n",
       "      <td>0</td>\n",
       "      <td>0</td>\n",
       "      <td>0</td>\n",
       "      <td>0</td>\n",
       "      <td>1</td>\n",
       "      <td>0</td>\n",
       "      <td>1</td>\n",
       "      <td>94900</td>\n",
       "      <td>1.463901e+10</td>\n",
       "    </tr>\n",
       "    <tr>\n",
       "      <th>8424</th>\n",
       "      <td>0.374173</td>\n",
       "      <td>0.00</td>\n",
       "      <td>0.766887</td>\n",
       "      <td>0.5</td>\n",
       "      <td>1</td>\n",
       "      <td>0</td>\n",
       "      <td>0</td>\n",
       "      <td>0</td>\n",
       "      <td>0</td>\n",
       "      <td>0</td>\n",
       "      <td>...</td>\n",
       "      <td>1</td>\n",
       "      <td>0</td>\n",
       "      <td>0</td>\n",
       "      <td>0</td>\n",
       "      <td>0</td>\n",
       "      <td>1</td>\n",
       "      <td>1</td>\n",
       "      <td>0</td>\n",
       "      <td>44930</td>\n",
       "      <td>7.201592e+09</td>\n",
       "    </tr>\n",
       "    <tr>\n",
       "      <th>8737</th>\n",
       "      <td>0.483186</td>\n",
       "      <td>0.00</td>\n",
       "      <td>0.327765</td>\n",
       "      <td>0.1</td>\n",
       "      <td>0</td>\n",
       "      <td>0</td>\n",
       "      <td>0</td>\n",
       "      <td>0</td>\n",
       "      <td>0</td>\n",
       "      <td>1</td>\n",
       "      <td>...</td>\n",
       "      <td>0</td>\n",
       "      <td>0</td>\n",
       "      <td>0</td>\n",
       "      <td>0</td>\n",
       "      <td>0</td>\n",
       "      <td>1</td>\n",
       "      <td>0</td>\n",
       "      <td>1</td>\n",
       "      <td>3400</td>\n",
       "      <td>6.316963e+09</td>\n",
       "    </tr>\n",
       "    <tr>\n",
       "      <th>8842</th>\n",
       "      <td>0.075173</td>\n",
       "      <td>0.00</td>\n",
       "      <td>0.305522</td>\n",
       "      <td>0.8</td>\n",
       "      <td>0</td>\n",
       "      <td>0</td>\n",
       "      <td>0</td>\n",
       "      <td>0</td>\n",
       "      <td>0</td>\n",
       "      <td>0</td>\n",
       "      <td>...</td>\n",
       "      <td>0</td>\n",
       "      <td>0</td>\n",
       "      <td>0</td>\n",
       "      <td>0</td>\n",
       "      <td>0</td>\n",
       "      <td>1</td>\n",
       "      <td>0</td>\n",
       "      <td>1</td>\n",
       "      <td>55900</td>\n",
       "      <td>3.722491e+09</td>\n",
       "    </tr>\n",
       "  </tbody>\n",
       "</table>\n",
       "<p>22 rows × 43 columns</p>\n",
       "</div>"
      ],
      "text/plain": [
       "       mileage  offerType        hp  year  make_Audi  make_BMW  make_Bentley  \\\n",
       "77    0.139248       0.50  0.538058   1.0          0         0             0   \n",
       "101   0.300000       0.00  0.732819   0.6          0         0             0   \n",
       "824   0.406800       0.00  0.339380   0.5          0         0             0   \n",
       "1032  0.283372       0.00  0.678830   0.7          0         1             0   \n",
       "2314  0.403326       0.00  0.810958   0.0          0         0             1   \n",
       "2468  0.126833       0.00  0.770530   0.8          0         0             0   \n",
       "2550  0.554074       0.00  0.493344   0.4          0         0             0   \n",
       "3623  0.398366       0.00  0.744444   0.3          1         0             0   \n",
       "3684  0.208001       0.50  0.538058   1.0          0         0             0   \n",
       "4405  0.020801       0.75  0.409779   1.0          0         0             0   \n",
       "5657  0.377976       0.00  0.538058   0.5          0         0             0   \n",
       "5768  0.110521       0.00  0.854646   1.0          0         0             0   \n",
       "6280  0.200830       0.00  0.538058   1.0          0         0             0   \n",
       "6591  0.608220       0.00  0.448622   0.2          0         0             0   \n",
       "6602  0.449051       0.00  0.373640   0.0          0         0             0   \n",
       "6637  0.332922       0.00  0.398820   0.2          0         0             0   \n",
       "7748  0.442519       0.00  0.361263   0.3          0         0             0   \n",
       "7976  0.445133       0.00  0.520298   0.0          0         1             0   \n",
       "8357  0.244699       0.00  0.886967   0.7          0         0             0   \n",
       "8424  0.374173       0.00  0.766887   0.5          1         0             0   \n",
       "8737  0.483186       0.00  0.327765   0.1          0         0             0   \n",
       "8842  0.075173       0.00  0.305522   0.8          0         0             0   \n",
       "\n",
       "      make_Corvette  make_DS  make_Fiat  ...  model_S7  model_SLC 250  \\\n",
       "77                0        0          0  ...         0              0   \n",
       "101               0        0          0  ...         0              0   \n",
       "824               0        1          0  ...         0              0   \n",
       "1032              0        0          0  ...         0              0   \n",
       "2314              0        0          0  ...         0              0   \n",
       "2468              0        0          0  ...         0              0   \n",
       "2550              0        0          0  ...         0              0   \n",
       "3623              0        0          0  ...         1              0   \n",
       "3684              0        0          0  ...         0              0   \n",
       "4405              0        0          1  ...         0              0   \n",
       "5657              0        0          0  ...         0              1   \n",
       "5768              0        0          0  ...         0              0   \n",
       "6280              0        0          0  ...         0              0   \n",
       "6591              0        0          0  ...         0              0   \n",
       "6602              0        0          0  ...         0              0   \n",
       "6637              0        0          0  ...         0              0   \n",
       "7748              0        1          0  ...         0              0   \n",
       "7976              0        0          0  ...         0              0   \n",
       "8357              1        0          0  ...         0              0   \n",
       "8424              0        0          0  ...         1              0   \n",
       "8737              0        0          1  ...         0              0   \n",
       "8842              0        0          0  ...         0              0   \n",
       "\n",
       "      model_T5 Shuttle  fuel_Diesel  fuel_Electric  fuel_Gasoline  \\\n",
       "77                   0            0              1              0   \n",
       "101                  0            0              0              1   \n",
       "824                  0            0              0              1   \n",
       "1032                 0            0              0              1   \n",
       "2314                 0            0              0              1   \n",
       "2468                 0            0              0              1   \n",
       "2550                 0            1              0              0   \n",
       "3623                 0            0              0              1   \n",
       "3684                 0            0              1              0   \n",
       "4405                 0            0              1              0   \n",
       "5657                 0            1              0              0   \n",
       "5768                 0            0              0              1   \n",
       "6280                 0            0              1              0   \n",
       "6591                 1            1              0              0   \n",
       "6602                 0            0              0              1   \n",
       "6637                 0            1              0              0   \n",
       "7748                 0            1              0              0   \n",
       "7976                 0            0              0              1   \n",
       "8357                 0            0              0              1   \n",
       "8424                 0            0              0              1   \n",
       "8737                 0            0              0              1   \n",
       "8842                 0            0              0              1   \n",
       "\n",
       "      gear_Automatic  gear_Manual   price  pre_backtrans_pred  \n",
       "77                 1            0   83870        3.996071e+09  \n",
       "101                1            0   34950        5.998644e+09  \n",
       "824                0            1    8500        7.560187e+09  \n",
       "1032               1            0   35000        3.379601e+08  \n",
       "2314               1            0   99800        3.948626e+10  \n",
       "2468               1            0   86885        3.379601e+08  \n",
       "2550               1            0    9985        5.998644e+09  \n",
       "3623               1            0   39925        7.201592e+09  \n",
       "3684               1            0   45555        6.188076e+09  \n",
       "4405               1            0   33994        7.184330e+09  \n",
       "5657               1            0   29950        3.379601e+08  \n",
       "5768               1            0  175470        3.131556e+09  \n",
       "6280               1            0   52490        6.188076e+09  \n",
       "6591               0            1   17300        6.188076e+09  \n",
       "6602               0            1    1190        1.721461e+09  \n",
       "6637               1            0    9900        1.609189e+09  \n",
       "7748               0            1    7480        7.560187e+09  \n",
       "7976               1            0   10900        6.466283e+06  \n",
       "8357               0            1   94900        1.463901e+10  \n",
       "8424               1            0   44930        7.201592e+09  \n",
       "8737               0            1    3400        6.316963e+09  \n",
       "8842               0            1   55900        3.722491e+09  \n",
       "\n",
       "[22 rows x 43 columns]"
      ]
     },
     "execution_count": 10,
     "metadata": {},
     "output_type": "execute_result"
    }
   ],
   "source": [
    "index_before = lr_pred_df.index\n",
    "rows_before = lr_pred_df.shape[0]\n",
    "\n",
    "lr_pred_df = lr_pred_df.replace([np.inf, -np.inf], np.nan).dropna()\n",
    "\n",
    "index_after = lr_pred_df.index\n",
    "rows_after = lr_pred_df.shape[0]\n",
    "\n",
    "removed_indices = index_before.difference(index_after)\n",
    "removed_rows = rows_before - rows_after\n",
    "percent_removed = (removed_rows / rows_before) * 100\n",
    "\n",
    "removed_rows_X_test = X_test.iloc[removed_indices]\n",
    "removed_rows_y_test = y_test.iloc[removed_indices]\n",
    "removed_rows_df = pd.concat([removed_rows_X_test, removed_rows_y_test], axis=1)\n",
    "removed_rows_df['pre_backtrans_pred'] = lr_pred.flatten()[removed_indices]\n",
    "filtered_removed_rows_df = removed_rows_df.loc[:, (removed_rows_df != 0).any()]\n",
    "\n",
    "print('Rows before removing NaNs and Infs:', rows_before)\n",
    "print('Rows after removing NaNs and Infs:', rows_after)\n",
    "print('Number of rows removed:', removed_rows)\n",
    "print('Percentage of rows removed:', percent_removed, '%')\n",
    "\n",
    "print(\"Problematic rows in X_test and y_test:\")\n",
    "filtered_removed_rows_df"
   ]
  },
  {
   "cell_type": "markdown",
   "metadata": {},
   "source": [
    "It appears that the linear regression model leads to extremely high predicted values for the problematic rows. Therefore, the back transformation fails, leading to infinite values. The full linear regression model therefore appears to be unsuitable. After removing the problematic rows, the evaluation metrics are calculated.  However, it should be noted that these can only be interpreted to a limited extent, as not all predictions are taken into account."
   ]
  },
  {
   "cell_type": "code",
   "execution_count": 11,
   "metadata": {},
   "outputs": [
    {
     "data": {
      "text/html": [
       "<div>\n",
       "<style scoped>\n",
       "    .dataframe tbody tr th:only-of-type {\n",
       "        vertical-align: middle;\n",
       "    }\n",
       "\n",
       "    .dataframe tbody tr th {\n",
       "        vertical-align: top;\n",
       "    }\n",
       "\n",
       "    .dataframe thead th {\n",
       "        text-align: right;\n",
       "    }\n",
       "</style>\n",
       "<table border=\"1\" class=\"dataframe\">\n",
       "  <thead>\n",
       "    <tr style=\"text-align: right;\">\n",
       "      <th></th>\n",
       "      <th>model</th>\n",
       "      <th>r2</th>\n",
       "      <th>r2_adj</th>\n",
       "      <th>rmse</th>\n",
       "      <th>seconds</th>\n",
       "    </tr>\n",
       "  </thead>\n",
       "  <tbody>\n",
       "    <tr>\n",
       "      <th>0</th>\n",
       "      <td>lr</td>\n",
       "      <td>0.928132</td>\n",
       "      <td>0.920122</td>\n",
       "      <td>4906.257588</td>\n",
       "      <td>8.711491</td>\n",
       "    </tr>\n",
       "  </tbody>\n",
       "</table>\n",
       "</div>"
      ],
      "text/plain": [
       "  model        r2    r2_adj         rmse   seconds\n",
       "0    lr  0.928132  0.920122  4906.257588  8.711491"
      ]
     },
     "execution_count": 11,
     "metadata": {},
     "output_type": "execute_result"
    }
   ],
   "source": [
    "lr_r2 = r2_score(lr_pred_df['y_test'], lr_pred_df['pred'])\n",
    "lr_r2_adj = 1 - (1 - lr_r2) * ((len(X_test) - 1) / (len(X_test) - len(X_test.columns) - 1))\n",
    "lr_rmse = np.sqrt(mean_squared_error(lr_pred_df['y_test'], lr_pred_df['pred']))\n",
    "lr_seconds = lr_delta.seconds + lr_delta.microseconds/1E6\n",
    "\n",
    "lr_evaluation = pd.DataFrame({\n",
    "    'model': ['lr'],\n",
    "    'r2': [lr_r2],\n",
    "    'r2_adj': [lr_r2_adj],\n",
    "    'rmse': [lr_rmse],\n",
    "    'seconds': [lr_seconds]\n",
    "})\n",
    "\n",
    "lr_evaluation"
   ]
  },
  {
   "cell_type": "markdown",
   "metadata": {},
   "source": [
    "Save the trained model, model predictions and evaluation metrics."
   ]
  },
  {
   "cell_type": "code",
   "execution_count": 10,
   "metadata": {},
   "outputs": [],
   "source": [
    "joblib.dump(lr_model, '../models/models/lr_model.pkl')\n",
    "lr_evaluation.to_csv(os.path.join(\"../models/evaluation/\", \"lr_evaluation.csv\"), index=False)\n",
    "lr_res = pd.DataFrame(lr_pred)\n",
    "lr_res.index = X_test.index\n",
    "lr_res.columns = [\"prediction\"]\n",
    "lr_res.to_csv(\"../models/predictions/lr_prediction.csv\")"
   ]
  },
  {
   "cell_type": "markdown",
   "metadata": {},
   "source": [
    "## 2.2. Regularized Linear Regression"
   ]
  },
  {
   "cell_type": "markdown",
   "metadata": {},
   "source": [
    "### 2.2.1. Lasso Regression"
   ]
  },
  {
   "cell_type": "markdown",
   "metadata": {},
   "source": [
    "Start the hyperparameter optimization with an initial rough exploration of the hyperparameter space using Optuna's TPESampler algorithm (Tree-Structured Parzen Estimator), covering a wide range of values for the hyperparameter \"alpha\". This preliminary search helps to identify a suitable range for subsequent fine-tuning within the optimal parameter space. A 5-fold cross-validation strategy is used to optimize computational efficiency, which ensures robust model evaluation while reducing the risk of overfitting. The Root Mean Squared Error (RMSE) is used as a performance evaluation metric. "
   ]
  },
  {
   "cell_type": "code",
   "execution_count": 13,
   "metadata": {},
   "outputs": [],
   "source": [
    "def lasso_coarse_objective(trial):\n",
    "    alpha = trial.suggest_float('alpha', 1e-9, 1e9, log=True)\n",
    "    lasso = Lasso(alpha=alpha)\n",
    "    kfolds = KFold(n_splits=5, shuffle=True, random_state=42)\n",
    "    rmse_scores = cross_val_score(lasso, X_train, y_train, scoring='neg_root_mean_squared_error', cv=kfolds, n_jobs=-1)\n",
    "    return -rmse_scores.mean()"
   ]
  },
  {
   "cell_type": "code",
   "execution_count": 14,
   "metadata": {},
   "outputs": [
    {
     "name": "stderr",
     "output_type": "stream",
     "text": [
      "[I 2024-02-09 19:04:18,003] A new study created in memory with name: no-name-3a79e641-7114-40c5-878d-6b257df9fb34\n",
      "[I 2024-02-09 19:04:28,295] Trial 0 finished with value: 0.7013207160161288 and parameters: {'alpha': 10243321.458660385}. Best is trial 0 with value: 0.7013207160161288.\n",
      "[I 2024-02-09 19:08:33,305] Trial 1 finished with value: 0.16394805195471082 and parameters: {'alpha': 5.96865180528638e-07}. Best is trial 1 with value: 0.16394805195471082.\n",
      "[I 2024-02-09 19:08:38,564] Trial 2 finished with value: 0.7013207160161288 and parameters: {'alpha': 401158.3420221274}. Best is trial 1 with value: 0.16394805195471082.\n",
      "[I 2024-02-09 19:08:43,155] Trial 3 finished with value: 0.7013207160161288 and parameters: {'alpha': 836.8044150727266}. Best is trial 1 with value: 0.16394805195471082.\n",
      "[I 2024-02-09 19:08:47,370] Trial 4 finished with value: 0.7013207160161288 and parameters: {'alpha': 9.170761659151827}. Best is trial 1 with value: 0.16394805195471082.\n",
      "[I 2024-02-09 19:08:51,996] Trial 5 finished with value: 0.7013207160161288 and parameters: {'alpha': 19802190.19690238}. Best is trial 1 with value: 0.16394805195471082.\n",
      "[I 2024-02-09 19:08:57,308] Trial 6 finished with value: 0.7013207160161288 and parameters: {'alpha': 0.7737208697265361}. Best is trial 1 with value: 0.16394805195471082.\n",
      "[I 2024-02-09 19:09:02,472] Trial 7 finished with value: 0.7013207160161288 and parameters: {'alpha': 583869975.9426675}. Best is trial 1 with value: 0.16394805195471082.\n",
      "[I 2024-02-09 19:09:07,763] Trial 8 finished with value: 0.7013207160161288 and parameters: {'alpha': 16.59259553215712}. Best is trial 1 with value: 0.16394805195471082.\n",
      "[I 2024-02-09 19:13:27,760] Trial 9 finished with value: 0.16389049879721082 and parameters: {'alpha': 4.189615204360501e-06}. Best is trial 9 with value: 0.16389049879721082.\n",
      "[I 2024-02-09 19:18:02,866] Trial 10 finished with value: 0.1642869282150733 and parameters: {'alpha': 1.5559380994842274e-09}. Best is trial 9 with value: 0.16389049879721082.\n",
      "[I 2024-02-09 19:22:04,134] Trial 11 finished with value: 0.16392637328019716 and parameters: {'alpha': 8.293296603310652e-07}. Best is trial 9 with value: 0.16389049879721082.\n",
      "[I 2024-02-09 19:22:33,279] Trial 12 finished with value: 0.18119144097822065 and parameters: {'alpha': 0.0001176924519363625}. Best is trial 9 with value: 0.16389049879721082.\n",
      "[I 2024-02-09 19:22:41,408] Trial 13 finished with value: 0.19476144323139022 and parameters: {'alpha': 0.00040154110507913105}. Best is trial 9 with value: 0.16389049879721082.\n",
      "[I 2024-02-09 19:27:03,745] Trial 14 finished with value: 0.16428741892204218 and parameters: {'alpha': 1.3738759021723526e-09}. Best is trial 9 with value: 0.16389049879721082.\n",
      "[I 2024-02-09 19:27:25,977] Trial 15 finished with value: 0.18270563257386369 and parameters: {'alpha': 0.00013193783928244787}. Best is trial 9 with value: 0.16389049879721082.\n",
      "[I 2024-02-09 19:31:27,367] Trial 16 finished with value: 0.16388752627560566 and parameters: {'alpha': 1.9516900194665794e-06}. Best is trial 16 with value: 0.16388752627560566.\n",
      "[I 2024-02-09 19:31:33,200] Trial 17 finished with value: 0.36277456810536285 and parameters: {'alpha': 0.023835213172484666}. Best is trial 16 with value: 0.16388752627560566.\n",
      "[I 2024-02-09 19:35:34,949] Trial 18 finished with value: 0.16396417131572627 and parameters: {'alpha': 4.4734639418797396e-07}. Best is trial 16 with value: 0.16388752627560566.\n",
      "[I 2024-02-09 19:35:41,088] Trial 19 finished with value: 0.2325967385786135 and parameters: {'alpha': 0.0049580607036358495}. Best is trial 16 with value: 0.16388752627560566.\n"
     ]
    },
    {
     "data": {
      "text/plain": [
       "{'alpha': 1.9516900194665794e-06}"
      ]
     },
     "execution_count": 14,
     "metadata": {},
     "output_type": "execute_result"
    }
   ],
   "source": [
    "lasso_coarse_study = optuna.create_study(direction='minimize')\n",
    "lasso_coarse_study.optimize(lasso_coarse_objective, n_trials=20)\n",
    "lasso_coarse_best_params = lasso_coarse_study.best_params\n",
    "lasso_coarse_best_params"
   ]
  },
  {
   "cell_type": "markdown",
   "metadata": {},
   "source": [
    "The highest test scores were achieved within the alpha range of 10^-6, therefore, proceed with hyperparameter optimization, emphasizing this optimal parameter space."
   ]
  },
  {
   "cell_type": "code",
   "execution_count": 15,
   "metadata": {},
   "outputs": [],
   "source": [
    "def lasso_fine_objective(trial):\n",
    "    alpha = trial.suggest_float('alpha', 1e-7, 1e-5, log=True)\n",
    "    lasso = Lasso(alpha=alpha)\n",
    "    kfolds = KFold(n_splits=5, shuffle=True, random_state=42)\n",
    "    rmse_scores = cross_val_score(lasso, X_train, y_train, scoring='neg_root_mean_squared_error', cv=kfolds, n_jobs=-1)\n",
    "    return -rmse_scores.mean()"
   ]
  },
  {
   "cell_type": "code",
   "execution_count": 16,
   "metadata": {},
   "outputs": [
    {
     "name": "stderr",
     "output_type": "stream",
     "text": [
      "[I 2024-02-09 22:05:22,906] A new study created in memory with name: no-name-63e3e229-f876-40ed-8234-230ff6f3fbd4\n",
      "[I 2024-02-09 22:09:08,328] Trial 0 finished with value: 0.16387247936991217 and parameters: {'alpha': 3.3649281346240794e-06}. Best is trial 0 with value: 0.16387247936991217.\n",
      "[I 2024-02-09 22:12:05,381] Trial 1 finished with value: 0.1639890023075982 and parameters: {'alpha': 3.50098099799282e-07}. Best is trial 0 with value: 0.16387247936991217.\n",
      "[I 2024-02-09 22:15:26,831] Trial 2 finished with value: 0.163960839806155 and parameters: {'alpha': 5.928976887895147e-06}. Best is trial 0 with value: 0.16387247936991217.\n",
      "[I 2024-02-09 22:18:52,154] Trial 3 finished with value: 0.16397385111604876 and parameters: {'alpha': 6.14406310830036e-06}. Best is trial 0 with value: 0.16387247936991217.\n",
      "[I 2024-02-09 22:22:16,639] Trial 4 finished with value: 0.1639914131708431 and parameters: {'alpha': 3.420306904942853e-07}. Best is trial 0 with value: 0.16387247936991217.\n",
      "[I 2024-02-09 22:25:35,740] Trial 5 finished with value: 0.16389030004894473 and parameters: {'alpha': 1.7282593114263626e-06}. Best is trial 0 with value: 0.16387247936991217.\n",
      "[I 2024-02-09 22:28:27,564] Trial 6 finished with value: 0.16410428364448676 and parameters: {'alpha': 1.218444651509368e-07}. Best is trial 0 with value: 0.16387247936991217.\n",
      "[I 2024-02-09 22:32:26,535] Trial 7 finished with value: 0.16391171948516461 and parameters: {'alpha': 1.1433959832426737e-06}. Best is trial 0 with value: 0.16387247936991217.\n",
      "[I 2024-02-09 22:36:52,828] Trial 8 finished with value: 0.1640306902358677 and parameters: {'alpha': 2.4066228261469425e-07}. Best is trial 0 with value: 0.16387247936991217.\n",
      "[I 2024-02-09 22:41:08,549] Trial 9 finished with value: 0.1639714224820903 and parameters: {'alpha': 4.184258984029763e-07}. Best is trial 0 with value: 0.16387247936991217.\n",
      "[I 2024-02-09 22:44:42,454] Trial 10 finished with value: 0.1638721501595497 and parameters: {'alpha': 2.6013635911554013e-06}. Best is trial 10 with value: 0.1638721501595497.\n",
      "[I 2024-02-09 22:47:52,229] Trial 11 finished with value: 0.1638733838028849 and parameters: {'alpha': 2.5045966591931192e-06}. Best is trial 10 with value: 0.1638721501595497.\n",
      "[I 2024-02-09 22:51:08,058] Trial 12 finished with value: 0.1638704204936376 and parameters: {'alpha': 3.1599970196135527e-06}. Best is trial 12 with value: 0.1638704204936376.\n",
      "[I 2024-02-09 22:54:12,961] Trial 13 finished with value: 0.1642964438463651 and parameters: {'alpha': 9.432099132371166e-06}. Best is trial 12 with value: 0.1638704204936376.\n",
      "[I 2024-02-09 22:57:04,913] Trial 14 finished with value: 0.1639171660351192 and parameters: {'alpha': 1.000406276073766e-06}. Best is trial 12 with value: 0.1638704204936376.\n",
      "[I 2024-02-09 23:00:16,670] Trial 15 finished with value: 0.1638716458846639 and parameters: {'alpha': 3.3134566972147136e-06}. Best is trial 12 with value: 0.1638704204936376.\n",
      "[I 2024-02-09 23:03:31,246] Trial 16 finished with value: 0.16391227454344606 and parameters: {'alpha': 4.890587954669088e-06}. Best is trial 12 with value: 0.1638704204936376.\n",
      "[I 2024-02-09 23:06:42,724] Trial 17 finished with value: 0.16388997548880066 and parameters: {'alpha': 1.660075376658924e-06}. Best is trial 12 with value: 0.1638704204936376.\n",
      "[I 2024-02-09 23:09:58,191] Trial 18 finished with value: 0.16393612069400657 and parameters: {'alpha': 7.020916880724997e-07}. Best is trial 12 with value: 0.1638704204936376.\n",
      "[I 2024-02-09 23:13:05,571] Trial 19 finished with value: 0.1638863020391366 and parameters: {'alpha': 4.007489351379599e-06}. Best is trial 12 with value: 0.1638704204936376.\n"
     ]
    },
    {
     "data": {
      "text/plain": [
       "{'alpha': 3.1599970196135527e-06}"
      ]
     },
     "execution_count": 16,
     "metadata": {},
     "output_type": "execute_result"
    }
   ],
   "source": [
    "lasso_fine_study = optuna.create_study(direction='minimize')\n",
    "lasso_fine_study.optimize(lasso_fine_objective, n_trials=20)\n",
    "lasso_fine_best_params = lasso_fine_study.best_params\n",
    "lasso_fine_best_params"
   ]
  },
  {
   "cell_type": "markdown",
   "metadata": {},
   "source": [
    "Error is minimized at alpha = 3.1599970196135527e-06."
   ]
  },
  {
   "cell_type": "markdown",
   "metadata": {},
   "source": [
    "Train the model using the optimal hyperparameters, generate predictions for the test data using this trained model, evaluate the prediction performance, and display the results in a DataFrame. Additionally, save the fitted model as a pickle file, the model evaluation table, and the predictions as a CSV file."
   ]
  },
  {
   "cell_type": "code",
   "execution_count": 17,
   "metadata": {},
   "outputs": [
    {
     "name": "stderr",
     "output_type": "stream",
     "text": [
      "c:\\Sync\\03_projects\\data_science\\projects\\autoscout24-car-price-prediction\\envs\\Lib\\site-packages\\sklearn\\linear_model\\_coordinate_descent.py:678: ConvergenceWarning: Objective did not converge. You might want to increase the number of iterations, check the scale of the features or consider increasing regularisation. Duality gap: 2.949e+01, tolerance: 1.813e+00\n",
      "  model = cd_fast.enet_coordinate_descent(\n"
     ]
    }
   ],
   "source": [
    "lasso_model = Lasso(alpha=lasso_fine_best_params['alpha'])\n",
    "lasso_start = datetime.now()\n",
    "lasso_model.fit(X_train, y_train)\n",
    "lasso_pred = lasso_model.predict(X_test)\n",
    "lasso_stop = datetime.now()\n",
    "lasso_delta = lasso_stop - lasso_start"
   ]
  },
  {
   "cell_type": "code",
   "execution_count": 18,
   "metadata": {},
   "outputs": [
    {
     "data": {
      "text/html": [
       "<div>\n",
       "<style scoped>\n",
       "    .dataframe tbody tr th:only-of-type {\n",
       "        vertical-align: middle;\n",
       "    }\n",
       "\n",
       "    .dataframe tbody tr th {\n",
       "        vertical-align: top;\n",
       "    }\n",
       "\n",
       "    .dataframe thead th {\n",
       "        text-align: right;\n",
       "    }\n",
       "</style>\n",
       "<table border=\"1\" class=\"dataframe\">\n",
       "  <thead>\n",
       "    <tr style=\"text-align: right;\">\n",
       "      <th></th>\n",
       "      <th>model</th>\n",
       "      <th>r2</th>\n",
       "      <th>r2_adj</th>\n",
       "      <th>rmse</th>\n",
       "      <th>seconds</th>\n",
       "    </tr>\n",
       "  </thead>\n",
       "  <tbody>\n",
       "    <tr>\n",
       "      <th>0</th>\n",
       "      <td>lasso</td>\n",
       "      <td>0.949303</td>\n",
       "      <td>0.943652</td>\n",
       "      <td>4152.140941</td>\n",
       "      <td>53.182399</td>\n",
       "    </tr>\n",
       "  </tbody>\n",
       "</table>\n",
       "</div>"
      ],
      "text/plain": [
       "   model        r2    r2_adj         rmse    seconds\n",
       "0  lasso  0.949303  0.943652  4152.140941  53.182399"
      ]
     },
     "execution_count": 18,
     "metadata": {},
     "output_type": "execute_result"
    }
   ],
   "source": [
    "lasso_pred_inverse = np.expm1(lasso_pred)\n",
    "\n",
    "lasso_r2 = r2_score(y_test, lasso_pred_inverse)\n",
    "lasso_r2_adj = 1 - (1 - lasso_r2) * ((len(X_test) - 1) / (len(X_test) - len(X_test.columns) - 1))\n",
    "lasso_rmse = np.sqrt(mean_squared_error(y_test, lasso_pred_inverse))\n",
    "lasso_seconds = lasso_delta.seconds + lasso_delta.microseconds/1E6\n",
    "\n",
    "lasso_evaluation = pd.DataFrame({\n",
    "    'model': ['lasso'],\n",
    "    'r2': [lasso_r2],\n",
    "    'r2_adj': [lasso_r2_adj],\n",
    "    'rmse': [lasso_rmse],\n",
    "    'seconds': [lasso_seconds]\n",
    "})\n",
    "\n",
    "lasso_evaluation"
   ]
  },
  {
   "cell_type": "code",
   "execution_count": 19,
   "metadata": {},
   "outputs": [],
   "source": [
    "joblib.dump(lasso_model, '../models/models/lasso_model.pkl')\n",
    "lasso_evaluation.to_csv(os.path.join(\"../models/evaluation/\", \"lasso_evaluation.csv\"), index=False)\n",
    "lasso_res = pd.DataFrame(lasso_pred)\n",
    "lasso_res.index = X_test.index\n",
    "lasso_res.columns = [\"prediction\"]\n",
    "lasso_res.to_csv(\"../models/predictions/lasso_prediction.csv\")"
   ]
  },
  {
   "cell_type": "markdown",
   "metadata": {},
   "source": [
    "### 2.2.2. Ridge Regression"
   ]
  },
  {
   "cell_type": "markdown",
   "metadata": {},
   "source": [
    "Start the ridge hyperparameter optimization with an initial rough exploration of the hyperparameter space using Optuna's TPESampler algorithm (Tree-Structured Parzen Estimator), covering a wide range of values for the hyperparameter \"alpha\". This preliminary search helps to identify a suitable range for subsequent fine-tuning within the optimal parameter space. A 5-fold cross-validation strategy is used to optimize computational efficiency, which ensures robust model evaluation while reducing the risk of overfitting. The Root Mean Squared Error (RMSE) is used as a performance evaluation metric. "
   ]
  },
  {
   "cell_type": "code",
   "execution_count": 21,
   "metadata": {},
   "outputs": [],
   "source": [
    "def ridge_coarse_objective(trial):\n",
    "    alpha = trial.suggest_float('alpha', 1e-9, 1e9, log=True)\n",
    "    ridge = Ridge(alpha=alpha)\n",
    "    kfolds = KFold(n_splits=5, shuffle=True, random_state=42)\n",
    "    rmse_scores = cross_val_score(ridge, X_train, y_train, scoring='neg_root_mean_squared_error', cv=kfolds, n_jobs=-1)\n",
    "    return -rmse_scores.mean()"
   ]
  },
  {
   "cell_type": "code",
   "execution_count": 22,
   "metadata": {},
   "outputs": [
    {
     "name": "stderr",
     "output_type": "stream",
     "text": [
      "[I 2024-02-09 23:36:40,634] A new study created in memory with name: no-name-980e92ef-e28b-4d0c-9bce-ce0fa5a6cbc8\n",
      "[I 2024-02-09 23:36:50,021] Trial 0 finished with value: 0.16424857262649997 and parameters: {'alpha': 1.1743120410150176}. Best is trial 0 with value: 0.16424857262649997.\n",
      "[I 2024-02-09 23:36:55,919] Trial 1 finished with value: 0.17098125868126882 and parameters: {'alpha': 10.535200575024227}. Best is trial 0 with value: 0.16424857262649997.\n",
      "[I 2024-02-09 23:37:01,370] Trial 2 finished with value: 0.18931491451252808 and parameters: {'alpha': 49.63657417215814}. Best is trial 0 with value: 0.16424857262649997.\n",
      "[I 2024-02-09 23:37:07,791] Trial 3 finished with value: 0.6998189954419571 and parameters: {'alpha': 3193783.064577547}. Best is trial 0 with value: 0.16424857262649997.\n",
      "[I 2024-02-09 23:37:15,744] Trial 4 finished with value: 0.418584998793132 and parameters: {'alpha': 3237.982475531299}. Best is trial 0 with value: 0.16424857262649997.\n",
      "[I 2024-02-09 23:37:21,331] Trial 5 finished with value: 0.16423515997889412 and parameters: {'alpha': 0.0011326405463555165}. Best is trial 5 with value: 0.16423515997889412.\n",
      "[I 2024-02-09 23:37:27,549] Trial 6 finished with value: 0.1642526386536567 and parameters: {'alpha': 7.429034513348599e-08}. Best is trial 5 with value: 0.16423515997889412.\n",
      "[I 2024-02-09 23:37:34,372] Trial 7 finished with value: 0.16392721865235738 and parameters: {'alpha': 0.19240665124910455}. Best is trial 7 with value: 0.16392721865235738.\n",
      "[I 2024-02-09 23:37:40,883] Trial 8 finished with value: 0.1642524203400879 and parameters: {'alpha': 1.3382682436137682e-05}. Best is trial 7 with value: 0.16392721865235738.\n",
      "[I 2024-02-09 23:37:48,372] Trial 9 finished with value: 0.3310280296650617 and parameters: {'alpha': 950.7938589978701}. Best is trial 7 with value: 0.16392721865235738.\n",
      "[I 2024-02-09 23:37:54,213] Trial 10 finished with value: 0.7012831868065359 and parameters: {'alpha': 128446984.1820619}. Best is trial 7 with value: 0.16392721865235738.\n",
      "[I 2024-02-09 23:38:02,379] Trial 11 finished with value: 0.16424410662714894 and parameters: {'alpha': 0.0005335539293584385}. Best is trial 7 with value: 0.16392721865235738.\n",
      "[I 2024-02-09 23:38:09,669] Trial 12 finished with value: 0.1642179117599708 and parameters: {'alpha': 0.002420256368322732}. Best is trial 7 with value: 0.16392721865235738.\n",
      "[I 2024-02-09 23:38:17,090] Trial 13 finished with value: 0.1642236633579564 and parameters: {'alpha': 0.0019697676693886247}. Best is trial 7 with value: 0.16392721865235738.\n",
      "[I 2024-02-09 23:38:23,797] Trial 14 finished with value: 0.16425256409070527 and parameters: {'alpha': 1.7487675638354417e-09}. Best is trial 7 with value: 0.16392721865235738.\n",
      "[I 2024-02-09 23:38:30,444] Trial 15 finished with value: 0.16408842621761263 and parameters: {'alpha': 0.025092035966330875}. Best is trial 7 with value: 0.16392721865235738.\n",
      "[I 2024-02-09 23:38:36,664] Trial 16 finished with value: 0.16393077952482277 and parameters: {'alpha': 0.18400424820661812}. Best is trial 7 with value: 0.16392721865235738.\n",
      "[I 2024-02-09 23:38:42,263] Trial 17 finished with value: 0.6516804304298842 and parameters: {'alpha': 80685.02833280104}. Best is trial 7 with value: 0.16392721865235738.\n",
      "[I 2024-02-09 23:38:48,678] Trial 18 finished with value: 0.16425257782827488 and parameters: {'alpha': 3.84440080229112e-06}. Best is trial 7 with value: 0.16392721865235738.\n",
      "[I 2024-02-09 23:38:54,365] Trial 19 finished with value: 0.16389690495513123 and parameters: {'alpha': 0.350978657363417}. Best is trial 19 with value: 0.16389690495513123.\n"
     ]
    },
    {
     "data": {
      "text/plain": [
       "{'alpha': 0.350978657363417}"
      ]
     },
     "execution_count": 22,
     "metadata": {},
     "output_type": "execute_result"
    }
   ],
   "source": [
    "ridge_coarse_study = optuna.create_study(direction='minimize')\n",
    "ridge_coarse_study.optimize(ridge_coarse_objective, n_trials=20)\n",
    "ridge_coarse_best_params = ridge_coarse_study.best_params\n",
    "ridge_coarse_best_params"
   ]
  },
  {
   "cell_type": "markdown",
   "metadata": {},
   "source": [
    "The highest test scores were achieved within the alpha range of 10^-1 to 10^0, therefore, proceed with hyperparameter optimization, emphasizing this optimal parameter space."
   ]
  },
  {
   "cell_type": "code",
   "execution_count": 23,
   "metadata": {},
   "outputs": [],
   "source": [
    "def ridge_fine_objective(trial):\n",
    "    alpha = trial.suggest_float('alpha', 1e-1, 1e0, log=True)\n",
    "    ridge = Ridge(alpha=alpha)\n",
    "    kfolds = KFold(n_splits=5, shuffle=True, random_state=42)\n",
    "    rmse_scores = cross_val_score(ridge, X_train, y_train, scoring='neg_root_mean_squared_error', cv=kfolds, n_jobs=-1)\n",
    "    return -rmse_scores.mean()"
   ]
  },
  {
   "cell_type": "code",
   "execution_count": 24,
   "metadata": {},
   "outputs": [
    {
     "name": "stderr",
     "output_type": "stream",
     "text": [
      "[I 2024-02-09 23:45:01,863] A new study created in memory with name: no-name-91b9b771-80b7-49b9-80a7-d1fbd13061b2\n",
      "[I 2024-02-09 23:45:14,934] Trial 0 finished with value: 0.16400502975907394 and parameters: {'alpha': 0.7560482810597207}. Best is trial 0 with value: 0.16400502975907394.\n",
      "[I 2024-02-09 23:45:22,776] Trial 1 finished with value: 0.16391336117257108 and parameters: {'alpha': 0.4982289691237173}. Best is trial 1 with value: 0.16391336117257108.\n",
      "[I 2024-02-09 23:45:30,822] Trial 2 finished with value: 0.16389780865442807 and parameters: {'alpha': 0.38887340984488644}. Best is trial 2 with value: 0.16389780865442807.\n",
      "[I 2024-02-09 23:45:36,991] Trial 3 finished with value: 0.16395869677401717 and parameters: {'alpha': 0.13233143481954387}. Best is trial 2 with value: 0.16389780865442807.\n",
      "[I 2024-02-09 23:45:44,444] Trial 4 finished with value: 0.16405648400067147 and parameters: {'alpha': 0.8585941195554095}. Best is trial 2 with value: 0.16389780865442807.\n",
      "[I 2024-02-09 23:45:52,589] Trial 5 finished with value: 0.16391635792561252 and parameters: {'alpha': 0.51139079319983}. Best is trial 2 with value: 0.16389780865442807.\n",
      "[I 2024-02-09 23:45:59,183] Trial 6 finished with value: 0.16396780912400896 and parameters: {'alpha': 0.11911485905324662}. Best is trial 2 with value: 0.16389780865442807.\n",
      "[I 2024-02-09 23:46:05,564] Trial 7 finished with value: 0.16390734804538704 and parameters: {'alpha': 0.4680901106966353}. Best is trial 2 with value: 0.16389780865442807.\n",
      "[I 2024-02-09 23:46:11,013] Trial 8 finished with value: 0.16400470884976642 and parameters: {'alpha': 0.7553616900580229}. Best is trial 2 with value: 0.16389780865442807.\n",
      "[I 2024-02-09 23:46:17,070] Trial 9 finished with value: 0.16405325075217167 and parameters: {'alpha': 0.8525143787247235}. Best is trial 2 with value: 0.16389780865442807.\n",
      "[I 2024-02-09 23:46:22,905] Trial 10 finished with value: 0.16391928040257817 and parameters: {'alpha': 0.21359960912263237}. Best is trial 2 with value: 0.16389780865442807.\n",
      "[I 2024-02-09 23:46:28,892] Trial 11 finished with value: 0.16389820786328974 and parameters: {'alpha': 0.31969121104570075}. Best is trial 2 with value: 0.16389780865442807.\n",
      "[I 2024-02-09 23:46:35,402] Trial 12 finished with value: 0.1639023192823017 and parameters: {'alpha': 0.2832853467432849}. Best is trial 2 with value: 0.16389780865442807.\n",
      "[I 2024-02-09 23:46:41,044] Trial 13 finished with value: 0.16390086966129563 and parameters: {'alpha': 0.2934759493059888}. Best is trial 2 with value: 0.16389780865442807.\n",
      "[I 2024-02-09 23:46:47,281] Trial 14 finished with value: 0.16393161201813272 and parameters: {'alpha': 0.1821199978310215}. Best is trial 2 with value: 0.16389780865442807.\n",
      "[I 2024-02-09 23:46:53,117] Trial 15 finished with value: 0.16389749915406876 and parameters: {'alpha': 0.38295643925989914}. Best is trial 15 with value: 0.16389749915406876.\n",
      "[I 2024-02-09 23:46:58,844] Trial 16 finished with value: 0.16390755296290732 and parameters: {'alpha': 0.46922871536559546}. Best is trial 15 with value: 0.16389749915406876.\n",
      "[I 2024-02-09 23:47:04,814] Trial 17 finished with value: 0.16389692410089277 and parameters: {'alpha': 0.36415511361529757}. Best is trial 17 with value: 0.16389692410089277.\n",
      "[I 2024-02-09 23:47:10,641] Trial 18 finished with value: 0.16392000223252576 and parameters: {'alpha': 0.21150234764808162}. Best is trial 17 with value: 0.16389692410089277.\n",
      "[I 2024-02-09 23:47:16,674] Trial 19 finished with value: 0.16395667946604914 and parameters: {'alpha': 0.6418344458281925}. Best is trial 17 with value: 0.16389692410089277.\n"
     ]
    },
    {
     "data": {
      "text/plain": [
       "{'alpha': 0.36415511361529757}"
      ]
     },
     "execution_count": 24,
     "metadata": {},
     "output_type": "execute_result"
    }
   ],
   "source": [
    "ridge_fine_study = optuna.create_study(direction='minimize')\n",
    "ridge_fine_study.optimize(ridge_fine_objective, n_trials=20)\n",
    "ridge_fine_best_params = ridge_fine_study.best_params\n",
    "ridge_fine_best_params"
   ]
  },
  {
   "cell_type": "markdown",
   "metadata": {},
   "source": [
    "Error is minimized at alpha = 0.36415511361529757."
   ]
  },
  {
   "cell_type": "markdown",
   "metadata": {},
   "source": [
    "Train the ridge model using the optimal hyperparameters, generate predictions for the test data using this trained model, evaluate the prediction performance, and display the results in a DataFrame. Additionally, save the fitted model as a pickle file, the model evaluation table, and the predictions as a CSV file."
   ]
  },
  {
   "cell_type": "code",
   "execution_count": 25,
   "metadata": {},
   "outputs": [],
   "source": [
    "ridge_model = Ridge(alpha=ridge_fine_best_params['alpha'])\n",
    "ridge_start = datetime.now()\n",
    "ridge_model.fit(X_train, y_train)\n",
    "ridge_pred = ridge_model.predict(X_test)\n",
    "ridge_stop = datetime.now()\n",
    "ridge_delta = ridge_stop - ridge_start"
   ]
  },
  {
   "cell_type": "code",
   "execution_count": 26,
   "metadata": {},
   "outputs": [
    {
     "data": {
      "text/html": [
       "<div>\n",
       "<style scoped>\n",
       "    .dataframe tbody tr th:only-of-type {\n",
       "        vertical-align: middle;\n",
       "    }\n",
       "\n",
       "    .dataframe tbody tr th {\n",
       "        vertical-align: top;\n",
       "    }\n",
       "\n",
       "    .dataframe thead th {\n",
       "        text-align: right;\n",
       "    }\n",
       "</style>\n",
       "<table border=\"1\" class=\"dataframe\">\n",
       "  <thead>\n",
       "    <tr style=\"text-align: right;\">\n",
       "      <th></th>\n",
       "      <th>model</th>\n",
       "      <th>r2</th>\n",
       "      <th>r2_adj</th>\n",
       "      <th>rmse</th>\n",
       "      <th>seconds</th>\n",
       "    </tr>\n",
       "  </thead>\n",
       "  <tbody>\n",
       "    <tr>\n",
       "      <th>0</th>\n",
       "      <td>ridge</td>\n",
       "      <td>0.940112</td>\n",
       "      <td>0.933437</td>\n",
       "      <td>4512.857727</td>\n",
       "      <td>1.733712</td>\n",
       "    </tr>\n",
       "  </tbody>\n",
       "</table>\n",
       "</div>"
      ],
      "text/plain": [
       "   model        r2    r2_adj         rmse   seconds\n",
       "0  ridge  0.940112  0.933437  4512.857727  1.733712"
      ]
     },
     "execution_count": 26,
     "metadata": {},
     "output_type": "execute_result"
    }
   ],
   "source": [
    "ridge_pred_inverse = np.expm1(ridge_pred)\n",
    "\n",
    "ridge_r2 = r2_score(y_test, ridge_pred_inverse)\n",
    "ridge_r2_adj = 1 - (1 - ridge_r2) * ((len(X_test) - 1) / (len(X_test) - len(X_test.columns) - 1))\n",
    "ridge_rmse = np.sqrt(mean_squared_error(y_test, ridge_pred_inverse))\n",
    "ridge_seconds = ridge_delta.seconds + ridge_delta.microseconds/1E6\n",
    "\n",
    "ridge_evaluation = pd.DataFrame({\n",
    "    'model': ['ridge'],\n",
    "    'r2': [ridge_r2],\n",
    "    'r2_adj': [ridge_r2_adj],\n",
    "    'rmse': [ridge_rmse],\n",
    "    'seconds': [ridge_seconds]\n",
    "})\n",
    "\n",
    "ridge_evaluation"
   ]
  },
  {
   "cell_type": "code",
   "execution_count": 27,
   "metadata": {},
   "outputs": [],
   "source": [
    "joblib.dump(ridge_model, '../models/models/ridge_model.pkl')\n",
    "ridge_evaluation.to_csv(os.path.join(\"../models/evaluation/\", \"ridge_evaluation.csv\"), index=False)\n",
    "ridge_res = pd.DataFrame(ridge_pred)\n",
    "ridge_res.index = X_test.index\n",
    "ridge_res.columns = [\"prediction\"]\n",
    "ridge_res.to_csv(\"../models/predictions/ridge_prediction.csv\")"
   ]
  },
  {
   "cell_type": "markdown",
   "metadata": {},
   "source": [
    "### 2.2.3. Elastic Net Regression"
   ]
  },
  {
   "cell_type": "markdown",
   "metadata": {},
   "source": [
    "Start the elastic net hyperparameter optimization with an initial rough exploration of the hyperparameter space using Optuna's TPESampler algorithm (Tree-Structured Parzen Estimator), covering a wide range of values for the hyperparameters \"alpha\" and the \"l1 ratio\". This preliminary search helps to identify a suitable range for subsequent fine-tuning within the optimal parameter space. A 5-fold cross-validation strategy is used to optimize computational efficiency, which ensures robust model evaluation while reducing the risk of overfitting. The Root Mean Squared Error (RMSE) is used as a performance evaluation metric. "
   ]
  },
  {
   "cell_type": "code",
   "execution_count": 32,
   "metadata": {},
   "outputs": [],
   "source": [
    "def elasticnet_coarse_objective(trial):\n",
    "    alpha = trial.suggest_float('alpha', 1e-9, 1e9, log=True)\n",
    "    l1_ratio = trial.suggest_float('l1_ratio', 0, 1)\n",
    "    elasticnet = ElasticNet(alpha=alpha, l1_ratio=l1_ratio)\n",
    "    kfolds = KFold(n_splits=5, shuffle=True, random_state=42)\n",
    "    rmse_scores = cross_val_score(elasticnet, X_train, y_train, scoring='neg_root_mean_squared_error', cv=kfolds, n_jobs=-1)\n",
    "    return -rmse_scores.mean()"
   ]
  },
  {
   "cell_type": "code",
   "execution_count": 33,
   "metadata": {},
   "outputs": [
    {
     "name": "stderr",
     "output_type": "stream",
     "text": [
      "[I 2024-02-09 23:56:44,342] A new study created in memory with name: no-name-6bcc7919-3a04-4ee0-9f52-ca1229989486\n",
      "[I 2024-02-09 23:56:51,473] Trial 0 finished with value: 0.7013207160161288 and parameters: {'alpha': 73.05249792172569, 'l1_ratio': 0.48929492242600703}. Best is trial 0 with value: 0.7013207160161288.\n",
      "[I 2024-02-10 00:00:09,481] Trial 1 finished with value: 0.16428393249434645 and parameters: {'alpha': 3.698522250451831e-09, 'l1_ratio': 0.8038315597375395}. Best is trial 1 with value: 0.16428393249434645.\n",
      "[I 2024-02-10 00:00:13,032] Trial 2 finished with value: 0.7013207160161288 and parameters: {'alpha': 1.5506251802243947, 'l1_ratio': 0.7408186330293501}. Best is trial 1 with value: 0.16428393249434645.\n",
      "[I 2024-02-10 00:00:20,307] Trial 3 finished with value: 0.19518038543879007 and parameters: {'alpha': 0.0009063432259673031, 'l1_ratio': 0.3853263311447038}. Best is trial 1 with value: 0.16428393249434645.\n",
      "[I 2024-02-10 00:03:35,356] Trial 4 finished with value: 0.1641418528787575 and parameters: {'alpha': 1.953388364083622e-05, 'l1_ratio': 0.24998298340864977}. Best is trial 4 with value: 0.1641418528787575.\n",
      "[I 2024-02-10 00:03:39,818] Trial 5 finished with value: 0.6762410378123718 and parameters: {'alpha': 0.2588615293534744, 'l1_ratio': 0.6401614670553343}. Best is trial 4 with value: 0.1641418528787575.\n",
      "[I 2024-02-10 00:03:43,337] Trial 6 finished with value: 0.7013207160161288 and parameters: {'alpha': 461506459.78979677, 'l1_ratio': 0.2917224538861707}. Best is trial 4 with value: 0.1641418528787575.\n",
      "[I 2024-02-10 00:04:05,417] Trial 7 finished with value: 0.17457499374843988 and parameters: {'alpha': 0.00011669544236095001, 'l1_ratio': 0.5469958637591138}. Best is trial 4 with value: 0.1641418528787575.\n",
      "[I 2024-02-10 00:04:09,454] Trial 8 finished with value: 0.7013207160161288 and parameters: {'alpha': 46.88583042289867, 'l1_ratio': 0.9387840720063189}. Best is trial 4 with value: 0.1641418528787575.\n",
      "[I 2024-02-10 00:07:08,238] Trial 9 finished with value: 0.16428284349749916 and parameters: {'alpha': 4.436459353150842e-09, 'l1_ratio': 0.829349968956481}. Best is trial 4 with value: 0.1641418528787575.\n",
      "[I 2024-02-10 00:07:11,831] Trial 10 finished with value: 0.7013207160161288 and parameters: {'alpha': 419374.1610050739, 'l1_ratio': 0.0591208092504627}. Best is trial 4 with value: 0.1641418528787575.\n",
      "[I 2024-02-10 00:10:26,406] Trial 11 finished with value: 0.16429010552054119 and parameters: {'alpha': 1.2851391740585937e-09, 'l1_ratio': 0.16591110027542266}. Best is trial 4 with value: 0.1641418528787575.\n",
      "[I 2024-02-10 00:13:32,373] Trial 12 finished with value: 0.163898912310572 and parameters: {'alpha': 2.430224145742283e-06, 'l1_ratio': 0.26693419316393463}. Best is trial 12 with value: 0.163898912310572.\n",
      "[I 2024-02-10 00:16:26,724] Trial 13 finished with value: 0.16482331734295858 and parameters: {'alpha': 3.3972548471724546e-05, 'l1_ratio': 0.24422576212520347}. Best is trial 12 with value: 0.163898912310572.\n",
      "[I 2024-02-10 00:19:44,589] Trial 14 finished with value: 0.16401969010551784 and parameters: {'alpha': 1.9202343558372625e-06, 'l1_ratio': 0.016463116107983122}. Best is trial 12 with value: 0.163898912310572.\n",
      "[I 2024-02-10 00:22:38,035] Trial 15 finished with value: 0.16398825103045694 and parameters: {'alpha': 2.940995746691278e-06, 'l1_ratio': 0.0003477535378410765}. Best is trial 12 with value: 0.163898912310572.\n",
      "[I 2024-02-10 00:25:47,918] Trial 16 finished with value: 0.16414102352827914 and parameters: {'alpha': 3.924890203763333e-07, 'l1_ratio': 0.13365013465467537}. Best is trial 12 with value: 0.163898912310572.\n",
      "[I 2024-02-10 00:25:57,167] Trial 17 finished with value: 0.24972103952583052 and parameters: {'alpha': 0.005815297145431985, 'l1_ratio': 0.4316055634986944}. Best is trial 12 with value: 0.163898912310572.\n",
      "[I 2024-02-10 00:28:59,431] Trial 18 finished with value: 0.1642940794652116 and parameters: {'alpha': 2.149269812074249e-07, 'l1_ratio': 0.005606785602731035}. Best is trial 12 with value: 0.163898912310572.\n",
      "[I 2024-02-10 00:29:04,861] Trial 19 finished with value: 0.4055965574201214 and parameters: {'alpha': 0.041656007753575044, 'l1_ratio': 0.3636937379329225}. Best is trial 12 with value: 0.163898912310572.\n"
     ]
    },
    {
     "data": {
      "text/plain": [
       "{'alpha': 2.430224145742283e-06, 'l1_ratio': 0.26693419316393463}"
      ]
     },
     "execution_count": 33,
     "metadata": {},
     "output_type": "execute_result"
    }
   ],
   "source": [
    "elasticnet_coarse_study = optuna.create_study(direction='minimize')\n",
    "elasticnet_coarse_study.optimize(elasticnet_coarse_objective, n_trials=20)\n",
    "elasticnet_coarse_best_params = elasticnet_coarse_study.best_params\n",
    "elasticnet_coarse_best_params"
   ]
  },
  {
   "cell_type": "markdown",
   "metadata": {},
   "source": [
    "The highest test scores were achieved within the alpha range of 10^-6 and l1 ratio 10^-1 to 10^0, therefore, proceed with hyperparameter optimization, emphasizing this optimal parameter space."
   ]
  },
  {
   "cell_type": "code",
   "execution_count": 36,
   "metadata": {},
   "outputs": [],
   "source": [
    "def elasticnet_fine_objective(trial):\n",
    "    alpha = trial.suggest_float('alpha', 1e-7, 1e-5, log=True)\n",
    "    l1_ratio = trial.suggest_float('l1_ratio', 0.1, 1)\n",
    "    elasticnet = ElasticNet(alpha=alpha, l1_ratio=l1_ratio)\n",
    "    kfolds = KFold(n_splits=5, shuffle=True, random_state=42)\n",
    "    rmse_scores = cross_val_score(elasticnet, X_train, y_train, scoring='neg_root_mean_squared_error', cv=kfolds, n_jobs=-1)\n",
    "    return -rmse_scores.mean()"
   ]
  },
  {
   "cell_type": "code",
   "execution_count": 37,
   "metadata": {},
   "outputs": [
    {
     "name": "stderr",
     "output_type": "stream",
     "text": [
      "[I 2024-02-10 09:23:34,290] A new study created in memory with name: no-name-4cba7b1c-2cca-4da3-af2e-fa5f5c067ab6\n",
      "[I 2024-02-10 09:26:20,845] Trial 0 finished with value: 0.16418770947259687 and parameters: {'alpha': 1.0611453153664617e-07, 'l1_ratio': 0.45916353635923446}. Best is trial 0 with value: 0.16418770947259687.\n",
      "[I 2024-02-10 09:28:53,523] Trial 1 finished with value: 0.16424038449077666 and parameters: {'alpha': 1.1420750225616437e-07, 'l1_ratio': 0.20522381933850875}. Best is trial 0 with value: 0.16418770947259687.\n",
      "[I 2024-02-10 09:31:25,821] Trial 2 finished with value: 0.164071997567935 and parameters: {'alpha': 2.2423122236687345e-07, 'l1_ratio': 0.7992642642371942}. Best is trial 2 with value: 0.164071997567935.\n",
      "[I 2024-02-10 09:34:30,205] Trial 3 finished with value: 0.163878654344104 and parameters: {'alpha': 2.7176833107958028e-06, 'l1_ratio': 0.8533991235497324}. Best is trial 3 with value: 0.163878654344104.\n",
      "[I 2024-02-10 09:37:28,901] Trial 4 finished with value: 0.16403566654567386 and parameters: {'alpha': 3.8672324580177e-07, 'l1_ratio': 0.4779933638437509}. Best is trial 3 with value: 0.163878654344104.\n",
      "[I 2024-02-10 09:40:14,404] Trial 5 finished with value: 0.16426449705444274 and parameters: {'alpha': 1.2352729671948035e-07, 'l1_ratio': 0.11864678826135235}. Best is trial 3 with value: 0.163878654344104.\n",
      "[I 2024-02-10 09:43:20,331] Trial 6 finished with value: 0.16399453027677183 and parameters: {'alpha': 8.882144294199369e-07, 'l1_ratio': 0.26812969118131524}. Best is trial 3 with value: 0.163878654344104.\n",
      "[I 2024-02-10 09:46:18,464] Trial 7 finished with value: 0.1639218301965095 and parameters: {'alpha': 1.3016987416790963e-06, 'l1_ratio': 0.8879587462092405}. Best is trial 3 with value: 0.163878654344104.\n",
      "[I 2024-02-10 09:49:20,839] Trial 8 finished with value: 0.16414538449437077 and parameters: {'alpha': 1.3227615989421992e-07, 'l1_ratio': 0.6735551811223504}. Best is trial 3 with value: 0.163878654344104.\n",
      "[I 2024-02-10 09:53:25,940] Trial 9 finished with value: 0.1639805050956207 and parameters: {'alpha': 6.212372021216146e-07, 'l1_ratio': 0.48379704172784355}. Best is trial 3 with value: 0.163878654344104.\n",
      "[I 2024-02-10 09:56:51,463] Trial 10 finished with value: 0.16409438544538807 and parameters: {'alpha': 7.4853764761918e-06, 'l1_ratio': 0.980642817284316}. Best is trial 3 with value: 0.163878654344104.\n",
      "[I 2024-02-10 10:00:03,432] Trial 11 finished with value: 0.163892051764027 and parameters: {'alpha': 2.6974131168859096e-06, 'l1_ratio': 0.9834199581022974}. Best is trial 3 with value: 0.163878654344104.\n",
      "[I 2024-02-10 10:03:38,787] Trial 12 finished with value: 0.16386670705706036 and parameters: {'alpha': 3.158809602865725e-06, 'l1_ratio': 0.7514172088257848}. Best is trial 12 with value: 0.16386670705706036.\n",
      "[I 2024-02-10 10:07:23,140] Trial 13 finished with value: 0.16385814266479345 and parameters: {'alpha': 3.857663967160253e-06, 'l1_ratio': 0.7066615186842985}. Best is trial 13 with value: 0.16385814266479345.\n",
      "[I 2024-02-10 10:10:46,173] Trial 14 finished with value: 0.1640450607697227 and parameters: {'alpha': 9.768596323596865e-06, 'l1_ratio': 0.6498272480615328}. Best is trial 13 with value: 0.16385814266479345.\n",
      "[I 2024-02-10 10:14:17,357] Trial 15 finished with value: 0.16385630151770753 and parameters: {'alpha': 3.943231695230683e-06, 'l1_ratio': 0.6838802956392738}. Best is trial 15 with value: 0.16385630151770753.\n",
      "[I 2024-02-10 10:18:30,114] Trial 16 finished with value: 0.16387238768157503 and parameters: {'alpha': 5.678956147492921e-06, 'l1_ratio': 0.6208721457218576}. Best is trial 15 with value: 0.16385630151770753.\n",
      "[I 2024-02-10 10:22:34,463] Trial 17 finished with value: 0.16391712987021884 and parameters: {'alpha': 1.5976337135550126e-06, 'l1_ratio': 0.38409142706861504}. Best is trial 15 with value: 0.16385630151770753.\n",
      "[I 2024-02-10 10:25:38,933] Trial 18 finished with value: 0.1638632877846918 and parameters: {'alpha': 4.121466072459011e-06, 'l1_ratio': 0.7361049942557509}. Best is trial 15 with value: 0.16385630151770753.\n",
      "[I 2024-02-10 10:28:20,014] Trial 19 finished with value: 0.16390116999106363 and parameters: {'alpha': 1.7092668821787898e-06, 'l1_ratio': 0.5798680598412542}. Best is trial 15 with value: 0.16385630151770753.\n"
     ]
    },
    {
     "data": {
      "text/plain": [
       "{'alpha': 3.943231695230683e-06, 'l1_ratio': 0.6838802956392738}"
      ]
     },
     "execution_count": 37,
     "metadata": {},
     "output_type": "execute_result"
    }
   ],
   "source": [
    "elasticnet_fine_study = optuna.create_study(direction='minimize')\n",
    "elasticnet_fine_study.optimize(elasticnet_fine_objective, n_trials=20)\n",
    "elasticnet_fine_best_params = elasticnet_fine_study.best_params\n",
    "elasticnet_fine_best_params"
   ]
  },
  {
   "cell_type": "markdown",
   "metadata": {},
   "source": [
    "Error is minimized at alpha = 3.943231695230683e-06 and l1 ratio = 0.6838802956392738."
   ]
  },
  {
   "cell_type": "markdown",
   "metadata": {},
   "source": [
    "Train the elastic net model using the optimal hyperparameters, generate predictions for the test data using this trained model, evaluate the prediction performance, and display the results in a DataFrame. Additionally, save the fitted model as a pickle file, the model evaluation table, and the predictions as a CSV file."
   ]
  },
  {
   "cell_type": "code",
   "execution_count": 38,
   "metadata": {},
   "outputs": [
    {
     "name": "stderr",
     "output_type": "stream",
     "text": [
      "c:\\Sync\\03_projects\\data_science\\projects\\autoscout24-car-price-prediction\\envs\\Lib\\site-packages\\sklearn\\linear_model\\_coordinate_descent.py:678: ConvergenceWarning: Objective did not converge. You might want to increase the number of iterations, check the scale of the features or consider increasing regularisation. Duality gap: 7.988e+01, tolerance: 1.813e+00\n",
      "  model = cd_fast.enet_coordinate_descent(\n"
     ]
    }
   ],
   "source": [
    "elasticnet_model = ElasticNet(alpha=elasticnet_fine_best_params['alpha'], l1_ratio=elasticnet_fine_best_params['l1_ratio'])\n",
    "elasticnet_start = datetime.now()\n",
    "elasticnet_model.fit(X_train, y_train)\n",
    "elasticnet_pred = elasticnet_model.predict(X_test)\n",
    "elasticnet_stop = datetime.now()\n",
    "elasticnet_delta = elasticnet_stop - elasticnet_start"
   ]
  },
  {
   "cell_type": "code",
   "execution_count": 39,
   "metadata": {},
   "outputs": [
    {
     "data": {
      "text/html": [
       "<div>\n",
       "<style scoped>\n",
       "    .dataframe tbody tr th:only-of-type {\n",
       "        vertical-align: middle;\n",
       "    }\n",
       "\n",
       "    .dataframe tbody tr th {\n",
       "        vertical-align: top;\n",
       "    }\n",
       "\n",
       "    .dataframe thead th {\n",
       "        text-align: right;\n",
       "    }\n",
       "</style>\n",
       "<table border=\"1\" class=\"dataframe\">\n",
       "  <thead>\n",
       "    <tr style=\"text-align: right;\">\n",
       "      <th></th>\n",
       "      <th>model</th>\n",
       "      <th>r2</th>\n",
       "      <th>r2_adj</th>\n",
       "      <th>rmse</th>\n",
       "      <th>seconds</th>\n",
       "    </tr>\n",
       "  </thead>\n",
       "  <tbody>\n",
       "    <tr>\n",
       "      <th>0</th>\n",
       "      <td>elasticnet</td>\n",
       "      <td>0.948092</td>\n",
       "      <td>0.942306</td>\n",
       "      <td>4201.461942</td>\n",
       "      <td>77.137834</td>\n",
       "    </tr>\n",
       "  </tbody>\n",
       "</table>\n",
       "</div>"
      ],
      "text/plain": [
       "        model        r2    r2_adj         rmse    seconds\n",
       "0  elasticnet  0.948092  0.942306  4201.461942  77.137834"
      ]
     },
     "execution_count": 39,
     "metadata": {},
     "output_type": "execute_result"
    }
   ],
   "source": [
    "elasticnet_pred_inverse = np.expm1(elasticnet_pred)\n",
    "\n",
    "elasticnet_r2 = r2_score(y_test, elasticnet_pred_inverse)\n",
    "elasticnet_r2_adj = 1 - (1 - elasticnet_r2) * ((len(X_test) - 1) / (len(X_test) - len(X_test.columns) - 1))\n",
    "elasticnet_rmse = np.sqrt(mean_squared_error(y_test, elasticnet_pred_inverse))\n",
    "elasticnet_seconds = elasticnet_delta.seconds + elasticnet_delta.microseconds/1E6\n",
    "\n",
    "elasticnet_evaluation = pd.DataFrame({\n",
    "    'model': ['elasticnet'],\n",
    "    'r2': [elasticnet_r2],\n",
    "    'r2_adj': [elasticnet_r2_adj],\n",
    "    'rmse': [elasticnet_rmse],\n",
    "    'seconds': [elasticnet_seconds]\n",
    "})\n",
    "\n",
    "elasticnet_evaluation"
   ]
  },
  {
   "cell_type": "code",
   "execution_count": 40,
   "metadata": {},
   "outputs": [],
   "source": [
    "joblib.dump(elasticnet_model, '../models/models/elasticnet_model.pkl')\n",
    "elasticnet_evaluation.to_csv(os.path.join(\"../models/evaluation/\", \"elasticnet_evaluation.csv\"), index=False)\n",
    "elasticnet_res = pd.DataFrame(elasticnet_pred)\n",
    "elasticnet_res.index = X_test.index\n",
    "elasticnet_res.columns = [\"prediction\"]\n",
    "elasticnet_res.to_csv(\"../models/predictions/elasticnet_prediction.csv\")"
   ]
  },
  {
   "cell_type": "markdown",
   "metadata": {},
   "source": [
    "## 2.3. Gaussian Process Regression"
   ]
  },
  {
   "cell_type": "markdown",
   "metadata": {},
   "source": [
    "## 2.4. Bayesian Linear Regression"
   ]
  },
  {
   "cell_type": "markdown",
   "metadata": {},
   "source": [
    "## 2.5. Robust Regression"
   ]
  },
  {
   "cell_type": "markdown",
   "metadata": {},
   "source": [
    "### 2.5.1. Huber Regression"
   ]
  },
  {
   "cell_type": "markdown",
   "metadata": {},
   "source": [
    "Start the huber regression hyperparameter optimization with an initial rough exploration of the hyperparameter space using Optuna's TPESampler algorithm (Tree-Structured Parzen Estimator), covering a wide range of values for the hyperparameters \"alpha\" and \"epsilon\". This preliminary search helps to identify a suitable range for subsequent fine-tuning within the optimal parameter space. A 5-fold cross-validation strategy is used to optimize computational efficiency, which ensures robust model evaluation while reducing the risk of overfitting. The Root Mean Squared Error (RMSE) is used as a performance evaluation metric. "
   ]
  },
  {
   "cell_type": "code",
   "execution_count": 54,
   "metadata": {},
   "outputs": [],
   "source": [
    "def huber_coarse_objective(trial):\n",
    "    alpha = trial.suggest_float('alpha', 1e-9, 1e9, log=True)\n",
    "    epsilon = trial.suggest_float('epsilon', 1.0, 2.0)\n",
    "    huber = HuberRegressor(alpha=alpha, epsilon=epsilon)\n",
    "    kfolds = KFold(n_splits=5, shuffle=True, random_state=42)\n",
    "    rmse_scores = cross_val_score(huber, X_train, y_train, scoring='neg_root_mean_squared_error', cv=kfolds, n_jobs=-1)\n",
    "    return -rmse_scores.mean()"
   ]
  },
  {
   "cell_type": "code",
   "execution_count": 55,
   "metadata": {},
   "outputs": [
    {
     "name": "stderr",
     "output_type": "stream",
     "text": [
      "[I 2024-02-10 15:47:23,505] A new study created in memory with name: no-name-47385cf4-8fe6-4b75-81f1-82d2eb27299f\n",
      "[I 2024-02-10 15:49:30,618] Trial 0 finished with value: 0.17015942234510364 and parameters: {'alpha': 0.2774699984085081, 'epsilon': 1.519249436181226}. Best is trial 0 with value: 0.17015942234510364.\n",
      "[I 2024-02-10 15:51:30,413] Trial 1 finished with value: 0.1714768544964337 and parameters: {'alpha': 9.775799499879854e-08, 'epsilon': 1.2290931912935026}. Best is trial 0 with value: 0.17015942234510364.\n",
      "[I 2024-02-10 15:53:41,531] Trial 2 finished with value: 0.16982439214150563 and parameters: {'alpha': 0.22676287042545554, 'epsilon': 1.8267688394701462}. Best is trial 2 with value: 0.16982439214150563.\n",
      "[I 2024-02-10 15:55:54,629] Trial 3 finished with value: 0.17027320860399597 and parameters: {'alpha': 3.1321014496836833e-07, 'epsilon': 1.7555549734712543}. Best is trial 2 with value: 0.16982439214150563.\n",
      "[I 2024-02-10 15:58:04,948] Trial 4 finished with value: 0.17030356318401868 and parameters: {'alpha': 0.0704131919475868, 'epsilon': 1.7391566886000884}. Best is trial 2 with value: 0.16982439214150563.\n",
      "[I 2024-02-10 16:00:12,451] Trial 5 finished with value: 0.170072255007298 and parameters: {'alpha': 0.0005541709414891476, 'epsilon': 1.7715477680346516}. Best is trial 2 with value: 0.16982439214150563.\n",
      "[I 2024-02-10 16:00:37,308] Trial 6 finished with value: 0.41733578260187204 and parameters: {'alpha': 7302.00797716347, 'epsilon': 1.2189539253408153}. Best is trial 2 with value: 0.16982439214150563.\n",
      "[I 2024-02-10 16:01:11,908] Trial 7 finished with value: 0.6816947301191714 and parameters: {'alpha': 337506.45712914603, 'epsilon': 1.9691412216114723}. Best is trial 2 with value: 0.16982439214150563.\n",
      "[I 2024-02-10 16:03:19,233] Trial 8 finished with value: 0.17039827167799793 and parameters: {'alpha': 0.010558255774634224, 'epsilon': 1.690776817406741}. Best is trial 2 with value: 0.16982439214150563.\n",
      "[I 2024-02-10 16:05:41,304] Trial 9 finished with value: 0.17157736313297617 and parameters: {'alpha': 20.979477252849264, 'epsilon': 1.5151379559337288}. Best is trial 2 with value: 0.16982439214150563.\n",
      "[I 2024-02-10 16:06:14,408] Trial 10 finished with value: 0.7108211117995801 and parameters: {'alpha': 683395070.673746, 'epsilon': 1.0061645545302738}. Best is trial 2 with value: 0.16982439214150563.\n",
      "[I 2024-02-10 16:08:25,569] Trial 11 finished with value: 0.16923431638158884 and parameters: {'alpha': 7.37950301489792e-05, 'epsilon': 1.9886807708950724}. Best is trial 11 with value: 0.16923431638158884.\n",
      "[I 2024-02-10 16:10:39,016] Trial 12 finished with value: 0.1694651918829237 and parameters: {'alpha': 2.9211412984681153e-05, 'epsilon': 1.9943181087027557}. Best is trial 11 with value: 0.16923431638158884.\n",
      "[I 2024-02-10 16:12:47,224] Trial 13 finished with value: 0.16943434411739558 and parameters: {'alpha': 1.0530757080550188e-09, 'epsilon': 1.9885557423760372}. Best is trial 11 with value: 0.16923431638158884.\n",
      "[I 2024-02-10 16:14:57,079] Trial 14 finished with value: 0.16971687087997073 and parameters: {'alpha': 1.7222302802036026e-09, 'epsilon': 1.9105705777410327}. Best is trial 11 with value: 0.16923431638158884.\n",
      "[I 2024-02-10 16:17:04,741] Trial 15 finished with value: 0.17000930310591286 and parameters: {'alpha': 1.1074523598280377e-09, 'epsilon': 1.6308953092133633}. Best is trial 11 with value: 0.16923431638158884.\n",
      "[I 2024-02-10 16:19:12,257] Trial 16 finished with value: 0.1695399944885847 and parameters: {'alpha': 1.3024131082866523e-05, 'epsilon': 1.88608724758239}. Best is trial 11 with value: 0.16923431638158884.\n",
      "[I 2024-02-10 16:21:12,544] Trial 17 finished with value: 0.17160200795982386 and parameters: {'alpha': 3.691044973705169e-07, 'epsilon': 1.3081358195483577}. Best is trial 11 with value: 0.16923431638158884.\n",
      "[I 2024-02-10 16:23:16,865] Trial 18 finished with value: 0.17012204089796898 and parameters: {'alpha': 2.8063941907652296e-05, 'epsilon': 1.609421672092024}. Best is trial 11 with value: 0.16923431638158884.\n",
      "[I 2024-02-10 16:25:22,321] Trial 19 finished with value: 0.17018304909094353 and parameters: {'alpha': 2.8198455011986057e-08, 'epsilon': 1.8606944339747558}. Best is trial 11 with value: 0.16923431638158884.\n"
     ]
    },
    {
     "data": {
      "text/plain": [
       "{'alpha': 7.37950301489792e-05, 'epsilon': 1.9886807708950724}"
      ]
     },
     "execution_count": 55,
     "metadata": {},
     "output_type": "execute_result"
    }
   ],
   "source": [
    "huber_coarse_study = optuna.create_study(direction='minimize')\n",
    "huber_coarse_study.optimize(huber_coarse_objective, n_trials=20)\n",
    "huber_coarse_best_params = huber_coarse_study.best_params\n",
    "huber_coarse_best_params"
   ]
  },
  {
   "cell_type": "markdown",
   "metadata": {},
   "source": [
    "The highest test scores were achieved within the alpha range of 10^-6 and epsilon near 2, therefore, proceed with hyperparameter optimization, emphasizing this optimal parameter space."
   ]
  },
  {
   "cell_type": "code",
   "execution_count": 45,
   "metadata": {},
   "outputs": [],
   "source": [
    "def huber_fine_objective(trial):\n",
    "    alpha = trial.suggest_float('alpha', 1e-7, 1e-5, log=True)\n",
    "    epsilon = trial.suggest_float('epsilon', 1.9, 2.0)\n",
    "    huber = HuberRegressor(alpha=alpha, epsilon=epsilon)\n",
    "    kfolds = KFold(n_splits=5, shuffle=True, random_state=42)\n",
    "    rmse_scores = cross_val_score(huber, X_train, y_train, scoring='neg_root_mean_squared_error', cv=kfolds, n_jobs=-1)\n",
    "    return -rmse_scores.mean()"
   ]
  },
  {
   "cell_type": "code",
   "execution_count": 46,
   "metadata": {},
   "outputs": [
    {
     "name": "stderr",
     "output_type": "stream",
     "text": [
      "[I 2024-02-10 14:25:45,437] A new study created in memory with name: no-name-277db13d-15d2-452b-91f4-05b591138b2a\n",
      "[I 2024-02-10 14:28:23,261] Trial 0 finished with value: 0.16946093642638044 and parameters: {'alpha': 2.102586098773178e-07, 'epsilon': 1.9317520120367464}. Best is trial 0 with value: 0.16946093642638044.\n",
      "[I 2024-02-10 14:30:28,051] Trial 1 finished with value: 0.16974317582031384 and parameters: {'alpha': 1.9436391916273176e-07, 'epsilon': 1.9107556093185707}. Best is trial 0 with value: 0.16946093642638044.\n",
      "[I 2024-02-10 14:32:34,315] Trial 2 finished with value: 0.16953010917304015 and parameters: {'alpha': 2.301815405272179e-06, 'epsilon': 1.905033163742058}. Best is trial 0 with value: 0.16946093642638044.\n",
      "[I 2024-02-10 14:34:33,496] Trial 3 finished with value: 0.16966976655452734 and parameters: {'alpha': 3.356769436674778e-06, 'epsilon': 1.9473879754958292}. Best is trial 0 with value: 0.16946093642638044.\n",
      "[I 2024-02-10 14:36:35,010] Trial 4 finished with value: 0.16922765585564442 and parameters: {'alpha': 3.7073096832852122e-06, 'epsilon': 1.9540079080431}. Best is trial 4 with value: 0.16922765585564442.\n",
      "[I 2024-02-10 14:38:35,826] Trial 5 finished with value: 0.16942797901372325 and parameters: {'alpha': 9.330137945313375e-07, 'epsilon': 1.955646440724383}. Best is trial 4 with value: 0.16922765585564442.\n",
      "[I 2024-02-10 14:40:36,199] Trial 6 finished with value: 0.16939158131355123 and parameters: {'alpha': 6.865079761948513e-07, 'epsilon': 1.9773210184585013}. Best is trial 4 with value: 0.16922765585564442.\n",
      "[I 2024-02-10 14:42:37,046] Trial 7 finished with value: 0.16941457665618806 and parameters: {'alpha': 4.574028083149486e-06, 'epsilon': 1.940037621821646}. Best is trial 4 with value: 0.16922765585564442.\n",
      "[I 2024-02-10 14:44:38,882] Trial 8 finished with value: 0.16933531921949987 and parameters: {'alpha': 1.2720554262357714e-06, 'epsilon': 1.9487695954769726}. Best is trial 4 with value: 0.16922765585564442.\n",
      "[I 2024-02-10 14:46:38,966] Trial 9 finished with value: 0.16957630074956415 and parameters: {'alpha': 3.7236099422569674e-06, 'epsilon': 1.980517614085017}. Best is trial 4 with value: 0.16922765585564442.\n",
      "[I 2024-02-10 14:48:40,870] Trial 10 finished with value: 0.16921927225422212 and parameters: {'alpha': 8.627070834562276e-06, 'epsilon': 1.995917458517765}. Best is trial 10 with value: 0.16921927225422212.\n",
      "[I 2024-02-10 14:50:38,808] Trial 11 finished with value: 0.16938796828763142 and parameters: {'alpha': 9.136854435750553e-06, 'epsilon': 1.9963534795415259}. Best is trial 10 with value: 0.16921927225422212.\n",
      "[I 2024-02-10 14:52:38,858] Trial 12 finished with value: 0.16967737518259907 and parameters: {'alpha': 7.886152988440147e-06, 'epsilon': 1.9995070689878087}. Best is trial 10 with value: 0.16921927225422212.\n",
      "[I 2024-02-10 14:54:54,958] Trial 13 finished with value: 0.16949166396223964 and parameters: {'alpha': 1.6925231173086753e-06, 'epsilon': 1.9664403768546874}. Best is trial 10 with value: 0.16921927225422212.\n",
      "[I 2024-02-10 14:57:06,718] Trial 14 finished with value: 0.1695112070302357 and parameters: {'alpha': 4.4691130309461986e-07, 'epsilon': 1.9201119001686593}. Best is trial 10 with value: 0.16921927225422212.\n",
      "[I 2024-02-10 14:59:12,961] Trial 15 finished with value: 0.16979681353803583 and parameters: {'alpha': 6.844892803877861e-06, 'epsilon': 1.9808512282372495}. Best is trial 10 with value: 0.16921927225422212.\n",
      "[I 2024-02-10 15:01:21,913] Trial 16 finished with value: 0.16969843302940663 and parameters: {'alpha': 5.019823754025895e-06, 'epsilon': 1.964156609143939}. Best is trial 10 with value: 0.16921927225422212.\n",
      "[I 2024-02-10 15:03:42,789] Trial 17 finished with value: 0.16963643421171734 and parameters: {'alpha': 2.520001250750877e-06, 'epsilon': 1.9266957765677928}. Best is trial 10 with value: 0.16921927225422212.\n",
      "[I 2024-02-10 15:05:52,335] Trial 18 finished with value: 0.1692286120387035 and parameters: {'alpha': 9.104614933675814e-06, 'epsilon': 1.986616205097269}. Best is trial 10 with value: 0.16921927225422212.\n",
      "[I 2024-02-10 15:07:57,811] Trial 19 finished with value: 0.16962897613266864 and parameters: {'alpha': 5.509361416140461e-06, 'epsilon': 1.9659346578804895}. Best is trial 10 with value: 0.16921927225422212.\n"
     ]
    },
    {
     "data": {
      "text/plain": [
       "{'alpha': 8.627070834562276e-06, 'epsilon': 1.995917458517765}"
      ]
     },
     "execution_count": 46,
     "metadata": {},
     "output_type": "execute_result"
    }
   ],
   "source": [
    "huber_fine_study = optuna.create_study(direction='minimize')\n",
    "huber_fine_study.optimize(huber_fine_objective, n_trials=20)\n",
    "huber_fine_best_params = huber_fine_study.best_params\n",
    "huber_fine_best_params"
   ]
  },
  {
   "cell_type": "code",
   "execution_count": 49,
   "metadata": {},
   "outputs": [
    {
     "data": {
      "text/plain": [
       "{'alpha': 8.627070834562276e-06, 'epsilon': 1.995917458517765}"
      ]
     },
     "execution_count": 49,
     "metadata": {},
     "output_type": "execute_result"
    }
   ],
   "source": [
    "huber_fine_best_params"
   ]
  },
  {
   "cell_type": "markdown",
   "metadata": {},
   "source": [
    "Error is minimized at alpha = 8.627070834562276e-06 and epsilon = 1.995917458517765."
   ]
  },
  {
   "cell_type": "markdown",
   "metadata": {},
   "source": [
    "Train the Huber regression model using the optimal hyperparameters, generate predictions for the test data using this trained model, evaluate the prediction performance, and display the results in a DataFrame. Additionally, save the fit-ted model as a pickle file, the model evaluation table, and the predictions as a CSV file."
   ]
  },
  {
   "cell_type": "code",
   "execution_count": 68,
   "metadata": {},
   "outputs": [],
   "source": [
    "huber_model = HuberRegressor(alpha=huber_fine_best_params['alpha'], epsilon=huber_fine_best_params['epsilon'], max_iter=10000)\n",
    "huber_start = datetime.now()\n",
    "huber_model.fit(X_train, y_train.values.ravel())\n",
    "huber_pred = huber_model.predict(X_test)\n",
    "huber_stop = datetime.now()\n",
    "huber_delta = huber_stop - huber_start"
   ]
  },
  {
   "cell_type": "code",
   "execution_count": 69,
   "metadata": {},
   "outputs": [
    {
     "data": {
      "text/html": [
       "<div>\n",
       "<style scoped>\n",
       "    .dataframe tbody tr th:only-of-type {\n",
       "        vertical-align: middle;\n",
       "    }\n",
       "\n",
       "    .dataframe tbody tr th {\n",
       "        vertical-align: top;\n",
       "    }\n",
       "\n",
       "    .dataframe thead th {\n",
       "        text-align: right;\n",
       "    }\n",
       "</style>\n",
       "<table border=\"1\" class=\"dataframe\">\n",
       "  <thead>\n",
       "    <tr style=\"text-align: right;\">\n",
       "      <th></th>\n",
       "      <th>model</th>\n",
       "      <th>r2</th>\n",
       "      <th>r2_adj</th>\n",
       "      <th>rmse</th>\n",
       "      <th>seconds</th>\n",
       "    </tr>\n",
       "  </thead>\n",
       "  <tbody>\n",
       "    <tr>\n",
       "      <th>0</th>\n",
       "      <td>huber</td>\n",
       "      <td>0.950388</td>\n",
       "      <td>0.944858</td>\n",
       "      <td>4107.468443</td>\n",
       "      <td>1056.937912</td>\n",
       "    </tr>\n",
       "  </tbody>\n",
       "</table>\n",
       "</div>"
      ],
      "text/plain": [
       "   model        r2    r2_adj         rmse      seconds\n",
       "0  huber  0.950388  0.944858  4107.468443  1056.937912"
      ]
     },
     "execution_count": 69,
     "metadata": {},
     "output_type": "execute_result"
    }
   ],
   "source": [
    "huber_pred_inverse = np.expm1(huber_pred)\n",
    "\n",
    "huber_r2 = r2_score(y_test, huber_pred_inverse)\n",
    "huber_r2_adj = 1 - (1 - huber_r2) * ((len(X_test) - 1) / (len(X_test) - len(X_test.columns) - 1))\n",
    "huber_rmse = np.sqrt(mean_squared_error(y_test, huber_pred_inverse))\n",
    "huber_seconds = huber_delta.seconds + huber_delta.microseconds/1E6\n",
    "\n",
    "huber_evaluation = pd.DataFrame({\n",
    "    'model': ['huber'],\n",
    "    'r2': [huber_r2],\n",
    "    'r2_adj': [huber_r2_adj],\n",
    "    'rmse': [huber_rmse],\n",
    "    'seconds': [huber_seconds]\n",
    "})\n",
    "\n",
    "huber_evaluation"
   ]
  },
  {
   "cell_type": "code",
   "execution_count": 70,
   "metadata": {},
   "outputs": [],
   "source": [
    "joblib.dump(huber_model, '../models/models/huber_model.pkl')\n",
    "huber_evaluation.to_csv(os.path.join(\"../models/evaluation/\", \"huber_evaluation.csv\"), index=False)\n",
    "huber_res = pd.DataFrame(huber_pred)\n",
    "huber_res.index = X_test.index\n",
    "huber_res.columns = [\"prediction\"]\n",
    "huber_res.to_csv(\"../models/predictions/huber_prediction.csv\")"
   ]
  },
  {
   "cell_type": "markdown",
   "metadata": {},
   "source": [
    "### 2.5.2. Quantile Regression"
   ]
  },
  {
   "cell_type": "markdown",
   "metadata": {},
   "source": [
    "Start the Quantile regression hyperparameter optimization with an initial rough exploration of the hyperparameter space using Optuna's TPESampler algorithm (Tree-Structured Parzen Estimator), covering a wide range of values for the hyperparameters \"alpha\" and \"epsilon\". This preliminary search helps to identify a suitable range for subsequent fine-tuning within the optimal parameter space. A 5-fold cross-validation strategy is used to optimize computational efficiency, which ensures robust model evaluation while reducing the risk of overfitting. The Root Mean Squared Error (RMSE) is used as a performance evaluation metric. "
   ]
  },
  {
   "cell_type": "code",
   "execution_count": 72,
   "metadata": {},
   "outputs": [],
   "source": [
    "def quantile_coarse_objective(trial):\n",
    "    alpha = trial.suggest_float('alpha', 1e-9, 1e9, log=True)\n",
    "    quantile = trial.suggest_float('quantile', 0, 1.0)\n",
    "    quantile_regressor = QuantileRegressor(alpha=alpha, quantile=quantile)\n",
    "    kfolds = KFold(n_splits=5, shuffle=True, random_state=42)\n",
    "    rmse_scores = cross_val_score(quantile_regressor, X_train, y_train, scoring='neg_root_mean_squared_error', cv=kfolds, n_jobs=-1)\n",
    "    return -rmse_scores.mean()"
   ]
  },
  {
   "cell_type": "code",
   "execution_count": 74,
   "metadata": {},
   "outputs": [
    {
     "name": "stderr",
     "output_type": "stream",
     "text": [
      "[I 2024-02-10 19:48:21,322] A new study created in memory with name: no-name-44941ee8-d115-4e8a-a87a-071283512174\n",
      "[I 2024-02-10 19:52:14,654] Trial 0 finished with value: 0.1972568877155163 and parameters: {'alpha': 1.484268718308485e-05, 'quantile': 0.22936699901226265}. Best is trial 0 with value: 0.1972568877155163.\n",
      "[I 2024-02-10 19:53:41,543] Trial 1 finished with value: 0.8930991022683878 and parameters: {'alpha': 13497871.075306997, 'quantile': 0.7816180825835011}. Best is trial 0 with value: 0.1972568877155163.\n",
      "[I 2024-02-10 19:57:09,497] Trial 2 finished with value: 0.16749112269001215 and parameters: {'alpha': 4.302528127718235e-06, 'quantile': 0.5536598113738292}. Best is trial 2 with value: 0.16749112269001215.\n",
      "[I 2024-02-10 19:58:14,089] Trial 3 finished with value: 1.1664174837436694 and parameters: {'alpha': 0.17266249627736224, 'quantile': 0.058166990855073486}. Best is trial 2 with value: 0.16749112269001215.\n",
      "[I 2024-02-10 19:59:15,775] Trial 4 finished with value: 1.438284981149006 and parameters: {'alpha': 9.856518698465962, 'quantile': 0.9525814490208674}. Best is trial 2 with value: 0.16749112269001215.\n",
      "[I 2024-02-10 20:01:16,902] Trial 5 finished with value: 0.7113954835483058 and parameters: {'alpha': 261916.06571360774, 'quantile': 0.4933847219967691}. Best is trial 2 with value: 0.16749112269001215.\n",
      "[I 2024-02-10 20:03:44,457] Trial 6 finished with value: 0.27997990186929356 and parameters: {'alpha': 0.012243037997549486, 'quantile': 0.3502994590282257}. Best is trial 2 with value: 0.16749112269001215.\n",
      "[I 2024-02-10 20:05:05,149] Trial 7 finished with value: 1.0149237708846415 and parameters: {'alpha': 3.288516650114552, 'quantile': 0.8364697406279757}. Best is trial 2 with value: 0.16749112269001215.\n",
      "[I 2024-02-10 20:06:20,395] Trial 8 finished with value: 1.0134349543568402 and parameters: {'alpha': 82.05546412834175, 'quantile': 0.12278919028853508}. Best is trial 2 with value: 0.16749112269001215.\n",
      "[I 2024-02-10 20:08:11,230] Trial 9 finished with value: 0.7013366926656063 and parameters: {'alpha': 171.2270625063646, 'quantile': 0.5591551655347065}. Best is trial 2 with value: 0.16749112269001215.\n",
      "[I 2024-02-10 20:11:43,696] Trial 10 finished with value: 0.17365450227816331 and parameters: {'alpha': 2.601388009488819e-09, 'quantile': 0.6247534455001972}. Best is trial 2 with value: 0.16749112269001215.\n",
      "[I 2024-02-10 20:15:01,976] Trial 11 finished with value: 0.17352485991327526 and parameters: {'alpha': 4.2292440174547056e-09, 'quantile': 0.6231847834886124}. Best is trial 2 with value: 0.16749112269001215.\n",
      "[I 2024-02-10 20:18:32,876] Trial 12 finished with value: 0.182991354154344 and parameters: {'alpha': 4.148653189823318e-08, 'quantile': 0.6883927376330687}. Best is trial 2 with value: 0.16749112269001215.\n",
      "[I 2024-02-10 20:21:58,533] Trial 13 finished with value: 0.1668546170405898 and parameters: {'alpha': 1.110326963289598e-05, 'quantile': 0.42712470981811507}. Best is trial 13 with value: 0.1668546170405898.\n",
      "[I 2024-02-10 20:25:20,651] Trial 14 finished with value: 0.1787144254114227 and parameters: {'alpha': 5.7571024893683396e-05, 'quantile': 0.3633013301183305}. Best is trial 13 with value: 0.1668546170405898.\n",
      "[I 2024-02-10 20:28:47,108] Trial 15 finished with value: 0.1715989094492601 and parameters: {'alpha': 4.771156575419688e-05, 'quantile': 0.41226927014435566}. Best is trial 13 with value: 0.1668546170405898.\n",
      "[I 2024-02-10 20:32:13,782] Trial 16 finished with value: 0.16554867016925426 and parameters: {'alpha': 2.5148222550759484e-06, 'quantile': 0.472165721106035}. Best is trial 16 with value: 0.16554867016925426.\n",
      "[I 2024-02-10 20:35:07,111] Trial 17 finished with value: 0.2644832264884549 and parameters: {'alpha': 0.004495982668125725, 'quantile': 0.24789432868106448}. Best is trial 16 with value: 0.16554867016925426.\n",
      "[I 2024-02-10 20:38:32,305] Trial 18 finished with value: 0.19472997935906194 and parameters: {'alpha': 4.2283930807883195e-07, 'quantile': 0.23715425997807787}. Best is trial 16 with value: 0.16554867016925426.\n",
      "[I 2024-02-10 20:41:41,675] Trial 19 finished with value: 0.19716926773204163 and parameters: {'alpha': 0.0007118844674340887, 'quantile': 0.4247555375884514}. Best is trial 16 with value: 0.16554867016925426.\n"
     ]
    },
    {
     "data": {
      "text/plain": [
       "{'alpha': 2.5148222550759484e-06, 'quantile': 0.472165721106035}"
      ]
     },
     "execution_count": 74,
     "metadata": {},
     "output_type": "execute_result"
    }
   ],
   "source": [
    "quantile_coarse_study = optuna.create_study(direction='minimize')\n",
    "quantile_coarse_study.optimize(quantile_coarse_objective, n_trials=20)\n",
    "quantile_coarse_best_params = quantile_coarse_study.best_params\n",
    "quantile_coarse_best_params"
   ]
  },
  {
   "cell_type": "markdown",
   "metadata": {},
   "source": [
    "The highest test scores were achieved within the alpha range of 10^-6 and quantile near 50%, therefore, proceed with hyperparameter optimization, emphasizing this optimal parameter space."
   ]
  },
  {
   "cell_type": "code",
   "execution_count": 75,
   "metadata": {},
   "outputs": [],
   "source": [
    "def quantile_fine_objective(trial):\n",
    "    alpha = trial.suggest_float('alpha', 1e-7, 1e-5, log=True)\n",
    "    quantile = trial.suggest_float('quantile', 0.4, 0.6)\n",
    "    quantile_regressor = QuantileRegressor(alpha=alpha, quantile=quantile)\n",
    "    kfolds = KFold(n_splits=5, shuffle=True, random_state=42)\n",
    "    rmse_scores = cross_val_score(quantile_regressor, X_train, y_train, scoring='neg_root_mean_squared_error', cv=kfolds, n_jobs=-1)\n",
    "    return -rmse_scores.mean()"
   ]
  },
  {
   "cell_type": "code",
   "execution_count": 76,
   "metadata": {},
   "outputs": [
    {
     "name": "stderr",
     "output_type": "stream",
     "text": [
      "[I 2024-02-10 21:18:57,987] A new study created in memory with name: no-name-44f01fe2-420c-4b75-acc5-7a64e4feb4ef\n",
      "[I 2024-02-10 21:22:39,238] Trial 0 finished with value: 0.1689371778717976 and parameters: {'alpha': 7.113259094226004e-06, 'quantile': 0.5773948560320911}. Best is trial 0 with value: 0.1689371778717976.\n",
      "[I 2024-02-10 21:26:09,335] Trial 1 finished with value: 0.16542629369480316 and parameters: {'alpha': 1.1264750222011006e-06, 'quantile': 0.5030638204633192}. Best is trial 1 with value: 0.16542629369480316.\n",
      "[I 2024-02-10 21:29:45,033] Trial 2 finished with value: 0.16593816380258478 and parameters: {'alpha': 8.917089108907226e-07, 'quantile': 0.4563644388645848}. Best is trial 1 with value: 0.16542629369480316.\n",
      "[I 2024-02-10 21:33:18,550] Trial 3 finished with value: 0.16567255173782647 and parameters: {'alpha': 3.5417794742522604e-06, 'quantile': 0.46351084921808444}. Best is trial 1 with value: 0.16542629369480316.\n",
      "[I 2024-02-10 21:36:48,664] Trial 4 finished with value: 0.1660983313395736 and parameters: {'alpha': 4.948669532017241e-07, 'quantile': 0.4515978513039252}. Best is trial 1 with value: 0.16542629369480316.\n",
      "[I 2024-02-10 21:40:21,596] Trial 5 finished with value: 0.16681610022891863 and parameters: {'alpha': 1.3936569324013159e-06, 'quantile': 0.5384490552708573}. Best is trial 1 with value: 0.16542629369480316.\n",
      "[I 2024-02-10 21:43:48,277] Trial 6 finished with value: 0.16562121416063266 and parameters: {'alpha': 4.611733799739779e-07, 'quantile': 0.48374703027324134}. Best is trial 1 with value: 0.16542629369480316.\n",
      "[I 2024-02-10 21:47:17,744] Trial 7 finished with value: 0.16543843511452233 and parameters: {'alpha': 9.571888230215298e-07, 'quantile': 0.4965692758651388}. Best is trial 1 with value: 0.16542629369480316.\n",
      "[I 2024-02-10 21:50:54,842] Trial 8 finished with value: 0.16744952257608142 and parameters: {'alpha': 5.907301028802897e-06, 'quantile': 0.5521081426420137}. Best is trial 1 with value: 0.16542629369480316.\n",
      "[I 2024-02-10 21:54:26,967] Trial 9 finished with value: 0.1679294083029349 and parameters: {'alpha': 4.280319412415087e-06, 'quantile': 0.4073225086926277}. Best is trial 1 with value: 0.16542629369480316.\n",
      "[I 2024-02-10 21:57:56,069] Trial 10 finished with value: 0.1666298377514308 and parameters: {'alpha': 1.1197776417210676e-07, 'quantile': 0.5282865128023262}. Best is trial 1 with value: 0.16542629369480316.\n",
      "[I 2024-02-10 22:01:29,257] Trial 11 finished with value: 0.165611566316522 and parameters: {'alpha': 1.9209245337351823e-06, 'quantile': 0.5079970190918746}. Best is trial 1 with value: 0.16542629369480316.\n",
      "[I 2024-02-10 22:04:55,492] Trial 12 finished with value: 0.16555700001315635 and parameters: {'alpha': 5.550722038947613e-07, 'quantile': 0.49621966420922403}. Best is trial 1 with value: 0.16542629369480316.\n",
      "[I 2024-02-10 22:08:24,794] Trial 13 finished with value: 0.16733538760265115 and parameters: {'alpha': 2.1220814224371208e-07, 'quantile': 0.4223749825973173}. Best is trial 1 with value: 0.16542629369480316.\n",
      "[I 2024-02-10 22:11:53,333] Trial 14 finished with value: 0.17011809776813194 and parameters: {'alpha': 2.2521675250812716e-06, 'quantile': 0.5907516530855162}. Best is trial 1 with value: 0.16542629369480316.\n",
      "[I 2024-02-10 22:15:45,505] Trial 15 finished with value: 0.16608279478611213 and parameters: {'alpha': 9.048081353345289e-07, 'quantile': 0.515885740661704}. Best is trial 1 with value: 0.16542629369480316.\n",
      "[I 2024-02-10 22:19:16,098] Trial 16 finished with value: 0.1657168007530514 and parameters: {'alpha': 2.494891040168942e-07, 'quantile': 0.4814209366674397}. Best is trial 1 with value: 0.16542629369480316.\n",
      "[I 2024-02-10 22:22:45,983] Trial 17 finished with value: 0.16759196903381143 and parameters: {'alpha': 1.3551971908380145e-06, 'quantile': 0.5553309014571175}. Best is trial 1 with value: 0.16542629369480316.\n",
      "[I 2024-02-10 22:26:12,755] Trial 18 finished with value: 0.16656221628213658 and parameters: {'alpha': 2.4126775141128605e-06, 'quantile': 0.4336855858774744}. Best is trial 1 with value: 0.16542629369480316.\n",
      "[I 2024-02-10 22:29:49,610] Trial 19 finished with value: 0.16565209172046175 and parameters: {'alpha': 3.0880596889690213e-07, 'quantile': 0.4790372060498792}. Best is trial 1 with value: 0.16542629369480316.\n"
     ]
    },
    {
     "data": {
      "text/plain": [
       "{'alpha': 1.1264750222011006e-06, 'quantile': 0.5030638204633192}"
      ]
     },
     "execution_count": 76,
     "metadata": {},
     "output_type": "execute_result"
    }
   ],
   "source": [
    "quantile_fine_study = optuna.create_study(direction='minimize')\n",
    "quantile_fine_study.optimize(quantile_fine_objective, n_trials=20)\n",
    "quantile_fine_best_params = quantile_fine_study.best_params\n",
    "quantile_fine_best_params"
   ]
  },
  {
   "cell_type": "markdown",
   "metadata": {},
   "source": [
    "Error is minimized at alpha = 1.1264750222011006e-06 and quantile = 0.5030638204633192."
   ]
  },
  {
   "cell_type": "markdown",
   "metadata": {},
   "source": [
    "Train the quantile regression model using the optimal hyperparameters, generate predictions for the test data using this trained model, evaluate the prediction performance, and display the results in a DataFrame. Additionally, save the fit-ted model as a pickle file, the model evaluation table, and the predictions as a CSV file."
   ]
  },
  {
   "cell_type": "code",
   "execution_count": 78,
   "metadata": {},
   "outputs": [
    {
     "name": "stderr",
     "output_type": "stream",
     "text": [
      "c:\\Sync\\03_projects\\data_science\\projects\\autoscout24-car-price-prediction\\envs\\Lib\\site-packages\\sklearn\\utils\\validation.py:1229: DataConversionWarning: A column-vector y was passed when a 1d array was expected. Please change the shape of y to (n_samples, ), for example using ravel().\n",
      "  y = column_or_1d(y, warn=True)\n"
     ]
    }
   ],
   "source": [
    "quantile_model = QuantileRegressor(alpha=quantile_fine_best_params['alpha'], quantile=quantile_fine_best_params['quantile'])\n",
    "quantile_start = datetime.now()\n",
    "quantile_model.fit(X_train, y_train)\n",
    "quantile_pred = quantile_model.predict(X_test)\n",
    "quantile_stop = datetime.now()\n",
    "quantile_delta = quantile_stop - quantile_start"
   ]
  },
  {
   "cell_type": "code",
   "execution_count": 79,
   "metadata": {},
   "outputs": [
    {
     "data": {
      "text/html": [
       "<div>\n",
       "<style scoped>\n",
       "    .dataframe tbody tr th:only-of-type {\n",
       "        vertical-align: middle;\n",
       "    }\n",
       "\n",
       "    .dataframe tbody tr th {\n",
       "        vertical-align: top;\n",
       "    }\n",
       "\n",
       "    .dataframe thead th {\n",
       "        text-align: right;\n",
       "    }\n",
       "</style>\n",
       "<table border=\"1\" class=\"dataframe\">\n",
       "  <thead>\n",
       "    <tr style=\"text-align: right;\">\n",
       "      <th></th>\n",
       "      <th>model</th>\n",
       "      <th>r2</th>\n",
       "      <th>r2_adj</th>\n",
       "      <th>rmse</th>\n",
       "      <th>seconds</th>\n",
       "    </tr>\n",
       "  </thead>\n",
       "  <tbody>\n",
       "    <tr>\n",
       "      <th>0</th>\n",
       "      <td>quantile</td>\n",
       "      <td>0.952018</td>\n",
       "      <td>0.94667</td>\n",
       "      <td>4039.448262</td>\n",
       "      <td>110.754906</td>\n",
       "    </tr>\n",
       "  </tbody>\n",
       "</table>\n",
       "</div>"
      ],
      "text/plain": [
       "      model        r2   r2_adj         rmse     seconds\n",
       "0  quantile  0.952018  0.94667  4039.448262  110.754906"
      ]
     },
     "execution_count": 79,
     "metadata": {},
     "output_type": "execute_result"
    }
   ],
   "source": [
    "quantile_pred_inverse = np.expm1(quantile_pred)\n",
    "\n",
    "quantile_r2 = r2_score(y_test, quantile_pred_inverse)\n",
    "quantile_r2_adj = 1 - (1 - quantile_r2) * ((len(X_test) - 1) / (len(X_test) - len(X_test.columns) - 1))\n",
    "quantile_rmse = np.sqrt(mean_squared_error(y_test, quantile_pred_inverse))\n",
    "quantile_seconds = quantile_delta.seconds + quantile_delta.microseconds/1E6\n",
    "\n",
    "quantile_evaluation = pd.DataFrame({\n",
    "    'model': ['quantile'],\n",
    "    'r2': [quantile_r2],\n",
    "    'r2_adj': [quantile_r2_adj],\n",
    "    'rmse': [quantile_rmse],\n",
    "    'seconds': [quantile_seconds]\n",
    "})\n",
    "\n",
    "quantile_evaluation"
   ]
  },
  {
   "cell_type": "code",
   "execution_count": 80,
   "metadata": {},
   "outputs": [],
   "source": [
    "joblib.dump(quantile_model, '../models/models/quantile_model.pkl')\n",
    "quantile_evaluation.to_csv(os.path.join(\"../models/evaluation/\", \"quantile_evaluation.csv\"), index=False)\n",
    "quantile_res = pd.DataFrame(quantile_pred)\n",
    "quantile_res.index = X_test.index\n",
    "quantile_res.columns = [\"prediction\"]\n",
    "quantile_res.to_csv(\"../models/predictions/quantile_prediction.csv\")"
   ]
  },
  {
   "cell_type": "markdown",
   "metadata": {},
   "source": [
    "### 2.5.3. RANSAC Regression"
   ]
  },
  {
   "cell_type": "markdown",
   "metadata": {},
   "source": [
    "### 2.5.4. Theil Sen Regression"
   ]
  },
  {
   "cell_type": "markdown",
   "metadata": {},
   "source": [
    "## 2.6. K-Nearest Neighbors Regression"
   ]
  },
  {
   "cell_type": "markdown",
   "metadata": {},
   "source": [
    "Start the k-Nearest Neighbors Regression (KNN) (hyper)parameter optimization with an initial rough exploration of the hyperparameter space using Optuna's TPESampler algorithm (Tree-Structured Parzen Estimator), covering a wide range of values for the hyperparameter \"n_neighbors\", \"metric\", \"weights\". This preliminary search helps to identify a suitable range for subsequent fine-tuning within the optimal parameter space. A 5-fold cross-validation strategy is used to optimize computational efficiency, which ensures robust model evaluation while reducing the risk of overfitting. The Root Mean Squared Error (RMSE) is used as a performance evaluation metric. "
   ]
  },
  {
   "cell_type": "code",
   "execution_count": 15,
   "metadata": {},
   "outputs": [],
   "source": [
    "def knn_coarse_objective(trial):\n",
    "    n_neighbors = trial.suggest_int('n_neighbors', 1, 100)\n",
    "    metric = trial.suggest_categorical('metric', ['euclidean', 'manhattan', 'cosine'])\n",
    "    weights = trial.suggest_categorical('weights', ['uniform', 'distance'])\n",
    "    knn = KNeighborsRegressor(n_neighbors=n_neighbors, metric=metric, weights=weights)\n",
    "    kfolds = KFold(n_splits=5, shuffle=True, random_state=42)\n",
    "    rmse_scores = cross_val_score(knn, X_train, y_train, scoring='neg_root_mean_squared_error', cv=kfolds, n_jobs=1)\n",
    "    return -rmse_scores.mean()"
   ]
  },
  {
   "cell_type": "code",
   "execution_count": 16,
   "metadata": {},
   "outputs": [
    {
     "name": "stderr",
     "output_type": "stream",
     "text": [
      "[I 2024-02-12 12:51:40,678] A new study created in memory with name: no-name-c44fdcdb-d356-4703-96a7-bfb74ed1bfc2\n",
      "[I 2024-02-12 12:53:49,544] Trial 0 finished with value: 0.2261274055871673 and parameters: {'n_neighbors': 95, 'metric': 'euclidean', 'weights': 'distance'}. Best is trial 0 with value: 0.2261274055871673.\n",
      "[I 2024-02-12 12:55:04,637] Trial 1 finished with value: 0.2091143201231799 and parameters: {'n_neighbors': 51, 'metric': 'euclidean', 'weights': 'distance'}. Best is trial 1 with value: 0.2091143201231799.\n",
      "[I 2024-02-12 12:55:53,572] Trial 2 finished with value: 0.19542551131956953 and parameters: {'n_neighbors': 6, 'metric': 'euclidean', 'weights': 'uniform'}. Best is trial 2 with value: 0.19542551131956953.\n",
      "[I 2024-02-12 12:56:57,028] Trial 3 finished with value: 0.18298070254262128 and parameters: {'n_neighbors': 8, 'metric': 'cosine', 'weights': 'distance'}. Best is trial 3 with value: 0.18298070254262128.\n",
      "[I 2024-02-12 13:11:25,748] Trial 4 finished with value: 0.21850975797905042 and parameters: {'n_neighbors': 94, 'metric': 'manhattan', 'weights': 'distance'}. Best is trial 3 with value: 0.18298070254262128.\n",
      "[I 2024-02-12 13:27:33,554] Trial 5 finished with value: 0.18919294070762005 and parameters: {'n_neighbors': 22, 'metric': 'manhattan', 'weights': 'distance'}. Best is trial 3 with value: 0.18298070254262128.\n",
      "[I 2024-02-12 13:41:58,402] Trial 6 finished with value: 0.21990035683452872 and parameters: {'n_neighbors': 100, 'metric': 'manhattan', 'weights': 'distance'}. Best is trial 3 with value: 0.18298070254262128.\n",
      "[I 2024-02-12 13:42:47,915] Trial 7 finished with value: 0.1995847852379531 and parameters: {'n_neighbors': 34, 'metric': 'euclidean', 'weights': 'distance'}. Best is trial 3 with value: 0.18298070254262128.\n",
      "[I 2024-02-12 13:43:36,574] Trial 8 finished with value: 0.2091143201231799 and parameters: {'n_neighbors': 51, 'metric': 'euclidean', 'weights': 'distance'}. Best is trial 3 with value: 0.18298070254262128.\n",
      "[I 2024-02-12 13:58:04,566] Trial 9 finished with value: 0.28260587184332203 and parameters: {'n_neighbors': 72, 'metric': 'manhattan', 'weights': 'uniform'}. Best is trial 3 with value: 0.18298070254262128.\n",
      "[I 2024-02-12 13:58:58,598] Trial 10 finished with value: 0.20624434726797744 and parameters: {'n_neighbors': 1, 'metric': 'cosine', 'weights': 'uniform'}. Best is trial 3 with value: 0.18298070254262128.\n",
      "[I 2024-02-12 14:00:03,387] Trial 11 finished with value: 0.18515582839132794 and parameters: {'n_neighbors': 22, 'metric': 'cosine', 'weights': 'distance'}. Best is trial 3 with value: 0.18298070254262128.\n",
      "[I 2024-02-12 14:01:08,253] Trial 12 finished with value: 0.18515582839132794 and parameters: {'n_neighbors': 22, 'metric': 'cosine', 'weights': 'distance'}. Best is trial 3 with value: 0.18298070254262128.\n",
      "[I 2024-02-12 14:02:12,693] Trial 13 finished with value: 0.18437156079287673 and parameters: {'n_neighbors': 17, 'metric': 'cosine', 'weights': 'distance'}. Best is trial 3 with value: 0.18298070254262128.\n",
      "[I 2024-02-12 14:03:15,834] Trial 14 finished with value: 0.26145136059935126 and parameters: {'n_neighbors': 40, 'metric': 'cosine', 'weights': 'uniform'}. Best is trial 3 with value: 0.18298070254262128.\n",
      "[I 2024-02-12 14:04:18,244] Trial 15 finished with value: 0.18335958188419776 and parameters: {'n_neighbors': 12, 'metric': 'cosine', 'weights': 'distance'}. Best is trial 3 with value: 0.18298070254262128.\n",
      "[I 2024-02-12 14:05:21,632] Trial 16 finished with value: 0.19088584433774752 and parameters: {'n_neighbors': 64, 'metric': 'cosine', 'weights': 'distance'}. Best is trial 3 with value: 0.18298070254262128.\n",
      "[I 2024-02-12 14:06:25,207] Trial 17 finished with value: 0.1830570101188909 and parameters: {'n_neighbors': 10, 'metric': 'cosine', 'weights': 'distance'}. Best is trial 3 with value: 0.18298070254262128.\n",
      "[I 2024-02-12 14:07:27,898] Trial 18 finished with value: 0.2560657574748075 and parameters: {'n_neighbors': 35, 'metric': 'cosine', 'weights': 'uniform'}. Best is trial 3 with value: 0.18298070254262128.\n",
      "[I 2024-02-12 14:08:21,679] Trial 19 finished with value: 0.20624434726797744 and parameters: {'n_neighbors': 1, 'metric': 'cosine', 'weights': 'distance'}. Best is trial 3 with value: 0.18298070254262128.\n"
     ]
    },
    {
     "data": {
      "text/plain": [
       "{'n_neighbors': 8, 'metric': 'cosine', 'weights': 'distance'}"
      ]
     },
     "execution_count": 16,
     "metadata": {},
     "output_type": "execute_result"
    }
   ],
   "source": [
    "knn_coarse_study = optuna.create_study(direction='minimize')\n",
    "knn_coarse_study.optimize(knn_coarse_objective, n_trials=20)\n",
    "knn_coarse_best_params = knn_coarse_study.best_params\n",
    "knn_coarse_best_params"
   ]
  },
  {
   "cell_type": "markdown",
   "metadata": {},
   "source": [
    "The highest test scores were achieved at  n_neighbors < 25, a metric of either cosine or manhattan, and weights based on distance. Therefore, proceed with hyperparameter optimization, emphasizing this optimal parameter space."
   ]
  },
  {
   "cell_type": "code",
   "execution_count": 17,
   "metadata": {},
   "outputs": [],
   "source": [
    "def knn_fine_objective(trial):\n",
    "    n_neighbors = trial.suggest_int('n_neighbors', 1, 25)\n",
    "    metric = trial.suggest_categorical('metric', ['manhattan', 'cosine'])\n",
    "    weights = trial.suggest_categorical('weights', ['distance'])\n",
    "    knn = KNeighborsRegressor(n_neighbors=n_neighbors, metric=metric, weights=weights)\n",
    "    kfolds = KFold(n_splits=5, shuffle=True, random_state=42)\n",
    "    rmse_scores = cross_val_score(knn, X_train, y_train, scoring='neg_root_mean_squared_error', cv=kfolds, n_jobs=1)\n",
    "    return -rmse_scores.mean()"
   ]
  },
  {
   "cell_type": "code",
   "execution_count": 18,
   "metadata": {},
   "outputs": [
    {
     "name": "stderr",
     "output_type": "stream",
     "text": [
      "[I 2024-02-12 14:20:42,627] A new study created in memory with name: no-name-690b2630-1c27-44bb-b8e4-7aec5666ce27\n",
      "[I 2024-02-12 14:21:50,264] Trial 0 finished with value: 0.18301881387123556 and parameters: {'n_neighbors': 9, 'metric': 'cosine', 'weights': 'distance'}. Best is trial 0 with value: 0.18301881387123556.\n",
      "[I 2024-02-12 14:38:46,774] Trial 1 finished with value: 0.18976022309971669 and parameters: {'n_neighbors': 23, 'metric': 'manhattan', 'weights': 'distance'}. Best is trial 0 with value: 0.18301881387123556.\n",
      "[I 2024-02-12 14:39:42,554] Trial 2 finished with value: 0.19082744487686298 and parameters: {'n_neighbors': 2, 'metric': 'cosine', 'weights': 'distance'}. Best is trial 0 with value: 0.18301881387123556.\n",
      "[I 2024-02-12 14:54:17,713] Trial 3 finished with value: 0.190884885222314 and parameters: {'n_neighbors': 25, 'metric': 'manhattan', 'weights': 'distance'}. Best is trial 0 with value: 0.18301881387123556.\n",
      "[I 2024-02-12 15:08:49,199] Trial 4 finished with value: 0.1809072269208439 and parameters: {'n_neighbors': 10, 'metric': 'manhattan', 'weights': 'distance'}. Best is trial 4 with value: 0.1809072269208439.\n",
      "[I 2024-02-12 15:23:15,610] Trial 5 finished with value: 0.18361057605921688 and parameters: {'n_neighbors': 14, 'metric': 'manhattan', 'weights': 'distance'}. Best is trial 4 with value: 0.1809072269208439.\n",
      "[I 2024-02-12 15:38:45,683] Trial 6 finished with value: 0.190884885222314 and parameters: {'n_neighbors': 25, 'metric': 'manhattan', 'weights': 'distance'}. Best is trial 4 with value: 0.1809072269208439.\n",
      "[I 2024-02-12 15:39:48,244] Trial 7 finished with value: 0.18363886131428966 and parameters: {'n_neighbors': 14, 'metric': 'cosine', 'weights': 'distance'}. Best is trial 4 with value: 0.1809072269208439.\n",
      "[I 2024-02-12 15:40:51,186] Trial 8 finished with value: 0.18290139417633652 and parameters: {'n_neighbors': 7, 'metric': 'cosine', 'weights': 'distance'}. Best is trial 4 with value: 0.1809072269208439.\n",
      "[I 2024-02-12 15:55:14,523] Trial 9 finished with value: 0.18361057605921688 and parameters: {'n_neighbors': 14, 'metric': 'manhattan', 'weights': 'distance'}. Best is trial 4 with value: 0.1809072269208439.\n",
      "[I 2024-02-12 16:09:38,209] Trial 10 finished with value: 0.18734724138624453 and parameters: {'n_neighbors': 19, 'metric': 'manhattan', 'weights': 'distance'}. Best is trial 4 with value: 0.1809072269208439.\n",
      "[I 2024-02-12 16:10:41,381] Trial 11 finished with value: 0.1833748900398749 and parameters: {'n_neighbors': 6, 'metric': 'cosine', 'weights': 'distance'}. Best is trial 4 with value: 0.1809072269208439.\n",
      "[I 2024-02-12 16:11:44,054] Trial 12 finished with value: 0.18298070254262128 and parameters: {'n_neighbors': 8, 'metric': 'cosine', 'weights': 'distance'}. Best is trial 4 with value: 0.1809072269208439.\n",
      "[I 2024-02-12 16:12:38,703] Trial 13 finished with value: 0.20624434726797744 and parameters: {'n_neighbors': 1, 'metric': 'cosine', 'weights': 'distance'}. Best is trial 4 with value: 0.1809072269208439.\n",
      "[I 2024-02-12 16:26:53,635] Trial 14 finished with value: 0.1809072269208439 and parameters: {'n_neighbors': 10, 'metric': 'manhattan', 'weights': 'distance'}. Best is trial 4 with value: 0.1809072269208439.\n",
      "[I 2024-02-12 16:41:42,081] Trial 15 finished with value: 0.18155507832121426 and parameters: {'n_neighbors': 11, 'metric': 'manhattan', 'weights': 'distance'}. Best is trial 4 with value: 0.1809072269208439.\n",
      "[I 2024-02-12 16:55:59,142] Trial 16 finished with value: 0.1803959457672639 and parameters: {'n_neighbors': 4, 'metric': 'manhattan', 'weights': 'distance'}. Best is trial 16 with value: 0.1803959457672639.\n",
      "[I 2024-02-12 17:10:20,014] Trial 17 finished with value: 0.17952051013851675 and parameters: {'n_neighbors': 5, 'metric': 'manhattan', 'weights': 'distance'}. Best is trial 17 with value: 0.17952051013851675.\n",
      "[I 2024-02-12 17:24:41,421] Trial 18 finished with value: 0.1803959457672639 and parameters: {'n_neighbors': 4, 'metric': 'manhattan', 'weights': 'distance'}. Best is trial 17 with value: 0.17952051013851675.\n",
      "[I 2024-02-12 17:39:19,245] Trial 19 finished with value: 0.1803959457672639 and parameters: {'n_neighbors': 4, 'metric': 'manhattan', 'weights': 'distance'}. Best is trial 17 with value: 0.17952051013851675.\n"
     ]
    },
    {
     "data": {
      "text/plain": [
       "{'n_neighbors': 5, 'metric': 'manhattan', 'weights': 'distance'}"
      ]
     },
     "execution_count": 18,
     "metadata": {},
     "output_type": "execute_result"
    }
   ],
   "source": [
    "knn_fine_study = optuna.create_study(direction='minimize')\n",
    "knn_fine_study.optimize(knn_fine_objective, n_trials=20)\n",
    "knn_fine_best_params = knn_fine_study.best_params\n",
    "knn_fine_best_params"
   ]
  },
  {
   "cell_type": "markdown",
   "metadata": {},
   "source": [
    "Error is minimized at 'n_neighbors' = 5, 'metric' = 'manhattan' and 'weights' = 'distance'"
   ]
  },
  {
   "cell_type": "markdown",
   "metadata": {},
   "source": [
    "Train the knn regression model using the optimal hyperparameters, generate predictions for the test data using this trained model, evaluate the prediction performance, and display the results in a DataFrame. Additionally, save the fitted model as a pickle file, the model evaluation table, and the predictions as a CSV file."
   ]
  },
  {
   "cell_type": "code",
   "execution_count": 21,
   "metadata": {},
   "outputs": [],
   "source": [
    "knn_model = KNeighborsRegressor(n_neighbors=knn_fine_best_params['n_neighbors'], \n",
    "                                metric=knn_fine_best_params['metric'],\n",
    "                                weights=knn_fine_best_params['weights'])\n",
    "knn_start = datetime.now()\n",
    "knn_model.fit(X_train, y_train)\n",
    "knn_pred = knn_model.predict(X_test)\n",
    "knn_stop = datetime.now()\n",
    "knn_delta = knn_stop - knn_start"
   ]
  },
  {
   "cell_type": "code",
   "execution_count": 22,
   "metadata": {},
   "outputs": [
    {
     "data": {
      "text/html": [
       "<div>\n",
       "<style scoped>\n",
       "    .dataframe tbody tr th:only-of-type {\n",
       "        vertical-align: middle;\n",
       "    }\n",
       "\n",
       "    .dataframe tbody tr th {\n",
       "        vertical-align: top;\n",
       "    }\n",
       "\n",
       "    .dataframe thead th {\n",
       "        text-align: right;\n",
       "    }\n",
       "</style>\n",
       "<table border=\"1\" class=\"dataframe\">\n",
       "  <thead>\n",
       "    <tr style=\"text-align: right;\">\n",
       "      <th></th>\n",
       "      <th>model</th>\n",
       "      <th>r2</th>\n",
       "      <th>r2_adj</th>\n",
       "      <th>rmse</th>\n",
       "      <th>seconds</th>\n",
       "    </tr>\n",
       "  </thead>\n",
       "  <tbody>\n",
       "    <tr>\n",
       "      <th>0</th>\n",
       "      <td>knn</td>\n",
       "      <td>0.904055</td>\n",
       "      <td>0.893361</td>\n",
       "      <td>5712.046169</td>\n",
       "      <td>257.094118</td>\n",
       "    </tr>\n",
       "  </tbody>\n",
       "</table>\n",
       "</div>"
      ],
      "text/plain": [
       "  model        r2    r2_adj         rmse     seconds\n",
       "0   knn  0.904055  0.893361  5712.046169  257.094118"
      ]
     },
     "execution_count": 22,
     "metadata": {},
     "output_type": "execute_result"
    }
   ],
   "source": [
    "knn_pred_inverse = np.expm1(knn_pred)\n",
    "\n",
    "knn_r2 = r2_score(y_test, knn_pred_inverse)\n",
    "knn_r2_adj = 1 - (1 - knn_r2) * ((len(X_test) - 1) / (len(X_test) - len(X_test.columns) - 1))\n",
    "knn_rmse = np.sqrt(mean_squared_error(y_test, knn_pred_inverse))\n",
    "knn_seconds = knn_delta.seconds + knn_delta.microseconds/1E6\n",
    "\n",
    "knn_evaluation = pd.DataFrame({\n",
    "    'model': ['knn'],\n",
    "    'r2': [knn_r2],\n",
    "    'r2_adj': [knn_r2_adj],\n",
    "    'rmse': [knn_rmse],\n",
    "    'seconds': [knn_seconds]\n",
    "})\n",
    "knn_evaluation"
   ]
  },
  {
   "cell_type": "code",
   "execution_count": 23,
   "metadata": {},
   "outputs": [],
   "source": [
    "joblib.dump(knn_model, '../models/models/knn_model.pkl')\n",
    "knn_evaluation.to_csv(os.path.join(\"../models/evaluation/\", \"knn_evaluation.csv\"), index=False)\n",
    "knn_res = pd.DataFrame(knn_pred)\n",
    "knn_res.index = X_test.index\n",
    "knn_res.columns = [\"prediction\"]\n",
    "knn_res.to_csv(\"../models/predictions/knn_prediction.csv\")"
   ]
  },
  {
   "cell_type": "markdown",
   "metadata": {},
   "source": [
    "## 2.7. Artificial Neural Networks"
   ]
  },
  {
   "cell_type": "markdown",
   "metadata": {},
   "source": [
    "### 2.7.1. Multi-Layer Perceptron Regressor"
   ]
  },
  {
   "cell_type": "markdown",
   "metadata": {},
   "source": [
    "## 2.8. Support Vector Regression"
   ]
  },
  {
   "cell_type": "markdown",
   "metadata": {},
   "source": [
    "Start the Support Vector Regression (SVR) hyperparameter optimization with an initial rough exploration of the hyperparameter space using Optuna's TPESampler algorithm (Tree-Structured Parzen Estimator), covering a wide range of values for the hyperparameter \"C\", \"gamma\", \"epsilon\" and \"kernel\". This preliminary search helps to identify a suitable range for subsequent fine-tuning within the optimal parameter space. A 5-fold cross-validation strategy is used to optimize computational efficiency, which ensures robust model evaluation while reducing the risk of overfitting. The Root Mean Squared Error (RMSE) is used as a performance evaluation metric. "
   ]
  },
  {
   "cell_type": "code",
   "execution_count": 64,
   "metadata": {},
   "outputs": [],
   "source": [
    "def svr_coarse_objective(trial):\n",
    "    C = trial.suggest_float('C', 1e-6, 1e3, log=True)\n",
    "    tol = trial.suggest_float(\"tol\", 1e-9, 1e-1, log=True)\n",
    "    epsilon = trial.suggest_float(\"epsilon\", 1e-3, 1e1, log=True)\n",
    "    loss = trial.suggest_categorical(\"loss\", ['epsilon_insensitive', 'squared_epsilon_insensitive'])\n",
    "    svr = LinearSVR(C=C, loss=loss, tol=tol, epsilon=epsilon)\n",
    "    kfolds = KFold(n_splits=5, shuffle=True, random_state=42)\n",
    "    rmse_scores = cross_val_score(svr, X_train, y_train, scoring='neg_root_mean_squared_error', cv=kfolds, n_jobs=-1)\n",
    "    return -rmse_scores.mean()"
   ]
  },
  {
   "cell_type": "code",
   "execution_count": 66,
   "metadata": {},
   "outputs": [
    {
     "name": "stderr",
     "output_type": "stream",
     "text": [
      "[I 2024-02-14 20:53:12,579] A new study created in memory with name: no-name-68a1573b-1c66-4b67-9685-c7c6b8b3491e\n",
      "[I 2024-02-14 20:53:35,772] Trial 0 finished with value: 3.1052196142578756 and parameters: {'C': 1.3683239321714658e-05, 'tol': 2.0625339754568704e-09, 'epsilon': 0.010674442309464882, 'loss': 'squared_epsilon_insensitive'}. Best is trial 0 with value: 3.1052196142578756.\n",
      "[I 2024-02-14 20:53:44,409] Trial 1 finished with value: 0.16474006267580193 and parameters: {'C': 6.291914240097194, 'tol': 0.064427774518623, 'epsilon': 0.05692119564645714, 'loss': 'squared_epsilon_insensitive'}. Best is trial 1 with value: 0.16474006267580193.\n",
      "[I 2024-02-14 20:53:48,779] Trial 2 finished with value: 0.19697368771351925 and parameters: {'C': 0.016482491312162464, 'tol': 5.687953353024018e-05, 'epsilon': 0.07245354574398293, 'loss': 'squared_epsilon_insensitive'}. Best is trial 1 with value: 0.16474006267580193.\n",
      "[I 2024-02-14 20:53:53,594] Trial 3 finished with value: 0.17002828612852489 and parameters: {'C': 0.06758343741450935, 'tol': 3.924158580165189e-06, 'epsilon': 0.052371830782583326, 'loss': 'epsilon_insensitive'}. Best is trial 1 with value: 0.16474006267580193.\n",
      "[I 2024-02-14 20:54:18,941] Trial 4 finished with value: 0.24041967550249144 and parameters: {'C': 215.40332918182048, 'tol': 0.0025102317103541825, 'epsilon': 0.00537595505433082, 'loss': 'epsilon_insensitive'}. Best is trial 1 with value: 0.16474006267580193.\n",
      "[I 2024-02-14 20:54:25,485] Trial 5 finished with value: 0.16577499678586688 and parameters: {'C': 0.24414757129098236, 'tol': 4.943647927871231e-08, 'epsilon': 0.004157327391972819, 'loss': 'epsilon_insensitive'}. Best is trial 1 with value: 0.16474006267580193.\n",
      "[I 2024-02-14 20:54:50,873] Trial 6 finished with value: 0.16411103409109246 and parameters: {'C': 10.468915496110482, 'tol': 3.7470987375764065e-07, 'epsilon': 0.005576181714130822, 'loss': 'squared_epsilon_insensitive'}. Best is trial 6 with value: 0.16411103409109246.\n",
      "[I 2024-02-14 20:54:54,585] Trial 7 finished with value: 0.3601146635719112 and parameters: {'C': 0.09876699936083601, 'tol': 3.0674661716345626e-08, 'epsilon': 1.1456529471750414, 'loss': 'epsilon_insensitive'}. Best is trial 6 with value: 0.16411103409109246.\n",
      "[I 2024-02-14 20:54:58,817] Trial 8 finished with value: 9.346164448319971 and parameters: {'C': 1.3169211551676704e-06, 'tol': 0.0018164413210325484, 'epsilon': 1.4621852710589147, 'loss': 'epsilon_insensitive'}. Best is trial 6 with value: 0.16411103409109246.\n",
      "[I 2024-02-14 20:55:02,694] Trial 9 finished with value: 0.22375566426564114 and parameters: {'C': 0.005979274033081356, 'tol': 0.01083546308055608, 'epsilon': 0.005111324523638557, 'loss': 'squared_epsilon_insensitive'}. Best is trial 6 with value: 0.16411103409109246.\n",
      "[I 2024-02-14 20:55:26,619] Trial 10 finished with value: 0.22927545541599184 and parameters: {'C': 923.2120720109428, 'tol': 4.887324784572825e-06, 'epsilon': 0.0011047986720599352, 'loss': 'squared_epsilon_insensitive'}. Best is trial 6 with value: 0.16411103409109246.\n",
      "[I 2024-02-14 20:55:34,136] Trial 11 finished with value: 0.18359181603545655 and parameters: {'C': 10.479218680016668, 'tol': 0.09793769945097634, 'epsilon': 0.3298512953249356, 'loss': 'squared_epsilon_insensitive'}. Best is trial 6 with value: 0.16411103409109246.\n",
      "[I 2024-02-14 20:55:54,271] Trial 12 finished with value: 0.1641628818753658 and parameters: {'C': 9.283676634639303, 'tol': 6.0199485981349676e-05, 'epsilon': 0.026374653710393756, 'loss': 'squared_epsilon_insensitive'}. Best is trial 6 with value: 0.16411103409109246.\n",
      "[I 2024-02-14 20:55:57,806] Trial 13 finished with value: 4.652837240565892 and parameters: {'C': 5.92622545917705, 'tol': 8.893239872758268e-05, 'epsilon': 6.6421399983311336, 'loss': 'squared_epsilon_insensitive'}. Best is trial 6 with value: 0.16411103409109246.\n",
      "[I 2024-02-14 20:56:02,408] Trial 14 finished with value: 0.3950447167341093 and parameters: {'C': 0.0005180209646772663, 'tol': 3.3211960297391237e-07, 'epsilon': 0.014653097960365489, 'loss': 'squared_epsilon_insensitive'}. Best is trial 6 with value: 0.16411103409109246.\n",
      "[I 2024-02-14 20:56:26,338] Trial 15 finished with value: 0.16482267693541003 and parameters: {'C': 36.722206194391774, 'tol': 9.12225439006218e-05, 'epsilon': 0.0010000730658069634, 'loss': 'squared_epsilon_insensitive'}. Best is trial 6 with value: 0.16411103409109246.\n",
      "[I 2024-02-14 20:56:33,530] Trial 16 finished with value: 0.16405898936826452 and parameters: {'C': 1.2972909167443012, 'tol': 7.231119513167499e-07, 'epsilon': 0.021282355887059613, 'loss': 'squared_epsilon_insensitive'}. Best is trial 16 with value: 0.16405898936826452.\n",
      "[I 2024-02-14 20:56:37,603] Trial 17 finished with value: 0.17288860524590843 and parameters: {'C': 0.763004146491291, 'tol': 3.4616032412163317e-07, 'epsilon': 0.2316231001123361, 'loss': 'squared_epsilon_insensitive'}. Best is trial 16 with value: 0.16405898936826452.\n",
      "[I 2024-02-14 20:56:41,783] Trial 18 finished with value: 0.30351851600367585 and parameters: {'C': 0.001562722359737681, 'tol': 4.143344995977423e-09, 'epsilon': 0.02494563100003949, 'loss': 'squared_epsilon_insensitive'}. Best is trial 16 with value: 0.16405898936826452.\n",
      "[I 2024-02-14 20:56:49,292] Trial 19 finished with value: 0.1640760008433574 and parameters: {'C': 0.7901196117634538, 'tol': 1.375257942312532e-06, 'epsilon': 0.0024267582989657326, 'loss': 'squared_epsilon_insensitive'}. Best is trial 16 with value: 0.16405898936826452.\n"
     ]
    },
    {
     "data": {
      "text/plain": [
       "{'C': 1.2972909167443012,\n",
       " 'tol': 7.231119513167499e-07,\n",
       " 'epsilon': 0.021282355887059613,\n",
       " 'loss': 'squared_epsilon_insensitive'}"
      ]
     },
     "execution_count": 66,
     "metadata": {},
     "output_type": "execute_result"
    }
   ],
   "source": [
    "svr_coarse_study = optuna.create_study(direction='minimize')\n",
    "svr_coarse_study.optimize(svr_coarse_objective, n_trials=20)\n",
    "svr_coarse_best_params = svr_coarse_study.best_params\n",
    "svr_coarse_best_params"
   ]
  },
  {
   "cell_type": "markdown",
   "metadata": {},
   "source": [
    "The highest test scores were achieved within range of \n",
    "10^-1 and 10^2 for \"C\", \n",
    "10^-7 and 10^-2 for \"tol\", \n",
    "10^-3 and 10^-1 for \"epsilon\" and\n",
    "a \"squared_epsilon_insensitive\" type \"loss, \n",
    "therefore, proceed with hyperparameter optimization, emphasizing this optimal parameter space."
   ]
  },
  {
   "cell_type": "code",
   "execution_count": 67,
   "metadata": {},
   "outputs": [],
   "source": [
    "def svr_fine_objective(trial):\n",
    "    C = trial.suggest_float('C', 1e-1, 1e2, log=True)\n",
    "    tol = trial.suggest_float(\"tol\", 1e-7, 1e-2, log=True)\n",
    "    epsilon = trial.suggest_float(\"epsilon\", 1e-3, 1e-1, log=True)\n",
    "    loss = trial.suggest_categorical(\"loss\", ['squared_epsilon_insensitive'])\n",
    "    svr = LinearSVR(C=C, loss=loss, tol=tol, epsilon=epsilon)\n",
    "    kfolds = KFold(n_splits=5, shuffle=True, random_state=42)\n",
    "    rmse_scores = cross_val_score(svr, X_train, y_train, scoring='neg_root_mean_squared_error', cv=kfolds, n_jobs=-1)\n",
    "    return -rmse_scores.mean()"
   ]
  },
  {
   "cell_type": "code",
   "execution_count": 68,
   "metadata": {},
   "outputs": [
    {
     "name": "stderr",
     "output_type": "stream",
     "text": [
      "[I 2024-02-14 21:02:01,460] A new study created in memory with name: no-name-c4944b19-2ad3-4bdd-8997-3fd00318719b\n",
      "[I 2024-02-14 21:02:14,067] Trial 0 finished with value: 0.16427932397875855 and parameters: {'C': 0.5531041314676413, 'tol': 2.8540924163070606e-05, 'epsilon': 0.007315921622392141, 'loss': 'squared_epsilon_insensitive'}. Best is trial 0 with value: 0.16427932397875855.\n",
      "[I 2024-02-14 21:02:21,721] Trial 1 finished with value: 0.1640116553073939 and parameters: {'C': 1.693994963619365, 'tol': 1.0900156148906075e-05, 'epsilon': 0.012877213965798086, 'loss': 'squared_epsilon_insensitive'}. Best is trial 1 with value: 0.1640116553073939.\n",
      "[I 2024-02-14 21:02:43,281] Trial 2 finished with value: 0.1641647231737467 and parameters: {'C': 21.28852853454048, 'tol': 1.535205740821398e-05, 'epsilon': 0.00134925095309163, 'loss': 'squared_epsilon_insensitive'}. Best is trial 1 with value: 0.1640116553073939.\n",
      "[I 2024-02-14 21:02:52,671] Trial 3 finished with value: 0.16403588492952306 and parameters: {'C': 2.9268251925842237, 'tol': 4.607780954785031e-05, 'epsilon': 0.013946325623253798, 'loss': 'squared_epsilon_insensitive'}. Best is trial 1 with value: 0.1640116553073939.\n",
      "[I 2024-02-14 21:03:15,608] Trial 4 finished with value: 0.16411867806690286 and parameters: {'C': 7.835623330720449, 'tol': 4.2519422378248594e-07, 'epsilon': 0.0171837613875403, 'loss': 'squared_epsilon_insensitive'}. Best is trial 1 with value: 0.1640116553073939.\n",
      "[I 2024-02-14 21:03:37,088] Trial 5 finished with value: 0.16414130154640424 and parameters: {'C': 14.617769161699698, 'tol': 2.0824402463897057e-05, 'epsilon': 0.010638249283346366, 'loss': 'squared_epsilon_insensitive'}. Best is trial 1 with value: 0.1640116553073939.\n",
      "[I 2024-02-14 21:03:57,652] Trial 6 finished with value: 0.17236986573758503 and parameters: {'C': 93.09959028745274, 'tol': 3.3385573370376775e-06, 'epsilon': 0.017779264010300454, 'loss': 'squared_epsilon_insensitive'}. Best is trial 1 with value: 0.1640116553073939.\n",
      "[I 2024-02-14 21:04:04,854] Trial 7 finished with value: 0.1645396260432923 and parameters: {'C': 0.49129068446806184, 'tol': 1.3301343431915094e-07, 'epsilon': 0.02822242971773303, 'loss': 'squared_epsilon_insensitive'}. Best is trial 1 with value: 0.1640116553073939.\n",
      "[I 2024-02-14 21:04:26,010] Trial 8 finished with value: 0.16412376729656833 and parameters: {'C': 9.232910287764435, 'tol': 3.204249980475144e-05, 'epsilon': 0.014968193678148204, 'loss': 'squared_epsilon_insensitive'}. Best is trial 1 with value: 0.1640116553073939.\n",
      "[I 2024-02-14 21:04:44,376] Trial 9 finished with value: 0.16411176174195924 and parameters: {'C': 5.830212615158149, 'tol': 5.2739811626438025e-06, 'epsilon': 0.021711565870625876, 'loss': 'squared_epsilon_insensitive'}. Best is trial 1 with value: 0.1640116553073939.\n",
      "[I 2024-02-14 21:04:49,449] Trial 10 finished with value: 0.16978758815396838 and parameters: {'C': 0.13389318519375243, 'tol': 0.0021163753048755183, 'epsilon': 0.09256041271240205, 'loss': 'squared_epsilon_insensitive'}. Best is trial 1 with value: 0.1640116553073939.\n",
      "[I 2024-02-14 21:04:57,753] Trial 11 finished with value: 0.16398354054435332 and parameters: {'C': 1.4905523286437032, 'tol': 0.0002851727965529245, 'epsilon': 0.0037131827470457865, 'loss': 'squared_epsilon_insensitive'}. Best is trial 11 with value: 0.16398354054435332.\n",
      "[I 2024-02-14 21:05:06,509] Trial 12 finished with value: 0.16398318660019898 and parameters: {'C': 1.4767239761168591, 'tol': 0.0005953389332857906, 'epsilon': 0.0036169858602824296, 'loss': 'squared_epsilon_insensitive'}. Best is trial 12 with value: 0.16398318660019898.\n",
      "[I 2024-02-14 21:05:11,861] Trial 13 finished with value: 0.16402786799015195 and parameters: {'C': 0.9504443362207731, 'tol': 0.0008611261501506092, 'epsilon': 0.0031926340464352434, 'loss': 'squared_epsilon_insensitive'}. Best is trial 12 with value: 0.16398318660019898.\n",
      "[I 2024-02-14 21:05:16,177] Trial 14 finished with value: 0.16590845298982868 and parameters: {'C': 0.19544590010381382, 'tol': 0.000316357476647011, 'epsilon': 0.0036335180293365146, 'loss': 'squared_epsilon_insensitive'}. Best is trial 12 with value: 0.16398318660019898.\n",
      "[I 2024-02-14 21:05:24,607] Trial 15 finished with value: 0.1639765075482572 and parameters: {'C': 1.7051255190380303, 'tol': 0.0002141453263299545, 'epsilon': 0.0011456887457887875, 'loss': 'squared_epsilon_insensitive'}. Best is trial 15 with value: 0.1639765075482572.\n",
      "[I 2024-02-14 21:05:28,930] Trial 16 finished with value: 0.16473842154972948 and parameters: {'C': 0.3421413883773552, 'tol': 0.007159046203491782, 'epsilon': 0.0010601459675055164, 'loss': 'squared_epsilon_insensitive'}. Best is trial 15 with value: 0.1639765075482572.\n",
      "[I 2024-02-14 21:05:43,367] Trial 17 finished with value: 0.16402282000768614 and parameters: {'C': 3.664908250570591, 'tol': 0.0001516422779371396, 'epsilon': 0.0019127245814797044, 'loss': 'squared_epsilon_insensitive'}. Best is trial 15 with value: 0.1639765075482572.\n",
      "[I 2024-02-14 21:05:49,694] Trial 18 finished with value: 0.1640248168167157 and parameters: {'C': 1.009278139448082, 'tol': 0.007948540009615764, 'epsilon': 0.002191339572227248, 'loss': 'squared_epsilon_insensitive'}. Best is trial 15 with value: 0.1639765075482572.\n",
      "[I 2024-02-14 21:06:12,080] Trial 19 finished with value: 0.16459949749444305 and parameters: {'C': 36.25874902432914, 'tol': 0.0016726124671446595, 'epsilon': 0.005797931115733024, 'loss': 'squared_epsilon_insensitive'}. Best is trial 15 with value: 0.1639765075482572.\n"
     ]
    },
    {
     "data": {
      "text/plain": [
       "{'C': 1.7051255190380303,\n",
       " 'tol': 0.0002141453263299545,\n",
       " 'epsilon': 0.0011456887457887875,\n",
       " 'loss': 'squared_epsilon_insensitive'}"
      ]
     },
     "execution_count": 68,
     "metadata": {},
     "output_type": "execute_result"
    }
   ],
   "source": [
    "svr_fine_study = optuna.create_study(direction='minimize')\n",
    "svr_fine_study.optimize(svr_fine_objective, n_trials=20)\n",
    "svr_fine_best_params = svr_fine_study.best_params\n",
    "svr_fine_best_params"
   ]
  },
  {
   "cell_type": "markdown",
   "metadata": {},
   "source": [
    "Error is minimized at 'C': 1.7051255190380303,\n",
    " 'tol': 0.0002141453263299545,\n",
    " 'epsilon': 0.0011456887457887875, and\n",
    " 'loss': 'squared_epsilon_insensitive'"
   ]
  },
  {
   "cell_type": "markdown",
   "metadata": {},
   "source": [
    "Train the svr model using the optimal hyperparameters, generate predictions for the test data using this trained model, evaluate the prediction performance, and display the results in a DataFrame. Additionally, save the fitted model as a pickle file, the model evaluation table, and the predictions as a CSV file."
   ]
  },
  {
   "cell_type": "code",
   "execution_count": 69,
   "metadata": {},
   "outputs": [
    {
     "name": "stderr",
     "output_type": "stream",
     "text": [
      "c:\\Sync\\03_projects\\data_science\\projects\\autoscout24-car-price-prediction\\envs\\Lib\\site-packages\\sklearn\\utils\\validation.py:1229: DataConversionWarning: A column-vector y was passed when a 1d array was expected. Please change the shape of y to (n_samples, ), for example using ravel().\n",
      "  y = column_or_1d(y, warn=True)\n",
      "c:\\Sync\\03_projects\\data_science\\projects\\autoscout24-car-price-prediction\\envs\\Lib\\site-packages\\sklearn\\svm\\_classes.py:31: FutureWarning: The default value of `dual` will change from `True` to `'auto'` in 1.5. Set the value of `dual` explicitly to suppress the warning.\n",
      "  warnings.warn(\n"
     ]
    }
   ],
   "source": [
    "svr_model = LinearSVR(C=svr_fine_best_params['C'],                       \n",
    "                      tol=svr_fine_best_params['tol'],                     \n",
    "                      epsilon=svr_fine_best_params['epsilon'], \n",
    "                      loss=svr_fine_best_params['loss']\n",
    "                )\n",
    "svr_start = datetime.now()\n",
    "svr_model.fit(X_train, y_train)\n",
    "svr_pred = svr_model.predict(X_test)\n",
    "svr_stop = datetime.now()\n",
    "svr_delta = svr_stop - svr_start"
   ]
  },
  {
   "cell_type": "code",
   "execution_count": 70,
   "metadata": {},
   "outputs": [
    {
     "data": {
      "text/html": [
       "<div>\n",
       "<style scoped>\n",
       "    .dataframe tbody tr th:only-of-type {\n",
       "        vertical-align: middle;\n",
       "    }\n",
       "\n",
       "    .dataframe tbody tr th {\n",
       "        vertical-align: top;\n",
       "    }\n",
       "\n",
       "    .dataframe thead th {\n",
       "        text-align: right;\n",
       "    }\n",
       "</style>\n",
       "<table border=\"1\" class=\"dataframe\">\n",
       "  <thead>\n",
       "    <tr style=\"text-align: right;\">\n",
       "      <th></th>\n",
       "      <th>model</th>\n",
       "      <th>r2</th>\n",
       "      <th>r2_adj</th>\n",
       "      <th>rmse</th>\n",
       "      <th>seconds</th>\n",
       "    </tr>\n",
       "  </thead>\n",
       "  <tbody>\n",
       "    <tr>\n",
       "      <th>0</th>\n",
       "      <td>svr</td>\n",
       "      <td>0.941689</td>\n",
       "      <td>0.935189</td>\n",
       "      <td>4453.052687</td>\n",
       "      <td>3.289067</td>\n",
       "    </tr>\n",
       "  </tbody>\n",
       "</table>\n",
       "</div>"
      ],
      "text/plain": [
       "  model        r2    r2_adj         rmse   seconds\n",
       "0   svr  0.941689  0.935189  4453.052687  3.289067"
      ]
     },
     "execution_count": 70,
     "metadata": {},
     "output_type": "execute_result"
    }
   ],
   "source": [
    "svr_pred_inverse = np.expm1(svr_pred)\n",
    "\n",
    "svr_r2 = r2_score(y_test, svr_pred_inverse)\n",
    "svr_r2_adj = 1 - (1 - svr_r2) * ((len(X_test) - 1) / (len(X_test) - len(X_test.columns) - 1))\n",
    "svr_rmse = np.sqrt(mean_squared_error(y_test, svr_pred_inverse))\n",
    "svr_seconds = svr_delta.seconds + svr_delta.microseconds/1E6\n",
    "\n",
    "svr_evaluation = pd.DataFrame({\n",
    "    'model': ['svr'],\n",
    "    'r2': [svr_r2],\n",
    "    'r2_adj': [svr_r2_adj],\n",
    "    'rmse': [svr_rmse],\n",
    "    'seconds': [svr_seconds]\n",
    "})\n",
    "svr_evaluation"
   ]
  },
  {
   "cell_type": "code",
   "execution_count": 71,
   "metadata": {},
   "outputs": [
    {
     "ename": "",
     "evalue": "",
     "output_type": "error",
     "traceback": [
      "\u001b[1;31mThe Kernel crashed while executing code in the current cell or a previous cell. \n",
      "\u001b[1;31mPlease review the code in the cell(s) to identify a possible cause of the failure. \n",
      "\u001b[1;31mClick <a href='https://aka.ms/vscodeJupyterKernelCrash'>here</a> for more info. \n",
      "\u001b[1;31mView Jupyter <a href='command:jupyter.viewOutput'>log</a> for further details."
     ]
    }
   ],
   "source": [
    "joblib.dump(svr_model, '../models/models/svr_model.pkl')\n",
    "svr_evaluation.to_csv(os.path.join(\"../models/evaluation/\", \"svr_evaluation.csv\"), index=False)\n",
    "svr_res = pd.DataFrame(svr_pred)\n",
    "svr_res.index = X_test.index\n",
    "svr_res.columns = [\"prediction\"]\n",
    "svr_res.to_csv(\"../models/predictions/svr_prediction.csv\")"
   ]
  },
  {
   "cell_type": "markdown",
   "metadata": {},
   "source": [
    "## 2.9. Decision Trees Regression"
   ]
  },
  {
   "cell_type": "markdown",
   "metadata": {},
   "source": [
    "Start the Decision Tree Regression (SVR) hyperparameter optimization with an initial rough exploration of the hyperparameter space using Optuna's TPESampler algorithm (Tree-Structured Parzen Estimator), covering a wide range of values for the hyperparameter \"C\", \"gamma\", \"epsilon\" and \"kernel\". This preliminary search helps to identify a suitable range for subsequent fine-tuning within the optimal parameter space. A 5-fold cross-validation strategy is used to optimize computational efficiency, which ensures robust model evaluation while reducing the risk of overfitting. The Root Mean Squared Error (RMSE) is used as a performance evaluation metric.Due to large numebr of hyperparameters, number of trials is increased to 500."
   ]
  },
  {
   "cell_type": "code",
   "execution_count": 81,
   "metadata": {},
   "outputs": [],
   "source": [
    "def dtr_coarse_objective(trial):\n",
    "    parameters = {\n",
    "        'max_depth': trial.suggest_int('max_depth', 2, 10000),\n",
    "        'min_samples_split': trial.suggest_int('min_samples_split', 2, 10000),\n",
    "        'min_samples_leaf': trial.suggest_float('min_samples_leaf', 1e-9, 1.0, log=True),\n",
    "        'min_weight_fraction_leaf': trial.suggest_float('min_weight_fraction_leaf', 1e-9, 0.5, log=True),\n",
    "        'max_features': trial.suggest_int('max_features', 2, X_train.shape[1]),\n",
    "        'max_leaf_nodes': trial.suggest_int('max_leaf_nodes', 2, 10000),\n",
    "        'min_impurity_decrease': trial.suggest_float('min_impurity_decrease', 1e-12, 1.0, log=True),\n",
    "        'ccp_alpha': trial.suggest_float('ccp_alpha', 1e-9, 1e3, log=True)\n",
    "    }    \n",
    "    dt_regressor = DecisionTreeRegressor(**parameters, random_state=42)    \n",
    "    kfolds = KFold(n_splits=5, shuffle=True, random_state=42)\n",
    "    rmse_scores = cross_val_score(\n",
    "        dt_regressor, X_train, y_train,\n",
    "        scoring='neg_root_mean_squared_error', cv=kfolds, n_jobs=-1\n",
    "    )    \n",
    "    return -rmse_scores.mean()"
   ]
  },
  {
   "cell_type": "code",
   "execution_count": 82,
   "metadata": {},
   "outputs": [
    {
     "name": "stderr",
     "output_type": "stream",
     "text": [
      "[I 2024-02-15 19:31:20,487] A new study created in memory with name: no-name-ed30bb6a-2dec-445c-a468-f6943b1ad9be\n",
      "[I 2024-02-15 19:31:38,495] Trial 0 finished with value: 0.7013207160161288 and parameters: {'max_depth': 1335, 'min_samples_split': 8867, 'min_samples_leaf': 0.3305510788827798, 'min_weight_fraction_leaf': 8.99461264900389e-05, 'max_features': 569, 'max_leaf_nodes': 3272, 'min_impurity_decrease': 0.001472183497831183, 'ccp_alpha': 24.76324438917797}. Best is trial 0 with value: 0.7013207160161288.\n",
      "[I 2024-02-15 19:31:41,406] Trial 1 finished with value: 0.4551109678355287 and parameters: {'max_depth': 9752, 'min_samples_split': 4940, 'min_samples_leaf': 1.4343976412718002e-07, 'min_weight_fraction_leaf': 0.0004477722230169339, 'max_features': 267, 'max_leaf_nodes': 8693, 'min_impurity_decrease': 0.013528482681733964, 'ccp_alpha': 5.610832690107958e-06}. Best is trial 1 with value: 0.4551109678355287.\n",
      "[I 2024-02-15 19:31:44,229] Trial 2 finished with value: 0.49577233333359183 and parameters: {'max_depth': 5724, 'min_samples_split': 6521, 'min_samples_leaf': 0.0008531366180203413, 'min_weight_fraction_leaf': 0.015072239890041828, 'max_features': 198, 'max_leaf_nodes': 9970, 'min_impurity_decrease': 0.007828351678741711, 'ccp_alpha': 2.2796196528795014e-07}. Best is trial 1 with value: 0.4551109678355287.\n",
      "[I 2024-02-15 19:31:48,143] Trial 3 finished with value: 0.4626975303075467 and parameters: {'max_depth': 6870, 'min_samples_split': 4178, 'min_samples_leaf': 0.19056655028710393, 'min_weight_fraction_leaf': 1.9766729406543506e-09, 'max_features': 826, 'max_leaf_nodes': 2394, 'min_impurity_decrease': 2.311251670740307e-09, 'ccp_alpha': 6.481250835949689e-05}. Best is trial 1 with value: 0.4551109678355287.\n",
      "[I 2024-02-15 19:31:51,643] Trial 4 finished with value: 0.5390042935297236 and parameters: {'max_depth': 9014, 'min_samples_split': 6124, 'min_samples_leaf': 1.2391366593445588e-09, 'min_weight_fraction_leaf': 2.2189277566030586e-09, 'max_features': 816, 'max_leaf_nodes': 8093, 'min_impurity_decrease': 0.1863167555281538, 'ccp_alpha': 0.008283359857676992}. Best is trial 1 with value: 0.4551109678355287.\n",
      "[I 2024-02-15 19:31:54,718] Trial 5 finished with value: 0.5089086080112093 and parameters: {'max_depth': 7453, 'min_samples_split': 5773, 'min_samples_leaf': 9.423476192898584e-07, 'min_weight_fraction_leaf': 3.498989191579414e-09, 'max_features': 176, 'max_leaf_nodes': 8193, 'min_impurity_decrease': 2.4232366875819278e-08, 'ccp_alpha': 0.029107862191827878}. Best is trial 1 with value: 0.4551109678355287.\n",
      "[I 2024-02-15 19:31:58,502] Trial 6 finished with value: 0.39929803969205374 and parameters: {'max_depth': 3767, 'min_samples_split': 349, 'min_samples_leaf': 0.014907122671427235, 'min_weight_fraction_leaf': 0.009950463021533735, 'max_features': 278, 'max_leaf_nodes': 7456, 'min_impurity_decrease': 2.47233576727374e-10, 'ccp_alpha': 0.0048592811083128995}. Best is trial 6 with value: 0.39929803969205374.\n",
      "[I 2024-02-15 19:32:01,791] Trial 7 finished with value: 0.41847193249068493 and parameters: {'max_depth': 885, 'min_samples_split': 230, 'min_samples_leaf': 1.5323859278076686e-09, 'min_weight_fraction_leaf': 0.00189305814931571, 'max_features': 94, 'max_leaf_nodes': 2259, 'min_impurity_decrease': 0.00012440264088755062, 'ccp_alpha': 5.5346882466390276e-06}. Best is trial 6 with value: 0.39929803969205374.\n",
      "[I 2024-02-15 19:32:04,900] Trial 8 finished with value: 0.7013207160161288 and parameters: {'max_depth': 5574, 'min_samples_split': 2697, 'min_samples_leaf': 5.467102887285025e-08, 'min_weight_fraction_leaf': 0.03130197479724626, 'max_features': 417, 'max_leaf_nodes': 5216, 'min_impurity_decrease': 0.711384334659741, 'ccp_alpha': 0.15157460168289233}. Best is trial 6 with value: 0.39929803969205374.\n",
      "[I 2024-02-15 19:32:08,172] Trial 9 finished with value: 0.4577953748273359 and parameters: {'max_depth': 3224, 'min_samples_split': 9362, 'min_samples_leaf': 7.247784903053822e-07, 'min_weight_fraction_leaf': 4.291219465989221e-07, 'max_features': 576, 'max_leaf_nodes': 7065, 'min_impurity_decrease': 3.8593468932855567e-10, 'ccp_alpha': 4.70659896073116e-08}. Best is trial 6 with value: 0.39929803969205374.\n",
      "[I 2024-02-15 19:32:10,787] Trial 10 finished with value: 0.7013207160161288 and parameters: {'max_depth': 3381, 'min_samples_split': 20, 'min_samples_leaf': 0.003107350284453068, 'min_weight_fraction_leaf': 0.22356053135025944, 'max_features': 24, 'max_leaf_nodes': 171, 'min_impurity_decrease': 1.9497351633894916e-12, 'ccp_alpha': 461.63203078992035}. Best is trial 6 with value: 0.39929803969205374.\n",
      "[I 2024-02-15 19:32:13,469] Trial 11 finished with value: 0.649256581662201 and parameters: {'max_depth': 317, 'min_samples_split': 8, 'min_samples_leaf': 5.027246533555958e-05, 'min_weight_fraction_leaf': 0.0012944157831753812, 'max_features': 11, 'max_leaf_nodes': 5430, 'min_impurity_decrease': 1.0720505970533038e-05, 'ccp_alpha': 0.00015306491066320284}. Best is trial 6 with value: 0.39929803969205374.\n",
      "[I 2024-02-15 19:32:17,442] Trial 12 finished with value: 0.33940755893423535 and parameters: {'max_depth': 2973, 'min_samples_split': 2057, 'min_samples_leaf': 1.1803172398809071e-09, 'min_weight_fraction_leaf': 5.264738553953171e-06, 'max_features': 351, 'max_leaf_nodes': 3052, 'min_impurity_decrease': 1.4976532340731606e-05, 'ccp_alpha': 6.379518522300955e-09}. Best is trial 12 with value: 0.33940755893423535.\n",
      "[I 2024-02-15 19:32:21,486] Trial 13 finished with value: 0.329269877571951 and parameters: {'max_depth': 3224, 'min_samples_split': 1949, 'min_samples_leaf': 0.007376585025515818, 'min_weight_fraction_leaf': 3.618059801486663e-06, 'max_features': 371, 'max_leaf_nodes': 3863, 'min_impurity_decrease': 3.7597401549874317e-07, 'ccp_alpha': 1.1543555807813548e-08}. Best is trial 13 with value: 0.329269877571951.\n",
      "[I 2024-02-15 19:32:25,407] Trial 14 finished with value: 0.3251832895553261 and parameters: {'max_depth': 2250, 'min_samples_split': 2343, 'min_samples_leaf': 6.472147610449016e-05, 'min_weight_fraction_leaf': 1.3892384033706375e-06, 'max_features': 417, 'max_leaf_nodes': 3783, 'min_impurity_decrease': 6.74043490040802e-07, 'ccp_alpha': 1.6257590350265743e-09}. Best is trial 14 with value: 0.3251832895553261.\n",
      "[I 2024-02-15 19:32:29,462] Trial 15 finished with value: 0.30893077884016323 and parameters: {'max_depth': 1942, 'min_samples_split': 2321, 'min_samples_leaf': 7.409596298666151e-05, 'min_weight_fraction_leaf': 4.37086668225931e-07, 'max_features': 537, 'max_leaf_nodes': 4185, 'min_impurity_decrease': 1.6077173443564487e-07, 'ccp_alpha': 1.164693017661939e-09}. Best is trial 15 with value: 0.30893077884016323.\n",
      "[I 2024-02-15 19:32:33,804] Trial 16 finished with value: 0.3238018949202875 and parameters: {'max_depth': 1955, 'min_samples_split': 3275, 'min_samples_leaf': 5.074235798323524e-05, 'min_weight_fraction_leaf': 1.0781022743319038e-07, 'max_features': 568, 'max_leaf_nodes': 902, 'min_impurity_decrease': 4.45999610236061e-07, 'ccp_alpha': 1.565464598609271e-09}. Best is trial 15 with value: 0.30893077884016323.\n",
      "[I 2024-02-15 19:32:38,104] Trial 17 finished with value: 0.3325608054958935 and parameters: {'max_depth': 1683, 'min_samples_split': 3669, 'min_samples_leaf': 5.751316384506523e-06, 'min_weight_fraction_leaf': 1.4151095785982757e-07, 'max_features': 667, 'max_leaf_nodes': 30, 'min_impurity_decrease': 3.269647513393282e-08, 'ccp_alpha': 8.694019402749766e-07}. Best is trial 15 with value: 0.30893077884016323.\n",
      "[I 2024-02-15 19:32:41,655] Trial 18 finished with value: 0.39155089577485136 and parameters: {'max_depth': 4574, 'min_samples_split': 7490, 'min_samples_leaf': 0.00013151366320671227, 'min_weight_fraction_leaf': 3.166737163269152e-08, 'max_features': 699, 'max_leaf_nodes': 1206, 'min_impurity_decrease': 1.741642543752203e-11, 'ccp_alpha': 1.2112020338975554e-09}. Best is trial 15 with value: 0.30893077884016323.\n",
      "[I 2024-02-15 19:32:45,490] Trial 19 finished with value: 0.7013207160161288 and parameters: {'max_depth': 249, 'min_samples_split': 3580, 'min_samples_leaf': 7.899241166472548e-06, 'min_weight_fraction_leaf': 4.253538830022156e-08, 'max_features': 570, 'max_leaf_nodes': 6101, 'min_impurity_decrease': 6.031891051087698e-08, 'ccp_alpha': 0.8961815663449165}. Best is trial 15 with value: 0.30893077884016323.\n",
      "[I 2024-02-15 19:32:50,127] Trial 20 finished with value: 0.27642200805151707 and parameters: {'max_depth': 2267, 'min_samples_split': 1216, 'min_samples_leaf': 0.0002039670818117558, 'min_weight_fraction_leaf': 4.450464155825249e-05, 'max_features': 506, 'max_leaf_nodes': 1208, 'min_impurity_decrease': 2.118870835219938e-05, 'ccp_alpha': 1.390651535521559e-07}. Best is trial 20 with value: 0.27642200805151707.\n",
      "[I 2024-02-15 19:32:54,703] Trial 21 finished with value: 0.28031605494300627 and parameters: {'max_depth': 2112, 'min_samples_split': 1252, 'min_samples_leaf': 0.0005650299359855625, 'min_weight_fraction_leaf': 4.680713630038188e-05, 'max_features': 510, 'max_leaf_nodes': 1428, 'min_impurity_decrease': 1.1591837020987373e-05, 'ccp_alpha': 1.7683936054167772e-07}. Best is trial 20 with value: 0.27642200805151707.\n",
      "[I 2024-02-15 19:32:58,502] Trial 22 finished with value: 0.28835668304341866 and parameters: {'max_depth': 4348, 'min_samples_split': 1282, 'min_samples_leaf': 0.000496627362642039, 'min_weight_fraction_leaf': 3.4946346288541035e-05, 'max_features': 481, 'max_leaf_nodes': 1702, 'min_impurity_decrease': 9.049319863487115e-06, 'ccp_alpha': 9.68898218179253e-08}. Best is trial 20 with value: 0.27642200805151707.\n",
      "[I 2024-02-15 19:33:03,165] Trial 23 finished with value: 0.27202080448773963 and parameters: {'max_depth': 4408, 'min_samples_split': 1332, 'min_samples_leaf': 0.0011536245520811122, 'min_weight_fraction_leaf': 3.6250240723798974e-05, 'max_features': 698, 'max_leaf_nodes': 1650, 'min_impurity_decrease': 1.606079428943519e-05, 'ccp_alpha': 2.56261427377947e-07}. Best is trial 23 with value: 0.27202080448773963.\n",
      "[I 2024-02-15 19:33:07,669] Trial 24 finished with value: 0.324669831401065 and parameters: {'max_depth': 2606, 'min_samples_split': 1190, 'min_samples_leaf': 0.05194102651961242, 'min_weight_fraction_leaf': 0.00010352587673486594, 'max_features': 740, 'max_leaf_nodes': 1093, 'min_impurity_decrease': 8.882610578983607e-05, 'ccp_alpha': 2.3188141556427205e-06}. Best is trial 23 with value: 0.27202080448773963.\n",
      "[I 2024-02-15 19:33:11,496] Trial 25 finished with value: 0.3004634412507893 and parameters: {'max_depth': 5254, 'min_samples_split': 1275, 'min_samples_leaf': 0.0016685684894466781, 'min_weight_fraction_leaf': 0.00033147558387197813, 'max_features': 635, 'max_leaf_nodes': 2213, 'min_impurity_decrease': 0.0015256874621445448, 'ccp_alpha': 0.0001429959175029681}. Best is trial 23 with value: 0.27202080448773963.\n",
      "[I 2024-02-15 19:33:16,470] Trial 26 finished with value: 0.2688251410037479 and parameters: {'max_depth': 4425, 'min_samples_split': 1208, 'min_samples_leaf': 0.0003715747409625229, 'min_weight_fraction_leaf': 1.6608979027595136e-05, 'max_features': 919, 'max_leaf_nodes': 739, 'min_impurity_decrease': 0.00018510867221480714, 'ccp_alpha': 2.1401454526405683e-05}. Best is trial 26 with value: 0.2688251410037479.\n",
      "[I 2024-02-15 19:33:20,142] Trial 27 finished with value: 0.33266338174113935 and parameters: {'max_depth': 6448, 'min_samples_split': 4582, 'min_samples_leaf': 9.63319382302705e-06, 'min_weight_fraction_leaf': 1.3525907348607847e-05, 'max_features': 923, 'max_leaf_nodes': 543, 'min_impurity_decrease': 0.00016833558033613742, 'ccp_alpha': 2.706757002145509e-05}. Best is trial 26 with value: 0.2688251410037479.\n",
      "[I 2024-02-15 19:33:24,779] Trial 28 finished with value: 0.3174104050860714 and parameters: {'max_depth': 4131, 'min_samples_split': 2874, 'min_samples_leaf': 0.04340312479266346, 'min_weight_fraction_leaf': 7.665039981567628e-06, 'max_features': 906, 'max_leaf_nodes': 1826, 'min_impurity_decrease': 3.1713272140563542e-06, 'ccp_alpha': 0.001090461402895659}. Best is trial 26 with value: 0.2688251410037479.\n",
      "[I 2024-02-15 19:33:27,684] Trial 29 finished with value: 0.483388491171364 and parameters: {'max_depth': 4758, 'min_samples_split': 879, 'min_samples_leaf': 0.30938199022106405, 'min_weight_fraction_leaf': 9.92676128404945e-05, 'max_features': 810, 'max_leaf_nodes': 2512, 'min_impurity_decrease': 0.0007233368398009243, 'ccp_alpha': 6.439882086493766e-07}. Best is trial 26 with value: 0.2688251410037479.\n",
      "[I 2024-02-15 19:33:30,638] Trial 30 finished with value: 0.42479468460732506 and parameters: {'max_depth': 1170, 'min_samples_split': 7953, 'min_samples_leaf': 0.00030212310098546864, 'min_weight_fraction_leaf': 0.00023942707233239415, 'max_features': 759, 'max_leaf_nodes': 3022, 'min_impurity_decrease': 0.023139832304946914, 'ccp_alpha': 1.2145202071065692e-05}. Best is trial 26 with value: 0.2688251410037479.\n",
      "[I 2024-02-15 19:33:34,686] Trial 31 finished with value: 0.28732347533843833 and parameters: {'max_depth': 4068, 'min_samples_split': 1736, 'min_samples_leaf': 0.0030503769417805984, 'min_weight_fraction_leaf': 3.098609078189208e-05, 'max_features': 641, 'max_leaf_nodes': 1513, 'min_impurity_decrease': 4.886882527137944e-05, 'ccp_alpha': 7.784646497216928e-08}. Best is trial 26 with value: 0.2688251410037479.\n",
      "[I 2024-02-15 19:33:39,090] Trial 32 finished with value: 0.28224671670652934 and parameters: {'max_depth': 2590, 'min_samples_split': 774, 'min_samples_leaf': 0.00023256014320480962, 'min_weight_fraction_leaf': 3.404172621920284e-05, 'max_features': 497, 'max_leaf_nodes': 702, 'min_impurity_decrease': 0.0005978846879671363, 'ccp_alpha': 2.5111302839804013e-08}. Best is trial 26 with value: 0.2688251410037479.\n",
      "[I 2024-02-15 19:33:43,645] Trial 33 finished with value: 0.2756786695952137 and parameters: {'max_depth': 6110, 'min_samples_split': 1536, 'min_samples_leaf': 0.0017089031270650537, 'min_weight_fraction_leaf': 0.0014355816375438244, 'max_features': 860, 'max_leaf_nodes': 1514, 'min_impurity_decrease': 2.4746592222394616e-06, 'ccp_alpha': 2.9193966054139735e-07}. Best is trial 26 with value: 0.2688251410037479.\n",
      "[I 2024-02-15 19:33:47,649] Trial 34 finished with value: 0.3134861227318398 and parameters: {'max_depth': 6269, 'min_samples_split': 2914, 'min_samples_leaf': 0.011446700557858826, 'min_weight_fraction_leaf': 1.9717255144203944e-06, 'max_features': 879, 'max_leaf_nodes': 2991, 'min_impurity_decrease': 0.003608014289025425, 'ccp_alpha': 1.1118736254297157e-06}. Best is trial 26 with value: 0.2688251410037479.\n",
      "[I 2024-02-15 19:33:52,110] Trial 35 finished with value: 0.2806610181227513 and parameters: {'max_depth': 7204, 'min_samples_split': 1656, 'min_samples_leaf': 0.001208307594988893, 'min_weight_fraction_leaf': 0.0019212822526066516, 'max_features': 857, 'max_leaf_nodes': 513, 'min_impurity_decrease': 3.5150874464815188e-06, 'ccp_alpha': 0.0005078288055573307}. Best is trial 26 with value: 0.2688251410037479.\n",
      "[I 2024-02-15 19:33:56,001] Trial 36 finished with value: 0.41519671039918704 and parameters: {'max_depth': 7808, 'min_samples_split': 4152, 'min_samples_leaf': 2.2117280450214896e-05, 'min_weight_fraction_leaf': 0.000563049575792796, 'max_features': 779, 'max_leaf_nodes': 4474, 'min_impurity_decrease': 0.03110203723566418, 'ccp_alpha': 7.893961636804771e-06}. Best is trial 26 with value: 0.2688251410037479.\n",
      "[I 2024-02-15 19:33:58,297] Trial 37 finished with value: 0.7013207160161288 and parameters: {'max_depth': 5946, 'min_samples_split': 5453, 'min_samples_leaf': 0.7768209050475239, 'min_weight_fraction_leaf': 0.01148993658951362, 'max_features': 846, 'max_leaf_nodes': 1981, 'min_impurity_decrease': 8.263466386573675e-09, 'ccp_alpha': 5.5103055856845805e-05}. Best is trial 26 with value: 0.2688251410037479.\n",
      "[I 2024-02-15 19:34:02,224] Trial 38 finished with value: 0.29443001814670666 and parameters: {'max_depth': 8147, 'min_samples_split': 700, 'min_samples_leaf': 0.028008863588412182, 'min_weight_fraction_leaf': 0.005967198960580639, 'max_features': 699, 'max_leaf_nodes': 2562, 'min_impurity_decrease': 1.5786221890146773e-06, 'ccp_alpha': 4.812590865544894e-07}. Best is trial 26 with value: 0.2688251410037479.\n",
      "[I 2024-02-15 19:34:05,472] Trial 39 finished with value: 0.3875903445043999 and parameters: {'max_depth': 5116, 'min_samples_split': 519, 'min_samples_leaf': 0.10473441101361991, 'min_weight_fraction_leaf': 0.00015787634246672275, 'max_features': 785, 'max_leaf_nodes': 3503, 'min_impurity_decrease': 0.0002071422865994486, 'ccp_alpha': 1.0758190109088462e-08}. Best is trial 26 with value: 0.2688251410037479.\n",
      "[I 2024-02-15 19:34:08,652] Trial 40 finished with value: 0.4107807383949158 and parameters: {'max_depth': 9278, 'min_samples_split': 2565, 'min_samples_leaf': 0.005271005411834527, 'min_weight_fraction_leaf': 0.14152153475223309, 'max_features': 723, 'max_leaf_nodes': 9411, 'min_impurity_decrease': 4.676224741955122e-05, 'ccp_alpha': 6.001192020274596e-06}. Best is trial 26 with value: 0.2688251410037479.\n",
      "[I 2024-02-15 19:34:12,446] Trial 41 finished with value: 0.3258942102398294 and parameters: {'max_depth': 3704, 'min_samples_split': 1481, 'min_samples_leaf': 0.0007042396061032295, 'min_weight_fraction_leaf': 1.768053466407568e-05, 'max_features': 270, 'max_leaf_nodes': 1361, 'min_impurity_decrease': 1.745045956733174e-05, 'ccp_alpha': 2.441899934386889e-07}. Best is trial 26 with value: 0.2688251410037479.\n",
      "[I 2024-02-15 19:34:16,910] Trial 42 finished with value: 0.2701835236807984 and parameters: {'max_depth': 5721, 'min_samples_split': 1051, 'min_samples_leaf': 0.00018347106869166918, 'min_weight_fraction_leaf': 4.9523391000593556e-05, 'max_features': 621, 'max_leaf_nodes': 1443, 'min_impurity_decrease': 2.5286691326510146e-06, 'ccp_alpha': 1.0832463604335202e-07}. Best is trial 26 with value: 0.2688251410037479.\n",
      "[I 2024-02-15 19:34:22,075] Trial 43 finished with value: 0.24528940236191601 and parameters: {'max_depth': 6767, 'min_samples_split': 495, 'min_samples_leaf': 1.8665583460931998e-06, 'min_weight_fraction_leaf': 0.0007338426752283556, 'max_features': 596, 'max_leaf_nodes': 308, 'min_impurity_decrease': 2.732622310783463e-06, 'ccp_alpha': 1.2183558016035183e-06}. Best is trial 43 with value: 0.24528940236191601.\n",
      "[I 2024-02-15 19:34:28,609] Trial 44 finished with value: 0.24081712016521878 and parameters: {'max_depth': 6797, 'min_samples_split': 427, 'min_samples_leaf': 1.2044878367112038e-06, 'min_weight_fraction_leaf': 0.0009213017186453, 'max_features': 633, 'max_leaf_nodes': 239, 'min_impurity_decrease': 1.0824143492220382e-07, 'ccp_alpha': 2.340779368283144e-06}. Best is trial 44 with value: 0.24081712016521878.\n",
      "[I 2024-02-15 19:34:32,084] Trial 45 finished with value: 0.35376690622984786 and parameters: {'max_depth': 6860, 'min_samples_split': 539, 'min_samples_leaf': 3.0635714321912643e-07, 'min_weight_fraction_leaf': 0.0008542456412390795, 'max_features': 612, 'max_leaf_nodes': 9, 'min_impurity_decrease': 2.1290417135482549e-07, 'ccp_alpha': 1.7550633975445736e-06}. Best is trial 44 with value: 0.24081712016521878.\n",
      "[I 2024-02-15 19:34:39,816] Trial 46 finished with value: 0.20988351314471548 and parameters: {'max_depth': 5520, 'min_samples_split': 21, 'min_samples_leaf': 3.524734662150071e-08, 'min_weight_fraction_leaf': 0.0003414150960652716, 'max_features': 600, 'max_leaf_nodes': 451, 'min_impurity_decrease': 4.356034876869422e-09, 'ccp_alpha': 1.786254681147697e-05}. Best is trial 46 with value: 0.20988351314471548.\n",
      "[I 2024-02-15 19:34:45,556] Trial 47 finished with value: 0.2794221074170609 and parameters: {'max_depth': 5529, 'min_samples_split': 22, 'min_samples_leaf': 1.2711323853026889e-08, 'min_weight_fraction_leaf': 0.0037425595651339643, 'max_features': 433, 'max_leaf_nodes': 453, 'min_impurity_decrease': 1.6802925672017457e-09, 'ccp_alpha': 0.0006600806403145407}. Best is trial 46 with value: 0.20988351314471548.\n",
      "[I 2024-02-15 19:34:51,537] Trial 48 finished with value: 0.2351354714187072 and parameters: {'max_depth': 6758, 'min_samples_split': 322, 'min_samples_leaf': 2.3935908791135586e-06, 'min_weight_fraction_leaf': 0.00025690733435581085, 'max_features': 590, 'max_leaf_nodes': 828, 'min_impurity_decrease': 2.8720259422687064e-09, 'ccp_alpha': 3.228169193212294e-05}. Best is trial 46 with value: 0.20988351314471548.\n",
      "[I 2024-02-15 19:34:55,357] Trial 49 finished with value: 0.39459566677069513 and parameters: {'max_depth': 8368, 'min_samples_split': 320, 'min_samples_leaf': 1.977098805334863e-06, 'min_weight_fraction_leaf': 0.048833864221100684, 'max_features': 357, 'max_leaf_nodes': 722, 'min_impurity_decrease': 4.073968404061674e-09, 'ccp_alpha': 2.1284783988488097e-05}. Best is trial 46 with value: 0.20988351314471548.\n",
      "[I 2024-02-15 19:35:01,636] Trial 50 finished with value: 0.38241954470321116 and parameters: {'max_depth': 6673, 'min_samples_split': 357, 'min_samples_leaf': 2.852816282794892e-08, 'min_weight_fraction_leaf': 0.0038783878854661644, 'max_features': 450, 'max_leaf_nodes': 233, 'min_impurity_decrease': 3.208576681619183e-10, 'ccp_alpha': 0.010941485415668754}. Best is trial 46 with value: 0.20988351314471548.\n",
      "[I 2024-02-15 19:35:07,030] Trial 51 finished with value: 0.2634134046029122 and parameters: {'max_depth': 7254, 'min_samples_split': 830, 'min_samples_leaf': 1.2728023497082436e-07, 'min_weight_fraction_leaf': 0.0004581991148997729, 'max_features': 605, 'max_leaf_nodes': 905, 'min_impurity_decrease': 9.66110583741904e-10, 'ccp_alpha': 3.5244624238305027e-06}. Best is trial 46 with value: 0.20988351314471548.\n",
      "[I 2024-02-15 19:35:11,349] Trial 52 finished with value: 0.2616296355840817 and parameters: {'max_depth': 7248, 'min_samples_split': 803, 'min_samples_leaf': 1.9704763658888418e-07, 'min_weight_fraction_leaf': 0.0004390846789888613, 'max_features': 538, 'max_leaf_nodes': 874, 'min_impurity_decrease': 5.195873109717938e-11, 'ccp_alpha': 8.882475966885721e-05}. Best is trial 46 with value: 0.20988351314471548.\n",
      "[I 2024-02-15 19:35:16,205] Trial 53 finished with value: 0.2994733030272819 and parameters: {'max_depth': 7769, 'min_samples_split': 1916, 'min_samples_leaf': 2.895939114114646e-07, 'min_weight_fraction_leaf': 0.0005252597353841591, 'max_features': 544, 'max_leaf_nodes': 967, 'min_impurity_decrease': 3.6130201297029936e-11, 'ccp_alpha': 0.00019328031381264202}. Best is trial 46 with value: 0.20988351314471548.\n",
      "[I 2024-02-15 19:35:23,541] Trial 54 finished with value: 0.2117297405186082 and parameters: {'max_depth': 7268, 'min_samples_split': 2, 'min_samples_leaf': 6.028415142101199e-08, 'min_weight_fraction_leaf': 0.0002222726891924011, 'max_features': 604, 'max_leaf_nodes': 375, 'min_impurity_decrease': 6.654382082691428e-11, 'ccp_alpha': 3.702313136161314e-06}. Best is trial 46 with value: 0.20988351314471548.\n",
      "[I 2024-02-15 19:35:27,574] Trial 55 finished with value: 0.30964705360755335 and parameters: {'max_depth': 8726, 'min_samples_split': 6, 'min_samples_leaf': 1.710789429659911e-06, 'min_weight_fraction_leaf': 0.024234849913519853, 'max_features': 667, 'max_leaf_nodes': 326, 'min_impurity_decrease': 3.89586207068791e-11, 'ccp_alpha': 0.0018171667372384858}. Best is trial 46 with value: 0.20988351314471548.\n",
      "[I 2024-02-15 19:35:32,859] Trial 56 finished with value: 0.2794764398559757 and parameters: {'max_depth': 7112, 'min_samples_split': 458, 'min_samples_leaf': 4.552206815764256e-09, 'min_weight_fraction_leaf': 0.00024370831139924578, 'max_features': 578, 'max_leaf_nodes': 34, 'min_impurity_decrease': 2.323559377259968e-12, 'ccp_alpha': 6.118773424932784e-05}. Best is trial 46 with value: 0.20988351314471548.\n",
      "[I 2024-02-15 19:35:35,833] Trial 57 finished with value: 0.4076943696632081 and parameters: {'max_depth': 7616, 'min_samples_split': 6701, 'min_samples_leaf': 7.26582807215008e-08, 'min_weight_fraction_leaf': 0.002655569401255218, 'max_features': 528, 'max_leaf_nodes': 7359, 'min_impurity_decrease': 1.3227977602378343e-08, 'ccp_alpha': 0.00023704471716331634}. Best is trial 46 with value: 0.20988351314471548.\n",
      "[I 2024-02-15 19:35:42,268] Trial 58 finished with value: 0.2308653137404423 and parameters: {'max_depth': 6804, 'min_samples_split': 280, 'min_samples_leaf': 4.823930727109451e-07, 'min_weight_fraction_leaf': 0.0008159981393221199, 'max_features': 669, 'max_leaf_nodes': 6061, 'min_impurity_decrease': 7.344419340243649e-11, 'ccp_alpha': 3.991588304128532e-06}. Best is trial 46 with value: 0.20988351314471548.\n",
      "[I 2024-02-15 19:35:46,585] Trial 59 finished with value: 0.2972709804030498 and parameters: {'max_depth': 6616, 'min_samples_split': 2115, 'min_samples_leaf': 7.260810873010308e-07, 'min_weight_fraction_leaf': 0.000984126625705138, 'max_features': 666, 'max_leaf_nodes': 6639, 'min_impurity_decrease': 1.553073763452649e-10, 'ccp_alpha': 2.39806229687885e-06}. Best is trial 46 with value: 0.20988351314471548.\n",
      "[I 2024-02-15 19:35:52,852] Trial 60 finished with value: 0.7013207160161288 and parameters: {'max_depth': 8207, 'min_samples_split': 262, 'min_samples_leaf': 2.948403330718833e-06, 'min_weight_fraction_leaf': 0.00014499914242215465, 'max_features': 590, 'max_leaf_nodes': 5902, 'min_impurity_decrease': 6.9865024234976756e-12, 'ccp_alpha': 7.007347375532284}. Best is trial 46 with value: 0.20988351314471548.\n",
      "[I 2024-02-15 19:35:55,828] Trial 61 finished with value: 0.4647088839554153 and parameters: {'max_depth': 6925, 'min_samples_split': 9900, 'min_samples_leaf': 3.488256737114643e-07, 'min_weight_fraction_leaf': 0.0008702151933322957, 'max_features': 652, 'max_leaf_nodes': 4664, 'min_impurity_decrease': 9.910399862762265e-11, 'ccp_alpha': 1.0182722599152765e-05}. Best is trial 46 with value: 0.20988351314471548.\n",
      "[I 2024-02-15 19:36:00,206] Trial 62 finished with value: 0.26277705826124426 and parameters: {'max_depth': 7376, 'min_samples_split': 805, 'min_samples_leaf': 2.0869424075365666e-08, 'min_weight_fraction_leaf': 0.0002630254199914703, 'max_features': 559, 'max_leaf_nodes': 5482, 'min_impurity_decrease': 9.112168223003881e-08, 'ccp_alpha': 6.25642943537505e-05}. Best is trial 46 with value: 0.20988351314471548.\n",
      "[I 2024-02-15 19:36:12,585] Trial 63 finished with value: 0.1948619337717519 and parameters: {'max_depth': 5937, 'min_samples_split': 24, 'min_samples_leaf': 1.4520890347115668e-07, 'min_weight_fraction_leaf': 7.162839824225753e-05, 'max_features': 604, 'max_leaf_nodes': 6431, 'min_impurity_decrease': 7.882365998363863e-10, 'ccp_alpha': 4.006977076178485e-06}. Best is trial 63 with value: 0.1948619337717519.\n",
      "[I 2024-02-15 19:36:17,092] Trial 64 finished with value: 0.2613940672478191 and parameters: {'max_depth': 6313, 'min_samples_split': 7, 'min_samples_leaf': 7.323123853739928e-08, 'min_weight_fraction_leaf': 0.007270853264485421, 'max_features': 472, 'max_leaf_nodes': 6335, 'min_impurity_decrease': 5.19800363746108e-10, 'ccp_alpha': 9.983093518872968e-07}. Best is trial 63 with value: 0.1948619337717519.\n",
      "[I 2024-02-15 19:36:23,791] Trial 65 finished with value: 0.23357781700632466 and parameters: {'max_depth': 5321, 'min_samples_split': 368, 'min_samples_leaf': 7.859677806999118e-09, 'min_weight_fraction_leaf': 0.00013409119024932305, 'max_features': 695, 'max_leaf_nodes': 7803, 'min_impurity_decrease': 3.6966638301749018e-09, 'ccp_alpha': 5.485601378949785e-06}. Best is trial 63 with value: 0.1948619337717519.\n",
      "[I 2024-02-15 19:36:30,236] Trial 66 finished with value: 0.23173900855636592 and parameters: {'max_depth': 5953, 'min_samples_split': 341, 'min_samples_leaf': 4.115068727348884e-09, 'min_weight_fraction_leaf': 8.457698127446676e-05, 'max_features': 713, 'max_leaf_nodes': 8378, 'min_impurity_decrease': 4.079138569642736e-09, 'ccp_alpha': 1.752083757262707e-05}. Best is trial 63 with value: 0.1948619337717519.\n",
      "[I 2024-02-15 19:36:39,762] Trial 67 finished with value: 0.21912518513557494 and parameters: {'max_depth': 5364, 'min_samples_split': 160, 'min_samples_leaf': 3.017348040767477e-09, 'min_weight_fraction_leaf': 8.35900050303401e-05, 'max_features': 708, 'max_leaf_nodes': 8287, 'min_impurity_decrease': 4.703103623825768e-09, 'ccp_alpha': 2.7132077559596936e-05}. Best is trial 63 with value: 0.1948619337717519.\n",
      "[I 2024-02-15 19:36:44,305] Trial 68 finished with value: 0.26771267481676775 and parameters: {'max_depth': 5444, 'min_samples_split': 1041, 'min_samples_leaf': 2.971864365592208e-09, 'min_weight_fraction_leaf': 6.122149266935414e-05, 'max_features': 720, 'max_leaf_nodes': 8209, 'min_impurity_decrease': 8.610074968588108e-10, 'ccp_alpha': 4.732180046156243e-06}. Best is trial 63 with value: 0.1948619337717519.\n",
      "[I 2024-02-15 19:36:56,233] Trial 69 finished with value: 0.20369109286636547 and parameters: {'max_depth': 4864, 'min_samples_split': 75, 'min_samples_leaf': 7.273495352200409e-09, 'min_weight_fraction_leaf': 8.622270721626995e-06, 'max_features': 689, 'max_leaf_nodes': 9095, 'min_impurity_decrease': 5.56287625850612e-09, 'ccp_alpha': 1.4110916021466691e-05}. Best is trial 63 with value: 0.1948619337717519.\n",
      "[I 2024-02-15 19:37:13,940] Trial 70 finished with value: 0.20579956759432078 and parameters: {'max_depth': 4891, 'min_samples_split': 28, 'min_samples_leaf': 1.9281475428911513e-09, 'min_weight_fraction_leaf': 3.2867763836506285e-06, 'max_features': 762, 'max_leaf_nodes': 8996, 'min_impurity_decrease': 3.26355321807542e-08, 'ccp_alpha': 2.0092199170776626e-05}. Best is trial 63 with value: 0.1948619337717519.\n",
      "[I 2024-02-15 19:37:29,340] Trial 71 finished with value: 0.3126857559397553 and parameters: {'max_depth': 4853, 'min_samples_split': 47, 'min_samples_leaf': 2.4806283710492144e-09, 'min_weight_fraction_leaf': 3.767583490735546e-06, 'max_features': 749, 'max_leaf_nodes': 8803, 'min_impurity_decrease': 3.982678210529698e-08, 'ccp_alpha': 0.0034121966689225516}. Best is trial 63 with value: 0.1948619337717519.\n",
      "[I 2024-02-15 19:37:34,980] Trial 72 finished with value: 0.2514489239728575 and parameters: {'max_depth': 5819, 'min_samples_split': 619, 'min_samples_leaf': 3.048292270558222e-08, 'min_weight_fraction_leaf': 9.028080398781507e-06, 'max_features': 815, 'max_leaf_nodes': 9207, 'min_impurity_decrease': 9.553685100413934e-09, 'ccp_alpha': 1.341791959676224e-05}. Best is trial 63 with value: 0.1948619337717519.\n",
      "[I 2024-02-15 19:37:40,710] Trial 73 finished with value: 0.26473204500873737 and parameters: {'max_depth': 4989, 'min_samples_split': 892, 'min_samples_leaf': 1.0682765694137938e-09, 'min_weight_fraction_leaf': 8.923630602801356e-07, 'max_features': 779, 'max_leaf_nodes': 9694, 'min_impurity_decrease': 1.6672474800958187e-08, 'ccp_alpha': 0.0002674191441789673}. Best is trial 63 with value: 0.1948619337717519.\n",
      "[I 2024-02-15 19:37:48,276] Trial 74 finished with value: 0.7013207160161288 and parameters: {'max_depth': 6063, 'min_samples_split': 224, 'min_samples_leaf': 7.230098775079064e-09, 'min_weight_fraction_leaf': 6.6453213087356e-06, 'max_features': 683, 'max_leaf_nodes': 8622, 'min_impurity_decrease': 8.772998148903575e-12, 'ccp_alpha': 730.0130345622329}. Best is trial 63 with value: 0.1948619337717519.\n",
      "[I 2024-02-15 19:37:53,216] Trial 75 finished with value: 0.26746129605387264 and parameters: {'max_depth': 4682, 'min_samples_split': 1031, 'min_samples_leaf': 2.0821962696796076e-09, 'min_weight_fraction_leaf': 6.637604869543666e-05, 'max_features': 724, 'max_leaf_nodes': 9939, 'min_impurity_decrease': 1.2381936880137427e-10, 'ccp_alpha': 3.577292057091862e-05}. Best is trial 63 with value: 0.1948619337717519.\n",
      "[I 2024-02-15 19:37:56,613] Trial 76 finished with value: 0.335014236900841 and parameters: {'max_depth': 5683, 'min_samples_split': 1411, 'min_samples_leaf': 5.142153389202376e-09, 'min_weight_fraction_leaf': 2.1258272282453928e-06, 'max_features': 168, 'max_leaf_nodes': 8445, 'min_impurity_decrease': 4.82938993287524e-09, 'ccp_alpha': 1.5656932988712286e-05}. Best is trial 63 with value: 0.1948619337717519.\n",
      "[I 2024-02-15 19:38:02,293] Trial 77 finished with value: 0.25414861088658874 and parameters: {'max_depth': 3997, 'min_samples_split': 668, 'min_samples_leaf': 1.6669510736982336e-08, 'min_weight_fraction_leaf': 2.1728949090723638e-05, 'max_features': 756, 'max_leaf_nodes': 7091, 'min_impurity_decrease': 1.2798454980161968e-09, 'ccp_alpha': 5.80778116990349e-07}. Best is trial 63 with value: 0.1948619337717519.\n",
      "[I 2024-02-15 19:38:06,878] Trial 78 finished with value: 0.28502507273370475 and parameters: {'max_depth': 5231, 'min_samples_split': 1744, 'min_samples_leaf': 4.042503900572644e-08, 'min_weight_fraction_leaf': 1.1808465100312262e-05, 'max_features': 670, 'max_leaf_nodes': 9204, 'min_impurity_decrease': 2.6138924925745538e-08, 'ccp_alpha': 9.948570207143186e-05}. Best is trial 63 with value: 0.1948619337717519.\n",
      "[I 2024-02-15 19:38:16,556] Trial 79 finished with value: 0.5390042935297236 and parameters: {'max_depth': 6314, 'min_samples_split': 161, 'min_samples_leaf': 1.056529041488806e-08, 'min_weight_fraction_leaf': 5.966068227025593e-07, 'max_features': 711, 'max_leaf_nodes': 8983, 'min_impurity_decrease': 2.4684138093152567e-10, 'ccp_alpha': 0.10450310045926743}. Best is trial 63 with value: 0.1948619337717519.\n",
      "[I 2024-02-15 19:38:21,619] Trial 80 finished with value: 0.2664629337892889 and parameters: {'max_depth': 5907, 'min_samples_split': 597, 'min_samples_leaf': 3.821745872222784e-09, 'min_weight_fraction_leaf': 8.372893277742975e-05, 'max_features': 645, 'max_leaf_nodes': 7827, 'min_impurity_decrease': 4.751937716907252e-10, 'ccp_alpha': 0.00041854920366225074}. Best is trial 63 with value: 0.1948619337717519.\n",
      "[I 2024-02-15 19:38:26,954] Trial 81 finished with value: 0.2700673779757881 and parameters: {'max_depth': 5438, 'min_samples_split': 1034, 'min_samples_leaf': 6.704120726140936e-09, 'min_weight_fraction_leaf': 0.00011646647235152944, 'max_features': 685, 'max_leaf_nodes': 7766, 'min_impurity_decrease': 6.1250387388874515e-09, 'ccp_alpha': 5.363006873617085e-06}. Best is trial 63 with value: 0.1948619337717519.\n",
      "[I 2024-02-15 19:38:35,579] Trial 82 finished with value: 0.22258999478941582 and parameters: {'max_depth': 5061, 'min_samples_split': 255, 'min_samples_leaf': 1.5219383160111903e-09, 'min_weight_fraction_leaf': 0.00017878772886973399, 'max_features': 791, 'max_leaf_nodes': 7976, 'min_impurity_decrease': 1.9294380914198583e-09, 'ccp_alpha': 9.752517030077007e-06}. Best is trial 63 with value: 0.1948619337717519.\n",
      "[I 2024-02-15 19:38:46,487] Trial 83 finished with value: 0.2173058079068524 and parameters: {'max_depth': 4916, 'min_samples_split': 200, 'min_samples_leaf': 1.3012098683837906e-09, 'min_weight_fraction_leaf': 2.6157145109643205e-05, 'max_features': 798, 'max_leaf_nodes': 8247, 'min_impurity_decrease': 2.244431508775483e-09, 'ccp_alpha': 9.290921755262906e-06}. Best is trial 63 with value: 0.1948619337717519.\n",
      "[I 2024-02-15 19:39:04,586] Trial 84 finished with value: 0.19203347057264344 and parameters: {'max_depth': 4515, 'min_samples_split': 35, 'min_samples_leaf': 1.4776352533009997e-09, 'min_weight_fraction_leaf': 2.0681827122870503e-07, 'max_features': 798, 'max_leaf_nodes': 6701, 'min_impurity_decrease': 7.368435047294293e-10, 'ccp_alpha': 3.3625012815699218e-06}. Best is trial 84 with value: 0.19203347057264344.\n",
      "[I 2024-02-15 19:39:27,882] Trial 85 finished with value: 0.21312308891038131 and parameters: {'max_depth': 3554, 'min_samples_split': 3, 'min_samples_leaf': 1.5619553982361327e-09, 'min_weight_fraction_leaf': 3.493044723893504e-07, 'max_features': 832, 'max_leaf_nodes': 6677, 'min_impurity_decrease': 2.186480094916373e-09, 'ccp_alpha': 3.9161853276184335e-05}. Best is trial 84 with value: 0.19203347057264344.\n",
      "[I 2024-02-15 19:39:31,773] Trial 86 finished with value: 0.39932319763334767 and parameters: {'max_depth': 3659, 'min_samples_split': 8645, 'min_samples_leaf': 1.6140453027614142e-09, 'min_weight_fraction_leaf': 2.3482388550585387e-07, 'max_features': 837, 'max_leaf_nodes': 7012, 'min_impurity_decrease': 7.869103995853365e-10, 'ccp_alpha': 3.795974021233461e-05}. Best is trial 84 with value: 0.19203347057264344.\n",
      "[I 2024-02-15 19:39:38,454] Trial 87 finished with value: 0.24827663479283926 and parameters: {'max_depth': 3363, 'min_samples_split': 609, 'min_samples_leaf': 2.471009358547613e-09, 'min_weight_fraction_leaf': 1.7092118243220296e-08, 'max_features': 880, 'max_leaf_nodes': 7464, 'min_impurity_decrease': 2.0830855677485448e-10, 'ccp_alpha': 1.800252115294994e-06}. Best is trial 84 with value: 0.19203347057264344.\n",
      "[I 2024-02-15 19:39:57,055] Trial 88 finished with value: 0.19185037399794766 and parameters: {'max_depth': 4525, 'min_samples_split': 32, 'min_samples_leaf': 1.1406550490751199e-08, 'min_weight_fraction_leaf': 1.0447573688049212e-07, 'max_features': 808, 'max_leaf_nodes': 6632, 'min_impurity_decrease': 3.9072132963480075e-08, 'ccp_alpha': 3.6438719527209084e-07}. Best is trial 88 with value: 0.19185037399794766.\n",
      "[I 2024-02-15 19:40:02,384] Trial 89 finished with value: 0.2709436211297544 and parameters: {'max_depth': 4249, 'min_samples_split': 1160, 'min_samples_leaf': 1.1619687349992297e-07, 'min_weight_fraction_leaf': 3.6530052013874036e-08, 'max_features': 806, 'max_leaf_nodes': 6678, 'min_impurity_decrease': 3.1673344494148597e-07, 'ccp_alpha': 3.816708545614831e-08}. Best is trial 88 with value: 0.19185037399794766.\n",
      "[I 2024-02-15 19:40:08,953] Trial 90 finished with value: 0.25572566332522517 and parameters: {'max_depth': 4522, 'min_samples_split': 739, 'min_samples_leaf': 1.075439555781557e-09, 'min_weight_fraction_leaf': 1.394374269310131e-07, 'max_features': 884, 'max_leaf_nodes': 5735, 'min_impurity_decrease': 3.77562525635707e-08, 'ccp_alpha': 3.525889131594995e-07}. Best is trial 88 with value: 0.19185037399794766.\n",
      "[I 2024-02-15 19:40:28,209] Trial 91 finished with value: 0.2332793838281368 and parameters: {'max_depth': 3824, 'min_samples_split': 25, 'min_samples_leaf': 1.3269487308491425e-08, 'min_weight_fraction_leaf': 6.628864627589286e-08, 'max_features': 830, 'max_leaf_nodes': 5059, 'min_impurity_decrease': 1.2722035004137181e-08, 'ccp_alpha': 0.00012024791676842856}. Best is trial 88 with value: 0.19185037399794766.\n",
      "[I 2024-02-15 19:40:34,904] Trial 92 finished with value: 0.24426095138292755 and parameters: {'max_depth': 4848, 'min_samples_split': 513, 'min_samples_leaf': 2.012904454216213e-08, 'min_weight_fraction_leaf': 2.263655354959753e-08, 'max_features': 764, 'max_leaf_nodes': 6341, 'min_impurity_decrease': 6.547095119975723e-08, 'ccp_alpha': 1.047915088703295e-06}. Best is trial 88 with value: 0.19185037399794766.\n",
      "[I 2024-02-15 19:40:43,845] Trial 93 finished with value: 0.21807789490002358 and parameters: {'max_depth': 4520, 'min_samples_split': 172, 'min_samples_leaf': 9.59132656142769e-09, 'min_weight_fraction_leaf': 8.12091716006208e-09, 'max_features': 793, 'max_leaf_nodes': 7370, 'min_impurity_decrease': 1.9022236700242886e-09, 'ccp_alpha': 2.689156964376771e-05}. Best is trial 88 with value: 0.19185037399794766.\n",
      "[I 2024-02-15 19:40:48,718] Trial 94 finished with value: 0.26475406299180726 and parameters: {'max_depth': 4554, 'min_samples_split': 942, 'min_samples_leaf': 5.844871494481035e-08, 'min_weight_fraction_leaf': 6.122341456171882e-09, 'max_features': 739, 'max_leaf_nodes': 6772, 'min_impurity_decrease': 6.308444299091651e-10, 'ccp_alpha': 2.864248196033339e-06}. Best is trial 88 with value: 0.19185037399794766.\n",
      "[I 2024-02-15 19:41:13,334] Trial 95 finished with value: 0.19606515501312521 and parameters: {'max_depth': 4305, 'min_samples_split': 5, 'min_samples_leaf': 7.371527139011267e-09, 'min_weight_fraction_leaf': 1.0845336382402215e-09, 'max_features': 790, 'max_leaf_nodes': 7230, 'min_impurity_decrease': 1.959440159970941e-08, 'ccp_alpha': 7.63218709993881e-06}. Best is trial 88 with value: 0.19185037399794766.\n",
      "[I 2024-02-15 19:41:19,879] Trial 96 finished with value: 0.24226862002475064 and parameters: {'max_depth': 3121, 'min_samples_split': 505, 'min_samples_leaf': 5.472717169853058e-09, 'min_weight_fraction_leaf': 3.8547428244634496e-07, 'max_features': 861, 'max_leaf_nodes': 6914, 'min_impurity_decrease': 8.884823783925427e-07, 'ccp_alpha': 7.75669299636248e-06}. Best is trial 88 with value: 0.19185037399794766.\n",
      "[I 2024-02-15 19:41:26,556] Trial 97 finished with value: 0.2536559331846768 and parameters: {'max_depth': 3995, 'min_samples_split': 683, 'min_samples_leaf': 1.833586009880576e-09, 'min_weight_fraction_leaf': 1.2948642228421594e-06, 'max_features': 898, 'max_leaf_nodes': 6330, 'min_impurity_decrease': 1.8509308877904273e-08, 'ccp_alpha': 3.956508818089905e-07}. Best is trial 88 with value: 0.19185037399794766.\n",
      "[I 2024-02-15 19:41:30,008] Trial 98 finished with value: 0.3510822235878282 and parameters: {'max_depth': 4218, 'min_samples_split': 5232, 'min_samples_leaf': 3.889462310426644e-08, 'min_weight_fraction_leaf': 7.743996646546084e-08, 'max_features': 769, 'max_leaf_nodes': 7255, 'min_impurity_decrease': 1.605097531498869e-07, 'ccp_alpha': 1.3710475275996332e-07}. Best is trial 88 with value: 0.19185037399794766.\n",
      "[I 2024-02-15 19:41:44,901] Trial 99 finished with value: 0.1945003605227699 and parameters: {'max_depth': 2838, 'min_samples_split': 56, 'min_samples_leaf': 2.0449453820363558e-08, 'min_weight_fraction_leaf': 3.972231214701e-06, 'max_features': 815, 'max_leaf_nodes': 5591, 'min_impurity_decrease': 2.3858335458160465e-09, 'ccp_alpha': 1.4296623565246821e-06}. Best is trial 88 with value: 0.19185037399794766.\n",
      "[I 2024-02-15 19:42:05,592] Trial 100 finished with value: 0.19331685107889193 and parameters: {'max_depth': 3767, 'min_samples_split': 15, 'min_samples_leaf': 2.4112319661659628e-08, 'min_weight_fraction_leaf': 2.7926755007859475e-07, 'max_features': 826, 'max_leaf_nodes': 5595, 'min_impurity_decrease': 9.37774371620879e-09, 'ccp_alpha': 8.668729192088436e-07}. Best is trial 88 with value: 0.19185037399794766.\n",
      "[I 2024-02-15 19:42:20,550] Trial 101 finished with value: 0.19442710087667503 and parameters: {'max_depth': 2995, 'min_samples_split': 59, 'min_samples_leaf': 2.4610991825807302e-08, 'min_weight_fraction_leaf': 3.167756468596475e-07, 'max_features': 822, 'max_leaf_nodes': 5498, 'min_impurity_decrease': 8.298599947340033e-09, 'ccp_alpha': 1.4250204071305226e-06}. Best is trial 88 with value: 0.19185037399794766.\n",
      "[I 2024-02-15 19:42:28,337] Trial 102 finished with value: 0.23055949686790517 and parameters: {'max_depth': 3040, 'min_samples_split': 387, 'min_samples_leaf': 9.407481422097279e-08, 'min_weight_fraction_leaf': 2.998286004073452e-06, 'max_features': 856, 'max_leaf_nodes': 4754, 'min_impurity_decrease': 1.0740060994388521e-08, 'ccp_alpha': 6.540698620043715e-07}. Best is trial 88 with value: 0.19185037399794766.\n",
      "[I 2024-02-15 19:42:35,056] Trial 103 finished with value: 0.234749806047393 and parameters: {'max_depth': 3426, 'min_samples_split': 432, 'min_samples_leaf': 2.7518416002807748e-08, 'min_weight_fraction_leaf': 7.605111496793927e-07, 'max_features': 822, 'max_leaf_nodes': 5574, 'min_impurity_decrease': 4.181780106447083e-08, 'ccp_alpha': 1.564517138343572e-06}. Best is trial 88 with value: 0.19185037399794766.\n",
      "[I 2024-02-15 19:42:40,587] Trial 104 finished with value: 0.2310230488183683 and parameters: {'max_depth': 2640, 'min_samples_split': 184, 'min_samples_leaf': 4.176676323806938e-08, 'min_weight_fraction_leaf': 1.3339236551014141e-09, 'max_features': 315, 'max_leaf_nodes': 5197, 'min_impurity_decrease': 8.665946678034685e-09, 'ccp_alpha': 2.0150542885906097e-07}. Best is trial 88 with value: 0.19185037399794766.\n",
      "[I 2024-02-15 19:43:00,608] Trial 105 finished with value: 0.19479056511137502 and parameters: {'max_depth': 2829, 'min_samples_split': 6, 'min_samples_leaf': 1.4102902008472471e-08, 'min_weight_fraction_leaf': 2.6086360077952326e-07, 'max_features': 748, 'max_leaf_nodes': 6091, 'min_impurity_decrease': 2.19271393817367e-08, 'ccp_alpha': 7.347499404605454e-08}. Best is trial 88 with value: 0.19185037399794766.\n",
      "[I 2024-02-15 19:43:05,796] Trial 106 finished with value: 0.25879134720244157 and parameters: {'max_depth': 2836, 'min_samples_split': 840, 'min_samples_leaf': 1.8918646314598266e-07, 'min_weight_fraction_leaf': 2.6839747517371936e-07, 'max_features': 812, 'max_leaf_nodes': 6093, 'min_impurity_decrease': 2.4813165764624084e-08, 'ccp_alpha': 6.131988786377931e-08}. Best is trial 88 with value: 0.19185037399794766.\n",
      "[I 2024-02-15 19:43:10,189] Trial 107 finished with value: 0.2732215929448777 and parameters: {'max_depth': 2372, 'min_samples_split': 1222, 'min_samples_leaf': 1.6108690428211993e-08, 'min_weight_fraction_leaf': 1.5438194583622095e-06, 'max_features': 746, 'max_leaf_nodes': 5777, 'min_impurity_decrease': 1.0448509257297081e-07, 'ccp_alpha': 4.146472563616693e-08}. Best is trial 88 with value: 0.19185037399794766.\n",
      "[I 2024-02-15 19:43:17,194] Trial 108 finished with value: 0.23951082304191532 and parameters: {'max_depth': 1641, 'min_samples_split': 479, 'min_samples_leaf': 1.0971601138731327e-08, 'min_weight_fraction_leaf': 9.934638195303692e-08, 'max_features': 732, 'max_leaf_nodes': 5322, 'min_impurity_decrease': 6.973744318475557e-09, 'ccp_alpha': 7.252408495344474e-07}. Best is trial 88 with value: 0.19185037399794766.\n",
      "[I 2024-02-15 19:43:22,519] Trial 109 finished with value: 0.25476905310208514 and parameters: {'max_depth': 3916, 'min_samples_split': 692, 'min_samples_leaf': 7.299727032206667e-09, 'min_weight_fraction_leaf': 1.5369146700674233e-07, 'max_features': 776, 'max_leaf_nodes': 6351, 'min_impurity_decrease': 1.319825208435247e-09, 'ccp_alpha': 1.792259497889498e-08}. Best is trial 88 with value: 0.19185037399794766.\n",
      "[I 2024-02-15 19:43:25,972] Trial 110 finished with value: 0.3802336482716668 and parameters: {'max_depth': 3297, 'min_samples_split': 6021, 'min_samples_leaf': 2.4753956541624588e-08, 'min_weight_fraction_leaf': 4.952947603156366e-06, 'max_features': 847, 'max_leaf_nodes': 4154, 'min_impurity_decrease': 7.275517662335476e-08, 'ccp_alpha': 2.543037314583476e-07}. Best is trial 88 with value: 0.19185037399794766.\n",
      "[I 2024-02-15 19:43:40,051] Trial 111 finished with value: 0.19213617207358244 and parameters: {'max_depth': 2769, 'min_samples_split': 32, 'min_samples_leaf': 1.574058514410482e-08, 'min_weight_fraction_leaf': 5.38413960559166e-08, 'max_features': 619, 'max_leaf_nodes': 5650, 'min_impurity_decrease': 2.0119512014118743e-08, 'ccp_alpha': 2.698779388226371e-06}. Best is trial 88 with value: 0.19185037399794766.\n",
      "[I 2024-02-15 19:43:49,000] Trial 112 finished with value: 0.21701762950618209 and parameters: {'max_depth': 2880, 'min_samples_split': 199, 'min_samples_leaf': 3.450560392001291e-09, 'min_weight_fraction_leaf': 5.224500110638867e-08, 'max_features': 761, 'max_leaf_nodes': 5908, 'min_impurity_decrease': 2.593446111087763e-07, 'ccp_alpha': 2.4073076968588992e-06}. Best is trial 88 with value: 0.19185037399794766.\n",
      "[I 2024-02-15 19:43:54,718] Trial 113 finished with value: 0.23766941918981951 and parameters: {'max_depth': 1942, 'min_samples_split': 415, 'min_samples_leaf': 1.4700881376185425e-08, 'min_weight_fraction_leaf': 6.112625339994118e-07, 'max_features': 622, 'max_leaf_nodes': 5605, 'min_impurity_decrease': 2.151287725996792e-08, 'ccp_alpha': 5.06638418123105e-07}. Best is trial 88 with value: 0.19185037399794766.\n",
      "[I 2024-02-15 19:44:17,224] Trial 114 finished with value: 0.19713760967587293 and parameters: {'max_depth': 2689, 'min_samples_split': 6, 'min_samples_leaf': 4.298163313422255e-08, 'min_weight_fraction_leaf': 1.9203002550210193e-07, 'max_features': 801, 'max_leaf_nodes': 6479, 'min_impurity_decrease': 3.779508255887915e-09, 'ccp_alpha': 1.2091261085951807e-06}. Best is trial 88 with value: 0.19185037399794766.\n",
      "[I 2024-02-15 19:44:21,099] Trial 115 finished with value: 0.3352940974968215 and parameters: {'max_depth': 2630, 'min_samples_split': 4191, 'min_samples_leaf': 5.288593996167321e-09, 'min_weight_fraction_leaf': 2.1111480325685472e-07, 'max_features': 799, 'max_leaf_nodes': 6550, 'min_impurity_decrease': 5.915163373972319e-07, 'ccp_alpha': 9.425515696666168e-08}. Best is trial 88 with value: 0.19185037399794766.\n",
      "[I 2024-02-15 19:44:28,276] Trial 116 finished with value: 0.23153272933539398 and parameters: {'max_depth': 2374, 'min_samples_split': 359, 'min_samples_leaf': 2.2195523026819425e-08, 'min_weight_fraction_leaf': 2.4578266277427876e-08, 'max_features': 821, 'max_leaf_nodes': 4830, 'min_impurity_decrease': 4.360875446936313e-08, 'ccp_alpha': 1.2284024721691563e-06}. Best is trial 88 with value: 0.19185037399794766.\n",
      "[I 2024-02-15 19:44:37,248] Trial 117 finished with value: 0.22075985357382527 and parameters: {'max_depth': 2765, 'min_samples_split': 229, 'min_samples_leaf': 8.861245591391159e-09, 'min_weight_fraction_leaf': 1.564587522332227e-07, 'max_features': 783, 'max_leaf_nodes': 6167, 'min_impurity_decrease': 3.267899643798344e-09, 'ccp_alpha': 3.190607447960793e-06}. Best is trial 88 with value: 0.19185037399794766.\n",
      "[I 2024-02-15 19:44:40,506] Trial 118 finished with value: 0.39321881618687876 and parameters: {'max_depth': 2148, 'min_samples_split': 6684, 'min_samples_leaf': 8.110481457656634e-08, 'min_weight_fraction_leaf': 2.453658957701919e-09, 'max_features': 740, 'max_leaf_nodes': 6484, 'min_impurity_decrease': 3.8549569211060985e-10, 'ccp_alpha': 7.136886268289599e-09}. Best is trial 88 with value: 0.19185037399794766.\n",
      "[I 2024-02-15 19:44:46,423] Trial 119 finished with value: 0.2611336318983163 and parameters: {'max_depth': 3185, 'min_samples_split': 944, 'min_samples_leaf': 5.542041386927813e-08, 'min_weight_fraction_leaf': 1.0343535545633981e-06, 'max_features': 902, 'max_leaf_nodes': 5953, 'min_impurity_decrease': 1.4150758594840452e-08, 'ccp_alpha': 1.350701736329987e-06}. Best is trial 88 with value: 0.19185037399794766.\n",
      "[I 2024-02-15 19:44:53,763] Trial 120 finished with value: 0.24730475195189908 and parameters: {'max_depth': 3574, 'min_samples_split': 602, 'min_samples_leaf': 1.2499347971843834e-08, 'min_weight_fraction_leaf': 1.4211661291565181e-08, 'max_features': 870, 'max_leaf_nodes': 5269, 'min_impurity_decrease': 6.958706603317491e-09, 'ccp_alpha': 1.7936005738412445e-07}. Best is trial 88 with value: 0.19185037399794766.\n",
      "[I 2024-02-15 19:45:15,488] Trial 121 finished with value: 0.20213268764245312 and parameters: {'max_depth': 4302, 'min_samples_split': 6, 'min_samples_leaf': 3.775741978577171e-08, 'min_weight_fraction_leaf': 2.454137156078729e-06, 'max_features': 845, 'max_leaf_nodes': 5024, 'min_impurity_decrease': 3.1364535893777674e-09, 'ccp_alpha': 1.553507313009681e-05}. Best is trial 88 with value: 0.19185037399794766.\n",
      "[I 2024-02-15 19:45:31,089] Trial 122 finished with value: 0.19749844797054425 and parameters: {'max_depth': 4284, 'min_samples_split': 64, 'min_samples_leaf': 1.568052570269285e-07, 'min_weight_fraction_leaf': 3.1394904466499754e-06, 'max_features': 839, 'max_leaf_nodes': 5079, 'min_impurity_decrease': 8.495547684180639e-10, 'ccp_alpha': 6.085680715908007e-06}. Best is trial 88 with value: 0.19185037399794766.\n",
      "[I 2024-02-15 19:45:53,662] Trial 123 finished with value: 0.1952708961741855 and parameters: {'max_depth': 4172, 'min_samples_split': 5, 'min_samples_leaf': 1.8611806430867172e-07, 'min_weight_fraction_leaf': 5.248008701561515e-07, 'max_features': 835, 'max_leaf_nodes': 4399, 'min_impurity_decrease': 1.0283613842461663e-09, 'ccp_alpha': 5.227537558402584e-06}. Best is trial 88 with value: 0.19185037399794766.\n",
      "[I 2024-02-15 19:46:01,474] Trial 124 finished with value: 0.22373975478301325 and parameters: {'max_depth': 4246, 'min_samples_split': 295, 'min_samples_leaf': 1.5915985621391384e-07, 'min_weight_fraction_leaf': 5.187311679338188e-07, 'max_features': 841, 'max_leaf_nodes': 4942, 'min_impurity_decrease': 1.1455636377463892e-09, 'ccp_alpha': 4.109343006272003e-06}. Best is trial 88 with value: 0.19185037399794766.\n",
      "[I 2024-02-15 19:46:07,712] Trial 125 finished with value: 0.7013207160161288 and parameters: {'max_depth': 3789, 'min_samples_split': 541, 'min_samples_leaf': 4.915271576788468e-07, 'min_weight_fraction_leaf': 3.132337589292156e-07, 'max_features': 859, 'max_leaf_nodes': 4505, 'min_impurity_decrease': 6.56872216417144e-10, 'ccp_alpha': 131.81918547919747}. Best is trial 88 with value: 0.19185037399794766.\n",
      "[I 2024-02-15 19:46:30,722] Trial 126 finished with value: 0.1941660274010303 and parameters: {'max_depth': 2996, 'min_samples_split': 10, 'min_samples_leaf': 9.550089206608446e-08, 'min_weight_fraction_leaf': 1.7838010795150002e-06, 'max_features': 920, 'max_leaf_nodes': 5691, 'min_impurity_decrease': 2.8101383163083433e-09, 'ccp_alpha': 3.540449132360147e-09}. Best is trial 88 with value: 0.19185037399794766.\n",
      "[I 2024-02-15 19:46:39,605] Trial 127 finished with value: 0.21888697082018332 and parameters: {'max_depth': 2960, 'min_samples_split': 224, 'min_samples_leaf': 2.0742876286042828e-07, 'min_weight_fraction_leaf': 1.999905278345116e-07, 'max_features': 890, 'max_leaf_nodes': 5432, 'min_impurity_decrease': 2.5914264612352757e-10, 'ccp_alpha': 2.0719464144724965e-09}. Best is trial 88 with value: 0.19185037399794766.\n",
      "[I 2024-02-15 19:46:44,446] Trial 128 finished with value: 0.27368349325621666 and parameters: {'max_depth': 2444, 'min_samples_split': 802, 'min_samples_leaf': 1.2888059752416609e-07, 'min_weight_fraction_leaf': 9.364262183091475e-08, 'max_features': 395, 'max_leaf_nodes': 6173, 'min_impurity_decrease': 1.3116807913804534e-09, 'ccp_alpha': 2.8881540839077615e-09}. Best is trial 88 with value: 0.19185037399794766.\n",
      "[I 2024-02-15 19:46:52,080] Trial 129 finished with value: 0.22967140397465746 and parameters: {'max_depth': 1967, 'min_samples_split': 375, 'min_samples_leaf': 9.777042733379707e-08, 'min_weight_fraction_leaf': 1.0384663065573867e-06, 'max_features': 923, 'max_leaf_nodes': 5732, 'min_impurity_decrease': 2.0470876339305747e-09, 'ccp_alpha': 1.895628979229732e-06}. Best is trial 88 with value: 0.19185037399794766.\n",
      "[I 2024-02-15 19:47:01,062] Trial 130 finished with value: 0.21916797172572527 and parameters: {'max_depth': 3223, 'min_samples_split': 220, 'min_samples_leaf': 2.734590032595741e-07, 'min_weight_fraction_leaf': 4.33778057764286e-07, 'max_features': 810, 'max_leaf_nodes': 4501, 'min_impurity_decrease': 5.056099553575714e-10, 'ccp_alpha': 8.894271904074564e-07}. Best is trial 88 with value: 0.19185037399794766.\n",
      "[I 2024-02-15 19:47:21,291] Trial 131 finished with value: 0.19417847526412865 and parameters: {'max_depth': 4300, 'min_samples_split': 19, 'min_samples_leaf': 4.444135309978229e-08, 'min_weight_fraction_leaf': 8.31568772765514e-07, 'max_features': 843, 'max_leaf_nodes': 4237, 'min_impurity_decrease': 9.091451924845197e-09, 'ccp_alpha': 6.551793576607451e-06}. Best is trial 88 with value: 0.19185037399794766.\n",
      "[I 2024-02-15 19:47:42,961] Trial 132 finished with value: 0.19522537531125875 and parameters: {'max_depth': 4688, 'min_samples_split': 2, 'min_samples_leaf': 4.978229650392586e-08, 'min_weight_fraction_leaf': 1.6284708762592554e-06, 'max_features': 877, 'max_leaf_nodes': 4206, 'min_impurity_decrease': 7.779215180602807e-09, 'ccp_alpha': 6.74206030584128e-06}. Best is trial 88 with value: 0.19185037399794766.\n",
      "[I 2024-02-15 19:47:50,123] Trial 133 finished with value: 0.24470218799589083 and parameters: {'max_depth': 4096, 'min_samples_split': 546, 'min_samples_leaf': 5.498958776866323e-08, 'min_weight_fraction_leaf': 1.6675709114321865e-06, 'max_features': 913, 'max_leaf_nodes': 3814, 'min_impurity_decrease': 1.4752608882686783e-08, 'ccp_alpha': 4.125274811080923e-09}. Best is trial 88 with value: 0.19185037399794766.\n",
      "[I 2024-02-15 19:47:57,540] Trial 134 finished with value: 0.22818091317837513 and parameters: {'max_depth': 3437, 'min_samples_split': 342, 'min_samples_leaf': 1.9966903056820808e-08, 'min_weight_fraction_leaf': 5.8718798618397254e-08, 'max_features': 878, 'max_leaf_nodes': 4130, 'min_impurity_decrease': 7.67062374854103e-09, 'ccp_alpha': 2.2739943363164118e-08}. Best is trial 88 with value: 0.19185037399794766.\n",
      "[I 2024-02-15 19:48:08,367] Trial 135 finished with value: 0.21183804778817272 and parameters: {'max_depth': 9964, 'min_samples_split': 169, 'min_samples_leaf': 3.0897918361768285e-08, 'min_weight_fraction_leaf': 6.540044988217745e-07, 'max_features': 868, 'max_leaf_nodes': 4001, 'min_impurity_decrease': 3.2797263497920624e-09, 'ccp_alpha': 4.337711583556758e-07}. Best is trial 88 with value: 0.19185037399794766.\n",
      "[I 2024-02-15 19:48:11,081] Trial 136 finished with value: 0.7013207160161288 and parameters: {'max_depth': 4699, 'min_samples_split': 691, 'min_samples_leaf': 4.3802759953002914e-08, 'min_weight_fraction_leaf': 1.1776180595471928e-07, 'max_features': 820, 'max_leaf_nodes': 6794, 'min_impurity_decrease': 0.4786926251345569, 'ccp_alpha': 2.8616368381614693e-06}. Best is trial 88 with value: 0.19185037399794766.\n",
      "[I 2024-02-15 19:48:33,431] Trial 137 finished with value: 0.19599915643448282 and parameters: {'max_depth': 3729, 'min_samples_split': 4, 'min_samples_leaf': 7.49386240051984e-08, 'min_weight_fraction_leaf': 3.1402912046406235e-07, 'max_features': 794, 'max_leaf_nodes': 7090, 'min_impurity_decrease': 5.7749449116832e-09, 'ccp_alpha': 5.779369682775463e-06}. Best is trial 88 with value: 0.19185037399794766.\n",
      "[I 2024-02-15 19:48:40,754] Trial 138 finished with value: 0.23409713112114777 and parameters: {'max_depth': 3748, 'min_samples_split': 439, 'min_samples_leaf': 6.502005456058642e-08, 'min_weight_fraction_leaf': 3.202028840354786e-07, 'max_features': 892, 'max_leaf_nodes': 3619, 'min_impurity_decrease': 1.4062959680320714e-07, 'ccp_alpha': 8.0156839249091e-06}. Best is trial 88 with value: 0.19185037399794766.\n",
      "[I 2024-02-15 19:49:04,666] Trial 139 finished with value: 0.19490949564761703 and parameters: {'max_depth': 3599, 'min_samples_split': 2, 'min_samples_leaf': 1.6782145242074705e-08, 'min_weight_fraction_leaf': 7.46117031961837e-07, 'max_features': 785, 'max_leaf_nodes': 7246, 'min_impurity_decrease': 1.9989547681307467e-08, 'ccp_alpha': 5.036449063706264e-06}. Best is trial 88 with value: 0.19185037399794766.\n",
      "[I 2024-02-15 19:49:12,919] Trial 140 finished with value: 0.22278681105411607 and parameters: {'max_depth': 3489, 'min_samples_split': 287, 'min_samples_leaf': 4.2919199469190805e-07, 'min_weight_fraction_leaf': 8.262045803830306e-07, 'max_features': 833, 'max_leaf_nodes': 4314, 'min_impurity_decrease': 5.699712976958182e-08, 'ccp_alpha': 6.713728038796227e-07}. Best is trial 88 with value: 0.19185037399794766.\n",
      "[I 2024-02-15 19:49:16,102] Trial 141 finished with value: 0.39573014263972556 and parameters: {'max_depth': 3953, 'min_samples_split': 7129, 'min_samples_leaf': 1.64421195329738e-08, 'min_weight_fraction_leaf': 4.676871658771584e-07, 'max_features': 782, 'max_leaf_nodes': 7207, 'min_impurity_decrease': 2.203902955684602e-08, 'ccp_alpha': 5.0674377066750846e-06}. Best is trial 88 with value: 0.19185037399794766.\n",
      "[I 2024-02-15 19:49:38,400] Trial 142 finished with value: 0.19171159419637118 and parameters: {'max_depth': 4494, 'min_samples_split': 9, 'min_samples_leaf': 2.7760970093359488e-08, 'min_weight_fraction_leaf': 2.6920249133494725e-07, 'max_features': 803, 'max_leaf_nodes': 6931, 'min_impurity_decrease': 1.1269627489655421e-08, 'ccp_alpha': 2.2963071814922206e-06}. Best is trial 142 with value: 0.19171159419637118.\n",
      "[I 2024-02-15 19:49:47,028] Trial 143 finished with value: 0.21942072456564166 and parameters: {'max_depth': 3033, 'min_samples_split': 219, 'min_samples_leaf': 9.091226337579273e-08, 'min_weight_fraction_leaf': 1.2451129256179094e-06, 'max_features': 824, 'max_leaf_nodes': 7561, 'min_impurity_decrease': 1.0383945207595291e-08, 'ccp_alpha': 2.2776559383987266e-06}. Best is trial 142 with value: 0.19171159419637118.\n",
      "[I 2024-02-15 19:49:53,659] Trial 144 finished with value: 0.24691119601806588 and parameters: {'max_depth': 4529, 'min_samples_split': 575, 'min_samples_leaf': 2.6004852593523764e-08, 'min_weight_fraction_leaf': 3.2369311696593936e-07, 'max_features': 859, 'max_leaf_nodes': 6909, 'min_impurity_decrease': 7.610951894955574e-09, 'ccp_alpha': 3.956265095117852e-06}. Best is trial 142 with value: 0.19171159419637118.\n",
      "[I 2024-02-15 19:50:03,496] Trial 145 finished with value: 0.21160402865648736 and parameters: {'max_depth': 3767, 'min_samples_split': 165, 'min_samples_leaf': 8.198322163885658e-08, 'min_weight_fraction_leaf': 6.603639413686165e-07, 'max_features': 809, 'max_leaf_nodes': 5608, 'min_impurity_decrease': 2.267314239257782e-09, 'ccp_alpha': 1.7131356062134336e-06}. Best is trial 142 with value: 0.19171159419637118.\n",
      "[I 2024-02-15 19:50:10,912] Trial 146 finished with value: 0.23504054763372081 and parameters: {'max_depth': 616, 'min_samples_split': 435, 'min_samples_leaf': 2.2937184808680647e-08, 'min_weight_fraction_leaf': 2.38674957510576e-07, 'max_features': 876, 'max_leaf_nodes': 6044, 'min_impurity_decrease': 5.954897911589632e-09, 'ccp_alpha': 3.105425216528167e-07}. Best is trial 142 with value: 0.19171159419637118.\n",
      "[I 2024-02-15 19:50:16,757] Trial 147 finished with value: 0.25820590797849235 and parameters: {'max_depth': 4729, 'min_samples_split': 816, 'min_samples_leaf': 1.5927874435474945e-05, 'min_weight_fraction_leaf': 1.319609548892017e-07, 'max_features': 902, 'max_leaf_nodes': 3494, 'min_impurity_decrease': 1.295765110872632e-09, 'ccp_alpha': 1.083079861411025e-05}. Best is trial 142 with value: 0.19171159419637118.\n",
      "[I 2024-02-15 19:50:33,229] Trial 148 finished with value: 0.19416797840845146 and parameters: {'max_depth': 4021, 'min_samples_split': 45, 'min_samples_leaf': 1.1938316925450826e-08, 'min_weight_fraction_leaf': 4.5764636987996393e-07, 'max_features': 771, 'max_leaf_nodes': 7629, 'min_impurity_decrease': 3.02276818848556e-08, 'ccp_alpha': 3.1294622810415175e-06}. Best is trial 142 with value: 0.19171159419637118.\n",
      "[I 2024-02-15 19:50:39,839] Trial 149 finished with value: 0.23058581291140837 and parameters: {'max_depth': 5090, 'min_samples_split': 357, 'min_samples_leaf': 1.0674466190272366e-08, 'min_weight_fraction_leaf': 1.982623194639731e-06, 'max_features': 758, 'max_leaf_nodes': 5822, 'min_impurity_decrease': 3.188937699940429e-08, 'ccp_alpha': 7.97976082835818e-07}. Best is trial 142 with value: 0.19171159419637118.\n",
      "[I 2024-02-15 19:50:44,118] Trial 150 finished with value: 0.3271585522868511 and parameters: {'max_depth': 4478, 'min_samples_split': 3466, 'min_samples_leaf': 1.64265950175904e-08, 'min_weight_fraction_leaf': 4.472586217680018e-08, 'max_features': 777, 'max_leaf_nodes': 5411, 'min_impurity_decrease': 6.425687865636265e-08, 'ccp_alpha': 1.3435049539191638e-07}. Best is trial 142 with value: 0.19171159419637118.\n",
      "[I 2024-02-15 19:51:05,029] Trial 151 finished with value: 0.1912248214933075 and parameters: {'max_depth': 3996, 'min_samples_split': 15, 'min_samples_leaf': 5.610026847550581e-08, 'min_weight_fraction_leaf': 4.730747179807514e-07, 'max_features': 797, 'max_leaf_nodes': 7637, 'min_impurity_decrease': 1.1974257165863668e-08, 'ccp_alpha': 3.7111059544250243e-06}. Best is trial 151 with value: 0.1912248214933075.\n",
      "[I 2024-02-15 19:51:26,878] Trial 152 finished with value: 0.1917135811170853 and parameters: {'max_depth': 4080, 'min_samples_split': 13, 'min_samples_leaf': 3.867080930287758e-08, 'min_weight_fraction_leaf': 5.133953535911849e-07, 'max_features': 838, 'max_leaf_nodes': 7489, 'min_impurity_decrease': 1.3260292015414142e-08, 'ccp_alpha': 3.2008540619988054e-06}. Best is trial 151 with value: 0.1912248214933075.\n",
      "[I 2024-02-15 19:51:36,706] Trial 153 finished with value: 0.21712166771450128 and parameters: {'max_depth': 4061, 'min_samples_split': 209, 'min_samples_leaf': 2.941172888489514e-08, 'min_weight_fraction_leaf': 8.993708842584147e-07, 'max_features': 850, 'max_leaf_nodes': 7982, 'min_impurity_decrease': 1.505481285358147e-08, 'ccp_alpha': 1.9601318435112543e-06}. Best is trial 151 with value: 0.1912248214933075.\n",
      "[I 2024-02-15 19:51:42,437] Trial 154 finished with value: 0.24868923329747616 and parameters: {'max_depth': 3221, 'min_samples_split': 616, 'min_samples_leaf': 4.6433670075436276e-08, 'min_weight_fraction_leaf': 9.335818261843153e-08, 'max_features': 810, 'max_leaf_nodes': 7540, 'min_impurity_decrease': 2.6564547788781546e-08, 'ccp_alpha': 1.1191043866679687e-06}. Best is trial 151 with value: 0.1912248214933075.\n",
      "[I 2024-02-15 19:51:46,819] Trial 155 finished with value: 0.2599987179654146 and parameters: {'max_depth': 3499, 'min_samples_split': 188, 'min_samples_leaf': 1.3923735258500527e-08, 'min_weight_fraction_leaf': 1.4075808413357816e-06, 'max_features': 91, 'max_leaf_nodes': 7697, 'min_impurity_decrease': 4.084656456427163e-08, 'ccp_alpha': 3.7585867186404287e-06}. Best is trial 151 with value: 0.1912248214933075.\n",
      "[I 2024-02-15 19:51:53,334] Trial 156 finished with value: 0.23436503949073773 and parameters: {'max_depth': 2533, 'min_samples_split': 432, 'min_samples_leaf': 3.1393806259671854e-08, 'min_weight_fraction_leaf': 5.012255516570578e-06, 'max_features': 772, 'max_leaf_nodes': 6921, 'min_impurity_decrease': 1.0729072164090663e-08, 'ccp_alpha': 5.464499234351267e-07}. Best is trial 151 with value: 0.1912248214933075.\n",
      "[I 2024-02-15 19:52:08,153] Trial 157 finished with value: 0.19389246385751616 and parameters: {'max_depth': 4379, 'min_samples_split': 4, 'min_samples_leaf': 4.92028924392915e-09, 'min_weight_fraction_leaf': 4.3459372993942556e-07, 'max_features': 514, 'max_leaf_nodes': 6246, 'min_impurity_decrease': 1.4163134604764889e-08, 'ccp_alpha': 2.4399758914390733e-06}. Best is trial 151 with value: 0.1912248214933075.\n",
      "[I 2024-02-15 19:52:13,356] Trial 158 finished with value: 0.23620992273070068 and parameters: {'max_depth': 4004, 'min_samples_split': 407, 'min_samples_leaf': 4.280384147316908e-09, 'min_weight_fraction_leaf': 4.3506236690471916e-07, 'max_features': 561, 'max_leaf_nodes': 6225, 'min_impurity_decrease': 2.3582341957100136e-08, 'ccp_alpha': 2.56160260747963e-06}. Best is trial 151 with value: 0.1912248214933075.\n",
      "[I 2024-02-15 19:52:18,190] Trial 159 finished with value: 0.2595443368594522 and parameters: {'max_depth': 4421, 'min_samples_split': 734, 'min_samples_leaf': 9.019924469437076e-09, 'min_weight_fraction_leaf': 1.851791707114499e-07, 'max_features': 461, 'max_leaf_nodes': 6542, 'min_impurity_decrease': 9.09381975788853e-08, 'ccp_alpha': 3.393566839798849e-07}. Best is trial 151 with value: 0.1912248214933075.\n",
      "[I 2024-02-15 19:52:24,717] Trial 160 finished with value: 0.2185501968617498 and parameters: {'max_depth': 2783, 'min_samples_split': 191, 'min_samples_leaf': 5.146670640066035e-09, 'min_weight_fraction_leaf': 2.3484444077742755e-07, 'max_features': 495, 'max_leaf_nodes': 6757, 'min_impurity_decrease': 4.435303776584472e-09, 'ccp_alpha': 1.1577236716194345e-06}. Best is trial 151 with value: 0.1912248214933075.\n",
      "[I 2024-02-15 19:52:36,500] Trial 161 finished with value: 0.20036233518374394 and parameters: {'max_depth': 4756, 'min_samples_split': 38, 'min_samples_leaf': 2.2140998369868605e-08, 'min_weight_fraction_leaf': 6.661424426794449e-07, 'max_features': 532, 'max_leaf_nodes': 7632, 'min_impurity_decrease': 1.1629551040899785e-08, 'ccp_alpha': 9.874208980754987e-06}. Best is trial 151 with value: 0.1912248214933075.\n",
      "[I 2024-02-15 19:52:50,804] Trial 162 finished with value: 0.1928357635849182 and parameters: {'max_depth': 4428, 'min_samples_split': 13, 'min_samples_leaf': 1.1704002670420816e-08, 'min_weight_fraction_leaf': 1.1144114285224724e-06, 'max_features': 515, 'max_leaf_nodes': 7409, 'min_impurity_decrease': 1.7113567451380166e-08, 'ccp_alpha': 2.4887514127693013e-06}. Best is trial 151 with value: 0.1912248214933075.\n",
      "[I 2024-02-15 19:52:56,624] Trial 163 finished with value: 0.2321914821485401 and parameters: {'max_depth': 3919, 'min_samples_split': 306, 'min_samples_leaf': 1.1992922320456824e-08, 'min_weight_fraction_leaf': 1.033211427735508e-06, 'max_features': 521, 'max_leaf_nodes': 7382, 'min_impurity_decrease': 1.6802474107371107e-08, 'ccp_alpha': 1.9840050333149657e-06}. Best is trial 151 with value: 0.1912248214933075.\n",
      "[I 2024-02-15 19:53:12,146] Trial 164 finished with value: 0.19493394641238285 and parameters: {'max_depth': 4385, 'min_samples_split': 5, 'min_samples_leaf': 2.951107636840178e-09, 'min_weight_fraction_leaf': 4.32235100603208e-07, 'max_features': 514, 'max_leaf_nodes': 7149, 'min_impurity_decrease': 3.155283542674383e-08, 'ccp_alpha': 1.1648043315669231e-08}. Best is trial 151 with value: 0.1912248214933075.\n",
      "[I 2024-02-15 19:53:18,650] Trial 165 finished with value: 0.2428549775311264 and parameters: {'max_depth': 2923, 'min_samples_split': 512, 'min_samples_leaf': 5.81757311654763e-09, 'min_weight_fraction_leaf': 1.2556605742443473e-07, 'max_features': 749, 'max_leaf_nodes': 8002, 'min_impurity_decrease': 4.952110480562188e-08, 'ccp_alpha': 8.137573918651142e-07}. Best is trial 151 with value: 0.1912248214933075.\n",
      "[I 2024-02-15 19:53:27,460] Trial 166 finished with value: 0.2246053051161238 and parameters: {'max_depth': 3646, 'min_samples_split': 282, 'min_samples_leaf': 1.5948595642305308e-08, 'min_weight_fraction_leaf': 6.592682172914216e-08, 'max_features': 801, 'max_leaf_nodes': 5985, 'min_impurity_decrease': 2.8962457890885544e-09, 'ccp_alpha': 3.3725126792116285e-06}. Best is trial 151 with value: 0.1912248214933075.\n",
      "[I 2024-02-15 19:53:33,912] Trial 167 finished with value: 0.21830890469831923 and parameters: {'max_depth': 4139, 'min_samples_split': 187, 'min_samples_leaf': 9.152691778482867e-09, 'min_weight_fraction_leaf': 2.755444496745167e-07, 'max_features': 487, 'max_leaf_nodes': 5775, 'min_impurity_decrease': 1.793331633845797e-07, 'ccp_alpha': 1.8671797532469258e-06}. Best is trial 151 with value: 0.1912248214933075.\n",
      "[I 2024-02-15 19:53:39,525] Trial 168 finished with value: 0.24862399720699097 and parameters: {'max_depth': 4427, 'min_samples_split': 580, 'min_samples_leaf': 2.009214049978943e-08, 'min_weight_fraction_leaf': 8.254454608144977e-07, 'max_features': 583, 'max_leaf_nodes': 6980, 'min_impurity_decrease': 1.2380366892196987e-08, 'ccp_alpha': 4.701352688810666e-07}. Best is trial 151 with value: 0.1912248214933075.\n",
      "[I 2024-02-15 19:53:45,147] Trial 169 finished with value: 0.2357375345359923 and parameters: {'max_depth': 3091, 'min_samples_split': 375, 'min_samples_leaf': 3.2185372821827e-08, 'min_weight_fraction_leaf': 1.7443685143008008e-07, 'max_features': 546, 'max_leaf_nodes': 6299, 'min_impurity_decrease': 7.831457155518764e-08, 'ccp_alpha': 2.1554961650477979e-07}. Best is trial 151 with value: 0.1912248214933075.\n",
      "[I 2024-02-15 19:53:58,612] Trial 170 finished with value: 0.1946663046271459 and parameters: {'max_depth': 3600, 'min_samples_split': 5, 'min_samples_leaf': 1.0721686551141134e-08, 'min_weight_fraction_leaf': 4.963831667446713e-07, 'max_features': 431, 'max_leaf_nodes': 5546, 'min_impurity_decrease': 5.678335146770673e-09, 'ccp_alpha': 1.1440158942263656e-09}. Best is trial 151 with value: 0.1912248214933075.\n",
      "[I 2024-02-15 19:54:13,227] Trial 171 finished with value: 0.1961999786806742 and parameters: {'max_depth': 3418, 'min_samples_split': 5, 'min_samples_leaf': 7.434049117523077e-09, 'min_weight_fraction_leaf': 4.800320313322056e-07, 'max_features': 420, 'max_leaf_nodes': 5577, 'min_impurity_decrease': 4.97051481886335e-09, 'ccp_alpha': 4.477502397227547e-09}. Best is trial 151 with value: 0.1912248214933075.\n",
      "[I 2024-02-15 19:54:19,538] Trial 172 finished with value: 0.2317667629005263 and parameters: {'max_depth': 3916, 'min_samples_split': 218, 'min_samples_leaf': 1.2604058433284416e-08, 'min_weight_fraction_leaf': 3.712911331690995e-07, 'max_features': 410, 'max_leaf_nodes': 5385, 'min_impurity_decrease': 1.789742210311844e-08, 'ccp_alpha': 1.2639477539806827e-06}. Best is trial 151 with value: 0.1912248214933075.\n",
      "[I 2024-02-15 19:54:26,339] Trial 173 finished with value: 0.21720915017600567 and parameters: {'max_depth': 4113, 'min_samples_split': 162, 'min_samples_leaf': 3.760524573322863e-09, 'min_weight_fraction_leaf': 2.1581457412495236e-06, 'max_features': 457, 'max_leaf_nodes': 6477, 'min_impurity_decrease': 9.121591121807425e-09, 'ccp_alpha': 3.106669352855828e-06}. Best is trial 151 with value: 0.1912248214933075.\n",
      "[I 2024-02-15 19:54:33,099] Trial 174 finished with value: 0.23869716180310907 and parameters: {'max_depth': 3288, 'min_samples_split': 454, 'min_samples_leaf': 2.1769498869186824e-08, 'min_weight_fraction_leaf': 6.42575736324584e-07, 'max_features': 825, 'max_leaf_nodes': 7365, 'min_impurity_decrease': 2.5700006351663196e-09, 'ccp_alpha': 6.52065198340406e-08}. Best is trial 151 with value: 0.1912248214933075.\n",
      "[I 2024-02-15 19:54:39,168] Trial 175 finished with value: 0.22494471513123132 and parameters: {'max_depth': 3657, 'min_samples_split': 217, 'min_samples_leaf': 1.0963502300011217e-08, 'min_weight_fraction_leaf': 2.556845824296831e-07, 'max_features': 476, 'max_leaf_nodes': 5265, 'min_impurity_decrease': 5.157978825093946e-09, 'ccp_alpha': 2.6708720613661785e-09}. Best is trial 151 with value: 0.1912248214933075.\n",
      "[I 2024-02-15 19:54:43,832] Trial 176 finished with value: 0.2704446382813148 and parameters: {'max_depth': 4288, 'min_samples_split': 719, 'min_samples_leaf': 4.4998875555337374e-08, 'min_weight_fraction_leaf': 1.0799103477277277e-06, 'max_features': 383, 'max_leaf_nodes': 5948, 'min_impurity_decrease': 2.4031324211821985e-08, 'ccp_alpha': 1.1647759908133527e-09}. Best is trial 151 with value: 0.1912248214933075.\n",
      "[I 2024-02-15 19:55:00,083] Trial 177 finished with value: 0.1994081143061408 and parameters: {'max_depth': 4514, 'min_samples_split': 45, 'min_samples_leaf': 6.115154065441375e-09, 'min_weight_fraction_leaf': 9.849549384884304e-08, 'max_features': 782, 'max_leaf_nodes': 5662, 'min_impurity_decrease': 1.910626399449774e-09, 'ccp_alpha': 1.1077894241325895e-05}. Best is trial 151 with value: 0.1912248214933075.\n",
      "[I 2024-02-15 19:55:05,292] Trial 178 finished with value: 0.23979448159336575 and parameters: {'max_depth': 4982, 'min_samples_split': 364, 'min_samples_leaf': 2.683733302560339e-08, 'min_weight_fraction_leaf': 5.002337155760618e-07, 'max_features': 437, 'max_leaf_nodes': 7776, 'min_impurity_decrease': 4.391895797875617e-08, 'ccp_alpha': 1.4082099748853782e-09}. Best is trial 151 with value: 0.1912248214933075.\n",
      "[I 2024-02-15 19:55:24,986] Trial 179 finished with value: 0.1917229792901461 and parameters: {'max_depth': 3833, 'min_samples_split': 18, 'min_samples_leaf': 1.5349844360764175e-08, 'min_weight_fraction_leaf': 1.4863664028037429e-07, 'max_features': 796, 'max_leaf_nodes': 6835, 'min_impurity_decrease': 1.167462745488447e-08, 'ccp_alpha': 6.553373673744747e-09}. Best is trial 151 with value: 0.1912248214933075.\n",
      "[I 2024-02-15 19:55:30,437] Trial 180 finished with value: 0.26394904817069476 and parameters: {'max_depth': 4152, 'min_samples_split': 938, 'min_samples_leaf': 6.231737228685292e-08, 'min_weight_fraction_leaf': 1.6229207704747868e-07, 'max_features': 731, 'max_leaf_nodes': 6646, 'min_impurity_decrease': 9.243689366076592e-09, 'ccp_alpha': 5.785008887900216e-09}. Best is trial 151 with value: 0.1912248214933075.\n",
      "[I 2024-02-15 19:55:48,479] Trial 181 finished with value: 0.1895541446762014 and parameters: {'max_depth': 3773, 'min_samples_split': 24, 'min_samples_leaf': 1.6942305967212098e-08, 'min_weight_fraction_leaf': 2.660535713667831e-07, 'max_features': 799, 'max_leaf_nodes': 6836, 'min_impurity_decrease': 1.5722558480458835e-08, 'ccp_alpha': 1.1058600420283866e-09}. Best is trial 181 with value: 0.1895541446762014.\n",
      "[I 2024-02-15 19:56:11,074] Trial 182 finished with value: 0.1968755351270231 and parameters: {'max_depth': 3851, 'min_samples_split': 4, 'min_samples_leaf': 9.485430677268339e-09, 'min_weight_fraction_leaf': 3.095919036066892e-07, 'max_features': 820, 'max_leaf_nodes': 6818, 'min_impurity_decrease': 1.2978657664257967e-08, 'ccp_alpha': 1.9250855392036273e-09}. Best is trial 181 with value: 0.1895541446762014.\n",
      "[I 2024-02-15 19:56:20,930] Trial 183 finished with value: 0.22068138949482408 and parameters: {'max_depth': 4635, 'min_samples_split': 245, 'min_samples_leaf': 3.3787245934228536e-08, 'min_weight_fraction_leaf': 3.77186946431684e-08, 'max_features': 845, 'max_leaf_nodes': 6356, 'min_impurity_decrease': 3.943250337981951e-09, 'ccp_alpha': 7.102423818524375e-09}. Best is trial 181 with value: 0.1895541446762014.\n",
      "[I 2024-02-15 19:56:24,793] Trial 184 finished with value: 0.3377225880954063 and parameters: {'max_depth': 3867, 'min_samples_split': 4791, 'min_samples_leaf': 9.502226942577157e-05, 'min_weight_fraction_leaf': 6.991748552868389e-08, 'max_features': 802, 'max_leaf_nodes': 6103, 'min_impurity_decrease': 6.851550180005464e-09, 'ccp_alpha': 3.1431991857202022e-09}. Best is trial 181 with value: 0.1895541446762014.\n",
      "[I 2024-02-15 19:56:30,770] Trial 185 finished with value: 0.24532756040084883 and parameters: {'max_depth': 2944, 'min_samples_split': 530, 'min_samples_leaf': 1.5693044745246448e-08, 'min_weight_fraction_leaf': 2.034000645585976e-07, 'max_features': 767, 'max_leaf_nodes': 7086, 'min_impurity_decrease': 3.107094532401161e-08, 'ccp_alpha': 1.22467522615878e-08}. Best is trial 181 with value: 0.1895541446762014.\n",
      "[I 2024-02-15 19:56:40,653] Trial 186 finished with value: 0.21479183459595466 and parameters: {'max_depth': 4315, 'min_samples_split': 191, 'min_samples_leaf': 2.5495589730194146e-09, 'min_weight_fraction_leaf': 1.2783784558317806e-07, 'max_features': 797, 'max_leaf_nodes': 6646, 'min_impurity_decrease': 2.7992557938246327e-09, 'ccp_alpha': 2.008686534113206e-08}. Best is trial 181 with value: 0.1895541446762014.\n",
      "[I 2024-02-15 19:56:47,214] Trial 187 finished with value: 0.23421975344075988 and parameters: {'max_depth': 2282, 'min_samples_split': 428, 'min_samples_leaf': 2.1782864805191055e-08, 'min_weight_fraction_leaf': 3.767757343527944e-07, 'max_features': 825, 'max_leaf_nodes': 5127, 'min_impurity_decrease': 1.2256938626315086e-08, 'ccp_alpha': 3.138155744553495e-09}. Best is trial 181 with value: 0.1895541446762014.\n",
      "[I 2024-02-15 19:57:06,728] Trial 188 finished with value: 0.1938727843702514 and parameters: {'max_depth': 3300, 'min_samples_split': 8, 'min_samples_leaf': 1.115131768984476e-07, 'min_weight_fraction_leaf': 2.405285055871975e-07, 'max_features': 749, 'max_leaf_nodes': 5516, 'min_impurity_decrease': 5.108871448631238e-09, 'ccp_alpha': 1.7072199546892708e-06}. Best is trial 181 with value: 0.1895541446762014.\n",
      "[I 2024-02-15 19:57:26,711] Trial 189 finished with value: 0.19685376445548258 and parameters: {'max_depth': 3315, 'min_samples_split': 2, 'min_samples_leaf': 4.875997503651492e-06, 'min_weight_fraction_leaf': 2.409131803405726e-07, 'max_features': 758, 'max_leaf_nodes': 5763, 'min_impurity_decrease': 7.2622098801910954e-09, 'ccp_alpha': 1.5188293522708958e-09}. Best is trial 181 with value: 0.1895541446762014.\n",
      "[I 2024-02-15 19:57:34,235] Trial 190 finished with value: 0.22625414626143553 and parameters: {'max_depth': 2755, 'min_samples_split': 303, 'min_samples_leaf': 7.546911240442173e-09, 'min_weight_fraction_leaf': 1.4143971954241059e-07, 'max_features': 739, 'max_leaf_nodes': 5474, 'min_impurity_decrease': 1.6520349450824257e-08, 'ccp_alpha': 1.2024814900546318e-09}. Best is trial 181 with value: 0.1895541446762014.\n",
      "[I 2024-02-15 19:57:43,813] Trial 191 finished with value: 0.21530209833587421 and parameters: {'max_depth': 3562, 'min_samples_split': 184, 'min_samples_leaf': 1.1562600550007033e-07, 'min_weight_fraction_leaf': 5.109767604251208e-07, 'max_features': 788, 'max_leaf_nodes': 5883, 'min_impurity_decrease': 4.812341886328166e-09, 'ccp_alpha': 1.477984960706864e-06}. Best is trial 181 with value: 0.1895541446762014.\n",
      "[I 2024-02-15 19:57:53,243] Trial 192 finished with value: 0.2144552367243903 and parameters: {'max_depth': 4070, 'min_samples_split': 175, 'min_samples_leaf': 4.0874284048597043e-08, 'min_weight_fraction_leaf': 3.2218892464382897e-07, 'max_features': 812, 'max_leaf_nodes': 6194, 'min_impurity_decrease': 1.3916928240460478e-09, 'ccp_alpha': 3.465056246906932e-06}. Best is trial 181 with value: 0.1895541446762014.\n",
      "[I 2024-02-15 19:58:07,120] Trial 193 finished with value: 0.19411850717051107 and parameters: {'max_depth': 2994, 'min_samples_split': 17, 'min_samples_leaf': 6.570891105319025e-08, 'min_weight_fraction_leaf': 2.319116301269519e-07, 'max_features': 846, 'max_leaf_nodes': 5532, 'min_impurity_decrease': 6.631398563253287e-06, 'ccp_alpha': 8.990320518278826e-07}. Best is trial 181 with value: 0.1895541446762014.\n",
      "[I 2024-02-15 19:58:15,109] Trial 194 finished with value: 0.23171252597058684 and parameters: {'max_depth': 3179, 'min_samples_split': 395, 'min_samples_leaf': 1.3837102606665803e-08, 'min_weight_fraction_leaf': 8.469156953608887e-08, 'max_features': 850, 'max_leaf_nodes': 5310, 'min_impurity_decrease': 1.3803356606510222e-06, 'ccp_alpha': 7.309027721052336e-07}. Best is trial 181 with value: 0.1895541446762014.\n",
      "[I 2024-02-15 19:58:34,963] Trial 195 finished with value: 0.19403537622599262 and parameters: {'max_depth': 2543, 'min_samples_split': 10, 'min_samples_leaf': 6.409485791230397e-08, 'min_weight_fraction_leaf': 2.1004124285127354e-07, 'max_features': 826, 'max_leaf_nodes': 4909, 'min_impurity_decrease': 2.752675920469482e-08, 'ccp_alpha': 1.1959608484777022e-06}. Best is trial 181 with value: 0.1895541446762014.\n",
      "[I 2024-02-15 19:58:38,270] Trial 196 finished with value: 0.39932319763334767 and parameters: {'max_depth': 2646, 'min_samples_split': 8550, 'min_samples_leaf': 6.517055769056877e-08, 'min_weight_fraction_leaf': 1.974393795333774e-07, 'max_features': 837, 'max_leaf_nodes': 4752, 'min_impurity_decrease': 5.716117598677175e-06, 'ccp_alpha': 9.959234526460725e-07}. Best is trial 181 with value: 0.1895541446762014.\n",
      "[I 2024-02-15 19:58:44,757] Trial 197 finished with value: 0.2508152206467136 and parameters: {'max_depth': 3031, 'min_samples_split': 629, 'min_samples_leaf': 8.39433707935718e-08, 'min_weight_fraction_leaf': 7.099232892841206e-07, 'max_features': 864, 'max_leaf_nodes': 4960, 'min_impurity_decrease': 6.038368801029166e-08, 'ccp_alpha': 1.8201660435479891e-06}. Best is trial 181 with value: 0.1895541446762014.\n",
      "[I 2024-02-15 19:58:53,551] Trial 198 finished with value: 0.4151967103991874 and parameters: {'max_depth': 3429, 'min_samples_split': 5, 'min_samples_leaf': 3.2986223613342007e-08, 'min_weight_fraction_leaf': 1.333949209416005e-07, 'max_features': 839, 'max_leaf_nodes': 5535, 'min_impurity_decrease': 4.3304055485935464e-05, 'ccp_alpha': 0.01936654884262653}. Best is trial 181 with value: 0.1895541446762014.\n",
      "[I 2024-02-15 19:59:01,704] Trial 199 finished with value: 0.22667560017153368 and parameters: {'max_depth': 2451, 'min_samples_split': 323, 'min_samples_leaf': 5.368822570511496e-08, 'min_weight_fraction_leaf': 1.2444144075927382e-06, 'max_features': 820, 'max_leaf_nodes': 7506, 'min_impurity_decrease': 1.0179773626727138e-08, 'ccp_alpha': 4.4862270893533574e-07}. Best is trial 181 with value: 0.1895541446762014.\n",
      "[I 2024-02-15 19:59:11,021] Trial 200 finished with value: 0.21487654691684382 and parameters: {'max_depth': 3758, 'min_samples_split': 181, 'min_samples_leaf': 1.2204447973821232e-07, 'min_weight_fraction_leaf': 3.9291289642428845e-07, 'max_features': 804, 'max_leaf_nodes': 5185, 'min_impurity_decrease': 6.432147727212109e-06, 'ccp_alpha': 2.3608553594823616e-06}. Best is trial 181 with value: 0.1895541446762014.\n",
      "[I 2024-02-15 19:59:32,732] Trial 201 finished with value: 0.19584116218459088 and parameters: {'max_depth': 2735, 'min_samples_split': 5, 'min_samples_leaf': 2.3071917509376153e-08, 'min_weight_fraction_leaf': 2.4444455386561445e-07, 'max_features': 777, 'max_leaf_nodes': 5699, 'min_impurity_decrease': 2.8874746585018483e-08, 'ccp_alpha': 8.876200200144171e-07}. Best is trial 181 with value: 0.1895541446762014.\n",
      "[I 2024-02-15 19:59:41,377] Trial 202 finished with value: 0.21611411221317925 and parameters: {'max_depth': 2949, 'min_samples_split': 196, 'min_samples_leaf': 1.7649446286437305e-08, 'min_weight_fraction_leaf': 9.497755416587076e-08, 'max_features': 790, 'max_leaf_nodes': 5366, 'min_impurity_decrease': 1.944574572566815e-08, 'ccp_alpha': 1.3580101552118009e-06}. Best is trial 181 with value: 0.1895541446762014.\n",
      "[I 2024-02-15 19:59:49,133] Trial 203 finished with value: 0.23083848467158505 and parameters: {'max_depth': 3145, 'min_samples_split': 371, 'min_samples_leaf': 3.5065978219403415e-08, 'min_weight_fraction_leaf': 1.756447811201629e-07, 'max_features': 827, 'max_leaf_nodes': 5943, 'min_impurity_decrease': 6.050630387181679e-09, 'ccp_alpha': 2.2948201165248578e-06}. Best is trial 181 with value: 0.1895541446762014.\n",
      "[I 2024-02-15 19:59:58,598] Trial 204 finished with value: 0.20895785441602155 and parameters: {'max_depth': 3997, 'min_samples_split': 144, 'min_samples_leaf': 1.1944143942600049e-08, 'min_weight_fraction_leaf': 2.8821023463431615e-07, 'max_features': 763, 'max_leaf_nodes': 5704, 'min_impurity_decrease': 3.747267388544334e-08, 'ccp_alpha': 2.937900870865139e-07}. Best is trial 181 with value: 0.1895541446762014.\n",
      "[I 2024-02-15 20:00:21,794] Trial 205 finished with value: 0.19489565775005424 and parameters: {'max_depth': 3355, 'min_samples_split': 10, 'min_samples_leaf': 4.860802419980281e-09, 'min_weight_fraction_leaf': 5.242839761973378e-07, 'max_features': 856, 'max_leaf_nodes': 6957, 'min_impurity_decrease': 1.4383431199453233e-08, 'ccp_alpha': 6.075343380532087e-07}. Best is trial 181 with value: 0.1895541446762014.\n",
      "[I 2024-02-15 20:00:25,683] Trial 206 finished with value: 0.7013207160161288 and parameters: {'max_depth': 3662, 'min_samples_split': 3082, 'min_samples_leaf': 5.740338547134956e-08, 'min_weight_fraction_leaf': 8.604281913518405e-07, 'max_features': 813, 'max_leaf_nodes': 5510, 'min_impurity_decrease': 1.0952054427480099e-07, 'ccp_alpha': 3.919679556029897}. Best is trial 181 with value: 0.1895541446762014.\n",
      "[I 2024-02-15 20:00:31,861] Trial 207 finished with value: 0.24322834283092415 and parameters: {'max_depth': 2583, 'min_samples_split': 513, 'min_samples_leaf': 2.5491016120269733e-08, 'min_weight_fraction_leaf': 5.386033672736467e-08, 'max_features': 797, 'max_leaf_nodes': 7309, 'min_impurity_decrease': 4.134135848130127e-09, 'ccp_alpha': 2.2888803266036407e-09}. Best is trial 181 with value: 0.1895541446762014.\n",
      "[I 2024-02-15 20:00:39,456] Trial 208 finished with value: 0.22895075785932165 and parameters: {'max_depth': 2134, 'min_samples_split': 328, 'min_samples_leaf': 8.434294326996976e-09, 'min_weight_fraction_leaf': 4.1755024716290066e-07, 'max_features': 710, 'max_leaf_nodes': 6092, 'min_impurity_decrease': 8.949266721260152e-09, 'ccp_alpha': 5.20259209447133e-06}. Best is trial 181 with value: 0.1895541446762014.\n",
      "[I 2024-02-15 20:00:52,614] Trial 209 finished with value: 0.19754678536558984 and parameters: {'max_depth': 2891, 'min_samples_split': 5, 'min_samples_leaf': 1.56038398217385e-08, 'min_weight_fraction_leaf': 2.0215862202326366e-07, 'max_features': 438, 'max_leaf_nodes': 6773, 'min_impurity_decrease': 1.9703749341517787e-08, 'ccp_alpha': 1.0634087927065816e-09}. Best is trial 181 with value: 0.1895541446762014.\n",
      "[I 2024-02-15 20:01:01,214] Trial 210 finished with value: 0.21740096636757472 and parameters: {'max_depth': 4361, 'min_samples_split': 210, 'min_samples_leaf': 4.128224814790674e-08, 'min_weight_fraction_leaf': 3.0630022655635073e-07, 'max_features': 771, 'max_leaf_nodes': 7771, 'min_impurity_decrease': 4.371540772309799e-08, 'ccp_alpha': 1.3245493289073713e-06}. Best is trial 181 with value: 0.1895541446762014.\n",
      "[I 2024-02-15 20:01:09,180] Trial 211 finished with value: 0.21874218169748963 and parameters: {'max_depth': 4580, 'min_samples_split': 178, 'min_samples_leaf': 1.0476600344554733e-07, 'min_weight_fraction_leaf': 1.225681572322033e-07, 'max_features': 503, 'max_leaf_nodes': 6442, 'min_impurity_decrease': 2.476811084824144e-09, 'ccp_alpha': 2.910050413446917e-06}. Best is trial 181 with value: 0.1895541446762014.\n",
      "[I 2024-02-15 20:01:31,321] Trial 212 finished with value: 0.1934219109069321 and parameters: {'max_depth': 4169, 'min_samples_split': 10, 'min_samples_leaf': 7.747908209360134e-08, 'min_weight_fraction_leaf': 5.956312226890798e-07, 'max_features': 830, 'max_leaf_nodes': 6554, 'min_impurity_decrease': 5.751823622178625e-10, 'ccp_alpha': 4.253071402523744e-06}. Best is trial 181 with value: 0.1895541446762014.\n",
      "[I 2024-02-15 20:01:38,559] Trial 213 finished with value: 0.2325910792004669 and parameters: {'max_depth': 4244, 'min_samples_split': 379, 'min_samples_leaf': 7.581625776752633e-08, 'min_weight_fraction_leaf': 6.22989359134481e-07, 'max_features': 826, 'max_leaf_nodes': 6575, 'min_impurity_decrease': 1.1173118769951488e-08, 'ccp_alpha': 3.625450372772759e-06}. Best is trial 181 with value: 0.1895541446762014.\n",
      "[I 2024-02-15 20:01:46,879] Trial 214 finished with value: 0.21994030537155793 and parameters: {'max_depth': 3909, 'min_samples_split': 207, 'min_samples_leaf': 2.6020722931545255e-08, 'min_weight_fraction_leaf': 1.6127360881557692e-06, 'max_features': 852, 'max_leaf_nodes': 7137, 'min_impurity_decrease': 2.5586905293765528e-05, 'ccp_alpha': 1.7801092130731457e-06}. Best is trial 181 with value: 0.1895541446762014.\n",
      "[I 2024-02-15 20:01:54,236] Trial 215 finished with value: 0.20048875480556938 and parameters: {'max_depth': 4079, 'min_samples_split': 25, 'min_samples_leaf': 4.957692437470261e-08, 'min_weight_fraction_leaf': 4.1145881610719784e-07, 'max_features': 231, 'max_leaf_nodes': 5579, 'min_impurity_decrease': 3.8477755523516084e-10, 'ccp_alpha': 4.104156552488091e-08}. Best is trial 181 with value: 0.1895541446762014.\n",
      "[I 2024-02-15 20:02:00,608] Trial 216 finished with value: 0.24322834283092415 and parameters: {'max_depth': 3817, 'min_samples_split': 512, 'min_samples_leaf': 2.290203904052737e-07, 'min_weight_fraction_leaf': 9.840163741799267e-07, 'max_features': 797, 'max_leaf_nodes': 6177, 'min_impurity_decrease': 2.4648084245500844e-08, 'ccp_alpha': 6.808901414419876e-06}. Best is trial 181 with value: 0.1895541446762014.\n",
      "[I 2024-02-15 20:02:22,006] Trial 217 finished with value: 0.19381049790462812 and parameters: {'max_depth': 4413, 'min_samples_split': 13, 'min_samples_leaf': 1.0018566182224902e-08, 'min_weight_fraction_leaf': 2.585832711783478e-07, 'max_features': 834, 'max_leaf_nodes': 7554, 'min_impurity_decrease': 6.522668080271047e-09, 'ccp_alpha': 7.097880979742862e-09}. Best is trial 181 with value: 0.1895541446762014.\n",
      "[I 2024-02-15 20:02:30,973] Trial 218 finished with value: 0.22841920931729912 and parameters: {'max_depth': 4604, 'min_samples_split': 341, 'min_samples_leaf': 6.453412346542497e-09, 'min_weight_fraction_leaf': 5.925532672305072e-07, 'max_features': 839, 'max_leaf_nodes': 7421, 'min_impurity_decrease': 4.786683197077665e-09, 'ccp_alpha': 8.62628153538633e-09}. Best is trial 181 with value: 0.1895541446762014.\n",
      "[I 2024-02-15 20:02:54,869] Trial 219 finished with value: 0.197048357668092 and parameters: {'max_depth': 4397, 'min_samples_split': 8, 'min_samples_leaf': 1.0326691423438495e-08, 'min_weight_fraction_leaf': 1.7438570173742216e-07, 'max_features': 873, 'max_leaf_nodes': 7938, 'min_impurity_decrease': 2.2256580649212263e-09, 'ccp_alpha': 4.396272977023974e-09}. Best is trial 181 with value: 0.1895541446762014.\n",
      "[I 2024-02-15 20:03:04,519] Trial 220 finished with value: 0.2181689356441078 and parameters: {'max_depth': 4154, 'min_samples_split': 201, 'min_samples_leaf': 4.1113700328696334e-08, 'min_weight_fraction_leaf': 3.277286605685074e-07, 'max_features': 815, 'max_leaf_nodes': 6912, 'min_impurity_decrease': 7.84153646491904e-09, 'ccp_alpha': 8.30688312825445e-06}. Best is trial 181 with value: 0.1895541446762014.\n",
      "[I 2024-02-15 20:03:25,080] Trial 221 finished with value: 0.19179915171782422 and parameters: {'max_depth': 4787, 'min_samples_split': 15, 'min_samples_leaf': 1.719662408054676e-08, 'min_weight_fraction_leaf': 2.530532947563087e-07, 'max_features': 812, 'max_leaf_nodes': 7631, 'min_impurity_decrease': 1.4969970826915205e-08, 'ccp_alpha': 1.0076082124722387e-06}. Best is trial 181 with value: 0.1895541446762014.\n",
      "[I 2024-02-15 20:03:50,687] Trial 222 finished with value: 0.19804237517293694 and parameters: {'max_depth': 4927, 'min_samples_split': 3, 'min_samples_leaf': 1.794995005955417e-08, 'min_weight_fraction_leaf': 2.5463912611209916e-07, 'max_features': 831, 'max_leaf_nodes': 7250, 'min_impurity_decrease': 1.2573480382807422e-08, 'ccp_alpha': 1.0133474210266983e-06}. Best is trial 181 with value: 0.1895541446762014.\n",
      "[I 2024-02-15 20:04:00,113] Trial 223 finished with value: 0.21569636798197203 and parameters: {'max_depth': 4491, 'min_samples_split': 195, 'min_samples_leaf': 2.7646341565355894e-08, 'min_weight_fraction_leaf': 5.230639929724937e-07, 'max_features': 807, 'max_leaf_nodes': 7583, 'min_impurity_decrease': 6.627677428199794e-09, 'ccp_alpha': 3.387908030879754e-06}. Best is trial 181 with value: 0.1895541446762014.\n",
      "[I 2024-02-15 20:04:05,632] Trial 224 finished with value: 0.24960729472257634 and parameters: {'max_depth': 4721, 'min_samples_split': 327, 'min_samples_leaf': 1.2616916856139783e-08, 'min_weight_fraction_leaf': 1.578975318973321e-07, 'max_features': 328, 'max_leaf_nodes': 7630, 'min_impurity_decrease': 3.4936161587236707e-09, 'ccp_alpha': 6.342467931341827e-07}. Best is trial 181 with value: 0.1895541446762014.\n",
      "[I 2024-02-15 20:04:09,907] Trial 225 finished with value: 0.28667179075683247 and parameters: {'max_depth': 5162, 'min_samples_split': 2442, 'min_samples_leaf': 2.0482244633185473e-08, 'min_weight_fraction_leaf': 9.657111342313704e-08, 'max_features': 852, 'max_leaf_nodes': 7863, 'min_impurity_decrease': 1.5750965461826783e-08, 'ccp_alpha': 1.8208146958374272e-06}. Best is trial 181 with value: 0.1895541446762014.\n",
      "[I 2024-02-15 20:04:19,381] Trial 226 finished with value: 0.21441696250384185 and parameters: {'max_depth': 4278, 'min_samples_split': 177, 'min_samples_leaf': 9.341456666747616e-09, 'min_weight_fraction_leaf': 3.816281906819568e-07, 'max_features': 786, 'max_leaf_nodes': 8038, 'min_impurity_decrease': 1.4079716026872856e-09, 'ccp_alpha': 2.172691462314404e-09}. Best is trial 181 with value: 0.1895541446762014.\n",
      "[I 2024-02-15 20:04:26,147] Trial 227 finished with value: 0.24500481413223554 and parameters: {'max_depth': 4658, 'min_samples_split': 512, 'min_samples_leaf': 7.260258803308407e-08, 'min_weight_fraction_leaf': 7.701913697236687e-07, 'max_features': 814, 'max_leaf_nodes': 7456, 'min_impurity_decrease': 7.499444736864671e-09, 'ccp_alpha': 1.0225090694030368e-09}. Best is trial 181 with value: 0.1895541446762014.\n",
      "[I 2024-02-15 20:04:36,305] Trial 228 finished with value: 0.21453452786735813 and parameters: {'max_depth': 4828, 'min_samples_split': 193, 'min_samples_leaf': 3.338912750718429e-08, 'min_weight_fraction_leaf': 2.129231357308274e-07, 'max_features': 834, 'max_leaf_nodes': 5175, 'min_impurity_decrease': 2.5799657996758266e-08, 'ccp_alpha': 4.685969865605687e-06}. Best is trial 181 with value: 0.1895541446762014.\n",
      "[I 2024-02-15 20:04:44,041] Trial 229 finished with value: 0.22973372678186804 and parameters: {'max_depth': 3612, 'min_samples_split': 383, 'min_samples_leaf': 5.02516097294016e-09, 'min_weight_fraction_leaf': 2.7183753549065504e-07, 'max_features': 887, 'max_leaf_nodes': 7067, 'min_impurity_decrease': 7.74857973085966e-10, 'ccp_alpha': 1.0680634564039007e-06}. Best is trial 181 with value: 0.1895541446762014.\n",
      "[I 2024-02-15 20:05:06,958] Trial 230 finished with value: 0.1929795927096083 and parameters: {'max_depth': 4046, 'min_samples_split': 6, 'min_samples_leaf': 1.8798124463398392e-08, 'min_weight_fraction_leaf': 1.4158102705732436e-06, 'max_features': 800, 'max_leaf_nodes': 6778, 'min_impurity_decrease': 3.3779489989390602e-09, 'ccp_alpha': 2.5004165194685783e-06}. Best is trial 181 with value: 0.1895541446762014.\n",
      "[I 2024-02-15 20:05:28,986] Trial 231 finished with value: 0.19592653061047252 and parameters: {'max_depth': 4012, 'min_samples_split': 4, 'min_samples_leaf': 1.535394662635906e-08, 'min_weight_fraction_leaf': 2.4238929490145854e-06, 'max_features': 808, 'max_leaf_nodes': 6760, 'min_impurity_decrease': 3.8992491682183245e-09, 'ccp_alpha': 2.621227828772127e-06}. Best is trial 181 with value: 0.1895541446762014.\n",
      "[I 2024-02-15 20:05:52,031] Trial 232 finished with value: 0.19575574983460792 and parameters: {'max_depth': 4157, 'min_samples_split': 3, 'min_samples_leaf': 2.0510117610204068e-08, 'min_weight_fraction_leaf': 1.020111548908269e-06, 'max_features': 793, 'max_leaf_nodes': 6625, 'min_impurity_decrease': 1.1483693308094944e-08, 'ccp_alpha': 1.7135286625714493e-06}. Best is trial 181 with value: 0.1895541446762014.\n",
      "[I 2024-02-15 20:06:01,722] Trial 233 finished with value: 0.21511322452720036 and parameters: {'max_depth': 4390, 'min_samples_split': 195, 'min_samples_leaf': 9.82109594267359e-09, 'min_weight_fraction_leaf': 1.7941984917753744e-06, 'max_features': 836, 'max_leaf_nodes': 5428, 'min_impurity_decrease': 6.143123052671899e-09, 'ccp_alpha': 4.980997920382918e-06}. Best is trial 181 with value: 0.1895541446762014.\n",
      "[I 2024-02-15 20:06:25,295] Trial 234 finished with value: 0.19474548091205546 and parameters: {'max_depth': 3893, 'min_samples_split': 2, 'min_samples_leaf': 2.588091634991088e-08, 'min_weight_fraction_leaf': 1.2415217673811193e-06, 'max_features': 775, 'max_leaf_nodes': 7624, 'min_impurity_decrease': 1.5558719563629064e-08, 'ccp_alpha': 2.5918550183638034e-06}. Best is trial 181 with value: 0.1895541446762014.\n",
      "[I 2024-02-15 20:06:33,823] Trial 235 finished with value: 0.2253254786967409 and parameters: {'max_depth': 4166, 'min_samples_split': 300, 'min_samples_leaf': 5.547454180768797e-08, 'min_weight_fraction_leaf': 5.112177358177659e-07, 'max_features': 822, 'max_leaf_nodes': 6903, 'min_impurity_decrease': 1.73265219882714e-09, 'ccp_alpha': 6.765432033129146e-07}. Best is trial 181 with value: 0.1895541446762014.\n",
      "[I 2024-02-15 20:06:43,089] Trial 236 finished with value: 0.2145943394235544 and parameters: {'max_depth': 4490, 'min_samples_split': 189, 'min_samples_leaf': 1.258362850224167e-08, 'min_weight_fraction_leaf': 1.5754577956093282e-07, 'max_features': 802, 'max_leaf_nodes': 8186, 'min_impurity_decrease': 1.6637366875364592e-10, 'ccp_alpha': 1.027872355959072e-06}. Best is trial 181 with value: 0.1895541446762014.\n",
      "[I 2024-02-15 20:06:49,684] Trial 237 finished with value: 0.2408052430313691 and parameters: {'max_depth': 3574, 'min_samples_split': 474, 'min_samples_leaf': 6.5455847668393305e-09, 'min_weight_fraction_leaf': 7.379472827427984e-07, 'max_features': 863, 'max_leaf_nodes': 7252, 'min_impurity_decrease': 3.2321877306440244e-09, 'ccp_alpha': 1.573137957236454e-06}. Best is trial 181 with value: 0.1895541446762014.\n",
      "[I 2024-02-15 20:06:59,826] Trial 238 finished with value: 0.21456931639519494 and parameters: {'max_depth': 3825, 'min_samples_split': 175, 'min_samples_leaf': 1.4667383347672453e-07, 'min_weight_fraction_leaf': 4.42714131059477e-07, 'max_features': 847, 'max_leaf_nodes': 6444, 'min_impurity_decrease': 9.418422139994321e-09, 'ccp_alpha': 4.947190951591275e-09}. Best is trial 181 with value: 0.1895541446762014.\n",
      "[I 2024-02-15 20:07:06,877] Trial 239 finished with value: 0.2317102179726588 and parameters: {'max_depth': 3312, 'min_samples_split': 357, 'min_samples_leaf': 3.593639297949412e-08, 'min_weight_fraction_leaf': 3.297053186794915e-07, 'max_features': 824, 'max_leaf_nodes': 4602, 'min_impurity_decrease': 3.936428522167278e-08, 'ccp_alpha': 1.560499850839429e-05}. Best is trial 181 with value: 0.1895541446762014.\n",
      "[I 2024-02-15 20:07:16,405] Trial 240 finished with value: 0.21274900800054422 and parameters: {'max_depth': 4072, 'min_samples_split': 171, 'min_samples_leaf': 1.8324300440842657e-08, 'min_weight_fraction_leaf': 6.90961858171119e-08, 'max_features': 785, 'max_leaf_nodes': 2843, 'min_impurity_decrease': 5.878874653785919e-09, 'ccp_alpha': 7.493649302702053e-06}. Best is trial 181 with value: 0.1895541446762014.\n",
      "[I 2024-02-15 20:07:25,770] Trial 241 finished with value: 0.2114721533261446 and parameters: {'max_depth': 3892, 'min_samples_split': 154, 'min_samples_leaf': 2.6370954183971818e-08, 'min_weight_fraction_leaf': 1.2209657687253884e-06, 'max_features': 767, 'max_leaf_nodes': 7775, 'min_impurity_decrease': 1.8620560449281698e-08, 'ccp_alpha': 2.2681885616888564e-06}. Best is trial 181 with value: 0.1895541446762014.\n",
      "[I 2024-02-15 20:07:40,836] Trial 242 finished with value: 0.19459190264302617 and parameters: {'max_depth': 4303, 'min_samples_split': 54, 'min_samples_leaf': 3.0742016896209156e-08, 'min_weight_fraction_leaf': 2.6342812369462722e-06, 'max_features': 777, 'max_leaf_nodes': 7649, 'min_impurity_decrease': 1.7383532257344328e-08, 'ccp_alpha': 3.173547688450298e-06}. Best is trial 181 with value: 0.1895541446762014.\n",
      "[I 2024-02-15 20:08:03,642] Trial 243 finished with value: 0.19324515518696944 and parameters: {'max_depth': 4385, 'min_samples_split': 7, 'min_samples_leaf': 4.44059240890717e-08, 'min_weight_fraction_leaf': 3.8149670070420435e-06, 'max_features': 806, 'max_leaf_nodes': 7408, 'min_impurity_decrease': 2.6319556808232364e-08, 'ccp_alpha': 3.9397280013832765e-06}. Best is trial 181 with value: 0.1895541446762014.\n",
      "[I 2024-02-15 20:08:25,619] Trial 244 finished with value: 0.19562399948316722 and parameters: {'max_depth': 4330, 'min_samples_split': 6, 'min_samples_leaf': 6.137056065560016e-08, 'min_weight_fraction_leaf': 3.948708420028654e-06, 'max_features': 794, 'max_leaf_nodes': 7460, 'min_impurity_decrease': 2.0681374292238402e-08, 'ccp_alpha': 3.884508304873253e-06}. Best is trial 181 with value: 0.1895541446762014.\n",
      "[I 2024-02-15 20:08:33,341] Trial 245 finished with value: 0.22830818866261698 and parameters: {'max_depth': 4578, 'min_samples_split': 328, 'min_samples_leaf': 4.374158541190912e-08, 'min_weight_fraction_leaf': 7.07860650579551e-06, 'max_features': 812, 'max_leaf_nodes': 7037, 'min_impurity_decrease': 6.857932046966132e-08, 'ccp_alpha': 5.471576659188562e-06}. Best is trial 181 with value: 0.1895541446762014.\n",
      "[I 2024-02-15 20:08:43,610] Trial 246 finished with value: 0.2156600360358815 and parameters: {'max_depth': 4295, 'min_samples_split': 191, 'min_samples_leaf': 1.0412281246490624e-07, 'min_weight_fraction_leaf': 3.249050900376623e-06, 'max_features': 783, 'max_leaf_nodes': 7573, 'min_impurity_decrease': 3.9225154971493565e-08, 'ccp_alpha': 3.1441981081240143e-06}. Best is trial 181 with value: 0.1895541446762014.\n",
      "[I 2024-02-15 20:09:06,381] Trial 247 finished with value: 0.1989788205988678 and parameters: {'max_depth': 4863, 'min_samples_split': 3, 'min_samples_leaf': 7.365666822131102e-08, 'min_weight_fraction_leaf': 5.441130255378694e-06, 'max_features': 753, 'max_leaf_nodes': 7287, 'min_impurity_decrease': 1.1397648930387206e-08, 'ccp_alpha': 1.4739887559427616e-06}. Best is trial 181 with value: 0.1895541446762014.\n",
      "[I 2024-02-15 20:09:09,660] Trial 248 finished with value: 0.47609502295632466 and parameters: {'max_depth': 4486, 'min_samples_split': 497, 'min_samples_leaf': 3.543701129019697e-08, 'min_weight_fraction_leaf': 1.662336620261533e-06, 'max_features': 805, 'max_leaf_nodes': 7759, 'min_impurity_decrease': 0.06029761308580986, 'ccp_alpha': 2.4638280976118083e-06}. Best is trial 181 with value: 0.1895541446762014.\n",
      "[I 2024-02-15 20:09:17,554] Trial 249 finished with value: 0.22779292821874705 and parameters: {'max_depth': 4720, 'min_samples_split': 328, 'min_samples_leaf': 1.9929555582623444e-08, 'min_weight_fraction_leaf': 2.3702792099302373e-06, 'max_features': 835, 'max_leaf_nodes': 7113, 'min_impurity_decrease': 1.797253641587447e-08, 'ccp_alpha': 4.975611635987611e-07}. Best is trial 181 with value: 0.1895541446762014.\n",
      "[I 2024-02-15 20:09:30,200] Trial 250 finished with value: 0.21079400045292201 and parameters: {'max_depth': 4228, 'min_samples_split': 154, 'min_samples_leaf': 4.477864067166465e-08, 'min_weight_fraction_leaf': 4.043847518641088e-06, 'max_features': 817, 'max_leaf_nodes': 6713, 'min_impurity_decrease': 3.2715273976188746e-08, 'ccp_alpha': 1.0933231068258687e-05}. Best is trial 181 with value: 0.1895541446762014.\n",
      "[I 2024-02-15 20:09:37,580] Trial 251 finished with value: 0.5390042935297236 and parameters: {'max_depth': 4372, 'min_samples_split': 614, 'min_samples_leaf': 9.732134145823542e-08, 'min_weight_fraction_leaf': 2.2517547113564448e-07, 'max_features': 772, 'max_leaf_nodes': 7486, 'min_impurity_decrease': 9.888565276112062e-09, 'ccp_alpha': 0.0916733996783765}. Best is trial 181 with value: 0.1895541446762014.\n",
      "[I 2024-02-15 20:09:42,234] Trial 252 finished with value: 0.34764468418040906 and parameters: {'max_depth': 4087, 'min_samples_split': 5727, 'min_samples_leaf': 2.9627004730044567e-08, 'min_weight_fraction_leaf': 1.0625583296186273e-05, 'max_features': 850, 'max_leaf_nodes': 7925, 'min_impurity_decrease': 2.5177429170502854e-08, 'ccp_alpha': 5.101837374261526e-06}. Best is trial 181 with value: 0.1895541446762014.\n",
      "[I 2024-02-15 20:10:05,181] Trial 253 finished with value: 0.19546130399257977 and parameters: {'max_depth': 2516, 'min_samples_split': 6, 'min_samples_leaf': 1.6741418208409325e-08, 'min_weight_fraction_leaf': 9.564153464913161e-08, 'max_features': 795, 'max_leaf_nodes': 6789, 'min_impurity_decrease': 5.3649848898062743e-08, 'ccp_alpha': 1.1201985083676248e-06}. Best is trial 181 with value: 0.1895541446762014.\n",
      "[I 2024-02-15 20:10:09,226] Trial 254 finished with value: 0.33260986472747167 and parameters: {'max_depth': 2823, 'min_samples_split': 3820, 'min_samples_leaf': 6.763919417662265e-08, 'min_weight_fraction_leaf': 2.5428658933651937e-06, 'max_features': 826, 'max_leaf_nodes': 7361, 'min_impurity_decrease': 1.3316466627456068e-08, 'ccp_alpha': 2.800283110896608e-06}. Best is trial 181 with value: 0.1895541446762014.\n",
      "[I 2024-02-15 20:10:17,505] Trial 255 finished with value: 0.2288174459307452 and parameters: {'max_depth': 3072, 'min_samples_split': 337, 'min_samples_leaf': 2.794404904179987e-08, 'min_weight_fraction_leaf': 1.2968186578317547e-07, 'max_features': 866, 'max_leaf_nodes': 6954, 'min_impurity_decrease': 3.8166003767686486e-09, 'ccp_alpha': 8.297454446938231e-07}. Best is trial 181 with value: 0.1895541446762014.\n",
      "[I 2024-02-15 20:10:26,788] Trial 256 finished with value: 0.21659411164758105 and parameters: {'max_depth': 4579, 'min_samples_split': 201, 'min_samples_leaf': 4.804528989306664e-08, 'min_weight_fraction_leaf': 2.2409790755929343e-07, 'max_features': 807, 'max_leaf_nodes': 5842, 'min_impurity_decrease': 5.754962707121269e-10, 'ccp_alpha': 1.5594266694121954e-06}. Best is trial 181 with value: 0.1895541446762014.\n",
      "[I 2024-02-15 20:10:48,662] Trial 257 finished with value: 0.19770048903215187 and parameters: {'max_depth': 4269, 'min_samples_split': 4, 'min_samples_leaf': 1.37053595936055e-08, 'min_weight_fraction_leaf': 7.298408264974257e-07, 'max_features': 785, 'max_leaf_nodes': 7686, 'min_impurity_decrease': 7.452690063943774e-09, 'ccp_alpha': 1.1716935985120663e-08}. Best is trial 181 with value: 0.1895541446762014.\n",
      "[I 2024-02-15 20:10:56,336] Trial 258 finished with value: 0.22994195167121861 and parameters: {'max_depth': 4005, 'min_samples_split': 377, 'min_samples_leaf': 3.3662761590736056e-09, 'min_weight_fraction_leaf': 2.865409904054851e-08, 'max_features': 924, 'max_leaf_nodes': 4951, 'min_impurity_decrease': 3.161129984628671e-08, 'ccp_alpha': 6.682570360003289e-06}. Best is trial 181 with value: 0.1895541446762014.\n",
      "[I 2024-02-15 20:11:07,482] Trial 259 finished with value: 0.21498909302734281 and parameters: {'max_depth': 4432, 'min_samples_split': 193, 'min_samples_leaf': 2.1256675917120214e-08, 'min_weight_fraction_leaf': 2.992079246354145e-07, 'max_features': 841, 'max_leaf_nodes': 7177, 'min_impurity_decrease': 2.3130200944760196e-09, 'ccp_alpha': 3.8636381501065765e-06}. Best is trial 181 with value: 0.1895541446762014.\n",
      "[I 2024-02-15 20:11:13,819] Trial 260 finished with value: 0.24197618531971837 and parameters: {'max_depth': 4809, 'min_samples_split': 521, 'min_samples_leaf': 9.134092282325333e-09, 'min_weight_fraction_leaf': 1.6631374794996312e-07, 'max_features': 757, 'max_leaf_nodes': 6619, 'min_impurity_decrease': 1.714921111598676e-08, 'ccp_alpha': 1.7791224139980635e-06}. Best is trial 181 with value: 0.1895541446762014.\n",
      "[I 2024-02-15 20:11:23,242] Trial 261 finished with value: 0.21349365074256027 and parameters: {'max_depth': 4187, 'min_samples_split': 179, 'min_samples_leaf': 1.51198190647153e-07, 'min_weight_fraction_leaf': 1.4896266766436568e-06, 'max_features': 816, 'max_leaf_nodes': 8092, 'min_impurity_decrease': 8.852165669683033e-09, 'ccp_alpha': 3.7553817083048644e-07}. Best is trial 181 with value: 0.1895541446762014.\n",
      "[I 2024-02-15 20:11:29,272] Trial 262 finished with value: 0.2515654508698594 and parameters: {'max_depth': 5027, 'min_samples_split': 662, 'min_samples_leaf': 3.610912169509861e-08, 'min_weight_fraction_leaf': 4.13891088309017e-07, 'max_features': 832, 'max_leaf_nodes': 6295, 'min_impurity_decrease': 9.430577577522184e-08, 'ccp_alpha': 7.028082618251983e-07}. Best is trial 181 with value: 0.1895541446762014.\n",
      "[I 2024-02-15 20:11:36,149] Trial 263 finished with value: 0.23943218495351962 and parameters: {'max_depth': 4625, 'min_samples_split': 381, 'min_samples_leaf': 1.0744945033843913e-09, 'min_weight_fraction_leaf': 6.415459067413009e-07, 'max_features': 795, 'max_leaf_nodes': 5258, 'min_impurity_decrease': 9.069201882366026e-05, 'ccp_alpha': 8.8221661866942e-06}. Best is trial 181 with value: 0.1895541446762014.\n",
      "[I 2024-02-15 20:11:57,001] Trial 264 finished with value: 0.1926768587831873 and parameters: {'max_depth': 3851, 'min_samples_split': 8, 'min_samples_leaf': 1.4146816711495204e-08, 'min_weight_fraction_leaf': 9.768891495442746e-07, 'max_features': 775, 'max_leaf_nodes': 5730, 'min_impurity_decrease': 5.731248073388718e-09, 'ccp_alpha': 2.8278722722992757e-06}. Best is trial 181 with value: 0.1895541446762014.\n",
      "[I 2024-02-15 20:12:07,438] Trial 265 finished with value: 0.21578696723233684 and parameters: {'max_depth': 3787, 'min_samples_split': 200, 'min_samples_leaf': 7.931605523622996e-09, 'min_weight_fraction_leaf': 9.363335609375832e-07, 'max_features': 870, 'max_leaf_nodes': 5732, 'min_impurity_decrease': 1.058685020706937e-09, 'ccp_alpha': 1.1288706454504689e-06}. Best is trial 181 with value: 0.1895541446762014.\n",
      "[I 2024-02-15 20:12:13,136] Trial 266 finished with value: 0.2334284874540013 and parameters: {'max_depth': 3133, 'min_samples_split': 321, 'min_samples_leaf': 1.3085037879472519e-08, 'min_weight_fraction_leaf': 3.3850885862362935e-07, 'max_features': 547, 'max_leaf_nodes': 5457, 'min_impurity_decrease': 5.524061895201932e-09, 'ccp_alpha': 1.835681829548816e-06}. Best is trial 181 with value: 0.1895541446762014.\n",
      "[I 2024-02-15 20:12:22,845] Trial 267 finished with value: 0.21889447211628915 and parameters: {'max_depth': 3905, 'min_samples_split': 193, 'min_samples_leaf': 1.890139892944604e-08, 'min_weight_fraction_leaf': 2.103150132483235e-07, 'max_features': 812, 'max_leaf_nodes': 5882, 'min_impurity_decrease': 4.077413806805559e-09, 'ccp_alpha': 2.0559208246650136e-05}. Best is trial 181 with value: 0.1895541446762014.\n",
      "[I 2024-02-15 20:12:41,842] Trial 268 finished with value: 0.19202780719020812 and parameters: {'max_depth': 4038, 'min_samples_split': 28, 'min_samples_leaf': 4.087966870271336e-09, 'min_weight_fraction_leaf': 9.211335379424199e-07, 'max_features': 845, 'max_leaf_nodes': 5660, 'min_impurity_decrease': 3.3907518741804426e-09, 'ccp_alpha': 4.731635132258602e-06}. Best is trial 181 with value: 0.1895541446762014.\n",
      "[I 2024-02-15 20:12:47,495] Trial 269 finished with value: 0.25923410322748264 and parameters: {'max_depth': 4067, 'min_samples_split': 476, 'min_samples_leaf': 1.7249642094808176e-09, 'min_weight_fraction_leaf': 9.771870662995916e-07, 'max_features': 894, 'max_leaf_nodes': 6396, 'min_impurity_decrease': 0.0002968610747391884, 'ccp_alpha': 5.67773893570037e-06}. Best is trial 181 with value: 0.1895541446762014.\n",
      "[I 2024-02-15 20:13:09,945] Trial 270 finished with value: 0.19987025023971783 and parameters: {'max_depth': 3800, 'min_samples_split': 10, 'min_samples_leaf': 3.253587583250158e-09, 'min_weight_fraction_leaf': 5.246310782498694e-07, 'max_features': 851, 'max_leaf_nodes': 5992, 'min_impurity_decrease': 9.498063671351826e-09, 'ccp_alpha': 1.2802605952256518e-05}. Best is trial 181 with value: 0.1895541446762014.\n",
      "[I 2024-02-15 20:13:31,978] Trial 271 finished with value: 0.3038777569079387 and parameters: {'max_depth': 3606, 'min_samples_split': 4, 'min_samples_leaf': 6.1121921122751655e-09, 'min_weight_fraction_leaf': 6.900506513256037e-07, 'max_features': 833, 'max_leaf_nodes': 5650, 'min_impurity_decrease': 2.577802760915294e-09, 'ccp_alpha': 0.0024043741721520837}. Best is trial 181 with value: 0.1895541446762014.\n",
      "[I 2024-02-15 20:13:39,101] Trial 272 finished with value: 0.22944305615561444 and parameters: {'max_depth': 4034, 'min_samples_split': 332, 'min_samples_leaf': 5.481961256418588e-09, 'min_weight_fraction_leaf': 3.2307612801366946e-07, 'max_features': 733, 'max_leaf_nodes': 6847, 'min_impurity_decrease': 3.7754963311786954e-07, 'ccp_alpha': 3.9433619156375035e-06}. Best is trial 181 with value: 0.1895541446762014.\n",
      "[I 2024-02-15 20:13:48,682] Trial 273 finished with value: 0.21580102238057802 and parameters: {'max_depth': 3399, 'min_samples_split': 199, 'min_samples_leaf': 2.5249639176722914e-09, 'min_weight_fraction_leaf': 1.2495725285928931e-07, 'max_features': 862, 'max_leaf_nodes': 6604, 'min_impurity_decrease': 4.5230400342423455e-09, 'ccp_alpha': 7.886134233594757e-06}. Best is trial 181 with value: 0.1895541446762014.\n",
      "[I 2024-02-15 20:13:51,927] Trial 274 finished with value: 0.4649165293260612 and parameters: {'max_depth': 3792, 'min_samples_split': 9378, 'min_samples_leaf': 1.0787786395509126e-08, 'min_weight_fraction_leaf': 1.1263651535236068e-06, 'max_features': 770, 'max_leaf_nodes': 5303, 'min_impurity_decrease': 3.088925781105413e-10, 'ccp_alpha': 2.2876301452346932e-06}. Best is trial 181 with value: 0.1895541446762014.\n",
      "[I 2024-02-15 20:14:04,454] Trial 275 finished with value: 0.19896553391856375 and parameters: {'max_depth': 4438, 'min_samples_split': 13, 'min_samples_leaf': 4.632006981194404e-09, 'min_weight_fraction_leaf': 4.488658161374595e-07, 'max_features': 795, 'max_leaf_nodes': 5125, 'min_impurity_decrease': 1.1604970607724128e-05, 'ccp_alpha': 4.029419826873364e-06}. Best is trial 181 with value: 0.1895541446762014.\n",
      "[I 2024-02-15 20:14:11,081] Trial 276 finished with value: 0.2514568846712887 and parameters: {'max_depth': 4122, 'min_samples_split': 651, 'min_samples_leaf': 1.0499694090870788e-07, 'min_weight_fraction_leaf': 2.3462822758291537e-07, 'max_features': 844, 'max_leaf_nodes': 7016, 'min_impurity_decrease': 1.1781588624031927e-08, 'ccp_alpha': 2.570335215051413e-06}. Best is trial 181 with value: 0.1895541446762014.\n",
      "[I 2024-02-15 20:14:18,497] Trial 277 finished with value: 0.2309004765719343 and parameters: {'max_depth': 3982, 'min_samples_split': 376, 'min_samples_leaf': 8.089886929134764e-09, 'min_weight_fraction_leaf': 4.875797858018769e-08, 'max_features': 805, 'max_leaf_nodes': 5789, 'min_impurity_decrease': 2.9538186011122736e-08, 'ccp_alpha': 8.112676803163755e-07}. Best is trial 181 with value: 0.1895541446762014.\n",
      "[I 2024-02-15 20:14:41,938] Trial 278 finished with value: 0.19814011238380652 and parameters: {'max_depth': 4261, 'min_samples_split': 5, 'min_samples_leaf': 6.369235135648684e-08, 'min_weight_fraction_leaf': 7.505187817880076e-07, 'max_features': 820, 'max_leaf_nodes': 7287, 'min_impurity_decrease': 6.997205847802317e-09, 'ccp_alpha': 2.652269119335836e-08}. Best is trial 181 with value: 0.1895541446762014.\n",
      "[I 2024-02-15 20:14:49,407] Trial 279 finished with value: 0.21944951329407208 and parameters: {'max_depth': 4669, 'min_samples_split': 215, 'min_samples_leaf': 1.4794074717900543e-08, 'min_weight_fraction_leaf': 8.558500475608814e-08, 'max_features': 624, 'max_leaf_nodes': 6230, 'min_impurity_decrease': 1.774024569650276e-09, 'ccp_alpha': 1.3007740503427237e-06}. Best is trial 181 with value: 0.1895541446762014.\n",
      "[I 2024-02-15 20:14:56,908] Trial 280 finished with value: 0.23941620175749523 and parameters: {'max_depth': 3700, 'min_samples_split': 491, 'min_samples_leaf': 2.141715782042199e-09, 'min_weight_fraction_leaf': 1.517568324791117e-06, 'max_features': 831, 'max_leaf_nodes': 6492, 'min_impurity_decrease': 5.440723422328253e-08, 'ccp_alpha': 2.0193814045013787e-07}. Best is trial 181 with value: 0.1895541446762014.\n",
      "[I 2024-02-15 20:15:05,941] Trial 281 finished with value: 0.21641027153727982 and parameters: {'max_depth': 4479, 'min_samples_split': 203, 'min_samples_leaf': 4.942871541551629e-08, 'min_weight_fraction_leaf': 1.46390219951997e-07, 'max_features': 749, 'max_leaf_nodes': 5615, 'min_impurity_decrease': 1.507373658550548e-08, 'ccp_alpha': 7.290311268123206e-09}. Best is trial 181 with value: 0.1895541446762014.\n",
      "[I 2024-02-15 20:15:09,239] Trial 282 finished with value: 0.3904124315561518 and parameters: {'max_depth': 3451, 'min_samples_split': 7693, 'min_samples_leaf': 2.3373334252923255e-08, 'min_weight_fraction_leaf': 3.6414385043551297e-07, 'max_features': 780, 'max_leaf_nodes': 6872, 'min_impurity_decrease': 0.0036558299694274088, 'ccp_alpha': 5.574313998371304e-06}. Best is trial 181 with value: 0.1895541446762014.\n",
      "[I 2024-02-15 20:15:28,439] Trial 283 finished with value: 0.19612153202210642 and parameters: {'max_depth': 4171, 'min_samples_split': 9, 'min_samples_leaf': 3.973574245293359e-05, 'min_weight_fraction_leaf': 5.92147833192858e-07, 'max_features': 882, 'max_leaf_nodes': 3972, 'min_impurity_decrease': 7.193889548998785e-09, 'ccp_alpha': 5.096384540167728e-07}. Best is trial 181 with value: 0.1895541446762014.\n",
      "[I 2024-02-15 20:15:37,069] Trial 284 finished with value: 0.27524605426213167 and parameters: {'max_depth': 3943, 'min_samples_split': 342, 'min_samples_leaf': 4.314928990486991e-09, 'min_weight_fraction_leaf': 2.2982820938048286e-07, 'max_features': 906, 'max_leaf_nodes': 6038, 'min_impurity_decrease': 3.445610280667955e-06, 'ccp_alpha': 0.0008830811858386637}. Best is trial 181 with value: 0.1895541446762014.\n",
      "[I 2024-02-15 20:15:46,668] Trial 285 finished with value: 0.21506112279712847 and parameters: {'max_depth': 2651, 'min_samples_split': 188, 'min_samples_leaf': 1.1627005797769738e-08, 'min_weight_fraction_leaf': 9.552144828032039e-07, 'max_features': 852, 'max_leaf_nodes': 7350, 'min_impurity_decrease': 3.362694242105368e-09, 'ccp_alpha': 2.46464394058217e-06}. Best is trial 181 with value: 0.1895541446762014.\n",
      "[I 2024-02-15 20:15:52,159] Trial 286 finished with value: 0.24852683831123862 and parameters: {'max_depth': 4832, 'min_samples_split': 589, 'min_samples_leaf': 7.770657327492378e-08, 'min_weight_fraction_leaf': 3.9477418678889226e-07, 'max_features': 657, 'max_leaf_nodes': 4760, 'min_impurity_decrease': 2.7589805177704814e-08, 'ccp_alpha': 1.2489085014862338e-05}. Best is trial 181 with value: 0.1895541446762014.\n",
      "[I 2024-02-15 20:16:12,430] Trial 287 finished with value: 0.19177477139490082 and parameters: {'max_depth': 4448, 'min_samples_split': 12, 'min_samples_leaf': 6.870700900278654e-09, 'min_weight_fraction_leaf': 1.6553136661336568e-07, 'max_features': 801, 'max_leaf_nodes': 5502, 'min_impurity_decrease': 1.1189098659791052e-08, 'ccp_alpha': 4.031323357251134e-06}. Best is trial 181 with value: 0.1895541446762014.\n",
      "[I 2024-02-15 20:16:20,353] Trial 288 finished with value: 0.22819632760651287 and parameters: {'max_depth': 4466, 'min_samples_split': 319, 'min_samples_leaf': 7.333846560309967e-09, 'min_weight_fraction_leaf': 1.2517070062287775e-07, 'max_features': 793, 'max_leaf_nodes': 7121, 'min_impurity_decrease': 1.4758354589099326e-08, 'ccp_alpha': 7.603062149253798e-06}. Best is trial 181 with value: 0.1895541446762014.\n",
      "[I 2024-02-15 20:16:29,659] Trial 289 finished with value: 0.21338135739722713 and parameters: {'max_depth': 4664, 'min_samples_split': 173, 'min_samples_leaf': 1.037290337909792e-06, 'min_weight_fraction_leaf': 6.325410451465363e-08, 'max_features': 763, 'max_leaf_nodes': 5328, 'min_impurity_decrease': 2.415721655817633e-08, 'ccp_alpha': 4.233742677977941e-06}. Best is trial 181 with value: 0.1895541446762014.\n",
      "[I 2024-02-15 20:16:32,134] Trial 290 finished with value: 0.7013207160161288 and parameters: {'max_depth': 4386, 'min_samples_split': 447, 'min_samples_leaf': 0.7974422198739012, 'min_weight_fraction_leaf': 1.428213873407398e-07, 'max_features': 576, 'max_leaf_nodes': 6672, 'min_impurity_decrease': 5.3932638763049056e-09, 'ccp_alpha': 2.9943549232592502e-06}. Best is trial 181 with value: 0.1895541446762014.\n",
      "[I 2024-02-15 20:16:55,518] Trial 291 finished with value: 0.20496909116391518 and parameters: {'max_depth': 4183, 'min_samples_split': 4, 'min_samples_leaf': 6.286893540375662e-09, 'min_weight_fraction_leaf': 1.8716179038840296e-07, 'max_features': 807, 'max_leaf_nodes': 7438, 'min_impurity_decrease': 6.389653125297493e-08, 'ccp_alpha': 1.75937023018282e-05}. Best is trial 181 with value: 0.1895541446762014.\n",
      "[I 2024-02-15 20:17:03,753] Trial 292 finished with value: 0.22135695352588042 and parameters: {'max_depth': 3705, 'min_samples_split': 234, 'min_samples_leaf': 8.482046101439793e-09, 'min_weight_fraction_leaf': 8.506477070367336e-08, 'max_features': 783, 'max_leaf_nodes': 7863, 'min_impurity_decrease': 1.0499619272520449e-08, 'ccp_alpha': 5.4685445020358465e-06}. Best is trial 181 with value: 0.1895541446762014.\n",
      "[I 2024-02-15 20:17:10,255] Trial 293 finished with value: 0.2527217626716626 and parameters: {'max_depth': 5000, 'min_samples_split': 684, 'min_samples_leaf': 2.8826482591735753e-09, 'min_weight_fraction_leaf': 1.6885961613825239e-06, 'max_features': 824, 'max_leaf_nodes': 5814, 'min_impurity_decrease': 1.7836801297076865e-06, 'ccp_alpha': 3.27373025064292e-09}. Best is trial 181 with value: 0.1895541446762014.\n",
      "[I 2024-02-15 20:17:15,021] Trial 294 finished with value: 0.2817902391222739 and parameters: {'max_depth': 4332, 'min_samples_split': 186, 'min_samples_leaf': 0.02326932095820972, 'min_weight_fraction_leaf': 5.89028664735884e-07, 'max_features': 871, 'max_leaf_nodes': 6327, 'min_impurity_decrease': 8.51962796869256e-10, 'ccp_alpha': 1.960979249747729e-06}. Best is trial 181 with value: 0.1895541446762014.\n",
      "[I 2024-02-15 20:17:19,056] Trial 295 finished with value: 0.2855386314853739 and parameters: {'max_depth': 4534, 'min_samples_split': 2155, 'min_samples_leaf': 4.129322352278305e-09, 'min_weight_fraction_leaf': 2.804040588900602e-07, 'max_features': 801, 'max_leaf_nodes': 5442, 'min_impurity_decrease': 1.700550834000236e-07, 'ccp_alpha': 9.645110058012285e-06}. Best is trial 181 with value: 0.1895541446762014.\n",
      "[I 2024-02-15 20:17:26,344] Trial 296 finished with value: 0.2337248268731519 and parameters: {'max_depth': 3951, 'min_samples_split': 398, 'min_samples_leaf': 1.4721346571490194e-08, 'min_weight_fraction_leaf': 1.2077341019210827e-06, 'max_features': 747, 'max_leaf_nodes': 7595, 'min_impurity_decrease': 4.133297727706098e-08, 'ccp_alpha': 1.0107733740937025e-06}. Best is trial 181 with value: 0.1895541446762014.\n",
      "[I 2024-02-15 20:17:48,380] Trial 297 finished with value: 0.2132885125057063 and parameters: {'max_depth': 4185, 'min_samples_split': 17, 'min_samples_leaf': 4.3647270884425297e-08, 'min_weight_fraction_leaf': 1.960464470651837e-07, 'max_features': 841, 'max_leaf_nodes': 6874, 'min_impurity_decrease': 1.9373491504206134e-08, 'ccp_alpha': 3.7839662460788165e-05}. Best is trial 181 with value: 0.1895541446762014.\n",
      "[I 2024-02-15 20:18:08,679] Trial 298 finished with value: 0.1941637530410514 and parameters: {'max_depth': 5217, 'min_samples_split': 2, 'min_samples_leaf': 1.4103306566581336e-07, 'min_weight_fraction_leaf': 4.265696339322623e-07, 'max_features': 775, 'max_leaf_nodes': 4955, 'min_impurity_decrease': 1.5530695673773644e-09, 'ccp_alpha': 3.5252169813524367e-06}. Best is trial 181 with value: 0.1895541446762014.\n",
      "[I 2024-02-15 20:18:18,212] Trial 299 finished with value: 0.2151610240286635 and parameters: {'max_depth': 5392, 'min_samples_split': 189, 'min_samples_leaf': 2.7387249124843544e-07, 'min_weight_fraction_leaf': 4.1745126294607767e-07, 'max_features': 773, 'max_leaf_nodes': 5058, 'min_impurity_decrease': 1.6398417060952449e-09, 'ccp_alpha': 1.5048656040693204e-08}. Best is trial 181 with value: 0.1895541446762014.\n",
      "[I 2024-02-15 20:18:24,367] Trial 300 finished with value: 0.24243874308616564 and parameters: {'max_depth': 5245, 'min_samples_split': 489, 'min_samples_leaf': 1.645047611847609e-07, 'min_weight_fraction_leaf': 2.7482999497414465e-07, 'max_features': 765, 'max_leaf_nodes': 4979, 'min_impurity_decrease': 5.701585289095314e-10, 'ccp_alpha': 3.254920976813281e-06}. Best is trial 181 with value: 0.1895541446762014.\n",
      "[I 2024-02-15 20:18:43,929] Trial 301 finished with value: 0.1945295480471316 and parameters: {'max_depth': 5126, 'min_samples_split': 3, 'min_samples_leaf': 2.0779265602078752e-07, 'min_weight_fraction_leaf': 1.0300391833223547e-07, 'max_features': 729, 'max_leaf_nodes': 5191, 'min_impurity_decrease': 2.4267345756468765e-09, 'ccp_alpha': 1.784924412772323e-06}. Best is trial 181 with value: 0.1895541446762014.\n",
      "[I 2024-02-15 20:18:51,600] Trial 302 finished with value: 0.22717387510299666 and parameters: {'max_depth': 4853, 'min_samples_split': 322, 'min_samples_leaf': 1.0980976037278249e-07, 'min_weight_fraction_leaf': 1.861350438939059e-07, 'max_features': 783, 'max_leaf_nodes': 4645, 'min_impurity_decrease': 9.07577580232195e-10, 'ccp_alpha': 1.2498904179710868e-06}. Best is trial 181 with value: 0.1895541446762014.\n",
      "[I 2024-02-15 20:19:01,367] Trial 303 finished with value: 0.21523524455101994 and parameters: {'max_depth': 5550, 'min_samples_split': 195, 'min_samples_leaf': 1.0691330239932343e-08, 'min_weight_fraction_leaf': 3.190808030531292e-07, 'max_features': 791, 'max_leaf_nodes': 4829, 'min_impurity_decrease': 3.541362528836825e-09, 'ccp_alpha': 3.0271192978667253e-07}. Best is trial 181 with value: 0.1895541446762014.\n",
      "[I 2024-02-15 20:19:04,368] Trial 304 finished with value: 0.461405776443388 and parameters: {'max_depth': 4754, 'min_samples_split': 358, 'min_samples_leaf': 8.609593410900023e-08, 'min_weight_fraction_leaf': 0.17651419558650572, 'max_features': 749, 'max_leaf_nodes': 6534, 'min_impurity_decrease': 1.4981483623791282e-09, 'ccp_alpha': 3.8543030877432904e-06}. Best is trial 181 with value: 0.1895541446762014.\n",
      "[I 2024-02-15 20:19:09,855] Trial 305 finished with value: 0.2568376954256898 and parameters: {'max_depth': 3849, 'min_samples_split': 768, 'min_samples_leaf': 5.898329147214408e-09, 'min_weight_fraction_leaf': 5.605219522719288e-07, 'max_features': 812, 'max_leaf_nodes': 5522, 'min_impurity_decrease': 4.953503456571267e-09, 'ccp_alpha': 7.197098866293511e-07}. Best is trial 181 with value: 0.1895541446762014.\n",
      "[I 2024-02-15 20:19:20,413] Trial 306 finished with value: 0.21257321410213909 and parameters: {'max_depth': 4023, 'min_samples_split': 164, 'min_samples_leaf': 1.7451137198367826e-08, 'min_weight_fraction_leaf': 4.6565981024509876e-08, 'max_features': 801, 'max_leaf_nodes': 7115, 'min_impurity_decrease': 4.680891926456508e-10, 'ccp_alpha': 2.2102826256508675e-06}. Best is trial 181 with value: 0.1895541446762014.\n",
      "[I 2024-02-15 20:19:41,251] Trial 307 finished with value: 0.19059937606876987 and parameters: {'max_depth': 3598, 'min_samples_split': 15, 'min_samples_leaf': 1.743437363270056e-09, 'min_weight_fraction_leaf': 1.2780153797711697e-07, 'max_features': 823, 'max_leaf_nodes': 5676, 'min_impurity_decrease': 7.41897791458234e-07, 'ccp_alpha': 2.1719852040257687e-09}. Best is trial 181 with value: 0.1895541446762014.\n",
      "[I 2024-02-15 20:19:49,030] Trial 308 finished with value: 0.24557089372496882 and parameters: {'max_depth': 3441, 'min_samples_split': 547, 'min_samples_leaf': 1.4679338841257689e-09, 'min_weight_fraction_leaf': 1.0953717595062656e-07, 'max_features': 823, 'max_leaf_nodes': 5900, 'min_impurity_decrease': 8.392931534289287e-07, 'ccp_alpha': 4.875747363870825e-09}. Best is trial 181 with value: 0.1895541446762014.\n",
      "[I 2024-02-15 20:20:11,782] Trial 309 finished with value: 0.19833952535012495 and parameters: {'max_depth': 3239, 'min_samples_split': 2, 'min_samples_leaf': 1.381458499273212e-09, 'min_weight_fraction_leaf': 7.539406585542696e-08, 'max_features': 832, 'max_leaf_nodes': 5675, 'min_impurity_decrease': 1.6528058919559363e-09, 'ccp_alpha': 3.0273889020598488e-09}. Best is trial 181 with value: 0.1895541446762014.\n",
      "[I 2024-02-15 20:20:35,606] Trial 310 finished with value: 0.19801806563653643 and parameters: {'max_depth': 3547, 'min_samples_split': 4, 'min_samples_leaf': 1.7318699302363251e-09, 'min_weight_fraction_leaf': 1.6691883647637702e-07, 'max_features': 858, 'max_leaf_nodes': 6130, 'min_impurity_decrease': 2.8412142207513357e-09, 'ccp_alpha': 2.167401355334728e-09}. Best is trial 181 with value: 0.1895541446762014.\n",
      "[I 2024-02-15 20:20:43,180] Trial 311 finished with value: 0.2268191362509276 and parameters: {'max_depth': 3728, 'min_samples_split': 309, 'min_samples_leaf': 1.1207831867921221e-07, 'min_weight_fraction_leaf': 1.262024359558348e-07, 'max_features': 815, 'max_leaf_nodes': 5563, 'min_impurity_decrease': 6.834832413890452e-09, 'ccp_alpha': 1.9967611076286293e-09}. Best is trial 181 with value: 0.1895541446762014.\n",
      "[I 2024-02-15 20:20:46,290] Trial 312 finished with value: 0.5861161381420282 and parameters: {'max_depth': 4983, 'min_samples_split': 190, 'min_samples_leaf': 0.006310298603706516, 'min_weight_fraction_leaf': 2.196504732029564e-07, 'max_features': 52, 'max_leaf_nodes': 5240, 'min_impurity_decrease': 7.713953458572862e-06, 'ccp_alpha': 6.059897703786942e-09}. Best is trial 181 with value: 0.1895541446762014.\n",
      "[I 2024-02-15 20:20:49,957] Trial 313 finished with value: 0.4035092016746572 and parameters: {'max_depth': 9286, 'min_samples_split': 6439, 'min_samples_leaf': 2.3819361433000113e-09, 'min_weight_fraction_leaf': 7.143645384940164e-08, 'max_features': 483, 'max_leaf_nodes': 5393, 'min_impurity_decrease': 2.697240719897009e-10, 'ccp_alpha': 1.001522638161158e-09}. Best is trial 181 with value: 0.1895541446762014.\n",
      "[I 2024-02-15 20:20:55,590] Trial 314 finished with value: 0.23958790621582948 and parameters: {'max_depth': 3289, 'min_samples_split': 462, 'min_samples_leaf': 3.6393234377004435e-09, 'min_weight_fraction_leaf': 3.413702042649869e-08, 'max_features': 507, 'max_leaf_nodes': 4907, 'min_impurity_decrease': 1.0581157668649987e-08, 'ccp_alpha': 6.263658308066751e-07}. Best is trial 181 with value: 0.1895541446762014.\n",
      "[I 2024-02-15 20:21:04,550] Trial 315 finished with value: 0.216891449466652 and parameters: {'max_depth': 3603, 'min_samples_split': 192, 'min_samples_leaf': 2.270093622197044e-09, 'min_weight_fraction_leaf': 2.7843495046360823e-07, 'max_features': 799, 'max_leaf_nodes': 5890, 'min_impurity_decrease': 1.9802906999932755e-05, 'ccp_alpha': 3.1873044816134568e-09}. Best is trial 181 with value: 0.1895541446762014.\n",
      "[I 2024-02-15 20:21:13,434] Trial 316 finished with value: 0.22789517009862417 and parameters: {'max_depth': 4629, 'min_samples_split': 339, 'min_samples_leaf': 6.510446568579222e-08, 'min_weight_fraction_leaf': 1.4548865635448936e-07, 'max_features': 832, 'max_leaf_nodes': 6810, 'min_impurity_decrease': 3.9926754056593966e-09, 'ccp_alpha': 1.026949484185627e-08}. Best is trial 181 with value: 0.1895541446762014.\n",
      "[I 2024-02-15 20:21:16,738] Trial 317 finished with value: 0.3567758729572899 and parameters: {'max_depth': 3049, 'min_samples_split': 4436, 'min_samples_leaf': 3.016534299717088e-08, 'min_weight_fraction_leaf': 5.20369447404081e-07, 'max_features': 525, 'max_leaf_nodes': 6267, 'min_impurity_decrease': 1.0649621454959731e-09, 'ccp_alpha': 1.4848612353579754e-06}. Best is trial 181 with value: 0.1895541446762014.\n",
      "[I 2024-02-15 20:21:32,019] Trial 318 finished with value: 0.19547900980190452 and parameters: {'max_depth': 4475, 'min_samples_split': 8, 'min_samples_leaf': 5.978353686904386e-07, 'min_weight_fraction_leaf': 7.900205203829056e-07, 'max_features': 557, 'max_leaf_nodes': 5712, 'min_impurity_decrease': 1.4666803257277251e-08, 'ccp_alpha': 4.218304530213726e-07}. Best is trial 181 with value: 0.1895541446762014.\n",
      "[I 2024-02-15 20:21:36,189] Trial 319 finished with value: 0.2982648419342645 and parameters: {'max_depth': 2274, 'min_samples_split': 2715, 'min_samples_leaf': 1.2473663178713946e-09, 'min_weight_fraction_leaf': 3.697571853287135e-07, 'max_features': 814, 'max_leaf_nodes': 6467, 'min_impurity_decrease': 8.871429204802925e-09, 'ccp_alpha': 1.7895480091061816e-09}. Best is trial 181 with value: 0.1895541446762014.\n",
      "[I 2024-02-15 20:21:58,800] Trial 320 finished with value: 0.19532607188391377 and parameters: {'max_depth': 3807, 'min_samples_split': 6, 'min_samples_leaf': 3.833604028301733e-09, 'min_weight_fraction_leaf': 2.063472835147136e-07, 'max_features': 848, 'max_leaf_nodes': 6093, 'min_impurity_decrease': 2.183435367158006e-08, 'ccp_alpha': 6.434080261984367e-06}. Best is trial 181 with value: 0.1895541446762014.\n",
      "[I 2024-02-15 20:22:04,825] Trial 321 finished with value: 0.24306924657461587 and parameters: {'max_depth': 4237, 'min_samples_split': 526, 'min_samples_leaf': 2.3545584951929714e-08, 'min_weight_fraction_leaf': 1.9779624764780508e-06, 'max_features': 782, 'max_leaf_nodes': 6665, 'min_impurity_decrease': 5.214941225967364e-09, 'ccp_alpha': 3.744283192461852e-06}. Best is trial 181 with value: 0.1895541446762014.\n",
      "[I 2024-02-15 20:22:14,902] Trial 322 finished with value: 0.2169799206645066 and parameters: {'max_depth': 4724, 'min_samples_split': 205, 'min_samples_leaf': 1.4738824442695896e-07, 'min_weight_fraction_leaf': 1.013569675636675e-07, 'max_features': 878, 'max_leaf_nodes': 5074, 'min_impurity_decrease': 1.438265315663711e-12, 'ccp_alpha': 1.0032622938026797e-06}. Best is trial 181 with value: 0.1895541446762014.\n",
      "[I 2024-02-15 20:22:22,123] Trial 323 finished with value: 0.22645938222356304 and parameters: {'max_depth': 3484, 'min_samples_split': 325, 'min_samples_leaf': 5.8410798661678555e-08, 'min_weight_fraction_leaf': 1.1930443276442613e-06, 'max_features': 797, 'max_leaf_nodes': 7018, 'min_impurity_decrease': 1.1663467934711013e-07, 'ccp_alpha': 1.3530526197605653e-07}. Best is trial 181 with value: 0.1895541446762014.\n",
      "[I 2024-02-15 20:22:45,390] Trial 324 finished with value: 0.19395301899245404 and parameters: {'max_depth': 5151, 'min_samples_split': 6, 'min_samples_leaf': 1.0786956693872638e-09, 'min_weight_fraction_leaf': 2.9249217688707754e-07, 'max_features': 820, 'max_leaf_nodes': 5428, 'min_impurity_decrease': 2.5468902301593146e-09, 'ccp_alpha': 2.017924873133306e-06}. Best is trial 181 with value: 0.1895541446762014.\n",
      "[I 2024-02-15 20:22:49,044] Trial 325 finished with value: 0.35892637858965093 and parameters: {'max_depth': 5047, 'min_samples_split': 185, 'min_samples_leaf': 1.670180684715928e-09, 'min_weight_fraction_leaf': 0.09211571366524668, 'max_features': 818, 'max_leaf_nodes': 5347, 'min_impurity_decrease': 4.417604072470099e-08, 'ccp_alpha': 1.8662873496921237e-06}. Best is trial 181 with value: 0.1895541446762014.\n",
      "[I 2024-02-15 20:22:55,034] Trial 326 finished with value: 0.7013207160161288 and parameters: {'max_depth': 4933, 'min_samples_split': 599, 'min_samples_leaf': 1.2035016346554912e-09, 'min_weight_fraction_leaf': 2.497367988495095e-07, 'max_features': 836, 'max_leaf_nodes': 5534, 'min_impurity_decrease': 6.424196667875027e-07, 'ccp_alpha': 0.7315349199640027}. Best is trial 181 with value: 0.1895541446762014.\n",
      "[I 2024-02-15 20:23:01,774] Trial 327 finished with value: 0.7013207160161288 and parameters: {'max_depth': 5290, 'min_samples_split': 782, 'min_samples_leaf': 2.013564658997208e-09, 'min_weight_fraction_leaf': 3.7088078199595423e-07, 'max_features': 851, 'max_leaf_nodes': 7321, 'min_impurity_decrease': 1.850796740626359e-09, 'ccp_alpha': 157.3074043089885}. Best is trial 181 with value: 0.1895541446762014.\n",
      "[I 2024-02-15 20:23:08,731] Trial 328 finished with value: 0.23630181053381683 and parameters: {'max_depth': 5098, 'min_samples_split': 359, 'min_samples_leaf': 0.003167103903724109, 'min_weight_fraction_leaf': 1.847499940149654e-07, 'max_features': 823, 'max_leaf_nodes': 5174, 'min_impurity_decrease': 3.565065555237046e-05, 'ccp_alpha': 2.340663789484947e-06}. Best is trial 181 with value: 0.1895541446762014.\n",
      "[I 2024-02-15 20:23:30,616] Trial 329 finished with value: 0.19840913134074495 and parameters: {'max_depth': 5313, 'min_samples_split': 8, 'min_samples_leaf': 3.0180825914363315e-09, 'min_weight_fraction_leaf': 1.4736139240624522e-08, 'max_features': 805, 'max_leaf_nodes': 6707, 'min_impurity_decrease': 1.4423136593335163e-08, 'ccp_alpha': 1.0162151660581936e-05}. Best is trial 181 with value: 0.1895541446762014.\n",
      "[I 2024-02-15 20:23:34,199] Trial 330 finished with value: 0.39163393471571134 and parameters: {'max_depth': 4043, 'min_samples_split': 2, 'min_samples_leaf': 0.11085327788228731, 'min_weight_fraction_leaf': 2.79765620877786e-07, 'max_features': 785, 'max_leaf_nodes': 5919, 'min_impurity_decrease': 7.2194069840584204e-09, 'ccp_alpha': 9.96744306713506e-07}. Best is trial 181 with value: 0.1895541446762014.\n",
      "[I 2024-02-15 20:23:41,620] Trial 331 finished with value: 0.21790488174784298 and parameters: {'max_depth': 5680, 'min_samples_split': 208, 'min_samples_leaf': 8.406592786635137e-09, 'min_weight_fraction_leaf': 4.5180785047362324e-07, 'max_features': 604, 'max_leaf_nodes': 7186, 'min_impurity_decrease': 2.943127990776535e-07, 'ccp_alpha': 4.495338003637526e-06}. Best is trial 181 with value: 0.1895541446762014.\n",
      "[I 2024-02-15 20:23:49,639] Trial 332 finished with value: 0.3226337106583991 and parameters: {'max_depth': 4529, 'min_samples_split': 423, 'min_samples_leaf': 1.3084996482885994e-09, 'min_weight_fraction_leaf': 1.354310553048279e-07, 'max_features': 762, 'max_leaf_nodes': 5356, 'min_impurity_decrease': 2.5683154433303283e-08, 'ccp_alpha': 0.007104939016506759}. Best is trial 181 with value: 0.1895541446762014.\n",
      "[I 2024-02-15 20:23:59,108] Trial 333 finished with value: 0.21627566113688174 and parameters: {'max_depth': 4816, 'min_samples_split': 200, 'min_samples_leaf': 4.170042307705799e-09, 'min_weight_fraction_leaf': 5.764662531441795e-08, 'max_features': 840, 'max_leaf_nodes': 5693, 'min_impurity_decrease': 3.090085584386848e-09, 'ccp_alpha': 1.504093318287836e-06}. Best is trial 181 with value: 0.1895541446762014.\n",
      "[I 2024-02-15 20:24:09,298] Trial 334 finished with value: 0.2168705592974614 and parameters: {'max_depth': 4321, 'min_samples_split': 201, 'min_samples_leaf': 5.613471438726111e-09, 'min_weight_fraction_leaf': 5.782351232579411e-07, 'max_features': 819, 'max_leaf_nodes': 7001, 'min_impurity_decrease': 1.179161143201429e-09, 'ccp_alpha': 2.7986958337310077e-06}. Best is trial 181 with value: 0.1895541446762014.\n",
      "[I 2024-02-15 20:24:14,994] Trial 335 finished with value: 0.24303911016854546 and parameters: {'max_depth': 3726, 'min_samples_split': 479, 'min_samples_leaf': 1.0558690135886976e-09, 'min_weight_fraction_leaf': 1.7514531603467274e-07, 'max_features': 681, 'max_leaf_nodes': 7460, 'min_impurity_decrease': 9.230460332247055e-11, 'ccp_alpha': 6.766882345648435e-06}. Best is trial 181 with value: 0.1895541446762014.\n",
      "[I 2024-02-15 20:24:25,150] Trial 336 finished with value: 0.2134355053089359 and parameters: {'max_depth': 3923, 'min_samples_split': 176, 'min_samples_leaf': 1.0220676028593851e-09, 'min_weight_fraction_leaf': 3.284823593673096e-07, 'max_features': 797, 'max_leaf_nodes': 6377, 'min_impurity_decrease': 4.959769330129825e-06, 'ccp_alpha': 5.144994690933906e-07}. Best is trial 181 with value: 0.1895541446762014.\n",
      "[I 2024-02-15 20:24:32,779] Trial 337 finished with value: 0.2276181006901862 and parameters: {'max_depth': 4170, 'min_samples_split': 343, 'min_samples_leaf': 1.4662761587027378e-08, 'min_weight_fraction_leaf': 9.766853161485388e-08, 'max_features': 861, 'max_leaf_nodes': 4956, 'min_impurity_decrease': 1.237180288164825e-08, 'ccp_alpha': 1.7791072971655177e-05}. Best is trial 181 with value: 0.1895541446762014.\n",
      "[I 2024-02-15 20:24:42,202] Trial 338 finished with value: 0.21637333373527926 and parameters: {'max_depth': 4459, 'min_samples_split': 188, 'min_samples_leaf': 2.330278642392077e-09, 'min_weight_fraction_leaf': 7.264442025278939e-07, 'max_features': 772, 'max_leaf_nodes': 5462, 'min_impurity_decrease': 5.962324131562069e-09, 'ccp_alpha': 3.81097845668788e-06}. Best is trial 181 with value: 0.1895541446762014.\n",
      "[I 2024-02-15 20:25:07,990] Trial 339 finished with value: 0.1921604363495088 and parameters: {'max_depth': 4757, 'min_samples_split': 13, 'min_samples_leaf': 1.1955473347663401e-05, 'min_weight_fraction_leaf': 2.6198144919552224e-07, 'max_features': 825, 'max_leaf_nodes': 7800, 'min_impurity_decrease': 7.943704844919359e-08, 'ccp_alpha': 8.215701797494005e-07}. Best is trial 181 with value: 0.1895541446762014.\n",
      "[I 2024-02-15 20:25:15,514] Trial 340 finished with value: 0.2519339194661161 and parameters: {'max_depth': 4637, 'min_samples_split': 635, 'min_samples_leaf': 1.9659581737183297e-08, 'min_weight_fraction_leaf': 2.258717317742553e-07, 'max_features': 835, 'max_leaf_nodes': 8101, 'min_impurity_decrease': 9.164070695166165e-08, 'ccp_alpha': 3.210970301830802e-07}. Best is trial 181 with value: 0.1895541446762014.\n",
      "[I 2024-02-15 20:25:19,284] Trial 341 finished with value: 0.3367222305446697 and parameters: {'max_depth': 4390, 'min_samples_split': 5133, 'min_samples_leaf': 9.722498399475361e-06, 'min_weight_fraction_leaf': 1.3927807230366555e-07, 'max_features': 858, 'max_leaf_nodes': 8533, 'min_impurity_decrease': 3.965869015060675e-08, 'ccp_alpha': 1.0080465539869788e-06}. Best is trial 181 with value: 0.1895541446762014.\n",
      "[I 2024-02-15 20:25:27,853] Trial 342 finished with value: 0.22864820297336924 and parameters: {'max_depth': 4763, 'min_samples_split': 336, 'min_samples_leaf': 9.605931967896545e-09, 'min_weight_fraction_leaf': 2.6332319672127016e-07, 'max_features': 823, 'max_leaf_nodes': 7632, 'min_impurity_decrease': 8.049695772883702e-08, 'ccp_alpha': 6.699686618263035e-07}. Best is trial 181 with value: 0.1895541446762014.\n",
      "[I 2024-02-15 20:25:36,971] Trial 343 finished with value: 0.215468148618967 and parameters: {'max_depth': 4081, 'min_samples_split': 188, 'min_samples_leaf': 6.33566759091175e-05, 'min_weight_fraction_leaf': 8.17181566342494e-08, 'max_features': 810, 'max_leaf_nodes': 8158, 'min_impurity_decrease': 4.9521637408418083e-08, 'ccp_alpha': 2.4275533164706513e-07}. Best is trial 181 with value: 0.1895541446762014.\n",
      "[I 2024-02-15 20:26:01,398] Trial 344 finished with value: 0.19238329367712043 and parameters: {'max_depth': 4602, 'min_samples_split': 12, 'min_samples_leaf': 3.6312714532590326e-08, 'min_weight_fraction_leaf': 1.6094252423272075e-07, 'max_features': 844, 'max_leaf_nodes': 7870, 'min_impurity_decrease': 2.0954437050099313e-08, 'ccp_alpha': 1.5247667253576799e-06}. Best is trial 181 with value: 0.1895541446762014.\n",
      "[I 2024-02-15 20:26:08,079] Trial 345 finished with value: 0.24256975790328247 and parameters: {'max_depth': 4604, 'min_samples_split': 493, 'min_samples_leaf': 0.00035007682143013653, 'min_weight_fraction_leaf': 1.5308387998994512e-07, 'max_features': 838, 'max_leaf_nodes': 7908, 'min_impurity_decrease': 2.3608389272978155e-08, 'ccp_alpha': 1.6551272794812217e-06}. Best is trial 181 with value: 0.1895541446762014.\n",
      "[I 2024-02-15 20:26:16,263] Trial 346 finished with value: 0.22788798950897374 and parameters: {'max_depth': 4826, 'min_samples_split': 333, 'min_samples_leaf': 3.232600760716454e-08, 'min_weight_fraction_leaf': 4.943217376852158e-08, 'max_features': 806, 'max_leaf_nodes': 7245, 'min_impurity_decrease': 1.888098469966647e-08, 'ccp_alpha': 2.084604313266865e-06}. Best is trial 181 with value: 0.1895541446762014.\n",
      "[I 2024-02-15 20:26:26,199] Trial 347 finished with value: 0.21199217056113984 and parameters: {'max_depth': 4306, 'min_samples_split': 163, 'min_samples_leaf': 1.5473162353145113e-08, 'min_weight_fraction_leaf': 1.0736253635321468e-07, 'max_features': 826, 'max_leaf_nodes': 7817, 'min_impurity_decrease': 6.302345531953833e-08, 'ccp_alpha': 1.3437443332566344e-06}. Best is trial 181 with value: 0.1895541446762014.\n",
      "[I 2024-02-15 20:26:33,364] Trial 348 finished with value: 0.20062032319083736 and parameters: {'max_depth': 1642, 'min_samples_split': 12, 'min_samples_leaf': 2.5483212179241924e-08, 'min_weight_fraction_leaf': 2.1900953723093694e-08, 'max_features': 172, 'max_leaf_nodes': 7959, 'min_impurity_decrease': 2.96781848679764e-08, 'ccp_alpha': 3.133908220300839e-08}. Best is trial 181 with value: 0.1895541446762014.\n",
      "[I 2024-02-15 20:26:59,109] Trial 349 finished with value: 0.19402346739044915 and parameters: {'max_depth': 4576, 'min_samples_split': 5, 'min_samples_leaf': 6.217675429437218e-09, 'min_weight_fraction_leaf': 1.441486751564552e-05, 'max_features': 795, 'max_leaf_nodes': 8352, 'min_impurity_decrease': 1.5265114373709134e-08, 'ccp_alpha': 2.3512500015752362e-06}. Best is trial 181 with value: 0.1895541446762014.\n",
      "[I 2024-02-15 20:27:06,273] Trial 350 finished with value: 0.23159394101907171 and parameters: {'max_depth': 4600, 'min_samples_split': 367, 'min_samples_leaf': 3.7627452261159126e-06, 'min_weight_fraction_leaf': 7.739636134270286e-07, 'max_features': 793, 'max_leaf_nodes': 8548, 'min_impurity_decrease': 1.1457861190037041e-08, 'ccp_alpha': 6.897545706894631e-06}. Best is trial 181 with value: 0.1895541446762014.\n",
      "[I 2024-02-15 20:27:11,375] Trial 351 finished with value: 0.25914698312030937 and parameters: {'max_depth': 4934, 'min_samples_split': 879, 'min_samples_leaf': 7.186294488868848e-09, 'min_weight_fraction_leaf': 7.870533955531007e-06, 'max_features': 789, 'max_leaf_nodes': 8775, 'min_impurity_decrease': 1.4954929707731836e-08, 'ccp_alpha': 2.553091732551236e-06}. Best is trial 181 with value: 0.1895541446762014.\n",
      "[I 2024-02-15 20:27:15,547] Trial 352 finished with value: 0.29978055987515145 and parameters: {'max_depth': 4513, 'min_samples_split': 11, 'min_samples_leaf': 0.0008842598516017562, 'min_weight_fraction_leaf': 2.4238544785988176e-05, 'max_features': 137, 'max_leaf_nodes': 8350, 'min_impurity_decrease': 1.0074592625212808e-08, 'ccp_alpha': 4.448526569327631e-06}. Best is trial 181 with value: 0.1895541446762014.\n",
      "[I 2024-02-15 20:27:21,969] Trial 353 finished with value: 0.2473529987395982 and parameters: {'max_depth': 4323, 'min_samples_split': 615, 'min_samples_leaf': 4.992563534257257e-09, 'min_weight_fraction_leaf': 3.569917311793274e-07, 'max_features': 808, 'max_leaf_nodes': 8197, 'min_impurity_decrease': 5.2504955558829075e-09, 'ccp_alpha': 8.939579479433585e-06}. Best is trial 181 with value: 0.1895541446762014.\n",
      "[I 2024-02-15 20:27:47,569] Trial 354 finished with value: 0.19714229620459545 and parameters: {'max_depth': 4741, 'min_samples_split': 2, 'min_samples_leaf': 2.666966769866661e-05, 'min_weight_fraction_leaf': 1.0626943859413585e-05, 'max_features': 787, 'max_leaf_nodes': 8387, 'min_impurity_decrease': 1.6002826728242386e-07, 'ccp_alpha': 2.34732351779266e-06}. Best is trial 181 with value: 0.1895541446762014.\n",
      "[I 2024-02-15 20:27:56,813] Trial 355 finished with value: 0.2191736134620116 and parameters: {'max_depth': 4144, 'min_samples_split': 238, 'min_samples_leaf': 3.516253927903528e-09, 'min_weight_fraction_leaf': 5.147515601710534e-07, 'max_features': 868, 'max_leaf_nodes': 7761, 'min_impurity_decrease': 7.559790441719996e-09, 'ccp_alpha': 7.055780630774291e-07}. Best is trial 181 with value: 0.1895541446762014.\n",
      "[I 2024-02-15 20:28:04,485] Trial 356 finished with value: 0.23512667997911452 and parameters: {'max_depth': 3924, 'min_samples_split': 421, 'min_samples_leaf': 9.54190618944405e-09, 'min_weight_fraction_leaf': 1.4475606970822968e-05, 'max_features': 810, 'max_leaf_nodes': 7532, 'min_impurity_decrease': 1.7339688311735708e-08, 'ccp_alpha': 9.146120688841835e-08}. Best is trial 181 with value: 0.1895541446762014.\n",
      "[I 2024-02-15 20:28:10,233] Trial 357 finished with value: 0.22728806842323585 and parameters: {'max_depth': 4439, 'min_samples_split': 195, 'min_samples_leaf': 1.3757777137607796e-08, 'min_weight_fraction_leaf': 1.914661147245359e-05, 'max_features': 360, 'max_leaf_nodes': 7734, 'min_impurity_decrease': 4.46282251638196e-08, 'ccp_alpha': 4.825490755315285e-06}. Best is trial 181 with value: 0.1895541446762014.\n",
      "[I 2024-02-15 20:28:31,918] Trial 358 finished with value: 0.25599585414180914 and parameters: {'max_depth': 4651, 'min_samples_split': 8, 'min_samples_leaf': 6.476435387639596e-09, 'min_weight_fraction_leaf': 9.237703585726601e-07, 'max_features': 762, 'max_leaf_nodes': 7461, 'min_impurity_decrease': 2.8126341900882398e-08, 'ccp_alpha': 0.00037881303842684074}. Best is trial 181 with value: 0.1895541446762014.\n",
      "[I 2024-02-15 20:28:41,893] Trial 359 finished with value: 0.2166711447890696 and parameters: {'max_depth': 3686, 'min_samples_split': 202, 'min_samples_leaf': 2.060344889648254e-09, 'min_weight_fraction_leaf': 6.636708606446009e-08, 'max_features': 844, 'max_leaf_nodes': 7977, 'min_impurity_decrease': 9.889101402672109e-09, 'ccp_alpha': 1.401505466060148e-06}. Best is trial 181 with value: 0.1895541446762014.\n",
      "[I 2024-02-15 20:28:45,424] Trial 360 finished with value: 0.39506336836131506 and parameters: {'max_depth': 4206, 'min_samples_split': 8274, 'min_samples_leaf': 2.8299072179204177e-09, 'min_weight_fraction_leaf': 1.472390206301274e-07, 'max_features': 826, 'max_leaf_nodes': 6845, 'min_impurity_decrease': 3.8507082334978854e-09, 'ccp_alpha': 2.5488803706147363e-06}. Best is trial 181 with value: 0.1895541446762014.\n",
      "[I 2024-02-15 20:28:50,640] Trial 361 finished with value: 0.2471000978465246 and parameters: {'max_depth': 4950, 'min_samples_split': 476, 'min_samples_leaf': 0.00011148357862160349, 'min_weight_fraction_leaf': 2.8816665399334487e-07, 'max_features': 465, 'max_leaf_nodes': 6669, 'min_impurity_decrease': 1.4504525125128097e-08, 'ccp_alpha': 1.0272235167391687e-05}. Best is trial 181 with value: 0.1895541446762014.\n",
      "[I 2024-02-15 20:28:59,575] Trial 362 finished with value: 0.21563943781035974 and parameters: {'max_depth': 3917, 'min_samples_split': 196, 'min_samples_leaf': 1.0383935913681592e-08, 'min_weight_fraction_leaf': 5.112496761349075e-07, 'max_features': 797, 'max_leaf_nodes': 7036, 'min_impurity_decrease': 6.915399511647492e-09, 'ccp_alpha': 4.316738347090822e-07}. Best is trial 181 with value: 0.1895541446762014.\n",
      "[I 2024-02-15 20:29:07,375] Trial 363 finished with value: 0.22885714252177483 and parameters: {'max_depth': 4390, 'min_samples_split': 350, 'min_samples_leaf': 2.037660745349613e-08, 'min_weight_fraction_leaf': 3.782303481981109e-08, 'max_features': 849, 'max_leaf_nodes': 7291, 'min_impurity_decrease': 2.025729925216777e-08, 'ccp_alpha': 2.4601261533317393e-05}. Best is trial 181 with value: 0.1895541446762014.\n",
      "[I 2024-02-15 20:29:12,845] Trial 364 finished with value: 0.24782011980054458 and parameters: {'max_depth': 4132, 'min_samples_split': 582, 'min_samples_leaf': 4.934682982272271e-09, 'min_weight_fraction_leaf': 1.9030206077925733e-07, 'max_features': 713, 'max_leaf_nodes': 6493, 'min_impurity_decrease': 4.2216649166028924e-08, 'ccp_alpha': 5.088404415018044e-06}. Best is trial 181 with value: 0.1895541446762014.\n",
      "[I 2024-02-15 20:29:35,406] Trial 365 finished with value: 0.1943689785273913 and parameters: {'max_depth': 4577, 'min_samples_split': 9, 'min_samples_leaf': 1.5069316842437238e-05, 'min_weight_fraction_leaf': 1.0433749720560164e-07, 'max_features': 819, 'max_leaf_nodes': 7671, 'min_impurity_decrease': 4.271267212091733e-09, 'ccp_alpha': 1.7263918075411284e-06}. Best is trial 181 with value: 0.1895541446762014.\n",
      "[I 2024-02-15 20:29:45,336] Trial 366 finished with value: 0.21688060239633936 and parameters: {'max_depth': 4809, 'min_samples_split': 199, 'min_samples_leaf': 1.084888990387389e-08, 'min_weight_fraction_leaf': 3.0314539857498963e-05, 'max_features': 783, 'max_leaf_nodes': 7496, 'min_impurity_decrease': 9.740070215827066e-09, 'ccp_alpha': 8.69309635074333e-07}. Best is trial 181 with value: 0.1895541446762014.\n",
      "[I 2024-02-15 20:29:50,829] Trial 367 finished with value: 0.25382152860833707 and parameters: {'max_depth': 3827, 'min_samples_split': 708, 'min_samples_leaf': 3.483886390138295e-08, 'min_weight_fraction_leaf': 1.2417521228161348e-06, 'max_features': 803, 'max_leaf_nodes': 8900, 'min_impurity_decrease': 2.3125871080243243e-08, 'ccp_alpha': 3.1176211883409085e-06}. Best is trial 181 with value: 0.1895541446762014.\n",
      "[I 2024-02-15 20:29:59,795] Trial 368 finished with value: 0.22780106323306656 and parameters: {'max_depth': 4365, 'min_samples_split': 331, 'min_samples_leaf': 1.5715064865479005e-08, 'min_weight_fraction_leaf': 3.5323325638128177e-07, 'max_features': 744, 'max_leaf_nodes': 6199, 'min_impurity_decrease': 2.897593187305034e-09, 'ccp_alpha': 1.313253935876504e-05}. Best is trial 181 with value: 0.1895541446762014.\n",
      "[I 2024-02-15 20:30:22,349] Trial 369 finished with value: 0.19482088783038404 and parameters: {'max_depth': 4066, 'min_samples_split': 9, 'min_samples_leaf': 6.767060961850825e-09, 'min_weight_fraction_leaf': 6.532614818764273e-07, 'max_features': 834, 'max_leaf_nodes': 6848, 'min_impurity_decrease': 1.2329074854942251e-08, 'ccp_alpha': 1.4265440848991643e-06}. Best is trial 181 with value: 0.1895541446762014.\n",
      "[I 2024-02-15 20:30:30,750] Trial 370 finished with value: 0.2175013927264075 and parameters: {'max_depth': 5134, 'min_samples_split': 187, 'min_samples_leaf': 2.3087431547809458e-08, 'min_weight_fraction_leaf': 3.0093987955846652e-06, 'max_features': 631, 'max_leaf_nodes': 7853, 'min_impurity_decrease': 7.289352903183942e-08, 'ccp_alpha': 2.7693107016990983e-06}. Best is trial 181 with value: 0.1895541446762014.\n",
      "[I 2024-02-15 20:30:55,240] Trial 371 finished with value: 0.19547906339407806 and parameters: {'max_depth': 4252, 'min_samples_split': 4, 'min_samples_leaf': 3.5303684079913836e-09, 'min_weight_fraction_leaf': 2.667637953879029e-07, 'max_features': 881, 'max_leaf_nodes': 7181, 'min_impurity_decrease': 6.196641520041367e-09, 'ccp_alpha': 4.8445423147324556e-06}. Best is trial 181 with value: 0.1895541446762014.\n",
      "[I 2024-02-15 20:31:01,555] Trial 372 finished with value: 0.24364461968944645 and parameters: {'max_depth': 3691, 'min_samples_split': 438, 'min_samples_leaf': 0.00016963476217662, 'min_weight_fraction_leaf': 5.073605202104765e-06, 'max_features': 539, 'max_leaf_nodes': 8163, 'min_impurity_decrease': 2.9284222465530546e-08, 'ccp_alpha': 5.261992626944416e-07}. Best is trial 181 with value: 0.1895541446762014.\n",
      "[I 2024-02-15 20:31:11,524] Trial 373 finished with value: 0.21532744330818124 and parameters: {'max_depth': 4550, 'min_samples_split': 186, 'min_samples_leaf': 1.8389124026227192e-09, 'min_weight_fraction_leaf': 1.7468392482176825e-07, 'max_features': 769, 'max_leaf_nodes': 6039, 'min_impurity_decrease': 1.697100511108117e-08, 'ccp_alpha': 6.81314688792117e-06}. Best is trial 181 with value: 0.1895541446762014.\n",
      "[I 2024-02-15 20:31:19,913] Trial 374 finished with value: 0.22878877597830222 and parameters: {'max_depth': 3918, 'min_samples_split': 348, 'min_samples_leaf': 1.34744098954329e-08, 'min_weight_fraction_leaf': 4.217990396662398e-07, 'max_features': 862, 'max_leaf_nodes': 7387, 'min_impurity_decrease': 8.487394490263524e-09, 'ccp_alpha': 8.804135067804713e-07}. Best is trial 181 with value: 0.1895541446762014.\n",
      "[I 2024-02-15 20:31:27,934] Trial 375 finished with value: 0.22041325663375816 and parameters: {'max_depth': 3556, 'min_samples_split': 243, 'min_samples_leaf': 7.419911973825871e-09, 'min_weight_fraction_leaf': 1.0793044084488589e-07, 'max_features': 813, 'max_leaf_nodes': 6618, 'min_impurity_decrease': 3.937373938622498e-09, 'ccp_alpha': 1.9266707404092375e-06}. Best is trial 181 with value: 0.1895541446762014.\n",
      "[I 2024-02-15 20:31:34,877] Trial 376 finished with value: 0.24564051000865486 and parameters: {'max_depth': 4787, 'min_samples_split': 509, 'min_samples_leaf': 3.8107866529934864e-08, 'min_weight_fraction_leaf': 8.47345907723801e-07, 'max_features': 782, 'max_leaf_nodes': 5854, 'min_impurity_decrease': 1.5207953388458052e-08, 'ccp_alpha': 9.763717100343171e-05}. Best is trial 181 with value: 0.1895541446762014.\n",
      "[I 2024-02-15 20:31:37,487] Trial 377 finished with value: 0.5893779084980949 and parameters: {'max_depth': 4390, 'min_samples_split': 176, 'min_samples_leaf': 2.114829992064585e-08, 'min_weight_fraction_leaf': 0.38565397571399407, 'max_features': 569, 'max_leaf_nodes': 6922, 'min_impurity_decrease': 3.42129447618142e-08, 'ccp_alpha': 1.7226528498409786e-09}. Best is trial 181 with value: 0.1895541446762014.\n",
      "[I 2024-02-15 20:31:47,953] Trial 378 finished with value: 0.1980434276805688 and parameters: {'max_depth': 4090, 'min_samples_split': 4, 'min_samples_leaf': 1.014922559456197e-09, 'min_weight_fraction_leaf': 2.548107217242592e-07, 'max_features': 283, 'max_leaf_nodes': 7684, 'min_impurity_decrease': 6.433148820836834e-09, 'ccp_alpha': 3.94813232480613e-06}. Best is trial 181 with value: 0.1895541446762014.\n",
      "[I 2024-02-15 20:31:53,629] Trial 379 finished with value: 0.2548174006961251 and parameters: {'max_depth': 4605, 'min_samples_split': 718, 'min_samples_leaf': 1.0564364077648724e-08, 'min_weight_fraction_leaf': 7.352719799906876e-08, 'max_features': 831, 'max_leaf_nodes': 6415, 'min_impurity_decrease': 5.549960075857564e-10, 'ccp_alpha': 1.197812575889143e-06}. Best is trial 181 with value: 0.1895541446762014.\n",
      "[I 2024-02-15 20:32:16,542] Trial 380 finished with value: 0.19445510701910168 and parameters: {'max_depth': 5013, 'min_samples_split': 3, 'min_samples_leaf': 4.742478471351153e-09, 'min_weight_fraction_leaf': 1.603485510300068e-06, 'max_features': 797, 'max_leaf_nodes': 7199, 'min_impurity_decrease': 2.9722075611845337e-09, 'ccp_alpha': 2.5513981023955224e-06}. Best is trial 181 with value: 0.1895541446762014.\n",
      "[I 2024-02-15 20:32:21,833] Trial 381 finished with value: 0.2826009811100164 and parameters: {'max_depth': 4295, 'min_samples_split': 1706, 'min_samples_leaf': 2.2538960899298413e-06, 'min_weight_fraction_leaf': 3.77593960404261e-07, 'max_features': 846, 'max_leaf_nodes': 5719, 'min_impurity_decrease': 2.0572025288685144e-10, 'ccp_alpha': 7.742553017778042e-09}. Best is trial 181 with value: 0.1895541446762014.\n",
      "[I 2024-02-15 20:32:28,919] Trial 382 finished with value: 0.23170829704623158 and parameters: {'max_depth': 3836, 'min_samples_split': 370, 'min_samples_leaf': 2.985392187923581e-08, 'min_weight_fraction_leaf': 1.3773657581820278e-07, 'max_features': 758, 'max_leaf_nodes': 8309, 'min_impurity_decrease': 6.051634273438873e-08, 'ccp_alpha': 7.4802716411372805e-06}. Best is trial 181 with value: 0.1895541446762014.\n",
      "[I 2024-02-15 20:32:38,962] Trial 383 finished with value: 0.21547064526849055 and parameters: {'max_depth': 4740, 'min_samples_split': 187, 'min_samples_leaf': 1.613110435996224e-08, 'min_weight_fraction_leaf': 5.990282495669185e-07, 'max_features': 805, 'max_leaf_nodes': 6795, 'min_impurity_decrease': 1.1375630396037969e-08, 'ccp_alpha': 5.190381032972695e-08}. Best is trial 181 with value: 0.1895541446762014.\n",
      "[I 2024-02-15 20:32:55,729] Trial 384 finished with value: 0.1944677779737697 and parameters: {'max_depth': 4193, 'min_samples_split': 4, 'min_samples_leaf': 2.636984363461207e-09, 'min_weight_fraction_leaf': 1.9230381806697466e-07, 'max_features': 821, 'max_leaf_nodes': 2159, 'min_impurity_decrease': 2.1233519944909668e-08, 'ccp_alpha': 1.775532002015664e-06}. Best is trial 181 with value: 0.1895541446762014.\n",
      "[I 2024-02-15 20:33:03,628] Trial 385 finished with value: 0.2419139470729418 and parameters: {'max_depth': 4007, 'min_samples_split': 490, 'min_samples_leaf': 6.632777887247228e-09, 'min_weight_fraction_leaf': 9.196987805871652e-07, 'max_features': 786, 'max_leaf_nodes': 7050, 'min_impurity_decrease': 5.2186558133709616e-09, 'ccp_alpha': 2.173623750217322e-07}. Best is trial 181 with value: 0.1895541446762014.\n",
      "[I 2024-02-15 20:33:13,656] Trial 386 finished with value: 0.22715134078404287 and parameters: {'max_depth': 3532, 'min_samples_split': 326, 'min_samples_leaf': 1.698355018372498e-09, 'min_weight_fraction_leaf': 3.1815180687227624e-07, 'max_features': 857, 'max_leaf_nodes': 7516, 'min_impurity_decrease': 2.3334080555857747e-07, 'ccp_alpha': 3.4371926514868818e-06}. Best is trial 181 with value: 0.1895541446762014.\n",
      "[I 2024-02-15 20:33:20,830] Trial 387 finished with value: 0.2206607149374021 and parameters: {'max_depth': 4531, 'min_samples_split': 204, 'min_samples_leaf': 1.1328765968785734e-08, 'min_weight_fraction_leaf': 2.1548317467460356e-07, 'max_features': 494, 'max_leaf_nodes': 6280, 'min_impurity_decrease': 1.0943327854262442e-07, 'ccp_alpha': 2.0750239416331944e-08}. Best is trial 181 with value: 0.1895541446762014.\n",
      "[I 2024-02-15 20:33:49,051] Trial 388 finished with value: 0.19955285894723476 and parameters: {'max_depth': 3701, 'min_samples_split': 3, 'min_samples_leaf': 4.289373940403017e-08, 'min_weight_fraction_leaf': 5.581374079159232e-07, 'max_features': 834, 'max_leaf_nodes': 8032, 'min_impurity_decrease': 2.139416696553552e-09, 'ccp_alpha': 7.539907862281114e-07}. Best is trial 181 with value: 0.1895541446762014.\n",
      "[I 2024-02-15 20:33:55,739] Trial 389 finished with value: 0.2629503029422743 and parameters: {'max_depth': 4386, 'min_samples_split': 954, 'min_samples_leaf': 2.2233135906269744e-08, 'min_weight_fraction_leaf': 1.1575871867781524e-07, 'max_features': 814, 'max_leaf_nodes': 7846, 'min_impurity_decrease': 8.93873281648443e-09, 'ccp_alpha': 4.0335213351946993e-07}. Best is trial 181 with value: 0.1895541446762014.\n",
      "[I 2024-02-15 20:34:05,760] Trial 390 finished with value: 0.22577214163343823 and parameters: {'max_depth': 4049, 'min_samples_split': 195, 'min_samples_leaf': 1.523421800801006e-08, 'min_weight_fraction_leaf': 3.8018424103813066e-07, 'max_features': 773, 'max_leaf_nodes': 6584, 'min_impurity_decrease': 3.49967184827934e-08, 'ccp_alpha': 5.706011116085089e-05}. Best is trial 181 with value: 0.1895541446762014.\n",
      "[I 2024-02-15 20:34:10,145] Trial 391 finished with value: 0.3308008141193349 and parameters: {'max_depth': 4832, 'min_samples_split': 3887, 'min_samples_leaf': 1.3773888087317185e-06, 'min_weight_fraction_leaf': 1.3230093064653732e-06, 'max_features': 798, 'max_leaf_nodes': 6052, 'min_impurity_decrease': 1.647165453641753e-08, 'ccp_alpha': 5.212266165877258e-06}. Best is trial 181 with value: 0.1895541446762014.\n",
      "[I 2024-02-15 20:34:18,994] Trial 392 finished with value: 0.23145890135879324 and parameters: {'max_depth': 4240, 'min_samples_split': 396, 'min_samples_leaf': 8.358500375194538e-09, 'min_weight_fraction_leaf': 5.0891352945178994e-08, 'max_features': 843, 'max_leaf_nodes': 7344, 'min_impurity_decrease': 5.293493576310695e-09, 'ccp_alpha': 1.0768778177124857e-06}. Best is trial 181 with value: 0.1895541446762014.\n",
      "[I 2024-02-15 20:34:25,312] Trial 393 finished with value: 0.24875492038878305 and parameters: {'max_depth': 4523, 'min_samples_split': 603, 'min_samples_leaf': 2.878986977336309e-08, 'min_weight_fraction_leaf': 1.4928911401249908e-07, 'max_features': 731, 'max_leaf_nodes': 6772, 'min_impurity_decrease': 7.618577542498044e-10, 'ccp_alpha': 4.615863739374184e-09}. Best is trial 181 with value: 0.1895541446762014.\n",
      "[I 2024-02-15 20:34:29,748] Trial 394 finished with value: 0.39008915407918987 and parameters: {'max_depth': 76, 'min_samples_split': 6964, 'min_samples_leaf': 3.9701102752034345e-09, 'min_weight_fraction_leaf': 2.1150791807949635e-06, 'max_features': 886, 'max_leaf_nodes': 5676, 'min_impurity_decrease': 1.0118380164591964e-08, 'ccp_alpha': 1.2093704736382118e-05}. Best is trial 181 with value: 0.1895541446762014.\n",
      "[I 2024-02-15 20:34:36,806] Trial 395 finished with value: 0.22069160489238415 and parameters: {'max_depth': 3829, 'min_samples_split': 201, 'min_samples_leaf': 4.4633279192832854e-08, 'min_weight_fraction_leaf': 7.76522388773574e-08, 'max_features': 589, 'max_leaf_nodes': 7617, 'min_impurity_decrease': 2.784926219318254e-08, 'ccp_alpha': 1.723628242265328e-06}. Best is trial 181 with value: 0.1895541446762014.\n",
      "[I 2024-02-15 20:34:46,998] Trial 396 finished with value: 0.21545220287788913 and parameters: {'max_depth': 3433, 'min_samples_split': 181, 'min_samples_leaf': 1.776900452916146e-08, 'min_weight_fraction_leaf': 2.6126854978875876e-07, 'max_features': 815, 'max_leaf_nodes': 7072, 'min_impurity_decrease': 2.249656441368041e-09, 'ccp_alpha': 3.1915343425067774e-06}. Best is trial 181 with value: 0.1895541446762014.\n",
      "[I 2024-02-15 20:34:54,259] Trial 397 finished with value: 0.2305822903166462 and parameters: {'max_depth': 5127, 'min_samples_split': 364, 'min_samples_leaf': 5.275363289384251e-09, 'min_weight_fraction_leaf': 6.724819431160548e-07, 'max_features': 789, 'max_leaf_nodes': 5886, 'min_impurity_decrease': 1.658517220254088e-08, 'ccp_alpha': 2.303432426511838e-06}. Best is trial 181 with value: 0.1895541446762014.\n",
      "[I 2024-02-15 20:35:16,851] Trial 398 finished with value: 0.196995340219571 and parameters: {'max_depth': 4652, 'min_samples_split': 4, 'min_samples_leaf': 2.6711032353426505e-09, 'min_weight_fraction_leaf': 1.708160185756265e-07, 'max_features': 830, 'max_leaf_nodes': 5520, 'min_impurity_decrease': 5.3549918322788685e-08, 'ccp_alpha': 6.96971216031152e-06}. Best is trial 181 with value: 0.1895541446762014.\n",
      "[I 2024-02-15 20:35:31,925] Trial 399 finished with value: 0.19488929412922756 and parameters: {'max_depth': 4005, 'min_samples_split': 2, 'min_samples_leaf': 1.1100381487901505e-08, 'min_weight_fraction_leaf': 4.5069383207772004e-07, 'max_features': 517, 'max_leaf_nodes': 6552, 'min_impurity_decrease': 1.5574180447551232e-06, 'ccp_alpha': 6.419032471954347e-07}. Best is trial 181 with value: 0.1895541446762014.\n",
      "[I 2024-02-15 20:35:39,206] Trial 400 finished with value: 0.24585434892814767 and parameters: {'max_depth': 4344, 'min_samples_split': 563, 'min_samples_leaf': 3.043892032841086e-08, 'min_weight_fraction_leaf': 1.0181664411183938e-06, 'max_features': 865, 'max_leaf_nodes': 7950, 'min_impurity_decrease': 6.731528433736968e-09, 'ccp_alpha': 1.1705412913766768e-06}. Best is trial 181 with value: 0.1895541446762014.\n",
      "[I 2024-02-15 20:35:46,765] Trial 401 finished with value: 0.22723265451594732 and parameters: {'max_depth': 3654, 'min_samples_split': 327, 'min_samples_leaf': 7.624902118176517e-09, 'min_weight_fraction_leaf': 2.6514839217819774e-07, 'max_features': 757, 'max_leaf_nodes': 6233, 'min_impurity_decrease': 1.0531584018147316e-08, 'ccp_alpha': 1.618688639532388e-09}. Best is trial 181 with value: 0.1895541446762014.\n",
      "[I 2024-02-15 20:35:54,943] Trial 402 finished with value: 0.21403020292702046 and parameters: {'max_depth': 4873, 'min_samples_split': 187, 'min_samples_leaf': 2.063771770338764e-08, 'min_weight_fraction_leaf': 1.0001905300756825e-07, 'max_features': 648, 'max_leaf_nodes': 6979, 'min_impurity_decrease': 3.991941303501908e-10, 'ccp_alpha': 3.898918323888735e-06}. Best is trial 181 with value: 0.1895541446762014.\n",
      "[I 2024-02-15 20:36:09,263] Trial 403 finished with value: 0.21066110598895876 and parameters: {'max_depth': 4200, 'min_samples_split': 2, 'min_samples_leaf': 4.967072774460196e-08, 'min_weight_fraction_leaf': 5.3513047598076164e-05, 'max_features': 398, 'max_leaf_nodes': 7431, 'min_impurity_decrease': 3.698041737855148e-09, 'ccp_alpha': 2.2418519402331276e-05}. Best is trial 181 with value: 0.1895541446762014.\n",
      "[I 2024-02-15 20:36:16,340] Trial 404 finished with value: 0.23123179048862147 and parameters: {'max_depth': 5459, 'min_samples_split': 365, 'min_samples_leaf': 1.5030581434089238e-09, 'min_weight_fraction_leaf': 3.673232144589718e-07, 'max_features': 802, 'max_leaf_nodes': 7659, 'min_impurity_decrease': 2.242011157809625e-08, 'ccp_alpha': 1.8082135556006737e-06}. Best is trial 181 with value: 0.1895541446762014.\n",
      "[I 2024-02-15 20:36:25,871] Trial 405 finished with value: 0.2189972862366459 and parameters: {'max_depth': 3908, 'min_samples_split': 221, 'min_samples_leaf': 7.29136990430596e-06, 'min_weight_fraction_leaf': 1.952054081908752e-07, 'max_features': 777, 'max_leaf_nodes': 5784, 'min_impurity_decrease': 4.212325102137098e-07, 'ccp_alpha': 6.053463068460569e-06}. Best is trial 181 with value: 0.1895541446762014.\n",
      "[I 2024-02-15 20:36:29,598] Trial 406 finished with value: 0.3439620972917141 and parameters: {'max_depth': 4562, 'min_samples_split': 5474, 'min_samples_leaf': 1.2491385947479465e-08, 'min_weight_fraction_leaf': 5.71697134583108e-07, 'max_features': 823, 'max_leaf_nodes': 8570, 'min_impurity_decrease': 1.0514299340408685e-09, 'ccp_alpha': 2.6876702246400068e-06}. Best is trial 181 with value: 0.1895541446762014.\n",
      "[I 2024-02-15 20:36:36,997] Trial 407 finished with value: 0.24336455322639705 and parameters: {'max_depth': 4380, 'min_samples_split': 510, 'min_samples_leaf': 3.982696746626164e-09, 'min_weight_fraction_leaf': 2.7964181795860027e-07, 'max_features': 851, 'max_leaf_nodes': 5425, 'min_impurity_decrease': 3.88511620051408e-08, 'ccp_alpha': 9.985837026290346e-07}. Best is trial 181 with value: 0.1895541446762014.\n",
      "[I 2024-02-15 20:36:42,763] Trial 408 finished with value: 0.2552471988684745 and parameters: {'max_depth': 4124, 'min_samples_split': 729, 'min_samples_leaf': 2.8793136390166363e-08, 'min_weight_fraction_leaf': 1.2863135144601482e-07, 'max_features': 809, 'max_leaf_nodes': 7282, 'min_impurity_decrease': 1.2293308861424598e-08, 'ccp_alpha': 1.019971173694079e-09}. Best is trial 181 with value: 0.1895541446762014.\n",
      "[I 2024-02-15 20:36:52,706] Trial 409 finished with value: 0.21426489955873818 and parameters: {'max_depth': 3370, 'min_samples_split': 189, 'min_samples_leaf': 9.584705638644722e-09, 'min_weight_fraction_leaf': 1.1794848093368613e-06, 'max_features': 833, 'max_leaf_nodes': 6400, 'min_impurity_decrease': 5.620560005357365e-09, 'ccp_alpha': 5.347099922385274e-07}. Best is trial 181 with value: 0.1895541446762014.\n",
      "[I 2024-02-15 20:37:06,290] Trial 410 finished with value: 0.19979883922601624 and parameters: {'max_depth': 4980, 'min_samples_split': 6, 'min_samples_leaf': 6.062106252997892e-09, 'min_weight_fraction_leaf': 3.33875267058055e-08, 'max_features': 448, 'max_leaf_nodes': 6731, 'min_impurity_decrease': 2.5281798831155656e-09, 'ccp_alpha': 1.0883689968660521e-05}. Best is trial 181 with value: 0.1895541446762014.\n",
      "[I 2024-02-15 20:37:13,549] Trial 411 finished with value: 0.23144491277453091 and parameters: {'max_depth': 4731, 'min_samples_split': 352, 'min_samples_leaf': 1.7308586376732812e-08, 'min_weight_fraction_leaf': 3.4090229149174635e-06, 'max_features': 795, 'max_leaf_nodes': 5600, 'min_impurity_decrease': 1.362375214753168e-11, 'ccp_alpha': 1.667301984503569e-06}. Best is trial 181 with value: 0.1895541446762014.\n",
      "[I 2024-02-15 20:37:17,355] Trial 412 finished with value: 0.30790378122893597 and parameters: {'max_depth': 3732, 'min_samples_split': 3201, 'min_samples_leaf': 2.148564145502436e-09, 'min_weight_fraction_leaf': 4.2260043790931177e-07, 'max_features': 772, 'max_leaf_nodes': 6004, 'min_impurity_decrease': 2.0589879897343295e-08, 'ccp_alpha': 1.2610620878889588e-08}. Best is trial 181 with value: 0.1895541446762014.\n",
      "[I 2024-02-15 20:37:28,376] Trial 413 finished with value: 0.21367361892350986 and parameters: {'max_depth': 4439, 'min_samples_split': 176, 'min_samples_leaf': 4.115011276253179e-08, 'min_weight_fraction_leaf': 7.21475638938968e-07, 'max_features': 818, 'max_leaf_nodes': 7765, 'min_impurity_decrease': 8.811197264607599e-09, 'ccp_alpha': 4.472403487026786e-06}. Best is trial 181 with value: 0.1895541446762014.\n",
      "[I 2024-02-15 20:37:35,046] Trial 414 finished with value: 0.2428574063044957 and parameters: {'max_depth': 4055, 'min_samples_split': 507, 'min_samples_leaf': 2.3489848399923613e-08, 'min_weight_fraction_leaf': 1.7431627199174362e-07, 'max_features': 845, 'max_leaf_nodes': 9222, 'min_impurity_decrease': 6.63814668419659e-08, 'ccp_alpha': 2.6167878279236345e-09}. Best is trial 181 with value: 0.1895541446762014.\n",
      "[I 2024-02-15 20:37:46,845] Trial 415 finished with value: 0.21248652878367377 and parameters: {'max_depth': 4214, 'min_samples_split': 171, 'min_samples_leaf': 1.2923892699562439e-08, 'min_weight_fraction_leaf': 7.455009292767183e-08, 'max_features': 869, 'max_leaf_nodes': 5292, 'min_impurity_decrease': 1.5782000341234034e-08, 'ccp_alpha': 2.87624677439178e-07}. Best is trial 181 with value: 0.1895541446762014.\n",
      "[I 2024-02-15 20:37:57,095] Trial 416 finished with value: 0.2156316722236742 and parameters: {'max_depth': 4711, 'min_samples_split': 2, 'min_samples_leaf': 0.0014384082327784675, 'min_weight_fraction_leaf': 2.1226836986490686e-06, 'max_features': 752, 'max_leaf_nodes': 6909, 'min_impurity_decrease': 3.2870560184030874e-08, 'ccp_alpha': 3.02212046245402e-06}. Best is trial 181 with value: 0.1895541446762014.\n",
      "[I 2024-02-15 20:38:21,553] Trial 417 finished with value: 0.20025521322981002 and parameters: {'max_depth': 1343, 'min_samples_split': 2, 'min_samples_leaf': 7.090826456650853e-09, 'min_weight_fraction_leaf': 5.987267746489821e-06, 'max_features': 796, 'max_leaf_nodes': 8276, 'min_impurity_decrease': 4.14795449501837e-09, 'ccp_alpha': 1.293309835530114e-07}. Best is trial 181 with value: 0.1895541446762014.\n",
      "[I 2024-02-15 20:38:30,346] Trial 418 finished with value: 0.22780233304734793 and parameters: {'max_depth': 3865, 'min_samples_split': 338, 'min_samples_leaf': 1.6890814820248494e-08, 'min_weight_fraction_leaf': 4.2325876561602246e-05, 'max_features': 820, 'max_leaf_nodes': 8014, 'min_impurity_decrease': 7.553268320858733e-09, 'ccp_alpha': 1.2516416466562433e-06}. Best is trial 181 with value: 0.1895541446762014.\n",
      "[I 2024-02-15 20:38:35,820] Trial 419 finished with value: 0.25368494048901663 and parameters: {'max_depth': 4462, 'min_samples_split': 172, 'min_samples_leaf': 0.010089417388564144, 'min_weight_fraction_leaf': 2.5047674613334316e-07, 'max_features': 779, 'max_leaf_nodes': 7176, 'min_impurity_decrease': 1.5621420160612904e-09, 'ccp_alpha': 1.964125393954206e-06}. Best is trial 181 with value: 0.1895541446762014.\n",
      "[I 2024-02-15 20:38:41,518] Trial 420 finished with value: 0.25774563342953816 and parameters: {'max_depth': 3595, 'min_samples_split': 761, 'min_samples_leaf': 3.1847541576638762e-09, 'min_weight_fraction_leaf': 4.594803722438405e-07, 'max_features': 838, 'max_leaf_nodes': 7538, 'min_impurity_decrease': 1.1709968851066015e-07, 'ccp_alpha': 6.999372766917626e-06}. Best is trial 181 with value: 0.1895541446762014.\n",
      "[I 2024-02-15 20:38:45,323] Trial 421 finished with value: 0.5553689513600999 and parameters: {'max_depth': 5250, 'min_samples_split': 354, 'min_samples_leaf': 0.32904774893930805, 'min_weight_fraction_leaf': 1.1494075852265482e-07, 'max_features': 806, 'max_leaf_nodes': 6716, 'min_impurity_decrease': 1.6033228993302278e-08, 'ccp_alpha': 9.103172019141425e-07}. Best is trial 181 with value: 0.1895541446762014.\n",
      "[I 2024-02-15 20:38:54,170] Trial 422 finished with value: 0.21593586926400693 and parameters: {'max_depth': 4243, 'min_samples_split': 167, 'min_samples_leaf': 0.0005631167883472482, 'min_weight_fraction_leaf': 8.583772276982444e-07, 'max_features': 854, 'max_leaf_nodes': 6481, 'min_impurity_decrease': 4.080608978512514e-09, 'ccp_alpha': 3.292966530806991e-06}. Best is trial 181 with value: 0.1895541446762014.\n",
      "[I 2024-02-15 20:39:01,380] Trial 423 finished with value: 0.24279860381765817 and parameters: {'max_depth': 4943, 'min_samples_split': 520, 'min_samples_leaf': 3.529661845276278e-08, 'min_weight_fraction_leaf': 2.9314236862431273e-07, 'max_features': 784, 'max_leaf_nodes': 5753, 'min_impurity_decrease': 3.6789803880178946e-12, 'ccp_alpha': 3.9088198328945155e-09}. Best is trial 181 with value: 0.1895541446762014.\n",
      "[I 2024-02-15 20:39:12,082] Trial 424 finished with value: 0.21497028059644388 and parameters: {'max_depth': 4629, 'min_samples_split': 184, 'min_samples_leaf': 9.173014807963063e-09, 'min_weight_fraction_leaf': 2.023003808290008e-07, 'max_features': 825, 'max_leaf_nodes': 6136, 'min_impurity_decrease': 8.971725081746145e-09, 'ccp_alpha': 1.3905921338448984e-05}. Best is trial 181 with value: 0.1895541446762014.\n",
      "[I 2024-02-15 20:39:15,602] Trial 425 finished with value: 0.4614954178890077 and parameters: {'max_depth': 4012, 'min_samples_split': 9327, 'min_samples_leaf': 6.372863248050473e-08, 'min_weight_fraction_leaf': 5.942535059337987e-08, 'max_features': 800, 'max_leaf_nodes': 7409, 'min_impurity_decrease': 2.573198325232659e-08, 'ccp_alpha': 5.454441341048901e-07}. Best is trial 181 with value: 0.1895541446762014.\n",
      "[I 2024-02-15 20:39:40,417] Trial 426 finished with value: 0.1927459138943729 and parameters: {'max_depth': 3798, 'min_samples_split': 8, 'min_samples_leaf': 1.6790459854979817e-09, 'min_weight_fraction_leaf': 5.599780571157903e-07, 'max_features': 894, 'max_leaf_nodes': 7841, 'min_impurity_decrease': 4.076855814231691e-08, 'ccp_alpha': 2.3252453370673377e-06}. Best is trial 181 with value: 0.1895541446762014.\n",
      "[I 2024-02-15 20:39:48,809] Trial 427 finished with value: 0.22599116368107297 and parameters: {'max_depth': 3751, 'min_samples_split': 330, 'min_samples_leaf': 1.4733665104932457e-09, 'min_weight_fraction_leaf': 5.864558205727947e-07, 'max_features': 873, 'max_leaf_nodes': 7769, 'min_impurity_decrease': 4.008254395989453e-08, 'ccp_alpha': 4.387067935170667e-06}. Best is trial 181 with value: 0.1895541446762014.\n",
      "[I 2024-02-15 20:39:55,470] Trial 428 finished with value: 0.243786187781247 and parameters: {'max_depth': 3581, 'min_samples_split': 522, 'min_samples_leaf': 2.4764788034495476e-09, 'min_weight_fraction_leaf': 3.6162583745092787e-07, 'max_features': 903, 'max_leaf_nodes': 7861, 'min_impurity_decrease': 5.129614175913875e-08, 'ccp_alpha': 1.3514872442484026e-06}. Best is trial 181 with value: 0.1895541446762014.\n",
      "[I 2024-02-15 20:40:06,329] Trial 429 finished with value: 0.7013207160161288 and parameters: {'max_depth': 3350, 'min_samples_split': 171, 'min_samples_leaf': 1.0884653259613419e-09, 'min_weight_fraction_leaf': 9.376104573922126e-07, 'max_features': 911, 'max_leaf_nodes': 7559, 'min_impurity_decrease': 2.0964421777365333e-07, 'ccp_alpha': 30.542093492383955}. Best is trial 181 with value: 0.1895541446762014.\n",
      "[I 2024-02-15 20:40:14,511] Trial 430 finished with value: 0.22754452572287276 and parameters: {'max_depth': 3914, 'min_samples_split': 338, 'min_samples_leaf': 3.880643264387186e-07, 'min_weight_fraction_leaf': 5.022485690124379e-07, 'max_features': 892, 'max_leaf_nodes': 7218, 'min_impurity_decrease': 8.222198865160359e-08, 'ccp_alpha': 6.650947478738372e-06}. Best is trial 181 with value: 0.1895541446762014.\n",
      "[I 2024-02-15 20:40:27,099] Trial 431 finished with value: 0.21231157203900802 and parameters: {'max_depth': 3856, 'min_samples_split': 171, 'min_samples_leaf': 1.4182115066035907e-09, 'min_weight_fraction_leaf': 7.415316162607882e-07, 'max_features': 890, 'max_leaf_nodes': 8006, 'min_impurity_decrease': 1.7850765362227468e-09, 'ccp_alpha': 7.545728913287955e-09}. Best is trial 181 with value: 0.1895541446762014.\n",
      "[I 2024-02-15 20:40:56,114] Trial 432 finished with value: 0.24372894454642888 and parameters: {'max_depth': 4078, 'min_samples_split': 3, 'min_samples_leaf': 1.7965833951440065e-09, 'min_weight_fraction_leaf': 1.6510190941534068e-07, 'max_features': 865, 'max_leaf_nodes': 7671, 'min_impurity_decrease': 2.5781170547691063e-08, 'ccp_alpha': 0.00020515072189314273}. Best is trial 181 with value: 0.1895541446762014.\n",
      "[I 2024-02-15 20:41:20,269] Trial 433 finished with value: 0.19417493879750006 and parameters: {'max_depth': 3483, 'min_samples_split': 2, 'min_samples_leaf': 2.234585005680869e-09, 'min_weight_fraction_leaf': 3.16574364402599e-07, 'max_features': 843, 'max_leaf_nodes': 5421, 'min_impurity_decrease': 1.0358955450630301e-07, 'ccp_alpha': 2.62356790867202e-06}. Best is trial 181 with value: 0.1895541446762014.\n",
      "[I 2024-02-15 20:41:26,368] Trial 434 finished with value: 0.25116166512136917 and parameters: {'max_depth': 3641, 'min_samples_split': 638, 'min_samples_leaf': 2.4228208280004476e-08, 'min_weight_fraction_leaf': 1.4400768770840982e-06, 'max_features': 688, 'max_leaf_nodes': 6956, 'min_impurity_decrease': 7.502225821643053e-10, 'ccp_alpha': 9.12334629246086e-07}. Best is trial 181 with value: 0.1895541446762014.\n",
      "[I 2024-02-15 20:41:33,700] Trial 435 finished with value: 0.22972096937837963 and parameters: {'max_depth': 4202, 'min_samples_split': 355, 'min_samples_leaf': 3.241164707136537e-08, 'min_weight_fraction_leaf': 4.66778777888821e-07, 'max_features': 822, 'max_leaf_nodes': 6339, 'min_impurity_decrease': 2.968603692887911e-09, 'ccp_alpha': 2.043631611452221e-06}. Best is trial 181 with value: 0.1895541446762014.\n",
      "[I 2024-02-15 20:41:44,470] Trial 436 finished with value: 0.4151967103991872 and parameters: {'max_depth': 3798, 'min_samples_split': 166, 'min_samples_leaf': 5.833410135663251e-08, 'min_weight_fraction_leaf': 9.587110256794369e-08, 'max_features': 878, 'max_leaf_nodes': 5840, 'min_impurity_decrease': 6.1753543735320836e-09, 'ccp_alpha': 0.030243572077741185}. Best is trial 181 with value: 0.1895541446762014.\n",
      "[I 2024-02-15 20:41:49,066] Trial 437 finished with value: 0.2713880624319745 and parameters: {'max_depth': 4332, 'min_samples_split': 1139, 'min_samples_leaf': 3.612142868010381e-09, 'min_weight_fraction_leaf': 2.239253509738891e-07, 'max_features': 740, 'max_leaf_nodes': 5579, 'min_impurity_decrease': 5.4607684288231707e-08, 'ccp_alpha': 4.188024644129987e-06}. Best is trial 181 with value: 0.1895541446762014.\n",
      "[I 2024-02-15 20:41:56,781] Trial 438 finished with value: 0.23664445798414216 and parameters: {'max_depth': 4032, 'min_samples_split': 445, 'min_samples_leaf': 1.5472082363683943e-08, 'min_weight_fraction_leaf': 7.162981959941108e-07, 'max_features': 849, 'max_leaf_nodes': 7384, 'min_impurity_decrease': 1.2582679137411645e-08, 'ccp_alpha': 9.150707945541101e-06}. Best is trial 181 with value: 0.1895541446762014.\n",
      "[I 2024-02-15 20:42:01,860] Trial 439 finished with value: 0.2607170674396688 and parameters: {'max_depth': 3844, 'min_samples_split': 186, 'min_samples_leaf': 1.1457209066578913e-09, 'min_weight_fraction_leaf': 0.012437916550411208, 'max_features': 764, 'max_leaf_nodes': 5237, 'min_impurity_decrease': 3.2273599753174136e-08, 'ccp_alpha': 4.3493852267588125e-07}. Best is trial 181 with value: 0.1895541446762014.\n",
      "[I 2024-02-15 20:42:24,788] Trial 440 finished with value: 0.19696757480850371 and parameters: {'max_depth': 4364, 'min_samples_split': 7, 'min_samples_leaf': 2.0120786200634146e-08, 'min_weight_fraction_leaf': 1.4065165551179147e-07, 'max_features': 814, 'max_leaf_nodes': 6568, 'min_impurity_decrease': 3.372102617241569e-10, 'ccp_alpha': 1.308573900129555e-06}. Best is trial 181 with value: 0.1895541446762014.\n",
      "[I 2024-02-15 20:42:31,442] Trial 441 finished with value: 0.23326584185432458 and parameters: {'max_depth': 3231, 'min_samples_split': 321, 'min_samples_leaf': 1.033833126008382e-09, 'min_weight_fraction_leaf': 3.210469103086274e-07, 'max_features': 546, 'max_leaf_nodes': 6001, 'min_impurity_decrease': 5.585942904975233e-09, 'ccp_alpha': 7.025620437606773e-07}. Best is trial 181 with value: 0.1895541446762014.\n",
      "[I 2024-02-15 20:42:40,733] Trial 442 finished with value: 0.2141712102318188 and parameters: {'max_depth': 4144, 'min_samples_split': 190, 'min_samples_leaf': 4.8537306956502974e-08, 'min_weight_fraction_leaf': 4.794389651420897e-07, 'max_features': 834, 'max_leaf_nodes': 7081, 'min_impurity_decrease': 9.807319120782053e-09, 'ccp_alpha': 4.692932986977909e-06}. Best is trial 181 with value: 0.1895541446762014.\n",
      "[I 2024-02-15 20:42:46,816] Trial 443 finished with value: 0.2593021983551528 and parameters: {'max_depth': 3578, 'min_samples_split': 836, 'min_samples_leaf': 8.383391505034777e-08, 'min_weight_fraction_leaf': 1.2371942386297254e-06, 'max_features': 808, 'max_leaf_nodes': 7855, 'min_impurity_decrease': 2.031584609864275e-08, 'ccp_alpha': 2.143624095900401e-06}. Best is trial 181 with value: 0.1895541446762014.\n",
      "[I 2024-02-15 20:42:53,586] Trial 444 finished with value: 0.24285071339298728 and parameters: {'max_depth': 3959, 'min_samples_split': 520, 'min_samples_leaf': 4.667165795559205e-09, 'min_weight_fraction_leaf': 2.390891333879927e-07, 'max_features': 864, 'max_leaf_nodes': 6812, 'min_impurity_decrease': 1.6062377131281285e-10, 'ccp_alpha': 1.8742941471643957e-09}. Best is trial 181 with value: 0.1895541446762014.\n",
      "[I 2024-02-15 20:43:03,311] Trial 445 finished with value: 0.21754593479924358 and parameters: {'max_depth': 4482, 'min_samples_split': 184, 'min_samples_leaf': 2.0766457290849576e-09, 'min_weight_fraction_leaf': 1.482715286845154e-07, 'max_features': 785, 'max_leaf_nodes': 7567, 'min_impurity_decrease': 2.970668527795728e-09, 'ccp_alpha': 2.330362904749974e-05}. Best is trial 181 with value: 0.1895541446762014.\n",
      "[I 2024-02-15 20:43:09,422] Trial 446 finished with value: 0.22938242849388196 and parameters: {'max_depth': 3387, 'min_samples_split': 322, 'min_samples_leaf': 1.103606158301258e-08, 'min_weight_fraction_leaf': 3.824263661035117e-07, 'max_features': 615, 'max_leaf_nodes': 6244, 'min_impurity_decrease': 1.4274597978662965e-08, 'ccp_alpha': 3.3881407600285677e-06}. Best is trial 181 with value: 0.1895541446762014.\n",
      "[I 2024-02-15 20:43:32,705] Trial 447 finished with value: 0.19339516491928052 and parameters: {'max_depth': 661, 'min_samples_split': 10, 'min_samples_leaf': 3.201766650315301e-08, 'min_weight_fraction_leaf': 8.041521268841074e-08, 'max_features': 834, 'max_leaf_nodes': 7307, 'min_impurity_decrease': 4.358418778206217e-08, 'ccp_alpha': 1.5918222725351582e-06}. Best is trial 181 with value: 0.1895541446762014.\n",
      "[I 2024-02-15 20:43:39,974] Trial 448 finished with value: 0.24042700061796723 and parameters: {'max_depth': 4228, 'min_samples_split': 457, 'min_samples_leaf': 4.1431961390620415e-08, 'min_weight_fraction_leaf': 4.6376070012382034e-08, 'max_features': 892, 'max_leaf_nodes': 7314, 'min_impurity_decrease': 6.936396623033001e-08, 'ccp_alpha': 7.763368778939388e-07}. Best is trial 181 with value: 0.1895541446762014.\n",
      "[I 2024-02-15 20:44:04,736] Trial 449 finished with value: 0.1971428379258273 and parameters: {'max_depth': 4032, 'min_samples_split': 4, 'min_samples_leaf': 8.257320177122191e-07, 'min_weight_fraction_leaf': 6.700303109664684e-08, 'max_features': 852, 'max_leaf_nodes': 7221, 'min_impurity_decrease': 4.9395243981242335e-08, 'ccp_alpha': 1.2375881504595747e-06}. Best is trial 181 with value: 0.1895541446762014.\n",
      "[I 2024-02-15 20:44:14,719] Trial 450 finished with value: 0.21295124527734588 and parameters: {'max_depth': 1764, 'min_samples_split': 180, 'min_samples_leaf': 2.6939741555712008e-08, 'min_weight_fraction_leaf': 8.068573673388653e-08, 'max_features': 833, 'max_leaf_nodes': 7122, 'min_impurity_decrease': 1.7708427978055937e-07, 'ccp_alpha': 1.9247722335910338e-07}. Best is trial 181 with value: 0.1895541446762014.\n",
      "[I 2024-02-15 20:44:30,420] Trial 451 finished with value: 0.1979395987411944 and parameters: {'max_depth': 8640, 'min_samples_split': 2, 'min_samples_leaf': 3.22798608490952e-08, 'min_weight_fraction_leaf': 2.536759180550413e-08, 'max_features': 486, 'max_leaf_nodes': 7432, 'min_impurity_decrease': 1.0970429286109371e-07, 'ccp_alpha': 3.8507347653458743e-07}. Best is trial 181 with value: 0.1895541446762014.\n",
      "[I 2024-02-15 20:44:34,969] Trial 452 finished with value: 0.2776532758700586 and parameters: {'max_depth': 1259, 'min_samples_split': 1479, 'min_samples_leaf': 1.5994963392473024e-08, 'min_weight_fraction_leaf': 4.429027266590536e-08, 'max_features': 704, 'max_leaf_nodes': 7050, 'min_impurity_decrease': 3.3759607973169087e-08, 'ccp_alpha': 9.317328655957732e-06}. Best is trial 181 with value: 0.1895541446762014.\n",
      "[I 2024-02-15 20:44:40,833] Trial 453 finished with value: 0.24971061990975288 and parameters: {'max_depth': 3747, 'min_samples_split': 622, 'min_samples_leaf': 2.2665791504087993e-08, 'min_weight_fraction_leaf': 1.0106705730200096e-07, 'max_features': 771, 'max_leaf_nodes': 7719, 'min_impurity_decrease': 2.0717742527961318e-08, 'ccp_alpha': 5.657154582654741e-06}. Best is trial 181 with value: 0.1895541446762014.\n",
      "[I 2024-02-15 20:44:44,013] Trial 454 finished with value: 0.41519671039918726 and parameters: {'max_depth': 2, 'min_samples_split': 302, 'min_samples_leaf': 4.882564237305542e-08, 'min_weight_fraction_leaf': 1.180174873152127e-07, 'max_features': 807, 'max_leaf_nodes': 6881, 'min_impurity_decrease': 6.262856579464084e-11, 'ccp_alpha': 1.4783657449229616e-06}. Best is trial 181 with value: 0.1895541446762014.\n",
      "[I 2024-02-15 20:44:47,476] Trial 455 finished with value: 0.3796615501582677 and parameters: {'max_depth': 4479, 'min_samples_split': 6086, 'min_samples_leaf': 8.889673667679481e-08, 'min_weight_fraction_leaf': 1.7467074459738187e-06, 'max_features': 878, 'max_leaf_nodes': 7558, 'min_impurity_decrease': 4.475461730286656e-08, 'ccp_alpha': 3.0043605252972204e-09}. Best is trial 181 with value: 0.1895541446762014.\n",
      "[I 2024-02-15 20:44:56,310] Trial 456 finished with value: 0.2296259269345219 and parameters: {'max_depth': 4273, 'min_samples_split': 353, 'min_samples_leaf': 1.2423319514660609e-08, 'min_weight_fraction_leaf': 5.7587828941302014e-08, 'max_features': 839, 'max_leaf_nodes': 8137, 'min_impurity_decrease': 2.197324247931632e-08, 'ccp_alpha': 1.5730296273550896e-08}. Best is trial 181 with value: 0.1895541446762014.\n",
      "[I 2024-02-15 20:45:06,530] Trial 457 finished with value: 0.21267515836925238 and parameters: {'max_depth': 3713, 'min_samples_split': 172, 'min_samples_leaf': 2.2705985505524066e-08, 'min_weight_fraction_leaf': 9.796287058016578e-07, 'max_features': 856, 'max_leaf_nodes': 7353, 'min_impurity_decrease': 7.986799317692382e-08, 'ccp_alpha': 2.4627307764974552e-06}. Best is trial 181 with value: 0.1895541446762014.\n",
      "[I 2024-02-15 20:45:29,472] Trial 458 finished with value: 0.19603803228519429 and parameters: {'max_depth': 1513, 'min_samples_split': 7, 'min_samples_leaf': 6.122856932780147e-08, 'min_weight_fraction_leaf': 1.7497116494784877e-07, 'max_features': 795, 'max_leaf_nodes': 6704, 'min_impurity_decrease': 1.0579780447702719e-08, 'ccp_alpha': 7.096793197259978e-07}. Best is trial 181 with value: 0.1895541446762014.\n",
      "[I 2024-02-15 20:45:36,064] Trial 459 finished with value: 0.23867616017029536 and parameters: {'max_depth': 538, 'min_samples_split': 448, 'min_samples_leaf': 3.4160064464827663e-08, 'min_weight_fraction_leaf': 6.670602829517376e-07, 'max_features': 826, 'max_leaf_nodes': 6580, 'min_impurity_decrease': 3.001851126836285e-08, 'ccp_alpha': 3.767000070683241e-06}. Best is trial 181 with value: 0.1895541446762014.\n",
      "[I 2024-02-15 20:45:43,590] Trial 460 finished with value: 0.2214072689059999 and parameters: {'max_depth': 4748, 'min_samples_split': 190, 'min_samples_leaf': 8.766897502413581e-09, 'min_weight_fraction_leaf': 9.765765237406847e-09, 'max_features': 514, 'max_leaf_nodes': 7731, 'min_impurity_decrease': 1.365882560732517e-08, 'ccp_alpha': 1.4687377691042241e-05}. Best is trial 181 with value: 0.1895541446762014.\n",
      "[I 2024-02-15 20:45:47,922] Trial 461 finished with value: 0.2884484257084729 and parameters: {'max_depth': 1133, 'min_samples_split': 2001, 'min_samples_leaf': 1.66494637105919e-08, 'min_weight_fraction_leaf': 8.554355346137094e-08, 'max_features': 755, 'max_leaf_nodes': 6979, 'min_impurity_decrease': 3.9913990314125695e-08, 'ccp_alpha': 1.3712888250539311e-06}. Best is trial 181 with value: 0.1895541446762014.\n",
      "[I 2024-02-15 20:46:07,964] Trial 462 finished with value: 0.19921877537713908 and parameters: {'max_depth': 3939, 'min_samples_split': 2, 'min_samples_leaf': 4.084836210793128e-08, 'min_weight_fraction_leaf': 1.9835056321077894e-07, 'max_features': 667, 'max_leaf_nodes': 7220, 'min_impurity_decrease': 7.04113725633064e-09, 'ccp_alpha': 6.827238394781785e-08}. Best is trial 181 with value: 0.1895541446762014.\n",
      "[I 2024-02-15 20:46:14,196] Trial 463 finished with value: 0.2533359900115002 and parameters: {'max_depth': 1882, 'min_samples_split': 632, 'min_samples_leaf': 5.470210747174068e-09, 'min_weight_fraction_leaf': 6.159168079684317e-07, 'max_features': 723, 'max_leaf_nodes': 7512, 'min_impurity_decrease': 1.4142735126723253e-07, 'ccp_alpha': 3.0731261231252526e-07}. Best is trial 181 with value: 0.1895541446762014.\n",
      "[I 2024-02-15 20:46:22,188] Trial 464 finished with value: 0.22646807866019086 and parameters: {'max_depth': 4422, 'min_samples_split': 330, 'min_samples_leaf': 1.0954020114282737e-08, 'min_weight_fraction_leaf': 1.2697371370478377e-07, 'max_features': 923, 'max_leaf_nodes': 6801, 'min_impurity_decrease': 2.294111088634867e-08, 'ccp_alpha': 6.164041824487173e-09}. Best is trial 181 with value: 0.1895541446762014.\n",
      "[I 2024-02-15 20:46:31,921] Trial 465 finished with value: 0.213500778565838 and parameters: {'max_depth': 521, 'min_samples_split': 181, 'min_samples_leaf': 2.4249144750681904e-08, 'min_weight_fraction_leaf': 2.53059399718935e-07, 'max_features': 784, 'max_leaf_nodes': 8059, 'min_impurity_decrease': 1.1786424437978782e-08, 'ccp_alpha': 1.4120871524187106e-09}. Best is trial 181 with value: 0.1895541446762014.\n",
      "[I 2024-02-15 20:46:38,730] Trial 466 finished with value: 0.2367822691026297 and parameters: {'max_depth': 897, 'min_samples_split': 433, 'min_samples_leaf': 1.4892253556611282e-08, 'min_weight_fraction_leaf': 9.89882224661433e-07, 'max_features': 821, 'max_leaf_nodes': 6472, 'min_impurity_decrease': 5.155566339536009e-07, 'ccp_alpha': 2.334332589419981e-06}. Best is trial 181 with value: 0.1895541446762014.\n",
      "[I 2024-02-15 20:46:56,638] Trial 467 finished with value: 0.1942467387882542 and parameters: {'max_depth': 4146, 'min_samples_split': 5, 'min_samples_leaf': 8.253286534918777e-08, 'min_weight_fraction_leaf': 4.2445411505097187e-07, 'max_features': 569, 'max_leaf_nodes': 7868, 'min_impurity_decrease': 5.486921498607589e-08, 'ccp_alpha': 5.014667365867377e-06}. Best is trial 181 with value: 0.1895541446762014.\n",
      "[I 2024-02-15 20:47:06,063] Trial 468 finished with value: 0.21949011504533505 and parameters: {'max_depth': 4635, 'min_samples_split': 227, 'min_samples_leaf': 8.145271237982678e-09, 'min_weight_fraction_leaf': 1.6790781448929545e-07, 'max_features': 806, 'max_leaf_nodes': 7464, 'min_impurity_decrease': 6.275380976675874e-09, 'ccp_alpha': 8.980172133348979e-07}. Best is trial 181 with value: 0.1895541446762014.\n",
      "[I 2024-02-15 20:47:15,505] Trial 469 finished with value: 0.21727707813118435 and parameters: {'max_depth': 3477, 'min_samples_split': 210, 'min_samples_leaf': 3.104968585288505e-08, 'min_weight_fraction_leaf': 9.167706945087122e-08, 'max_features': 844, 'max_leaf_nodes': 7060, 'min_impurity_decrease': 2.1221807090288237e-08, 'ccp_alpha': 1.0161147328515555e-09}. Best is trial 181 with value: 0.1895541446762014.\n",
      "[I 2024-02-15 20:47:29,452] Trial 470 finished with value: 0.19357121293374605 and parameters: {'max_depth': 3916, 'min_samples_split': 7, 'min_samples_leaf': 5.0255919187750386e-08, 'min_weight_fraction_leaf': 1.350398261451716e-06, 'max_features': 471, 'max_leaf_nodes': 7725, 'min_impurity_decrease': 9.249846835724237e-09, 'ccp_alpha': 3.3244430040150188e-06}. Best is trial 181 with value: 0.1895541446762014.\n",
      "[I 2024-02-15 20:47:32,635] Trial 471 finished with value: 0.7013207160161288 and parameters: {'max_depth': 3700, 'min_samples_split': 699, 'min_samples_leaf': 5.606666228641547e-08, 'min_weight_fraction_leaf': 4.176513559645886e-08, 'max_features': 461, 'max_leaf_nodes': 7866, 'min_impurity_decrease': 0.2445087340555274, 'ccp_alpha': 9.133611486224756e-06}. Best is trial 181 with value: 0.1895541446762014.\n",
      "[I 2024-02-15 20:47:37,990] Trial 472 finished with value: 0.23930801685706543 and parameters: {'max_depth': 3827, 'min_samples_split': 362, 'min_samples_leaf': 4.394794317827123e-08, 'min_weight_fraction_leaf': 1.8086798615848873e-06, 'max_features': 468, 'max_leaf_nodes': 7603, 'min_impurity_decrease': 4.9117095674809564e-09, 'ccp_alpha': 3.1250770480631e-06}. Best is trial 181 with value: 0.1895541446762014.\n",
      "[I 2024-02-15 20:48:03,473] Trial 473 finished with value: 0.21178430297685563 and parameters: {'max_depth': 746, 'min_samples_split': 3, 'min_samples_leaf': 7.484657238809453e-08, 'min_weight_fraction_leaf': 3.098675837141892e-06, 'max_features': 859, 'max_leaf_nodes': 7331, 'min_impurity_decrease': 1.006832856975268e-08, 'ccp_alpha': 3.17274696310121e-05}. Best is trial 181 with value: 0.1895541446762014.\n",
      "[I 2024-02-15 20:48:12,552] Trial 474 finished with value: 0.2155089003510736 and parameters: {'max_depth': 3959, 'min_samples_split': 183, 'min_samples_leaf': 1.2430044672270664e-07, 'min_weight_fraction_leaf': 2.3451249569769565e-06, 'max_features': 786, 'max_leaf_nodes': 7578, 'min_impurity_decrease': 8.556664323811432e-09, 'ccp_alpha': 5.559377083468381e-06}. Best is trial 181 with value: 0.1895541446762014.\n",
      "[I 2024-02-15 20:48:16,029] Trial 475 finished with value: 0.40484821794670445 and parameters: {'max_depth': 3605, 'min_samples_split': 500, 'min_samples_leaf': 2.619393805534849e-08, 'min_weight_fraction_leaf': 1.2920838077487686e-06, 'max_features': 831, 'max_leaf_nodes': 7771, 'min_impurity_decrease': 0.016161535257868103, 'ccp_alpha': 1.6036231208890822e-06}. Best is trial 181 with value: 0.1895541446762014.\n",
      "[I 2024-02-15 20:48:21,167] Trial 476 finished with value: 0.33585484836910007 and parameters: {'max_depth': 3209, 'min_samples_split': 4698, 'min_samples_leaf': 5.2727026865724286e-08, 'min_weight_fraction_leaf': 1.0216889999011695e-06, 'max_features': 808, 'max_leaf_nodes': 7978, 'min_impurity_decrease': 2.8580278478213415e-06, 'ccp_alpha': 3.8229736402830924e-08}. Best is trial 181 with value: 0.1895541446762014.\n",
      "[I 2024-02-15 20:48:28,877] Trial 477 finished with value: 0.22925041579112077 and parameters: {'max_depth': 4034, 'min_samples_split': 327, 'min_samples_leaf': 1.8232764065772588e-08, 'min_weight_fraction_leaf': 1.5959055013688329e-06, 'max_features': 767, 'max_leaf_nodes': 7315, 'min_impurity_decrease': 4.446141541573075e-09, 'ccp_alpha': 3.3967966150391417e-06}. Best is trial 181 with value: 0.1895541446762014.\n",
      "[I 2024-02-15 20:48:38,225] Trial 478 finished with value: 0.21670770248209292 and parameters: {'max_depth': 3847, 'min_samples_split': 204, 'min_samples_leaf': 3.574516853879683e-08, 'min_weight_fraction_leaf': 7.560940011187177e-07, 'max_features': 818, 'max_leaf_nodes': 7764, 'min_impurity_decrease': 1.8427997105396568e-08, 'ccp_alpha': 7.985190402549503e-06}. Best is trial 181 with value: 0.1895541446762014.\n",
      "[I 2024-02-15 20:48:48,311] Trial 479 finished with value: 0.21140590223581981 and parameters: {'max_depth': 3511, 'min_samples_split': 162, 'min_samples_leaf': 9.749114302509482e-08, 'min_weight_fraction_leaf': 6.919405343482812e-08, 'max_features': 882, 'max_leaf_nodes': 7478, 'min_impurity_decrease': 3.301709246691585e-08, 'ccp_alpha': 5.942569968931708e-07}. Best is trial 181 with value: 0.1895541446762014.\n",
      "[I 2024-02-15 20:49:14,289] Trial 480 finished with value: 0.19379814733987605 and parameters: {'max_depth': 4178, 'min_samples_split': 9, 'min_samples_leaf': 1.9895641339013353e-08, 'min_weight_fraction_leaf': 2.9008647079716208e-08, 'max_features': 904, 'max_leaf_nodes': 8040, 'min_impurity_decrease': 6.512168087724051e-08, 'ccp_alpha': 1.5561585669022149e-06}. Best is trial 181 with value: 0.1895541446762014.\n",
      "[I 2024-02-15 20:49:22,025] Trial 481 finished with value: 0.23459775544374076 and parameters: {'max_depth': 4215, 'min_samples_split': 435, 'min_samples_leaf': 2.006244541541922e-08, 'min_weight_fraction_leaf': 2.2719038805947987e-08, 'max_features': 911, 'max_leaf_nodes': 8072, 'min_impurity_decrease': 2.815093641367023e-07, 'ccp_alpha': 1.1386090438392937e-06}. Best is trial 181 with value: 0.1895541446762014.\n",
      "[I 2024-02-15 20:49:26,923] Trial 482 finished with value: 0.31168028492808614 and parameters: {'max_depth': 4278, 'min_samples_split': 964, 'min_samples_leaf': 0.043873594223317734, 'min_weight_fraction_leaf': 3.7379470751266275e-08, 'max_features': 903, 'max_leaf_nodes': 8127, 'min_impurity_decrease': 7.440641583188724e-08, 'ccp_alpha': 2.4047900447566745e-09}. Best is trial 181 with value: 0.1895541446762014.\n",
      "[I 2024-02-15 20:49:33,143] Trial 483 finished with value: 0.22437143269614693 and parameters: {'max_depth': 4150, 'min_samples_split': 185, 'min_samples_leaf': 1.2557414271877395e-08, 'min_weight_fraction_leaf': 2.3089917187872977e-06, 'max_features': 424, 'max_leaf_nodes': 7890, 'min_impurity_decrease': 1.75445736112978e-07, 'ccp_alpha': 1.6604217933577186e-05}. Best is trial 181 with value: 0.1895541446762014.\n",
      "[I 2024-02-15 20:49:58,548] Trial 484 finished with value: 0.1963083533958435 and parameters: {'max_depth': 4487, 'min_samples_split': 9, 'min_samples_leaf': 2.5964061192478307e-08, 'min_weight_fraction_leaf': 1.3146860596802774e-06, 'max_features': 911, 'max_leaf_nodes': 8181, 'min_impurity_decrease': 7.536259700464816e-08, 'ccp_alpha': 4.563202880964103e-09}. Best is trial 181 with value: 0.1895541446762014.\n",
      "[I 2024-02-15 20:50:05,268] Trial 485 finished with value: 0.24367369834227964 and parameters: {'max_depth': 4067, 'min_samples_split': 520, 'min_samples_leaf': 1.4366954256056492e-08, 'min_weight_fraction_leaf': 5.819339423283598e-08, 'max_features': 891, 'max_leaf_nodes': 8429, 'min_impurity_decrease': 1.3830338428020105e-07, 'ccp_alpha': 2.1123299699659643e-06}. Best is trial 181 with value: 0.1895541446762014.\n",
      "[I 2024-02-15 20:50:30,743] Trial 486 finished with value: 0.1942694814264947 and parameters: {'max_depth': 4795, 'min_samples_split': 5, 'min_samples_leaf': 2.1032260841501478e-08, 'min_weight_fraction_leaf': 1.5650139558451733e-08, 'max_features': 882, 'max_leaf_nodes': 7668, 'min_impurity_decrease': 5.229759397329478e-08, 'ccp_alpha': 5.167859585940754e-06}. Best is trial 181 with value: 0.1895541446762014.\n",
      "[I 2024-02-15 20:50:39,115] Trial 487 finished with value: 0.22419718015029702 and parameters: {'max_depth': 4352, 'min_samples_split': 265, 'min_samples_leaf': 3.3262919919813276e-08, 'min_weight_fraction_leaf': 3.0714424971394837e-08, 'max_features': 858, 'max_leaf_nodes': 7951, 'min_impurity_decrease': 4.8729419626272554e-08, 'ccp_alpha': 3.0221052402513547e-06}. Best is trial 181 with value: 0.1895541446762014.\n",
      "[I 2024-02-15 20:50:42,733] Trial 488 finished with value: 0.3896455982427217 and parameters: {'max_depth': 4598, 'min_samples_split': 6402, 'min_samples_leaf': 9.457484371593778e-09, 'min_weight_fraction_leaf': 1.804174040561591e-08, 'max_features': 874, 'max_leaf_nodes': 7158, 'min_impurity_decrease': 3.036105293785886e-08, 'ccp_alpha': 5.456227802739231e-07}. Best is trial 181 with value: 0.1895541446762014.\n",
      "[I 2024-02-15 20:50:47,877] Trial 489 finished with value: 0.25138636388049684 and parameters: {'max_depth': 4074, 'min_samples_split': 3, 'min_samples_leaf': 0.0035266677008161987, 'min_weight_fraction_leaf': 2.694371874676738e-08, 'max_features': 403, 'max_leaf_nodes': 7681, 'min_impurity_decrease': 1.252617585440736e-06, 'ccp_alpha': 1.650354638093219e-06}. Best is trial 181 with value: 0.1895541446762014.\n",
      "[I 2024-02-15 20:50:53,786] Trial 490 finished with value: 0.25540772982414983 and parameters: {'max_depth': 4326, 'min_samples_split': 735, 'min_samples_leaf': 1.797333509662288e-08, 'min_weight_fraction_leaf': 4.431443331934487e-08, 'max_features': 902, 'max_leaf_nodes': 7536, 'min_impurity_decrease': 8.47848064502669e-08, 'ccp_alpha': 9.956785352998361e-07}. Best is trial 181 with value: 0.1895541446762014.\n",
      "[I 2024-02-15 20:51:01,831] Trial 491 finished with value: 0.22984472569809627 and parameters: {'max_depth': 4014, 'min_samples_split': 366, 'min_samples_leaf': 1.2768124575988911e-08, 'min_weight_fraction_leaf': 1.1839186949386439e-07, 'max_features': 840, 'max_leaf_nodes': 7345, 'min_impurity_decrease': 1.9191279281940832e-08, 'ccp_alpha': 1.8627996994514244e-07}. Best is trial 181 with value: 0.1895541446762014.\n",
      "[I 2024-02-15 20:51:12,463] Trial 492 finished with value: 0.7013207160161288 and parameters: {'max_depth': 322, 'min_samples_split': 191, 'min_samples_leaf': 3.309172970256108e-08, 'min_weight_fraction_leaf': 5.730286645488359e-07, 'max_features': 869, 'max_leaf_nodes': 7815, 'min_impurity_decrease': 3.250996575776174e-08, 'ccp_alpha': 0.5609668486697902}. Best is trial 181 with value: 0.1895541446762014.\n",
      "[I 2024-02-15 20:51:19,969] Trial 493 finished with value: 0.24204095564645844 and parameters: {'max_depth': 4889, 'min_samples_split': 502, 'min_samples_leaf': 2.4073928164074144e-08, 'min_weight_fraction_leaf': 7.899612658335369e-08, 'max_features': 845, 'max_leaf_nodes': 6934, 'min_impurity_decrease': 1.54342257845345e-08, 'ccp_alpha': 6.905919390468861e-06}. Best is trial 181 with value: 0.1895541446762014.\n",
      "[I 2024-02-15 20:51:25,662] Trial 494 finished with value: 0.27625043384592135 and parameters: {'max_depth': 7019, 'min_samples_split': 183, 'min_samples_leaf': 8.310618838356099e-09, 'min_weight_fraction_leaf': 0.020607723945215504, 'max_features': 827, 'max_leaf_nodes': 8281, 'min_impurity_decrease': 1.0921843350765733e-08, 'ccp_alpha': 3.448064823852933e-06}. Best is trial 181 with value: 0.1895541446762014.\n",
      "[I 2024-02-15 20:51:29,159] Trial 495 finished with value: 0.4719367761225167 and parameters: {'max_depth': 3835, 'min_samples_split': 341, 'min_samples_leaf': 0.187090203072525, 'min_weight_fraction_leaf': 9.862649790538614e-07, 'max_features': 799, 'max_leaf_nodes': 7115, 'min_impurity_decrease': 3.5819273125751295e-08, 'ccp_alpha': 3.3712852441928676e-07}. Best is trial 181 with value: 0.1895541446762014.\n",
      "[I 2024-02-15 20:51:56,745] Trial 496 finished with value: 0.20184893578883636 and parameters: {'max_depth': 4456, 'min_samples_split': 2, 'min_samples_leaf': 4.812116464283426e-08, 'min_weight_fraction_leaf': 1.4464796333722836e-07, 'max_features': 923, 'max_leaf_nodes': 8053, 'min_impurity_decrease': 1.0260245100803209e-07, 'ccp_alpha': 1.0749328132730777e-08}. Best is trial 181 with value: 0.1895541446762014.\n",
      "[I 2024-02-15 20:52:07,254] Trial 497 finished with value: 0.2151746613427398 and parameters: {'max_depth': 4584, 'min_samples_split': 184, 'min_samples_leaf': 1.773078360853072e-05, 'min_weight_fraction_leaf': 3.2718223072032946e-09, 'max_features': 897, 'max_leaf_nodes': 7445, 'min_impurity_decrease': 1.8881339487916638e-08, 'ccp_alpha': 1.2581357400453923e-05}. Best is trial 181 with value: 0.1895541446762014.\n",
      "[I 2024-02-15 20:52:10,659] Trial 498 finished with value: 0.34016271329148917 and parameters: {'max_depth': 4238, 'min_samples_split': 617, 'min_samples_leaf': 1.45252619018924e-08, 'min_weight_fraction_leaf': 0.007023613264672026, 'max_features': 215, 'max_leaf_nodes': 7716, 'min_impurity_decrease': 8.021359352657469e-09, 'ccp_alpha': 1.595548784577248e-06}. Best is trial 181 with value: 0.1895541446762014.\n",
      "[I 2024-02-15 20:52:18,309] Trial 499 finished with value: 0.22808917675737575 and parameters: {'max_depth': 1056, 'min_samples_split': 333, 'min_samples_leaf': 6.398349182285379e-09, 'min_weight_fraction_leaf': 3.5061670613689663e-07, 'max_features': 853, 'max_leaf_nodes': 7323, 'min_impurity_decrease': 5.529539590198966e-08, 'ccp_alpha': 7.935648460555472e-07}. Best is trial 181 with value: 0.1895541446762014.\n"
     ]
    },
    {
     "data": {
      "text/plain": [
       "{'max_depth': 3773,\n",
       " 'min_samples_split': 24,\n",
       " 'min_samples_leaf': 1.6942305967212098e-08,\n",
       " 'min_weight_fraction_leaf': 2.660535713667831e-07,\n",
       " 'max_features': 799,\n",
       " 'max_leaf_nodes': 6836,\n",
       " 'min_impurity_decrease': 1.5722558480458835e-08,\n",
       " 'ccp_alpha': 1.1058600420283866e-09}"
      ]
     },
     "execution_count": 82,
     "metadata": {},
     "output_type": "execute_result"
    }
   ],
   "source": [
    "dtr_coarse_study = optuna.create_study(direction='minimize')\n",
    "dtr_coarse_study.optimize(dtr_coarse_objective, n_trials=500)\n",
    "dtr_coarse_best_params = dtr_coarse_study.best_params\n",
    "dtr_coarse_best_params"
   ]
  },
  {
   "cell_type": "markdown",
   "metadata": {},
   "source": [
    "To identify appropriate range for hyperparameters in the subsequent second step of fine-tuning, the top 10 combinations of hyperparameters that yielded the lowest error (rmse) are presented."
   ]
  },
  {
   "cell_type": "code",
   "execution_count": 85,
   "metadata": {},
   "outputs": [
    {
     "data": {
      "text/html": [
       "<div>\n",
       "<style scoped>\n",
       "    .dataframe tbody tr th:only-of-type {\n",
       "        vertical-align: middle;\n",
       "    }\n",
       "\n",
       "    .dataframe tbody tr th {\n",
       "        vertical-align: top;\n",
       "    }\n",
       "\n",
       "    .dataframe thead th {\n",
       "        text-align: right;\n",
       "    }\n",
       "</style>\n",
       "<table border=\"1\" class=\"dataframe\">\n",
       "  <thead>\n",
       "    <tr style=\"text-align: right;\">\n",
       "      <th></th>\n",
       "      <th>Trial</th>\n",
       "      <th>Score</th>\n",
       "      <th>max_depth</th>\n",
       "      <th>min_samples_split</th>\n",
       "      <th>min_samples_leaf</th>\n",
       "      <th>min_weight_fraction_leaf</th>\n",
       "      <th>max_features</th>\n",
       "      <th>max_leaf_nodes</th>\n",
       "      <th>min_impurity_decrease</th>\n",
       "      <th>ccp_alpha</th>\n",
       "    </tr>\n",
       "  </thead>\n",
       "  <tbody>\n",
       "    <tr>\n",
       "      <th>181</th>\n",
       "      <td>181</td>\n",
       "      <td>0.189554</td>\n",
       "      <td>3773</td>\n",
       "      <td>24</td>\n",
       "      <td>1.694231e-08</td>\n",
       "      <td>2.660536e-07</td>\n",
       "      <td>799</td>\n",
       "      <td>6836</td>\n",
       "      <td>1.572256e-08</td>\n",
       "      <td>1.105860e-09</td>\n",
       "    </tr>\n",
       "    <tr>\n",
       "      <th>307</th>\n",
       "      <td>307</td>\n",
       "      <td>0.190599</td>\n",
       "      <td>3598</td>\n",
       "      <td>15</td>\n",
       "      <td>1.743437e-09</td>\n",
       "      <td>1.278015e-07</td>\n",
       "      <td>823</td>\n",
       "      <td>5676</td>\n",
       "      <td>7.418978e-07</td>\n",
       "      <td>2.171985e-09</td>\n",
       "    </tr>\n",
       "    <tr>\n",
       "      <th>151</th>\n",
       "      <td>151</td>\n",
       "      <td>0.191225</td>\n",
       "      <td>3996</td>\n",
       "      <td>15</td>\n",
       "      <td>5.610027e-08</td>\n",
       "      <td>4.730747e-07</td>\n",
       "      <td>797</td>\n",
       "      <td>7637</td>\n",
       "      <td>1.197426e-08</td>\n",
       "      <td>3.711106e-06</td>\n",
       "    </tr>\n",
       "    <tr>\n",
       "      <th>142</th>\n",
       "      <td>142</td>\n",
       "      <td>0.191712</td>\n",
       "      <td>4494</td>\n",
       "      <td>9</td>\n",
       "      <td>2.776097e-08</td>\n",
       "      <td>2.692025e-07</td>\n",
       "      <td>803</td>\n",
       "      <td>6931</td>\n",
       "      <td>1.126963e-08</td>\n",
       "      <td>2.296307e-06</td>\n",
       "    </tr>\n",
       "    <tr>\n",
       "      <th>152</th>\n",
       "      <td>152</td>\n",
       "      <td>0.191714</td>\n",
       "      <td>4080</td>\n",
       "      <td>13</td>\n",
       "      <td>3.867081e-08</td>\n",
       "      <td>5.133954e-07</td>\n",
       "      <td>838</td>\n",
       "      <td>7489</td>\n",
       "      <td>1.326029e-08</td>\n",
       "      <td>3.200854e-06</td>\n",
       "    </tr>\n",
       "    <tr>\n",
       "      <th>179</th>\n",
       "      <td>179</td>\n",
       "      <td>0.191723</td>\n",
       "      <td>3833</td>\n",
       "      <td>18</td>\n",
       "      <td>1.534984e-08</td>\n",
       "      <td>1.486366e-07</td>\n",
       "      <td>796</td>\n",
       "      <td>6835</td>\n",
       "      <td>1.167463e-08</td>\n",
       "      <td>6.553374e-09</td>\n",
       "    </tr>\n",
       "    <tr>\n",
       "      <th>287</th>\n",
       "      <td>287</td>\n",
       "      <td>0.191775</td>\n",
       "      <td>4448</td>\n",
       "      <td>12</td>\n",
       "      <td>6.870701e-09</td>\n",
       "      <td>1.655314e-07</td>\n",
       "      <td>801</td>\n",
       "      <td>5502</td>\n",
       "      <td>1.118910e-08</td>\n",
       "      <td>4.031323e-06</td>\n",
       "    </tr>\n",
       "    <tr>\n",
       "      <th>221</th>\n",
       "      <td>221</td>\n",
       "      <td>0.191799</td>\n",
       "      <td>4787</td>\n",
       "      <td>15</td>\n",
       "      <td>1.719662e-08</td>\n",
       "      <td>2.530533e-07</td>\n",
       "      <td>812</td>\n",
       "      <td>7631</td>\n",
       "      <td>1.496997e-08</td>\n",
       "      <td>1.007608e-06</td>\n",
       "    </tr>\n",
       "    <tr>\n",
       "      <th>88</th>\n",
       "      <td>88</td>\n",
       "      <td>0.191850</td>\n",
       "      <td>4525</td>\n",
       "      <td>32</td>\n",
       "      <td>1.140655e-08</td>\n",
       "      <td>1.044757e-07</td>\n",
       "      <td>808</td>\n",
       "      <td>6632</td>\n",
       "      <td>3.907213e-08</td>\n",
       "      <td>3.643872e-07</td>\n",
       "    </tr>\n",
       "    <tr>\n",
       "      <th>268</th>\n",
       "      <td>268</td>\n",
       "      <td>0.192028</td>\n",
       "      <td>4038</td>\n",
       "      <td>28</td>\n",
       "      <td>4.087967e-09</td>\n",
       "      <td>9.211335e-07</td>\n",
       "      <td>845</td>\n",
       "      <td>5660</td>\n",
       "      <td>3.390752e-09</td>\n",
       "      <td>4.731635e-06</td>\n",
       "    </tr>\n",
       "  </tbody>\n",
       "</table>\n",
       "</div>"
      ],
      "text/plain": [
       "     Trial     Score  max_depth  min_samples_split  min_samples_leaf  \\\n",
       "181    181  0.189554       3773                 24      1.694231e-08   \n",
       "307    307  0.190599       3598                 15      1.743437e-09   \n",
       "151    151  0.191225       3996                 15      5.610027e-08   \n",
       "142    142  0.191712       4494                  9      2.776097e-08   \n",
       "152    152  0.191714       4080                 13      3.867081e-08   \n",
       "179    179  0.191723       3833                 18      1.534984e-08   \n",
       "287    287  0.191775       4448                 12      6.870701e-09   \n",
       "221    221  0.191799       4787                 15      1.719662e-08   \n",
       "88      88  0.191850       4525                 32      1.140655e-08   \n",
       "268    268  0.192028       4038                 28      4.087967e-09   \n",
       "\n",
       "     min_weight_fraction_leaf  max_features  max_leaf_nodes  \\\n",
       "181              2.660536e-07           799            6836   \n",
       "307              1.278015e-07           823            5676   \n",
       "151              4.730747e-07           797            7637   \n",
       "142              2.692025e-07           803            6931   \n",
       "152              5.133954e-07           838            7489   \n",
       "179              1.486366e-07           796            6835   \n",
       "287              1.655314e-07           801            5502   \n",
       "221              2.530533e-07           812            7631   \n",
       "88               1.044757e-07           808            6632   \n",
       "268              9.211335e-07           845            5660   \n",
       "\n",
       "     min_impurity_decrease     ccp_alpha  \n",
       "181           1.572256e-08  1.105860e-09  \n",
       "307           7.418978e-07  2.171985e-09  \n",
       "151           1.197426e-08  3.711106e-06  \n",
       "142           1.126963e-08  2.296307e-06  \n",
       "152           1.326029e-08  3.200854e-06  \n",
       "179           1.167463e-08  6.553374e-09  \n",
       "287           1.118910e-08  4.031323e-06  \n",
       "221           1.496997e-08  1.007608e-06  \n",
       "88            3.907213e-08  3.643872e-07  \n",
       "268           3.390752e-09  4.731635e-06  "
      ]
     },
     "execution_count": 85,
     "metadata": {},
     "output_type": "execute_result"
    }
   ],
   "source": [
    "dtr_coarse_results = []\n",
    "for trial in dtr_coarse_study.trials:\n",
    "    row = [\n",
    "        trial.number,\n",
    "        trial.value,\n",
    "        trial.params['max_depth'],\n",
    "        trial.params['min_samples_split'],\n",
    "        trial.params['min_samples_leaf'],\n",
    "        trial.params['min_weight_fraction_leaf'],\n",
    "        trial.params['max_features'],\n",
    "        trial.params['max_leaf_nodes'],\n",
    "        trial.params['min_impurity_decrease'],\n",
    "        trial.params['ccp_alpha']\n",
    "    ]\n",
    "    dtr_coarse_results.append(row)\n",
    "\n",
    "dtr_coarse_columns = ['Trial', 'Score', 'max_depth', 'min_samples_split', 'min_samples_leaf', \n",
    "           'min_weight_fraction_leaf', 'max_features', 'max_leaf_nodes', \n",
    "           'min_impurity_decrease', 'ccp_alpha']\n",
    "dtr_coarse_df = pd.DataFrame(dtr_coarse_results, columns=dtr_coarse_columns)\n",
    "\n",
    "dtr_coarse_df = dtr_coarse_df.sort_values(by='Score')\n",
    "\n",
    "dtr_coarse_df.head(10)"
   ]
  },
  {
   "cell_type": "code",
   "execution_count": 88,
   "metadata": {},
   "outputs": [
    {
     "data": {
      "text/html": [
       "<div>\n",
       "<style scoped>\n",
       "    .dataframe tbody tr th:only-of-type {\n",
       "        vertical-align: middle;\n",
       "    }\n",
       "\n",
       "    .dataframe tbody tr th {\n",
       "        vertical-align: top;\n",
       "    }\n",
       "\n",
       "    .dataframe thead th {\n",
       "        text-align: right;\n",
       "    }\n",
       "</style>\n",
       "<table border=\"1\" class=\"dataframe\">\n",
       "  <thead>\n",
       "    <tr style=\"text-align: right;\">\n",
       "      <th></th>\n",
       "      <th>Trial</th>\n",
       "      <th>Score</th>\n",
       "      <th>max_depth</th>\n",
       "      <th>min_samples_split</th>\n",
       "      <th>min_samples_leaf</th>\n",
       "      <th>min_weight_fraction_leaf</th>\n",
       "      <th>max_features</th>\n",
       "      <th>max_leaf_nodes</th>\n",
       "      <th>min_impurity_decrease</th>\n",
       "      <th>ccp_alpha</th>\n",
       "    </tr>\n",
       "  </thead>\n",
       "  <tbody>\n",
       "    <tr>\n",
       "      <th>count</th>\n",
       "      <td>10.000000</td>\n",
       "      <td>10.000000</td>\n",
       "      <td>10.000000</td>\n",
       "      <td>10.000000</td>\n",
       "      <td>1.000000e+01</td>\n",
       "      <td>1.000000e+01</td>\n",
       "      <td>10.000000</td>\n",
       "      <td>10.000000</td>\n",
       "      <td>1.000000e+01</td>\n",
       "      <td>1.000000e+01</td>\n",
       "    </tr>\n",
       "    <tr>\n",
       "      <th>mean</th>\n",
       "      <td>197.600000</td>\n",
       "      <td>0.191398</td>\n",
       "      <td>4157.200000</td>\n",
       "      <td>18.100000</td>\n",
       "      <td>1.961295e-08</td>\n",
       "      <td>3.242358e-07</td>\n",
       "      <td>812.200000</td>\n",
       "      <td>6682.900000</td>\n",
       "      <td>8.744211e-08</td>\n",
       "      <td>1.935305e-06</td>\n",
       "    </tr>\n",
       "    <tr>\n",
       "      <th>std</th>\n",
       "      <td>71.055847</td>\n",
       "      <td>0.000766</td>\n",
       "      <td>386.076791</td>\n",
       "      <td>7.460265</td>\n",
       "      <td>1.693818e-08</td>\n",
       "      <td>2.513530e-07</td>\n",
       "      <td>17.491585</td>\n",
       "      <td>818.155982</td>\n",
       "      <td>2.301372e-07</td>\n",
       "      <td>1.874530e-06</td>\n",
       "    </tr>\n",
       "    <tr>\n",
       "      <th>min</th>\n",
       "      <td>88.000000</td>\n",
       "      <td>0.189554</td>\n",
       "      <td>3598.000000</td>\n",
       "      <td>9.000000</td>\n",
       "      <td>1.743437e-09</td>\n",
       "      <td>1.044757e-07</td>\n",
       "      <td>796.000000</td>\n",
       "      <td>5502.000000</td>\n",
       "      <td>3.390752e-09</td>\n",
       "      <td>1.105860e-09</td>\n",
       "    </tr>\n",
       "    <tr>\n",
       "      <th>25%</th>\n",
       "      <td>151.250000</td>\n",
       "      <td>0.191347</td>\n",
       "      <td>3873.750000</td>\n",
       "      <td>13.500000</td>\n",
       "      <td>8.004663e-09</td>\n",
       "      <td>1.528603e-07</td>\n",
       "      <td>799.500000</td>\n",
       "      <td>5915.000000</td>\n",
       "      <td>1.137088e-08</td>\n",
       "      <td>9.601183e-08</td>\n",
       "    </tr>\n",
       "    <tr>\n",
       "      <th>50%</th>\n",
       "      <td>180.000000</td>\n",
       "      <td>0.191718</td>\n",
       "      <td>4059.000000</td>\n",
       "      <td>15.000000</td>\n",
       "      <td>1.614608e-08</td>\n",
       "      <td>2.595534e-07</td>\n",
       "      <td>805.500000</td>\n",
       "      <td>6835.500000</td>\n",
       "      <td>1.261727e-08</td>\n",
       "      <td>1.651958e-06</td>\n",
       "    </tr>\n",
       "    <tr>\n",
       "      <th>75%</th>\n",
       "      <td>256.250000</td>\n",
       "      <td>0.191793</td>\n",
       "      <td>4482.500000</td>\n",
       "      <td>22.500000</td>\n",
       "      <td>2.511988e-08</td>\n",
       "      <td>4.221067e-07</td>\n",
       "      <td>820.250000</td>\n",
       "      <td>7349.500000</td>\n",
       "      <td>1.553441e-08</td>\n",
       "      <td>3.583543e-06</td>\n",
       "    </tr>\n",
       "    <tr>\n",
       "      <th>max</th>\n",
       "      <td>307.000000</td>\n",
       "      <td>0.192028</td>\n",
       "      <td>4787.000000</td>\n",
       "      <td>32.000000</td>\n",
       "      <td>5.610027e-08</td>\n",
       "      <td>9.211335e-07</td>\n",
       "      <td>845.000000</td>\n",
       "      <td>7637.000000</td>\n",
       "      <td>7.418978e-07</td>\n",
       "      <td>4.731635e-06</td>\n",
       "    </tr>\n",
       "  </tbody>\n",
       "</table>\n",
       "</div>"
      ],
      "text/plain": [
       "            Trial      Score    max_depth  min_samples_split  \\\n",
       "count   10.000000  10.000000    10.000000          10.000000   \n",
       "mean   197.600000   0.191398  4157.200000          18.100000   \n",
       "std     71.055847   0.000766   386.076791           7.460265   \n",
       "min     88.000000   0.189554  3598.000000           9.000000   \n",
       "25%    151.250000   0.191347  3873.750000          13.500000   \n",
       "50%    180.000000   0.191718  4059.000000          15.000000   \n",
       "75%    256.250000   0.191793  4482.500000          22.500000   \n",
       "max    307.000000   0.192028  4787.000000          32.000000   \n",
       "\n",
       "       min_samples_leaf  min_weight_fraction_leaf  max_features  \\\n",
       "count      1.000000e+01              1.000000e+01     10.000000   \n",
       "mean       1.961295e-08              3.242358e-07    812.200000   \n",
       "std        1.693818e-08              2.513530e-07     17.491585   \n",
       "min        1.743437e-09              1.044757e-07    796.000000   \n",
       "25%        8.004663e-09              1.528603e-07    799.500000   \n",
       "50%        1.614608e-08              2.595534e-07    805.500000   \n",
       "75%        2.511988e-08              4.221067e-07    820.250000   \n",
       "max        5.610027e-08              9.211335e-07    845.000000   \n",
       "\n",
       "       max_leaf_nodes  min_impurity_decrease     ccp_alpha  \n",
       "count       10.000000           1.000000e+01  1.000000e+01  \n",
       "mean      6682.900000           8.744211e-08  1.935305e-06  \n",
       "std        818.155982           2.301372e-07  1.874530e-06  \n",
       "min       5502.000000           3.390752e-09  1.105860e-09  \n",
       "25%       5915.000000           1.137088e-08  9.601183e-08  \n",
       "50%       6835.500000           1.261727e-08  1.651958e-06  \n",
       "75%       7349.500000           1.553441e-08  3.583543e-06  \n",
       "max       7637.000000           7.418978e-07  4.731635e-06  "
      ]
     },
     "execution_count": 88,
     "metadata": {},
     "output_type": "execute_result"
    }
   ],
   "source": [
    "dtr_coarse_df.head(10).describe()"
   ]
  },
  {
   "cell_type": "markdown",
   "metadata": {},
   "source": [
    "The following hyperparameter space for fine tuning is identified:\n",
    "\n",
    "max_depth: 3500 - 5000\n",
    "\n",
    "min_samples_split: 5 - 35\n",
    "\n",
    "min_samples_leaf: 1e-9 - 1e-7\n",
    "\n",
    "min_weight_fraction_leaf: 1e-8 - 1e-6\t\n",
    "\n",
    "max_features: 750 - 900\t\n",
    "\n",
    "max_leaf_nodes: 5000 - 8000\t\n",
    "\n",
    "min_impurity_decrease: 1e-10 -1e-7\t\n",
    "\n",
    "ccp_alpha: 1e-10 -1e-5\t"
   ]
  },
  {
   "cell_type": "code",
   "execution_count": 91,
   "metadata": {},
   "outputs": [],
   "source": [
    "def dtr_fine_objective(trial):\n",
    "    parameters = {\n",
    "        'max_depth': trial.suggest_int('max_depth', 3500, 5000),\n",
    "        'min_samples_split': trial.suggest_int('min_samples_split', 5, 35),\n",
    "        'min_samples_leaf': trial.suggest_float('min_samples_leaf', 1e-9, 1e-7, log=True),\n",
    "        'min_weight_fraction_leaf': trial.suggest_float('min_weight_fraction_leaf', 1e-8, 1e-6, log=True),\n",
    "        'max_features': trial.suggest_int('max_features', 750, 900),\n",
    "        'max_leaf_nodes': trial.suggest_int('max_leaf_nodes', 5000, 8000),\n",
    "        'min_impurity_decrease': trial.suggest_float('min_impurity_decrease', 1e-10, 1e-7, log=True),\n",
    "        'ccp_alpha': trial.suggest_float('ccp_alpha', 1e-10, 1e-5, log=True)\n",
    "    }    \n",
    "    dt_regressor = DecisionTreeRegressor(**parameters, random_state=42)    \n",
    "    kfolds = KFold(n_splits=5, shuffle=True, random_state=42)\n",
    "    rmse_scores = cross_val_score(\n",
    "        dt_regressor, X_train, y_train,\n",
    "        scoring='neg_root_mean_squared_error', cv=kfolds, n_jobs=-1\n",
    "    )    \n",
    "    return -rmse_scores.mean()"
   ]
  },
  {
   "cell_type": "code",
   "execution_count": 93,
   "metadata": {},
   "outputs": [
    {
     "name": "stderr",
     "output_type": "stream",
     "text": [
      "[I 2024-02-16 09:23:32,089] A new study created in memory with name: no-name-1eb70b8e-b28f-4321-b236-a35e0fd084e2\n",
      "[I 2024-02-16 09:24:04,388] Trial 0 finished with value: 0.19146626651635704 and parameters: {'max_depth': 4587, 'min_samples_split': 35, 'min_samples_leaf': 2.3212001656723564e-09, 'min_weight_fraction_leaf': 1.5506328606651265e-07, 'max_features': 852, 'max_leaf_nodes': 5567, 'min_impurity_decrease': 1.3215898626685163e-09, 'ccp_alpha': 2.1308734865932396e-07}. Best is trial 0 with value: 0.19146626651635704.\n",
      "[I 2024-02-16 09:24:25,931] Trial 1 finished with value: 0.19053244765477556 and parameters: {'max_depth': 4333, 'min_samples_split': 31, 'min_samples_leaf': 1.5084223541053958e-09, 'min_weight_fraction_leaf': 8.373595125803366e-07, 'max_features': 813, 'max_leaf_nodes': 5342, 'min_impurity_decrease': 2.4450567930018313e-10, 'ccp_alpha': 2.1693046271303746e-08}. Best is trial 1 with value: 0.19053244765477556.\n",
      "[I 2024-02-16 09:24:49,062] Trial 2 finished with value: 0.19218587485846672 and parameters: {'max_depth': 4428, 'min_samples_split': 34, 'min_samples_leaf': 1.0168440641939172e-09, 'min_weight_fraction_leaf': 2.2678057241683008e-07, 'max_features': 794, 'max_leaf_nodes': 6973, 'min_impurity_decrease': 6.230146190047078e-10, 'ccp_alpha': 1.650834407754936e-10}. Best is trial 1 with value: 0.19053244765477556.\n",
      "[I 2024-02-16 09:25:18,250] Trial 3 finished with value: 0.19288905611958737 and parameters: {'max_depth': 4179, 'min_samples_split': 35, 'min_samples_leaf': 4.63405738961829e-09, 'min_weight_fraction_leaf': 6.089346980213484e-07, 'max_features': 882, 'max_leaf_nodes': 5736, 'min_impurity_decrease': 3.817241203710193e-09, 'ccp_alpha': 4.741458843093118e-06}. Best is trial 1 with value: 0.19053244765477556.\n",
      "[I 2024-02-16 09:25:46,150] Trial 4 finished with value: 0.19239195762891956 and parameters: {'max_depth': 4102, 'min_samples_split': 24, 'min_samples_leaf': 1.3105976152658552e-08, 'min_weight_fraction_leaf': 1.6718792912518616e-07, 'max_features': 806, 'max_leaf_nodes': 5771, 'min_impurity_decrease': 6.118426272045601e-10, 'ccp_alpha': 1.1151704327603275e-06}. Best is trial 1 with value: 0.19053244765477556.\n",
      "[I 2024-02-16 09:26:16,637] Trial 5 finished with value: 0.19114581025213226 and parameters: {'max_depth': 4217, 'min_samples_split': 33, 'min_samples_leaf': 4.886753253072752e-09, 'min_weight_fraction_leaf': 4.4304672603673933e-07, 'max_features': 881, 'max_leaf_nodes': 7703, 'min_impurity_decrease': 4.075287465372557e-08, 'ccp_alpha': 1.9428949699186162e-10}. Best is trial 1 with value: 0.19053244765477556.\n",
      "[I 2024-02-16 09:26:39,652] Trial 6 finished with value: 0.19047610487949876 and parameters: {'max_depth': 4521, 'min_samples_split': 28, 'min_samples_leaf': 1.8310750208027405e-08, 'min_weight_fraction_leaf': 5.440735014754103e-07, 'max_features': 893, 'max_leaf_nodes': 5073, 'min_impurity_decrease': 3.2751028301592103e-10, 'ccp_alpha': 5.938889325745725e-10}. Best is trial 6 with value: 0.19047610487949876.\n",
      "[I 2024-02-16 09:27:10,572] Trial 7 finished with value: 0.19630844594609406 and parameters: {'max_depth': 4208, 'min_samples_split': 7, 'min_samples_leaf': 6.4514165249470755e-09, 'min_weight_fraction_leaf': 1.2940191443413369e-08, 'max_features': 856, 'max_leaf_nodes': 7008, 'min_impurity_decrease': 3.0551955211455396e-10, 'ccp_alpha': 9.86576132799628e-10}. Best is trial 6 with value: 0.19047610487949876.\n",
      "[I 2024-02-16 09:27:34,062] Trial 8 finished with value: 0.19142472462371302 and parameters: {'max_depth': 3615, 'min_samples_split': 22, 'min_samples_leaf': 6.823973184914567e-09, 'min_weight_fraction_leaf': 3.501829437212169e-08, 'max_features': 802, 'max_leaf_nodes': 5576, 'min_impurity_decrease': 1.5706239150441996e-09, 'ccp_alpha': 3.895444858291105e-09}. Best is trial 6 with value: 0.19047610487949876.\n",
      "[I 2024-02-16 09:27:53,615] Trial 9 finished with value: 0.1895975425502461 and parameters: {'max_depth': 3641, 'min_samples_split': 24, 'min_samples_leaf': 1.3299870735318286e-08, 'min_weight_fraction_leaf': 5.7628476506907997e-08, 'max_features': 766, 'max_leaf_nodes': 5075, 'min_impurity_decrease': 8.447051149455017e-09, 'ccp_alpha': 1.5542343083204603e-09}. Best is trial 9 with value: 0.1895975425502461.\n",
      "[I 2024-02-16 09:28:15,364] Trial 10 finished with value: 0.1908556560458891 and parameters: {'max_depth': 3638, 'min_samples_split': 14, 'min_samples_leaf': 6.739604887054585e-08, 'min_weight_fraction_leaf': 5.028736051686837e-08, 'max_features': 755, 'max_leaf_nodes': 6475, 'min_impurity_decrease': 1.3034251231090434e-08, 'ccp_alpha': 2.0888669855112622e-08}. Best is trial 9 with value: 0.1895975425502461.\n",
      "[I 2024-02-16 09:28:35,962] Trial 11 finished with value: 0.19048993838267705 and parameters: {'max_depth': 4864, 'min_samples_split': 26, 'min_samples_leaf': 2.3490016131715707e-08, 'min_weight_fraction_leaf': 3.683807162201865e-08, 'max_features': 752, 'max_leaf_nodes': 5008, 'min_impurity_decrease': 7.176261991447003e-09, 'ccp_alpha': 2.1478673197127053e-09}. Best is trial 9 with value: 0.1895975425502461.\n",
      "[I 2024-02-16 09:28:57,515] Trial 12 finished with value: 0.19095848628971998 and parameters: {'max_depth': 3943, 'min_samples_split': 15, 'min_samples_leaf': 3.061255891807957e-08, 'min_weight_fraction_leaf': 7.451982480095804e-08, 'max_features': 777, 'max_leaf_nodes': 5002, 'min_impurity_decrease': 2.6493942505427094e-08, 'ccp_alpha': 6.808585606541349e-10}. Best is trial 9 with value: 0.1895975425502461.\n",
      "[I 2024-02-16 09:29:17,923] Trial 13 finished with value: 0.19013824916916172 and parameters: {'max_depth': 4669, 'min_samples_split': 28, 'min_samples_leaf': 1.712227257880538e-08, 'min_weight_fraction_leaf': 1.3611878510416418e-08, 'max_features': 842, 'max_leaf_nodes': 6168, 'min_impurity_decrease': 1.3424212667949275e-10, 'ccp_alpha': 3.7018260881520483e-09}. Best is trial 9 with value: 0.1895975425502461.\n",
      "[I 2024-02-16 09:29:40,217] Trial 14 finished with value: 0.19025627989503516 and parameters: {'max_depth': 4919, 'min_samples_split': 18, 'min_samples_leaf': 5.2167067235850916e-08, 'min_weight_fraction_leaf': 1.0191769050998994e-08, 'max_features': 839, 'max_leaf_nodes': 6113, 'min_impurity_decrease': 9.172184869123029e-09, 'ccp_alpha': 6.870151722280513e-09}. Best is trial 9 with value: 0.1895975425502461.\n",
      "[I 2024-02-16 09:29:59,874] Trial 15 finished with value: 0.19075837398275985 and parameters: {'max_depth': 3856, 'min_samples_split': 29, 'min_samples_leaf': 1.1169719165728271e-08, 'min_weight_fraction_leaf': 1.916903772201808e-08, 'max_features': 828, 'max_leaf_nodes': 6164, 'min_impurity_decrease': 1.1060229075213034e-10, 'ccp_alpha': 7.506267067801158e-08}. Best is trial 9 with value: 0.1895975425502461.\n",
      "[I 2024-02-16 09:30:20,503] Trial 16 finished with value: 0.19194438606967906 and parameters: {'max_depth': 4724, 'min_samples_split': 20, 'min_samples_leaf': 3.653114892029814e-08, 'min_weight_fraction_leaf': 2.4831551745195082e-08, 'max_features': 780, 'max_leaf_nodes': 7953, 'min_impurity_decrease': 3.193062526901844e-09, 'ccp_alpha': 8.929225763276838e-09}. Best is trial 9 with value: 0.1895975425502461.\n",
      "[I 2024-02-16 09:30:41,317] Trial 17 finished with value: 0.18945732583626868 and parameters: {'max_depth': 3500, 'min_samples_split': 27, 'min_samples_leaf': 9.684060044286704e-08, 'min_weight_fraction_leaf': 8.57653146292304e-08, 'max_features': 863, 'max_leaf_nodes': 7117, 'min_impurity_decrease': 9.974920692405575e-08, 'ccp_alpha': 8.664809792653697e-08}. Best is trial 17 with value: 0.18945732583626868.\n",
      "[I 2024-02-16 09:31:02,054] Trial 18 finished with value: 0.1904226165957242 and parameters: {'max_depth': 3517, 'min_samples_split': 24, 'min_samples_leaf': 8.323782938273915e-08, 'min_weight_fraction_leaf': 8.711553279009069e-08, 'max_features': 869, 'max_leaf_nodes': 7228, 'min_impurity_decrease': 7.411513355579652e-08, 'ccp_alpha': 2.0180370557979785e-07}. Best is trial 17 with value: 0.18945732583626868.\n",
      "[I 2024-02-16 09:31:24,816] Trial 19 finished with value: 0.1952247833822606 and parameters: {'max_depth': 3770, 'min_samples_split': 8, 'min_samples_leaf': 9.500783373066044e-08, 'min_weight_fraction_leaf': 6.169432637688996e-08, 'max_features': 774, 'max_leaf_nodes': 7409, 'min_impurity_decrease': 9.228595481408306e-08, 'ccp_alpha': 1.0091017742172877e-07}. Best is trial 17 with value: 0.18945732583626868.\n",
      "[I 2024-02-16 09:31:48,118] Trial 20 finished with value: 0.1896545458226757 and parameters: {'max_depth': 3993, 'min_samples_split': 19, 'min_samples_leaf': 3.6123336573966777e-08, 'min_weight_fraction_leaf': 2.923082437441664e-07, 'max_features': 822, 'max_leaf_nodes': 6685, 'min_impurity_decrease': 2.342243304387447e-08, 'ccp_alpha': 8.55340154159779e-07}. Best is trial 17 with value: 0.18945732583626868.\n",
      "[I 2024-02-16 09:32:10,666] Trial 21 finished with value: 0.19155648198964537 and parameters: {'max_depth': 3994, 'min_samples_split': 18, 'min_samples_leaf': 4.431177767298427e-08, 'min_weight_fraction_leaf': 2.931924050110326e-07, 'max_features': 824, 'max_leaf_nodes': 6668, 'min_impurity_decrease': 2.2394094110794208e-08, 'ccp_alpha': 9.22074557170295e-07}. Best is trial 17 with value: 0.18945732583626868.\n",
      "[I 2024-02-16 09:32:35,103] Trial 22 finished with value: 0.19184029618675416 and parameters: {'max_depth': 3755, 'min_samples_split': 14, 'min_samples_leaf': 5.428511250089558e-08, 'min_weight_fraction_leaf': 1.2170580851445063e-07, 'max_features': 862, 'max_leaf_nodes': 6631, 'min_impurity_decrease': 4.350013671214872e-08, 'ccp_alpha': 1.0607692831056321e-06}. Best is trial 17 with value: 0.18945732583626868.\n",
      "[I 2024-02-16 09:32:55,617] Trial 23 finished with value: 0.1972272376344481 and parameters: {'max_depth': 3573, 'min_samples_split': 21, 'min_samples_leaf': 2.459031746162306e-08, 'min_weight_fraction_leaf': 1.0376734741655943e-07, 'max_features': 790, 'max_leaf_nodes': 6913, 'min_impurity_decrease': 1.208316571260967e-08, 'ccp_alpha': 9.29204860937379e-06}. Best is trial 17 with value: 0.18945732583626868.\n",
      "[I 2024-02-16 09:33:17,854] Trial 24 finished with value: 0.19124483892152397 and parameters: {'max_depth': 3756, 'min_samples_split': 24, 'min_samples_leaf': 3.628523535713634e-08, 'min_weight_fraction_leaf': 2.685129896709306e-07, 'max_features': 765, 'max_leaf_nodes': 6460, 'min_impurity_decrease': 2.0982185917417443e-08, 'ccp_alpha': 4.808676250137993e-07}. Best is trial 17 with value: 0.18945732583626868.\n",
      "[I 2024-02-16 09:33:45,933] Trial 25 finished with value: 0.19088348890786822 and parameters: {'max_depth': 4016, 'min_samples_split': 18, 'min_samples_leaf': 7.316293541289919e-08, 'min_weight_fraction_leaf': 4.2674034169390754e-08, 'max_features': 820, 'max_leaf_nodes': 7229, 'min_impurity_decrease': 5.528493707661831e-08, 'ccp_alpha': 5.162260319982686e-08}. Best is trial 17 with value: 0.18945732583626868.\n",
      "[I 2024-02-16 09:34:15,207] Trial 26 finished with value: 0.19232786399803625 and parameters: {'max_depth': 3681, 'min_samples_split': 11, 'min_samples_leaf': 9.956542650024376e-08, 'min_weight_fraction_leaf': 1.5996933066698437e-07, 'max_features': 899, 'max_leaf_nodes': 7527, 'min_impurity_decrease': 2.948034824364866e-08, 'ccp_alpha': 2.831232156819069e-06}. Best is trial 17 with value: 0.18945732583626868.\n",
      "[I 2024-02-16 09:34:36,361] Trial 27 finished with value: 0.18979273156992968 and parameters: {'max_depth': 3500, 'min_samples_split': 26, 'min_samples_leaf': 1.5713514492680696e-08, 'min_weight_fraction_leaf': 3.915660334265263e-07, 'max_features': 839, 'max_leaf_nodes': 6847, 'min_impurity_decrease': 5.600950739803302e-09, 'ccp_alpha': 3.2135149752819617e-07}. Best is trial 17 with value: 0.18945732583626868.\n",
      "[I 2024-02-16 09:35:01,147] Trial 28 finished with value: 0.19063460601801518 and parameters: {'max_depth': 3893, 'min_samples_split': 22, 'min_samples_leaf': 5.104224326555681e-08, 'min_weight_fraction_leaf': 5.6540966645376285e-08, 'max_features': 868, 'max_leaf_nodes': 6269, 'min_impurity_decrease': 1.3382052063749738e-08, 'ccp_alpha': 1.2614064223847548e-08}. Best is trial 17 with value: 0.18945732583626868.\n",
      "[I 2024-02-16 09:35:20,890] Trial 29 finished with value: 0.1915064585597356 and parameters: {'max_depth': 3833, 'min_samples_split': 32, 'min_samples_leaf': 8.064126608214475e-09, 'min_weight_fraction_leaf': 1.3214843364494966e-07, 'max_features': 878, 'max_leaf_nodes': 7207, 'min_impurity_decrease': 1.7094726935320838e-09, 'ccp_alpha': 1.702274445309395e-07}. Best is trial 17 with value: 0.18945732583626868.\n",
      "[I 2024-02-16 09:35:40,700] Trial 30 finished with value: 0.1895189561488608 and parameters: {'max_depth': 4077, 'min_samples_split': 26, 'min_samples_leaf': 3.340625886090819e-09, 'min_weight_fraction_leaf': 8.238238247684209e-08, 'max_features': 849, 'max_leaf_nodes': 6737, 'min_impurity_decrease': 6.556257740877134e-08, 'ccp_alpha': 3.9296920092954036e-08}. Best is trial 17 with value: 0.18945732583626868.\n",
      "[I 2024-02-16 09:36:00,430] Trial 31 finished with value: 0.18952043319786288 and parameters: {'max_depth': 4132, 'min_samples_split': 26, 'min_samples_leaf': 2.592574203095426e-09, 'min_weight_fraction_leaf': 8.692356737652897e-08, 'max_features': 849, 'max_leaf_nodes': 6646, 'min_impurity_decrease': 9.212968160713494e-08, 'ccp_alpha': 4.362651174176123e-08}. Best is trial 17 with value: 0.18945732583626868.\n",
      "[I 2024-02-16 09:36:19,247] Trial 32 finished with value: 0.19069076446412075 and parameters: {'max_depth': 4288, 'min_samples_split': 26, 'min_samples_leaf': 2.6941474321760915e-09, 'min_weight_fraction_leaf': 7.157280055638073e-08, 'max_features': 848, 'max_leaf_nodes': 5974, 'min_impurity_decrease': 9.986934687624284e-08, 'ccp_alpha': 3.4782577797217704e-08}. Best is trial 17 with value: 0.18945732583626868.\n",
      "[I 2024-02-16 09:36:38,486] Trial 33 finished with value: 0.19048876165864542 and parameters: {'max_depth': 4391, 'min_samples_split': 30, 'min_samples_leaf': 2.1383988394015404e-09, 'min_weight_fraction_leaf': 1.0065234120468417e-07, 'max_features': 852, 'max_leaf_nodes': 6358, 'min_impurity_decrease': 6.07688992795658e-08, 'ccp_alpha': 2.0954616759827476e-08}. Best is trial 17 with value: 0.18945732583626868.\n",
      "[I 2024-02-16 09:36:57,759] Trial 34 finished with value: 0.19043630207605602 and parameters: {'max_depth': 4060, 'min_samples_split': 27, 'min_samples_leaf': 2.8414876939696295e-09, 'min_weight_fraction_leaf': 2.9128479074684343e-08, 'max_features': 835, 'max_leaf_nodes': 5264, 'min_impurity_decrease': 4.04409048049554e-08, 'ccp_alpha': 1.155701867860333e-07}. Best is trial 17 with value: 0.18945732583626868.\n",
      "[I 2024-02-16 09:37:16,657] Trial 35 finished with value: 0.1907075046798089 and parameters: {'max_depth': 4169, 'min_samples_split': 31, 'min_samples_leaf': 1.1791986854266677e-09, 'min_weight_fraction_leaf': 2.1684351708296908e-07, 'max_features': 859, 'max_leaf_nodes': 7052, 'min_impurity_decrease': 7.001911046965822e-08, 'ccp_alpha': 4.640340138721591e-08}. Best is trial 17 with value: 0.18945732583626868.\n",
      "[I 2024-02-16 09:37:39,593] Trial 36 finished with value: 0.1900961427363933 and parameters: {'max_depth': 4407, 'min_samples_split': 23, 'min_samples_leaf': 3.3955673823010692e-09, 'min_weight_fraction_leaf': 8.110482981432203e-08, 'max_features': 869, 'max_leaf_nodes': 6782, 'min_impurity_decrease': 9.880166153533618e-08, 'ccp_alpha': 2.0450627993025404e-08}. Best is trial 17 with value: 0.18945732583626868.\n",
      "[I 2024-02-16 09:38:02,007] Trial 37 finished with value: 0.19083782540194788 and parameters: {'max_depth': 4115, 'min_samples_split': 25, 'min_samples_leaf': 1.937508070910264e-09, 'min_weight_fraction_leaf': 4.939441508994551e-08, 'max_features': 848, 'max_leaf_nodes': 5944, 'min_impurity_decrease': 3.6871538414765544e-08, 'ccp_alpha': 6.58947560156649e-08}. Best is trial 17 with value: 0.18945732583626868.\n",
      "[I 2024-02-16 09:38:19,763] Trial 38 finished with value: 0.1900617548135076 and parameters: {'max_depth': 4524, 'min_samples_split': 34, 'min_samples_leaf': 1.496634599288849e-09, 'min_weight_fraction_leaf': 9.32286195718236e-07, 'max_features': 811, 'max_leaf_nodes': 7098, 'min_impurity_decrease': 1.0378421615972416e-09, 'ccp_alpha': 1.5785028013009438e-10}. Best is trial 17 with value: 0.18945732583626868.\n",
      "[I 2024-02-16 09:38:40,600] Trial 39 finished with value: 0.190821036977528 and parameters: {'max_depth': 3706, 'min_samples_split': 29, 'min_samples_leaf': 1.6873527284975978e-09, 'min_weight_fraction_leaf': 2.0703076258366836e-07, 'max_features': 877, 'max_leaf_nodes': 7436, 'min_impurity_decrease': 4.33575696272851e-09, 'ccp_alpha': 3.781472092066265e-07}. Best is trial 17 with value: 0.18945732583626868.\n",
      "[I 2024-02-16 09:38:59,614] Trial 40 finished with value: 0.19041484919073245 and parameters: {'max_depth': 3599, 'min_samples_split': 31, 'min_samples_leaf': 4.639301240330706e-09, 'min_weight_fraction_leaf': 1.367504698594561e-07, 'max_features': 887, 'max_leaf_nodes': 5490, 'min_impurity_decrease': 2.189667154143787e-09, 'ccp_alpha': 1.5561810833197607e-09}. Best is trial 17 with value: 0.18945732583626868.\n",
      "[I 2024-02-16 09:39:20,774] Trial 41 finished with value: 0.18897667558263703 and parameters: {'max_depth': 3946, 'min_samples_split': 20, 'min_samples_leaf': 3.900166502602414e-09, 'min_weight_fraction_leaf': 6.398509483565728e-08, 'max_features': 829, 'max_leaf_nodes': 6697, 'min_impurity_decrease': 1.7921211565949782e-08, 'ccp_alpha': 1.754421892846895e-06}. Best is trial 41 with value: 0.18897667558263703.\n",
      "[I 2024-02-16 09:39:41,611] Trial 42 finished with value: 0.19083750373796232 and parameters: {'max_depth': 4158, 'min_samples_split': 22, 'min_samples_leaf': 3.6040521721128738e-09, 'min_weight_fraction_leaf': 6.626163919705187e-08, 'max_features': 833, 'max_leaf_nodes': 6541, 'min_impurity_decrease': 5.318396881332919e-08, 'ccp_alpha': 2.913002285741716e-06}. Best is trial 41 with value: 0.18897667558263703.\n",
      "[I 2024-02-16 09:40:00,935] Trial 43 finished with value: 0.19002278381937454 and parameters: {'max_depth': 4323, 'min_samples_split': 24, 'min_samples_leaf': 5.829813969295904e-09, 'min_weight_fraction_leaf': 1.0651950787104795e-07, 'max_features': 798, 'max_leaf_nodes': 6794, 'min_impurity_decrease': 1.7613680183418674e-08, 'ccp_alpha': 4.979490908376161e-09}. Best is trial 41 with value: 0.18897667558263703.\n",
      "[I 2024-02-16 09:40:19,319] Trial 44 finished with value: 0.1925665773892176 and parameters: {'max_depth': 4250, 'min_samples_split': 27, 'min_samples_leaf': 3.740313462941053e-09, 'min_weight_fraction_leaf': 4.359894005527729e-08, 'max_features': 816, 'max_leaf_nodes': 6970, 'min_impurity_decrease': 8.604559557252833e-09, 'ccp_alpha': 3.6361717634225307e-10}. Best is trial 41 with value: 0.18897667558263703.\n",
      "[I 2024-02-16 09:40:39,815] Trial 45 finished with value: 0.1901242175137203 and parameters: {'max_depth': 3927, 'min_samples_split': 20, 'min_samples_leaf': 9.804262334551909e-09, 'min_weight_fraction_leaf': 8.746530172442782e-08, 'max_features': 830, 'max_leaf_nodes': 6424, 'min_impurity_decrease': 3.2739329561144295e-08, 'ccp_alpha': 1.130748204561733e-08}. Best is trial 41 with value: 0.18897667558263703.\n",
      "[I 2024-02-16 09:40:58,823] Trial 46 finished with value: 0.18996982605947826 and parameters: {'max_depth': 3850, 'min_samples_split': 28, 'min_samples_leaf': 5.505391835956968e-09, 'min_weight_fraction_leaf': 3.433725061273946e-08, 'max_features': 843, 'max_leaf_nodes': 6636, 'min_impurity_decrease': 1.60086814404038e-08, 'ccp_alpha': 1.861004902429525e-09}. Best is trial 41 with value: 0.18897667558263703.\n",
      "[I 2024-02-16 09:41:18,618] Trial 47 finished with value: 0.19073892566228393 and parameters: {'max_depth': 4088, 'min_samples_split': 25, 'min_samples_leaf': 7.950978676633565e-09, 'min_weight_fraction_leaf': 5.885661465402159e-08, 'max_features': 854, 'max_leaf_nodes': 7761, 'min_impurity_decrease': 5.076860289350908e-08, 'ccp_alpha': 2.8741832355210635e-08}. Best is trial 41 with value: 0.18897667558263703.\n",
      "[I 2024-02-16 09:41:40,557] Trial 48 finished with value: 0.19250422055522307 and parameters: {'max_depth': 3573, 'min_samples_split': 16, 'min_samples_leaf': 2.6599840979168373e-09, 'min_weight_fraction_leaf': 5.093243786277017e-08, 'max_features': 864, 'max_leaf_nodes': 5799, 'min_impurity_decrease': 7.81027326604255e-08, 'ccp_alpha': 1.3746128846344974e-07}. Best is trial 41 with value: 0.18897667558263703.\n",
      "[I 2024-02-16 09:42:00,771] Trial 49 finished with value: 0.19025129523838985 and parameters: {'max_depth': 3686, 'min_samples_split': 21, 'min_samples_leaf': 1.0340501795241095e-09, 'min_weight_fraction_leaf': 1.880931273636606e-07, 'max_features': 849, 'max_leaf_nodes': 6306, 'min_impurity_decrease': 5.765598985080458e-09, 'ccp_alpha': 1.8732815518565066e-06}. Best is trial 41 with value: 0.18897667558263703.\n",
      "[I 2024-02-16 09:42:18,882] Trial 50 finished with value: 0.1914850558065732 and parameters: {'max_depth': 3958, 'min_samples_split': 29, 'min_samples_leaf': 1.311473641469419e-08, 'min_weight_fraction_leaf': 2.3168752841082035e-08, 'max_features': 808, 'max_leaf_nodes': 6547, 'min_impurity_decrease': 7.064101673266031e-08, 'ccp_alpha': 3.9035910227387815e-10}. Best is trial 41 with value: 0.18897667558263703.\n",
      "[I 2024-02-16 09:42:40,600] Trial 51 finished with value: 0.19439560178479848 and parameters: {'max_depth': 4029, 'min_samples_split': 17, 'min_samples_leaf': 2.179285545593693e-08, 'min_weight_fraction_leaf': 7.834276857419886e-08, 'max_features': 822, 'max_leaf_nodes': 6707, 'min_impurity_decrease': 2.4400043934072287e-08, 'ccp_alpha': 7.598511428491695e-06}. Best is trial 41 with value: 0.18897667558263703.\n",
      "[I 2024-02-16 09:43:01,625] Trial 52 finished with value: 0.19136270285366605 and parameters: {'max_depth': 4121, 'min_samples_split': 19, 'min_samples_leaf': 4.092962312520865e-09, 'min_weight_fraction_leaf': 6.541630715243443e-07, 'max_features': 874, 'max_leaf_nodes': 6801, 'min_impurity_decrease': 3.09007093345612e-08, 'ccp_alpha': 6.125813439437799e-07}. Best is trial 41 with value: 0.18897667558263703.\n",
      "[I 2024-02-16 09:43:20,629] Trial 53 finished with value: 0.19005006338409267 and parameters: {'max_depth': 3806, 'min_samples_split': 23, 'min_samples_leaf': 2.862279026426045e-08, 'min_weight_fraction_leaf': 1.131488632668184e-07, 'max_features': 785, 'max_leaf_nodes': 7145, 'min_impurity_decrease': 1.0068635588417463e-08, 'ccp_alpha': 1.749771931653213e-06}. Best is trial 41 with value: 0.18897667558263703.\n",
      "[I 2024-02-16 09:43:39,697] Trial 54 finished with value: 0.1903727350061237 and parameters: {'max_depth': 4235, 'min_samples_split': 20, 'min_samples_leaf': 3.118806795402915e-09, 'min_weight_fraction_leaf': 1.493749713788246e-07, 'max_features': 768, 'max_leaf_nodes': 6918, 'min_impurity_decrease': 4.513532385448532e-08, 'ccp_alpha': 2.7978722341032984e-07}. Best is trial 41 with value: 0.18897667558263703.\n",
      "[I 2024-02-16 09:43:59,275] Trial 55 finished with value: 0.19133189148899274 and parameters: {'max_depth': 3987, 'min_samples_split': 25, 'min_samples_leaf': 6.446540124092125e-08, 'min_weight_fraction_leaf': 6.67327342526684e-08, 'max_features': 757, 'max_leaf_nodes': 7308, 'min_impurity_decrease': 1.7973972341960013e-08, 'ccp_alpha': 7.925346359886359e-07}. Best is trial 41 with value: 0.18897667558263703.\n",
      "[I 2024-02-16 09:44:20,499] Trial 56 finished with value: 0.19198960768065249 and parameters: {'max_depth': 3901, 'min_samples_split': 12, 'min_samples_leaf': 2.0329176307340005e-08, 'min_weight_fraction_leaf': 8.47762018102074e-08, 'max_features': 803, 'max_leaf_nodes': 6563, 'min_impurity_decrease': 2.609418602178278e-08, 'ccp_alpha': 4.5379332388516195e-06}. Best is trial 41 with value: 0.18897667558263703.\n",
      "[I 2024-02-16 09:44:39,530] Trial 57 finished with value: 0.18972342144500975 and parameters: {'max_depth': 3642, 'min_samples_split': 27, 'min_samples_leaf': 2.473340895463345e-09, 'min_weight_fraction_leaf': 4.116397375316371e-08, 'max_features': 844, 'max_leaf_nodes': 6959, 'min_impurity_decrease': 5.966759555614762e-08, 'ccp_alpha': 3.1527954128345128e-09}. Best is trial 41 with value: 0.18897667558263703.\n",
      "[I 2024-02-16 09:45:00,854] Trial 58 finished with value: 0.1910345334816299 and parameters: {'max_depth': 4059, 'min_samples_split': 23, 'min_samples_leaf': 3.578806698521384e-08, 'min_weight_fraction_leaf': 2.838977728255536e-07, 'max_features': 858, 'max_leaf_nodes': 6709, 'min_impurity_decrease': 1.302200801618317e-08, 'ccp_alpha': 1.5286387221505908e-08}. Best is trial 41 with value: 0.18897667558263703.\n",
      "[I 2024-02-16 09:45:21,482] Trial 59 finished with value: 0.19054426687929737 and parameters: {'max_depth': 3548, 'min_samples_split': 21, 'min_samples_leaf': 1.5757118618909655e-08, 'min_weight_fraction_leaf': 9.142449407941957e-08, 'max_features': 837, 'max_leaf_nodes': 6393, 'min_impurity_decrease': 3.60094921831457e-08, 'ccp_alpha': 7.88352063292406e-08}. Best is trial 41 with value: 0.18897667558263703.\n",
      "[I 2024-02-16 09:45:42,019] Trial 60 finished with value: 0.19220000905678222 and parameters: {'max_depth': 4187, 'min_samples_split': 19, 'min_samples_leaf': 4.461099896419242e-08, 'min_weight_fraction_leaf': 5.3691376149807685e-08, 'max_features': 827, 'max_leaf_nodes': 6165, 'min_impurity_decrease': 7.228103353316183e-09, 'ccp_alpha': 4.8308874446955045e-08}. Best is trial 41 with value: 0.18897667558263703.\n",
      "[I 2024-02-16 09:46:01,042] Trial 61 finished with value: 0.1907468365664867 and parameters: {'max_depth': 3622, 'min_samples_split': 27, 'min_samples_leaf': 2.1974207776677397e-09, 'min_weight_fraction_leaf': 3.865823991564258e-08, 'max_features': 818, 'max_leaf_nodes': 6996, 'min_impurity_decrease': 8.017053751907238e-08, 'ccp_alpha': 3.2927100944004074e-09}. Best is trial 41 with value: 0.18897667558263703.\n",
      "[I 2024-02-16 09:46:20,356] Trial 62 finished with value: 0.19020283427953513 and parameters: {'max_depth': 3686, 'min_samples_split': 26, 'min_samples_leaf': 1.4943973633473664e-09, 'min_weight_fraction_leaf': 4.737774108794651e-08, 'max_features': 846, 'max_leaf_nodes': 6866, 'min_impurity_decrease': 6.095541097865301e-08, 'ccp_alpha': 8.339034587509712e-09}. Best is trial 41 with value: 0.18897667558263703.\n",
      "[I 2024-02-16 09:46:40,188] Trial 63 finished with value: 0.19017539294426192 and parameters: {'max_depth': 3642, 'min_samples_split': 27, 'min_samples_leaf': 2.5838622719355606e-09, 'min_weight_fraction_leaf': 3.2413310910627056e-08, 'max_features': 842, 'max_leaf_nodes': 6737, 'min_impurity_decrease': 4.8563487195820084e-08, 'ccp_alpha': 1.1601675087594522e-09}. Best is trial 41 with value: 0.18897667558263703.\n",
      "[I 2024-02-16 09:46:59,195] Trial 64 finished with value: 0.1911049714571815 and parameters: {'max_depth': 3740, 'min_samples_split': 28, 'min_samples_leaf': 4.188620950740663e-09, 'min_weight_fraction_leaf': 6.926464601187829e-08, 'max_features': 864, 'max_leaf_nodes': 6600, 'min_impurity_decrease': 7.944240158298957e-08, 'ccp_alpha': 5.673886548274321e-09}. Best is trial 41 with value: 0.18897667558263703.\n",
      "[I 2024-02-16 09:47:18,862] Trial 65 finished with value: 0.18937626532547383 and parameters: {'max_depth': 3802, 'min_samples_split': 25, 'min_samples_leaf': 1.9554932732473623e-09, 'min_weight_fraction_leaf': 3.565117215048781e-07, 'max_features': 833, 'max_leaf_nodes': 7319, 'min_impurity_decrease': 2.183003397626605e-08, 'ccp_alpha': 7.003666797150328e-10}. Best is trial 41 with value: 0.18897667558263703.\n",
      "[I 2024-02-16 09:47:38,535] Trial 66 finished with value: 0.1904567417414971 and parameters: {'max_depth': 3792, 'min_samples_split': 25, 'min_samples_leaf': 1.953486317041991e-09, 'min_weight_fraction_leaf': 4.008473546267468e-07, 'max_features': 831, 'max_leaf_nodes': 7764, 'min_impurity_decrease': 1.0613141240500272e-08, 'ccp_alpha': 1.0227763663076659e-10}. Best is trial 41 with value: 0.18897667558263703.\n",
      "[I 2024-02-16 09:47:58,629] Trial 67 finished with value: 0.19080100846044248 and parameters: {'max_depth': 3885, 'min_samples_split': 24, 'min_samples_leaf': 7.86891467151503e-08, 'min_weight_fraction_leaf': 3.6190149133943335e-07, 'max_features': 853, 'max_leaf_nodes': 7322, 'min_impurity_decrease': 2.0310628339244464e-08, 'ccp_alpha': 2.2792367939975428e-07}. Best is trial 41 with value: 0.18897667558263703.\n",
      "[I 2024-02-16 09:48:22,115] Trial 68 finished with value: 0.19851016622996162 and parameters: {'max_depth': 3981, 'min_samples_split': 5, 'min_samples_leaf': 1.7606025473300623e-09, 'min_weight_fraction_leaf': 2.5613838791382275e-07, 'max_features': 825, 'max_leaf_nodes': 7493, 'min_impurity_decrease': 1.3934929029614303e-08, 'ccp_alpha': 6.307650365014561e-10}. Best is trial 41 with value: 0.18897667558263703.\n",
      "[I 2024-02-16 09:48:43,456] Trial 69 finished with value: 0.18969344629181803 and parameters: {'max_depth': 3934, 'min_samples_split': 22, 'min_samples_leaf': 3.0932781021867584e-09, 'min_weight_fraction_leaf': 4.5923018164147926e-07, 'max_features': 838, 'max_leaf_nodes': 7569, 'min_impurity_decrease': 2.6896163053059458e-08, 'ccp_alpha': 3.267552570222461e-08}. Best is trial 41 with value: 0.18897667558263703.\n",
      "[I 2024-02-16 09:49:04,859] Trial 70 finished with value: 0.19015474134914792 and parameters: {'max_depth': 4999, 'min_samples_split': 19, 'min_samples_leaf': 1.2791921498281738e-09, 'min_weight_fraction_leaf': 5.990824984245739e-07, 'max_features': 860, 'max_leaf_nodes': 7628, 'min_impurity_decrease': 2.0498049805198578e-10, 'ccp_alpha': 1.493506733134994e-06}. Best is trial 41 with value: 0.18897667558263703.\n",
      "[I 2024-02-16 09:49:24,388] Trial 71 finished with value: 0.19048637235890212 and parameters: {'max_depth': 4025, 'min_samples_split': 22, 'min_samples_leaf': 5.178324769746962e-09, 'min_weight_fraction_leaf': 4.960885999878947e-07, 'max_features': 839, 'max_leaf_nodes': 7618, 'min_impurity_decrease': 2.2046313296367327e-08, 'ccp_alpha': 3.291620097457137e-08}. Best is trial 41 with value: 0.18897667558263703.\n",
      "[I 2024-02-16 09:49:44,097] Trial 72 finished with value: 0.19005517326200744 and parameters: {'max_depth': 3928, 'min_samples_split': 23, 'min_samples_leaf': 2.961812050292587e-09, 'min_weight_fraction_leaf': 3.5545241735787137e-07, 'max_features': 836, 'max_leaf_nodes': 5119, 'min_impurity_decrease': 4.054901058446799e-08, 'ccp_alpha': 9.887356404108796e-08}. Best is trial 41 with value: 0.18897667558263703.\n",
      "[I 2024-02-16 09:50:05,677] Trial 73 finished with value: 0.19355807015348372 and parameters: {'max_depth': 3820, 'min_samples_split': 17, 'min_samples_leaf': 3.1689974163702465e-09, 'min_weight_fraction_leaf': 7.126092079399937e-07, 'max_features': 815, 'max_leaf_nodes': 7894, 'min_impurity_decrease': 2.7035977628094373e-08, 'ccp_alpha': 2.5551776424495324e-08}. Best is trial 41 with value: 0.18897667558263703.\n",
      "[I 2024-02-16 09:50:24,644] Trial 74 finished with value: 0.19015202552099178 and parameters: {'max_depth': 3535, 'min_samples_split': 30, 'min_samples_leaf': 6.7095426790884465e-09, 'min_weight_fraction_leaf': 3.3182043868706735e-07, 'max_features': 849, 'max_leaf_nodes': 7309, 'min_impurity_decrease': 1.7330775339020423e-08, 'ccp_alpha': 8.826685808561394e-10}. Best is trial 41 with value: 0.18897667558263703.\n",
      "[I 2024-02-16 09:50:43,358] Trial 75 finished with value: 0.1895687109766497 and parameters: {'max_depth': 3871, 'min_samples_split': 24, 'min_samples_leaf': 2.318757932925112e-09, 'min_weight_fraction_leaf': 4.6924888823221433e-07, 'max_features': 795, 'max_leaf_nodes': 7144, 'min_impurity_decrease': 8.939052953414047e-08, 'ccp_alpha': 1.611207393413637e-08}. Best is trial 41 with value: 0.18897667558263703.\n",
      "[I 2024-02-16 09:51:01,113] Trial 76 finished with value: 0.19086798309146927 and parameters: {'max_depth': 3858, 'min_samples_split': 26, 'min_samples_leaf': 6.054857592666191e-08, 'min_weight_fraction_leaf': 1.1767022895185166e-07, 'max_features': 773, 'max_leaf_nodes': 7140, 'min_impurity_decrease': 9.901738809240276e-08, 'ccp_alpha': 3.2239308216405797e-06}. Best is trial 41 with value: 0.18897667558263703.\n",
      "[I 2024-02-16 09:51:19,548] Trial 77 finished with value: 0.19018049779595347 and parameters: {'max_depth': 4069, 'min_samples_split': 24, 'min_samples_leaf': 2.2891069468545907e-09, 'min_weight_fraction_leaf': 9.713168518529455e-08, 'max_features': 792, 'max_leaf_nodes': 7037, 'min_impurity_decrease': 6.703318267342535e-08, 'ccp_alpha': 2.704176310760073e-10}. Best is trial 41 with value: 0.18897667558263703.\n",
      "[I 2024-02-16 09:51:39,261] Trial 78 finished with value: 0.1912093574995016 and parameters: {'max_depth': 3724, 'min_samples_split': 21, 'min_samples_leaf': 1.1700279451190883e-08, 'min_weight_fraction_leaf': 6.068190178859797e-08, 'max_features': 780, 'max_leaf_nodes': 6475, 'min_impurity_decrease': 7.933518526549587e-08, 'ccp_alpha': 1.448834663542453e-08}. Best is trial 41 with value: 0.18897667558263703.\n",
      "[I 2024-02-16 09:51:56,781] Trial 79 finished with value: 0.1911670471831147 and parameters: {'max_depth': 4148, 'min_samples_split': 29, 'min_samples_leaf': 2.6855791082498447e-08, 'min_weight_fraction_leaf': 1.784926143199977e-07, 'max_features': 762, 'max_leaf_nodes': 6862, 'min_impurity_decrease': 7.4284335528326275e-09, 'ccp_alpha': 2.399711588441546e-09}. Best is trial 41 with value: 0.18897667558263703.\n",
      "[I 2024-02-16 09:52:15,605] Trial 80 finished with value: 0.19006173098365017 and parameters: {'max_depth': 3872, 'min_samples_split': 25, 'min_samples_leaf': 1.8966193351583993e-09, 'min_weight_fraction_leaf': 5.460922080470062e-07, 'max_features': 786, 'max_leaf_nodes': 7205, 'min_impurity_decrease': 5.007827355200745e-08, 'ccp_alpha': 5.865526553254782e-08}. Best is trial 41 with value: 0.18897667558263703.\n",
      "[I 2024-02-16 09:52:35,101] Trial 81 finished with value: 0.1898757195016823 and parameters: {'max_depth': 3951, 'min_samples_split': 22, 'min_samples_leaf': 3.933724091406256e-09, 'min_weight_fraction_leaf': 4.865566011692204e-07, 'max_features': 833, 'max_leaf_nodes': 7405, 'min_impurity_decrease': 3.073715940557193e-08, 'ccp_alpha': 3.604333258017855e-08}. Best is trial 41 with value: 0.18897667558263703.\n",
      "[I 2024-02-16 09:52:57,583] Trial 82 finished with value: 0.1900621119147746 and parameters: {'max_depth': 3912, 'min_samples_split': 23, 'min_samples_leaf': 4.402683143307915e-09, 'min_weight_fraction_leaf': 4.6718641850888084e-07, 'max_features': 799, 'max_leaf_nodes': 7344, 'min_impurity_decrease': 3.8134028247687043e-08, 'ccp_alpha': 1.8482338200915184e-08}. Best is trial 41 with value: 0.18897667558263703.\n",
      "[I 2024-02-16 09:53:23,110] Trial 83 finished with value: 0.1910803032354321 and parameters: {'max_depth': 4029, 'min_samples_split': 20, 'min_samples_leaf': 3.2357888037063433e-09, 'min_weight_fraction_leaf': 7.061968745909044e-07, 'max_features': 812, 'max_leaf_nodes': 7102, 'min_impurity_decrease': 8.885862866286047e-08, 'ccp_alpha': 1.6097405770195787e-07}. Best is trial 41 with value: 0.18897667558263703.\n",
      "[I 2024-02-16 09:53:46,114] Trial 84 finished with value: 0.18887222934258935 and parameters: {'max_depth': 3772, 'min_samples_split': 24, 'min_samples_leaf': 7.863687735547456e-09, 'min_weight_fraction_leaf': 3.198582403051503e-07, 'max_features': 823, 'max_leaf_nodes': 7527, 'min_impurity_decrease': 5.39215404573661e-10, 'ccp_alpha': 3.9188581460064976e-08}. Best is trial 84 with value: 0.18887222934258935.\n",
      "[I 2024-02-16 09:54:06,684] Trial 85 finished with value: 0.18913685382834183 and parameters: {'max_depth': 3740, 'min_samples_split': 26, 'min_samples_leaf': 6.1351874514088724e-09, 'min_weight_fraction_leaf': 2.42477127437696e-07, 'max_features': 823, 'max_leaf_nodes': 6652, 'min_impurity_decrease': 4.845974984316302e-10, 'ccp_alpha': 1.0790556913064224e-08}. Best is trial 84 with value: 0.18887222934258935.\n",
      "[I 2024-02-16 09:54:27,156] Trial 86 finished with value: 0.1915805223651416 and parameters: {'max_depth': 3767, 'min_samples_split': 28, 'min_samples_leaf': 7.266755729052365e-09, 'min_weight_fraction_leaf': 4.209721638617056e-07, 'max_features': 807, 'max_leaf_nodes': 6262, 'min_impurity_decrease': 7.014319110298519e-10, 'ccp_alpha': 9.846657792616188e-08}. Best is trial 84 with value: 0.18887222934258935.\n",
      "[I 2024-02-16 09:54:47,898] Trial 87 finished with value: 0.18964332266111827 and parameters: {'max_depth': 3597, 'min_samples_split': 26, 'min_samples_leaf': 6.031606322278093e-09, 'min_weight_fraction_leaf': 2.2782291646607088e-07, 'max_features': 829, 'max_leaf_nodes': 7494, 'min_impurity_decrease': 4.547681519226205e-10, 'ccp_alpha': 7.97314905431695e-09}. Best is trial 84 with value: 0.18887222934258935.\n",
      "[I 2024-02-16 09:55:08,002] Trial 88 finished with value: 0.18997416348694413 and parameters: {'max_depth': 3672, 'min_samples_split': 25, 'min_samples_leaf': 9.353202980831937e-09, 'min_weight_fraction_leaf': 7.751561840717608e-08, 'max_features': 821, 'max_leaf_nodes': 6071, 'min_impurity_decrease': 2.326083444360694e-10, 'ccp_alpha': 1.0335987961724525e-08}. Best is trial 84 with value: 0.18887222934258935.\n",
      "[I 2024-02-16 09:55:28,168] Trial 89 finished with value: 0.18991896025262026 and parameters: {'max_depth': 3777, 'min_samples_split': 24, 'min_samples_leaf': 8.470634060138427e-09, 'min_weight_fraction_leaf': 3.198234441516549e-07, 'max_features': 825, 'max_leaf_nodes': 5591, 'min_impurity_decrease': 4.127241276312691e-10, 'ccp_alpha': 4.622719841014214e-10}. Best is trial 84 with value: 0.18887222934258935.\n",
      "[I 2024-02-16 09:55:47,892] Trial 90 finished with value: 0.18980771071236574 and parameters: {'max_depth': 3735, 'min_samples_split': 26, 'min_samples_leaf': 4.946733961349068e-09, 'min_weight_fraction_leaf': 1.3525113436882198e-07, 'max_features': 856, 'max_leaf_nodes': 7250, 'min_impurity_decrease': 3.1968164931343015e-09, 'ccp_alpha': 4.565978282907018e-08}. Best is trial 84 with value: 0.18887222934258935.\n",
      "[I 2024-02-16 09:56:06,838] Trial 91 finished with value: 0.19024903781511604 and parameters: {'max_depth': 3568, 'min_samples_split': 26, 'min_samples_leaf': 5.583898168828538e-09, 'min_weight_fraction_leaf': 2.5903947628955766e-07, 'max_features': 828, 'max_leaf_nodes': 7460, 'min_impurity_decrease': 4.493811504006197e-10, 'ccp_alpha': 7.305628679344373e-09}. Best is trial 84 with value: 0.18887222934258935.\n",
      "[I 2024-02-16 09:56:25,569] Trial 92 finished with value: 0.1907387471775171 and parameters: {'max_depth': 3508, 'min_samples_split': 27, 'min_samples_leaf': 6.088500092056173e-09, 'min_weight_fraction_leaf': 3.0092598689530253e-07, 'max_features': 818, 'max_leaf_nodes': 7746, 'min_impurity_decrease': 9.496714368387881e-10, 'ccp_alpha': 4.779542128510545e-09}. Best is trial 84 with value: 0.18887222934258935.\n",
      "[I 2024-02-16 09:56:45,159] Trial 93 finished with value: 0.19026189748437655 and parameters: {'max_depth': 3584, 'min_samples_split': 30, 'min_samples_leaf': 3.5377182886382052e-09, 'min_weight_fraction_leaf': 2.3368745175672834e-07, 'max_features': 872, 'max_leaf_nodes': 6626, 'min_impurity_decrease': 5.256195202229512e-10, 'ccp_alpha': 1.6863482036148314e-08}. Best is trial 84 with value: 0.18887222934258935.\n",
      "[I 2024-02-16 09:57:02,956] Trial 94 finished with value: 0.18975316032125533 and parameters: {'max_depth': 3662, 'min_samples_split': 28, 'min_samples_leaf': 7.565280809701168e-09, 'min_weight_fraction_leaf': 1.9634179069209138e-07, 'max_features': 751, 'max_leaf_nodes': 7385, 'min_impurity_decrease': 3.1586685525499917e-10, 'ccp_alpha': 2.166895773598404e-08}. Best is trial 84 with value: 0.18887222934258935.\n",
      "[I 2024-02-16 09:57:22,356] Trial 95 finished with value: 0.19045629809219192 and parameters: {'max_depth': 3836, 'min_samples_split': 25, 'min_samples_leaf': 1.0623433135806979e-08, 'min_weight_fraction_leaf': 1.535602240318101e-07, 'max_features': 831, 'max_leaf_nodes': 7555, 'min_impurity_decrease': 6.427766731077384e-10, 'ccp_alpha': 1.026578496557615e-08}. Best is trial 84 with value: 0.18887222934258935.\n",
      "[I 2024-02-16 09:57:41,554] Trial 96 finished with value: 0.19155003775792517 and parameters: {'max_depth': 3623, 'min_samples_split': 24, 'min_samples_leaf': 6.586734005196311e-09, 'min_weight_fraction_leaf': 9.779169874980946e-08, 'max_features': 810, 'max_leaf_nodes': 7842, 'min_impurity_decrease': 8.433795803820413e-10, 'ccp_alpha': 1.2399848101671846e-09}. Best is trial 84 with value: 0.18887222934258935.\n",
      "[I 2024-02-16 09:58:01,126] Trial 97 finished with value: 0.1895081429680841 and parameters: {'max_depth': 3710, 'min_samples_split': 26, 'min_samples_leaf': 8.971750658373577e-09, 'min_weight_fraction_leaf': 2.358028431102868e-07, 'max_features': 845, 'max_leaf_nodes': 6749, 'min_impurity_decrease': 2.1063384797302906e-09, 'ccp_alpha': 2.5781946568001704e-08}. Best is trial 84 with value: 0.18887222934258935.\n",
      "[I 2024-02-16 09:58:20,682] Trial 98 finished with value: 0.19017526876576568 and parameters: {'max_depth': 3706, 'min_samples_split': 27, 'min_samples_leaf': 1.3050197789469999e-08, 'min_weight_fraction_leaf': 7.342817632402911e-08, 'max_features': 842, 'max_leaf_nodes': 6765, 'min_impurity_decrease': 4.585680094583038e-09, 'ccp_alpha': 6.924622042553147e-08}. Best is trial 84 with value: 0.18887222934258935.\n",
      "[I 2024-02-16 09:58:41,794] Trial 99 finished with value: 0.18939835655650294 and parameters: {'max_depth': 3800, 'min_samples_split': 23, 'min_samples_leaf': 2.4115511509466933e-09, 'min_weight_fraction_leaf': 6.303888227992785e-08, 'max_features': 851, 'max_leaf_nodes': 6899, 'min_impurity_decrease': 1.2743474722631086e-09, 'ccp_alpha': 4.126643284129013e-08}. Best is trial 84 with value: 0.18887222934258935.\n"
     ]
    },
    {
     "data": {
      "text/plain": [
       "{'max_depth': 3772,\n",
       " 'min_samples_split': 24,\n",
       " 'min_samples_leaf': 7.863687735547456e-09,\n",
       " 'min_weight_fraction_leaf': 3.198582403051503e-07,\n",
       " 'max_features': 823,\n",
       " 'max_leaf_nodes': 7527,\n",
       " 'min_impurity_decrease': 5.39215404573661e-10,\n",
       " 'ccp_alpha': 3.9188581460064976e-08}"
      ]
     },
     "execution_count": 93,
     "metadata": {},
     "output_type": "execute_result"
    }
   ],
   "source": [
    "dtr_fine_study = optuna.create_study(direction='minimize')\n",
    "dtr_fine_study.optimize(dtr_fine_objective, n_trials=100)\n",
    "dtr_fine_best_params = dtr_fine_study.best_params\n",
    "dtr_fine_best_params"
   ]
  },
  {
   "cell_type": "markdown",
   "metadata": {},
   "source": [
    "Train the decision tree regression model using the optimal hyperparameters, generate predictions for the test data using this trained model, evaluate the prediction performance, and display the results in a DataFrame. Additionally, save the fitted model as a pickle file, the model evaluation table, and the predictions as a CSV file."
   ]
  },
  {
   "cell_type": "code",
   "execution_count": 94,
   "metadata": {},
   "outputs": [],
   "source": [
    "dtr_model = DecisionTreeRegressor(\n",
    "    max_depth=dtr_fine_best_params['max_depth'],\n",
    "    min_samples_split=dtr_fine_best_params['min_samples_split'],\n",
    "    min_samples_leaf=dtr_fine_best_params['min_samples_leaf'],\n",
    "    min_weight_fraction_leaf=dtr_fine_best_params['min_weight_fraction_leaf'],\n",
    "    max_features=dtr_fine_best_params['max_features'],\n",
    "    max_leaf_nodes=dtr_fine_best_params['max_leaf_nodes'],\n",
    "    min_impurity_decrease=dtr_fine_best_params['min_impurity_decrease'],\n",
    "    ccp_alpha=dtr_fine_best_params['ccp_alpha']\n",
    ")"
   ]
  },
  {
   "cell_type": "code",
   "execution_count": 95,
   "metadata": {},
   "outputs": [],
   "source": [
    "dtr_start = datetime.now()\n",
    "dtr_model.fit(X_train, y_train)\n",
    "dtr_pred = dtr_model.predict(X_test)\n",
    "dtr_stop = datetime.now()\n",
    "dtr_delta = dtr_stop - dtr_start"
   ]
  },
  {
   "cell_type": "code",
   "execution_count": 97,
   "metadata": {},
   "outputs": [
    {
     "data": {
      "text/html": [
       "<div>\n",
       "<style scoped>\n",
       "    .dataframe tbody tr th:only-of-type {\n",
       "        vertical-align: middle;\n",
       "    }\n",
       "\n",
       "    .dataframe tbody tr th {\n",
       "        vertical-align: top;\n",
       "    }\n",
       "\n",
       "    .dataframe thead th {\n",
       "        text-align: right;\n",
       "    }\n",
       "</style>\n",
       "<table border=\"1\" class=\"dataframe\">\n",
       "  <thead>\n",
       "    <tr style=\"text-align: right;\">\n",
       "      <th></th>\n",
       "      <th>model</th>\n",
       "      <th>r2</th>\n",
       "      <th>r2_adj</th>\n",
       "      <th>rmse</th>\n",
       "      <th>seconds</th>\n",
       "    </tr>\n",
       "  </thead>\n",
       "  <tbody>\n",
       "    <tr>\n",
       "      <th>0</th>\n",
       "      <td>dtr</td>\n",
       "      <td>0.78655</td>\n",
       "      <td>0.762759</td>\n",
       "      <td>8519.801442</td>\n",
       "      <td>7.778882</td>\n",
       "    </tr>\n",
       "  </tbody>\n",
       "</table>\n",
       "</div>"
      ],
      "text/plain": [
       "  model       r2    r2_adj         rmse   seconds\n",
       "0   dtr  0.78655  0.762759  8519.801442  7.778882"
      ]
     },
     "execution_count": 97,
     "metadata": {},
     "output_type": "execute_result"
    }
   ],
   "source": [
    "dtr_pred_inverse = np.expm1(dtr_pred)\n",
    "\n",
    "dtr_r2 = r2_score(y_test, dtr_pred_inverse)\n",
    "dtr_r2_adj = 1 - (1 - dtr_r2) * ((len(X_test) - 1) / (len(X_test) - len(X_test.columns) - 1))\n",
    "dtr_rmse = np.sqrt(mean_squared_error(y_test, dtr_pred_inverse))\n",
    "dtr_seconds = dtr_delta.seconds + dtr_delta.microseconds/1E6\n",
    "\n",
    "dtr_evaluation = pd.DataFrame({\n",
    "    'model': ['dtr'],\n",
    "    'r2': [dtr_r2],\n",
    "    'r2_adj': [dtr_r2_adj],\n",
    "    'rmse': [dtr_rmse],\n",
    "    'seconds': [dtr_seconds]\n",
    "})\n",
    "dtr_evaluation"
   ]
  },
  {
   "cell_type": "code",
   "execution_count": 98,
   "metadata": {},
   "outputs": [],
   "source": [
    "joblib.dump(dtr_model, '../models/models/dtr_model.pkl')\n",
    "dtr_evaluation.to_csv(os.path.join(\"../models/evaluation/\", \"dtr_evaluation.csv\"), index=False)\n",
    "dtr_res = pd.DataFrame(dtr_pred)\n",
    "dtr_res.index = X_test.index\n",
    "dtr_res.columns = [\"prediction\"]\n",
    "dtr_res.to_csv(\"../models/predictions/dtr_prediction.csv\")"
   ]
  },
  {
   "cell_type": "markdown",
   "metadata": {},
   "source": [
    "## 2.10. Ensemble"
   ]
  },
  {
   "cell_type": "markdown",
   "metadata": {},
   "source": [
    "### 2.10.1. Ada Boost Regressor"
   ]
  },
  {
   "cell_type": "markdown",
   "metadata": {},
   "source": [
    "### 2.10.2. Bagging Regressor"
   ]
  },
  {
   "cell_type": "markdown",
   "metadata": {},
   "source": [
    "### 2.10.3. Extra Tree Regressor"
   ]
  },
  {
   "cell_type": "markdown",
   "metadata": {},
   "source": [
    "### 2.10.4. Gradient Boosting Regressor"
   ]
  },
  {
   "cell_type": "markdown",
   "metadata": {},
   "source": [
    "### 2.10.5. XGBoost Regressor"
   ]
  },
  {
   "cell_type": "markdown",
   "metadata": {},
   "source": [
    "### 2.10.6. LightGBM Regressor"
   ]
  },
  {
   "cell_type": "markdown",
   "metadata": {},
   "source": [
    "### 2.10.7. Random Forest Regressor"
   ]
  },
  {
   "cell_type": "markdown",
   "metadata": {},
   "source": [
    "### 2.10.8. Extra Trees Regressor"
   ]
  },
  {
   "cell_type": "markdown",
   "metadata": {},
   "source": [
    "### 2.10.9. Stacking Regressor"
   ]
  },
  {
   "cell_type": "markdown",
   "metadata": {},
   "source": [
    "### 2.10.10. Voting Regressor"
   ]
  },
  {
   "cell_type": "markdown",
   "metadata": {},
   "source": [
    "### 2.10.11. Histogram-based Gradient Boosting Regressor"
   ]
  },
  {
   "cell_type": "markdown",
   "metadata": {},
   "source": [
    "## 2.10. Dimensionality-Reduced Regression"
   ]
  }
 ],
 "metadata": {
  "kernelspec": {
   "display_name": "Python 3",
   "language": "python",
   "name": "python3"
  },
  "language_info": {
   "codemirror_mode": {
    "name": "ipython",
    "version": 3
   },
   "file_extension": ".py",
   "mimetype": "text/x-python",
   "name": "python",
   "nbconvert_exporter": "python",
   "pygments_lexer": "ipython3",
   "version": "3.12.1"
  }
 },
 "nbformat": 4,
 "nbformat_minor": 2
}
