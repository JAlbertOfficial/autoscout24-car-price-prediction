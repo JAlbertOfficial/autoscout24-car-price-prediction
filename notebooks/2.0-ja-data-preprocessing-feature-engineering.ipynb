{
 "cells": [
  {
   "cell_type": "markdown",
   "metadata": {},
   "source": [
    "# 0. Meta"
   ]
  },
  {
   "cell_type": "markdown",
   "metadata": {},
   "source": [
    "## 0.1. Packages"
   ]
  },
  {
   "cell_type": "code",
   "execution_count": 10,
   "metadata": {},
   "outputs": [],
   "source": [
    "import numpy as np\n",
    "import seaborn as sns\n",
    "import matplotlib.pyplot as plt\n",
    "import pandas as pd\n",
    "from scipy import stats\n",
    "\n",
    "from sklearn.preprocessing import OrdinalEncoder, OneHotEncoder\n",
    "from sklearn.model_selection import train_test_split"
   ]
  },
  {
   "cell_type": "markdown",
   "metadata": {},
   "source": [
    "## 0.2. Functions"
   ]
  },
  {
   "cell_type": "markdown",
   "metadata": {},
   "source": [
    "# 1. Data Import"
   ]
  },
  {
   "cell_type": "code",
   "execution_count": 11,
   "metadata": {},
   "outputs": [],
   "source": [
    "df_raw = pd.read_csv(\"../data/raw/autoscout24.csv\")"
   ]
  },
  {
   "cell_type": "markdown",
   "metadata": {},
   "source": [
    "A duplicate of the raw data is created in order to save the changes made to the original data during the pre-processing steps."
   ]
  },
  {
   "cell_type": "code",
   "execution_count": 12,
   "metadata": {},
   "outputs": [],
   "source": [
    "df_interim = df_raw.copy()"
   ]
  },
  {
   "cell_type": "markdown",
   "metadata": {},
   "source": [
    "Create lists storing target ('price'), as well as continuous ('mileage', 'hp', 'year'), ordinal ('offerType') and nominal ('make', 'model', 'fuel', 'gear') features."
   ]
  },
  {
   "cell_type": "code",
   "execution_count": 13,
   "metadata": {},
   "outputs": [],
   "source": [
    "target = ['price']\n",
    "continuous_features = ['mileage', 'hp', 'year']\n",
    "ordinal_features = ['offerType']\n",
    "nominal_features = [\"make\", \"model\", \"fuel\", \"gear\"]"
   ]
  },
  {
   "cell_type": "markdown",
   "metadata": {},
   "source": [
    "# 2. Data Cleaning"
   ]
  },
  {
   "cell_type": "markdown",
   "metadata": {},
   "source": [
    "## 2.1. Missing Entries "
   ]
  },
  {
   "cell_type": "markdown",
   "metadata": {},
   "source": [
    "Initial data exploration revealed that the number of missing entries is negligible, justifying their removal. It is assumed that the removal of this small proportion will only have a minimal impact on the overall quality of the dataset."
   ]
  },
  {
   "cell_type": "code",
   "execution_count": 14,
   "metadata": {},
   "outputs": [],
   "source": [
    "df_interim.dropna(inplace=True, ignore_index=True)"
   ]
  },
  {
   "cell_type": "markdown",
   "metadata": {},
   "source": [
    "# 3. Categorical Feature Encoding"
   ]
  },
  {
   "cell_type": "markdown",
   "metadata": {},
   "source": [
    "## 3.1. Ordinal Encoding"
   ]
  },
  {
   "cell_type": "markdown",
   "metadata": {},
   "source": [
    "Initial data exploration indicates that the \"offerType\" variable follows an ordinal scale, with the following hierarchical order: 'Used' < \"Employee's car\" < 'Demonstration' < 'Pre-registered' < 'New'. Thus, ordinal encoding will be applied accordingly."
   ]
  },
  {
   "cell_type": "code",
   "execution_count": 15,
   "metadata": {},
   "outputs": [],
   "source": [
    "offer_type_order = ['Used', \"Employee's car\", 'Demonstration', 'Pre-registered', 'New']\n",
    "ordinal_encoder = OrdinalEncoder(categories=[offer_type_order])\n",
    "\n",
    "# Create a DataFrame with the original 'offerType' column\n",
    "df_ordinal_full = pd.DataFrame(df_interim[ordinal_features])\n",
    "\n",
    "# Perform ordinal encoding and create a new DataFrame\n",
    "df_interim[ordinal_features] = ordinal_encoder.fit_transform(df_interim[ordinal_features])\n"
   ]
  },
  {
   "cell_type": "markdown",
   "metadata": {},
   "source": [
    "## 3.2. One Hot Encoding"
   ]
  },
  {
   "cell_type": "markdown",
   "metadata": {},
   "source": [
    "Perform one hot encoding for the nominal features."
   ]
  },
  {
   "cell_type": "code",
   "execution_count": 16,
   "metadata": {},
   "outputs": [
    {
     "name": "stdout",
     "output_type": "stream",
     "text": [
      "Shape of data before One Hot Encoding: (46071, 9)\n",
      "Shape of data after One Hot Encoding: (46071, 925)\n"
     ]
    }
   ],
   "source": [
    "print(f\"Shape of data before One Hot Encoding: {df_interim.shape}\")\n",
    "\n",
    "if any(col in df_interim.columns for col in nominal_features):\n",
    "    # Create a new DataFrame with only the one-hot encoded columns\n",
    "    df_one_hot = pd.get_dummies(df_interim[nominal_features], columns=nominal_features, dtype=int)\n",
    "\n",
    "    # Drop the original nominal columns from the original DataFrame\n",
    "    df_interim = df_interim.drop(columns=nominal_features)\n",
    "\n",
    "    # Concatenate the original DataFrame without nominal columns and the new DataFrame with one-hot encoded columns\n",
    "    df_interim = pd.concat([df_interim, df_one_hot], axis=1)\n",
    "\n",
    "print(f\"Shape of data after One Hot Encoding: {df_interim.shape}\")"
   ]
  },
  {
   "cell_type": "markdown",
   "metadata": {},
   "source": [
    "# 4. Train Test Split"
   ]
  },
  {
   "cell_type": "markdown",
   "metadata": {},
   "source": [
    "# 5. Continuous Variable Transformation"
   ]
  },
  {
   "cell_type": "markdown",
   "metadata": {},
   "source": [
    "# 6. Feature Scaling"
   ]
  }
 ],
 "metadata": {
  "kernelspec": {
   "display_name": "Python 3",
   "language": "python",
   "name": "python3"
  },
  "language_info": {
   "codemirror_mode": {
    "name": "ipython",
    "version": 3
   },
   "file_extension": ".py",
   "mimetype": "text/x-python",
   "name": "python",
   "nbconvert_exporter": "python",
   "pygments_lexer": "ipython3",
   "version": "3.11.7"
  }
 },
 "nbformat": 4,
 "nbformat_minor": 2
}
